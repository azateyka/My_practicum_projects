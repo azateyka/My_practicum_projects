{
 "cells": [
  {
   "cell_type": "markdown",
   "id": "_E41Wr5fqnFT",
   "metadata": {
    "id": "_E41Wr5fqnFT"
   },
   "source": [
    "# Часть 1. Проверка гипотезы в Python и составление аналитической записки"
   ]
  },
  {
   "cell_type": "markdown",
   "id": "Z5_6nf-FrY7o",
   "metadata": {
    "id": "Z5_6nf-FrY7o"
   },
   "source": [
    "Вы предобработали данные в SQL, и теперь они готовы для проверки гипотезы в Python. Загрузите данные пользователей из Москвы и Санкт-Петербурга c суммой часов их активности из файла yandex_knigi_data.csv. Если работаете локально, скачать файл можно по ссылке.\n",
    "\n",
    "Проверьте наличие дубликатов в идентификаторах пользователей. Сравните размеры групп, их статистики и распределение.\n",
    "\n",
    "Напомним, как выглядит гипотеза: пользователи из Санкт-Петербурга проводят в среднем больше времени за чтением и прослушиванием книг в приложении, чем пользователи из Москвы. Попробуйте статистически это доказать, используя одностороннюю проверку гипотезы с двумя выборками:\n",
    "\n",
    "Нулевая гипотеза $H_0: \\mu_{\\text{СПб}} \\leq \\mu_{\\text{Москва}}$ <br> Среднее время активности пользователей в Санкт-Петербурге не больше, чем в Москве.\n",
    "\n",
    "Альтернативная гипотеза $H_1: \\mu_{\\text{СПб}} > \\mu_{\\text{Москва}}$ <br> Среднее время активности пользователей в Санкт-Петербурге больше, и это различие статистически значимо.\n",
    "\n",
    "По результатам анализа данных подготовьте аналитическую записку, в которой опишите:\n",
    "\n",
    "Выбранный тип t-теста и уровень статистической значимости.\n",
    "\n",
    "Результат теста, или p-value.\n",
    "\n",
    "Вывод на основе полученного p-value, то есть интерпретацию результатов.\n",
    "\n",
    "Одну или две возможные причины, объясняющие полученные результаты."
   ]
  },
  {
   "cell_type": "markdown",
   "id": "e06910dd",
   "metadata": {
    "id": "e06910dd"
   },
   "source": [
    "## Проверка гипотезы для сервиса Яндекс книги\n",
    "\n",
    "- Автор: Загиров А.А.\n"
   ]
  },
  {
   "cell_type": "markdown",
   "id": "4149134c",
   "metadata": {
    "id": "4149134c"
   },
   "source": [
    "## Цели и задачи проекта\n",
    "\n",
    "Команда сервиса Яндекс Книги изучила данные, полученные при анализе LTV, и выдвинула гипотезу. Она заключается в том, что пользователи, которые приносят больший LTV, являются более лояльными, а значит, проводят в среднем больше времени за чтением и прослушиванием книг в приложении.\n",
    "Команда предлагает сравнить пользователей из Санкт-Петербурга и Москвы, ведь при расчётах среднего LTV было определено, что эта метрика у петербуржцев выше. Таким образом, гипотеза выглядит так: пользователи из Санкт-Петербурга проводят в среднем больше времени за чтением и прослушиванием книг в приложении по сравнению с пользователями из Москвы. "
   ]
  },
  {
   "cell_type": "markdown",
   "id": "728986ea",
   "metadata": {
    "id": "728986ea"
   },
   "source": [
    "## Описание данных\n",
    "\n",
    "файл `yandex_knigi_data.csv` содержит данные пользователей из Москвы и Санкт-Петербурга c суммой часов их активности"
   ]
  },
  {
   "cell_type": "markdown",
   "id": "4fecaf95",
   "metadata": {
    "id": "4fecaf95"
   },
   "source": [
    "## Содержимое проекта\n",
    "\n",
    "- Загрузка данных и знакомство с ними\n",
    "- Проверьте наличие дубликатов в идентификаторах пользователей. Сравните размеры групп и их статистики.\n",
    "- Предобработка данных\n",
    "- Исследовательский анализ данных\n",
    "- Итоговый вывод и рекомендации\n"
   ]
  },
  {
   "cell_type": "markdown",
   "id": "6f7d21d6",
   "metadata": {
    "id": "6f7d21d6"
   },
   "source": [
    "## 1. Загрузка данных и знакомство с ними\n",
    "\n",
    "Загрузите данные пользователей из Москвы и Санкт-Петербурга c их активностью (суммой часов чтения и прослушивания) из файла `/datasets/yandex_knigi_data.csv`."
   ]
  },
  {
   "cell_type": "code",
   "execution_count": 1,
   "id": "05faf34b",
   "metadata": {
    "id": "05faf34b"
   },
   "outputs": [],
   "source": [
    "# Импортируем библиотеки\n",
    "import pandas as pd\n",
    "from scipy.stats import ttest_ind\n",
    "from statsmodels.stats.proportion import proportions_ztest\n",
    "from statsmodels.stats.power import NormalIndPower\n",
    "from statsmodels.stats.proportion import proportion_effectsize\n",
    "\n",
    "# Загружаем библиотеки для визуализации данных\n",
    "import matplotlib.pyplot as plt\n",
    "import seaborn as sns\n",
    "import numpy as np"
   ]
  },
  {
   "cell_type": "code",
   "execution_count": 2,
   "id": "ce87c1db",
   "metadata": {
    "id": "ce87c1db"
   },
   "outputs": [],
   "source": [
    "# Выгружаем данные в переменные\n",
    "knigi_data_df = pd.read_csv('https://code.s3.yandex.net/datasets/yandex_knigi_data.csv')"
   ]
  },
  {
   "cell_type": "code",
   "execution_count": 3,
   "id": "f68a7419",
   "metadata": {
    "id": "f68a7419"
   },
   "outputs": [
    {
     "data": {
      "text/html": [
       "<div>\n",
       "<style scoped>\n",
       "    .dataframe tbody tr th:only-of-type {\n",
       "        vertical-align: middle;\n",
       "    }\n",
       "\n",
       "    .dataframe tbody tr th {\n",
       "        vertical-align: top;\n",
       "    }\n",
       "\n",
       "    .dataframe thead th {\n",
       "        text-align: right;\n",
       "    }\n",
       "</style>\n",
       "<table border=\"1\" class=\"dataframe\">\n",
       "  <thead>\n",
       "    <tr style=\"text-align: right;\">\n",
       "      <th></th>\n",
       "      <th>Unnamed: 0</th>\n",
       "      <th>city</th>\n",
       "      <th>puid</th>\n",
       "      <th>hours</th>\n",
       "    </tr>\n",
       "  </thead>\n",
       "  <tbody>\n",
       "    <tr>\n",
       "      <th>0</th>\n",
       "      <td>0</td>\n",
       "      <td>Москва</td>\n",
       "      <td>9668</td>\n",
       "      <td>26.167776</td>\n",
       "    </tr>\n",
       "    <tr>\n",
       "      <th>1</th>\n",
       "      <td>1</td>\n",
       "      <td>Москва</td>\n",
       "      <td>16598</td>\n",
       "      <td>82.111217</td>\n",
       "    </tr>\n",
       "    <tr>\n",
       "      <th>2</th>\n",
       "      <td>2</td>\n",
       "      <td>Москва</td>\n",
       "      <td>80401</td>\n",
       "      <td>4.656906</td>\n",
       "    </tr>\n",
       "    <tr>\n",
       "      <th>3</th>\n",
       "      <td>3</td>\n",
       "      <td>Москва</td>\n",
       "      <td>140205</td>\n",
       "      <td>1.840556</td>\n",
       "    </tr>\n",
       "    <tr>\n",
       "      <th>4</th>\n",
       "      <td>4</td>\n",
       "      <td>Москва</td>\n",
       "      <td>248755</td>\n",
       "      <td>151.326434</td>\n",
       "    </tr>\n",
       "    <tr>\n",
       "      <th>...</th>\n",
       "      <td>...</td>\n",
       "      <td>...</td>\n",
       "      <td>...</td>\n",
       "      <td>...</td>\n",
       "    </tr>\n",
       "    <tr>\n",
       "      <th>8779</th>\n",
       "      <td>8779</td>\n",
       "      <td>Санкт-Петербург</td>\n",
       "      <td>1130000028554332</td>\n",
       "      <td>4.107774</td>\n",
       "    </tr>\n",
       "    <tr>\n",
       "      <th>8780</th>\n",
       "      <td>8780</td>\n",
       "      <td>Санкт-Петербург</td>\n",
       "      <td>1130000030307246</td>\n",
       "      <td>45.069222</td>\n",
       "    </tr>\n",
       "    <tr>\n",
       "      <th>8781</th>\n",
       "      <td>8781</td>\n",
       "      <td>Санкт-Петербург</td>\n",
       "      <td>1130000038726322</td>\n",
       "      <td>0.211944</td>\n",
       "    </tr>\n",
       "    <tr>\n",
       "      <th>8782</th>\n",
       "      <td>8782</td>\n",
       "      <td>Санкт-Петербург</td>\n",
       "      <td>1130000047892100</td>\n",
       "      <td>4.311841</td>\n",
       "    </tr>\n",
       "    <tr>\n",
       "      <th>8783</th>\n",
       "      <td>8783</td>\n",
       "      <td>Санкт-Петербург</td>\n",
       "      <td>1130000061443598</td>\n",
       "      <td>20.847222</td>\n",
       "    </tr>\n",
       "  </tbody>\n",
       "</table>\n",
       "<p>8784 rows × 4 columns</p>\n",
       "</div>"
      ],
      "text/plain": [
       "      Unnamed: 0             city              puid       hours\n",
       "0              0           Москва              9668   26.167776\n",
       "1              1           Москва             16598   82.111217\n",
       "2              2           Москва             80401    4.656906\n",
       "3              3           Москва            140205    1.840556\n",
       "4              4           Москва            248755  151.326434\n",
       "...          ...              ...               ...         ...\n",
       "8779        8779  Санкт-Петербург  1130000028554332    4.107774\n",
       "8780        8780  Санкт-Петербург  1130000030307246   45.069222\n",
       "8781        8781  Санкт-Петербург  1130000038726322    0.211944\n",
       "8782        8782  Санкт-Петербург  1130000047892100    4.311841\n",
       "8783        8783  Санкт-Петербург  1130000061443598   20.847222\n",
       "\n",
       "[8784 rows x 4 columns]"
      ]
     },
     "execution_count": 3,
     "metadata": {},
     "output_type": "execute_result"
    }
   ],
   "source": [
    "# Выводим первые строки датафрейма на экран\n",
    "knigi_data_df"
   ]
  },
  {
   "cell_type": "code",
   "execution_count": 4,
   "id": "7b8404b7",
   "metadata": {},
   "outputs": [
    {
     "name": "stdout",
     "output_type": "stream",
     "text": [
      "<class 'pandas.core.frame.DataFrame'>\n",
      "RangeIndex: 8784 entries, 0 to 8783\n",
      "Data columns (total 4 columns):\n",
      " #   Column      Non-Null Count  Dtype  \n",
      "---  ------      --------------  -----  \n",
      " 0   Unnamed: 0  8784 non-null   int64  \n",
      " 1   city        8784 non-null   object \n",
      " 2   puid        8784 non-null   int64  \n",
      " 3   hours       8784 non-null   float64\n",
      "dtypes: float64(1), int64(2), object(1)\n",
      "memory usage: 274.6+ KB\n"
     ]
    }
   ],
   "source": [
    "knigi_data_df.info()"
   ]
  },
  {
   "cell_type": "code",
   "execution_count": 5,
   "id": "d5088834",
   "metadata": {},
   "outputs": [],
   "source": [
    "knigi_data_df = knigi_data_df.drop('Unnamed: 0', axis=1)"
   ]
  },
  {
   "cell_type": "code",
   "execution_count": 6,
   "id": "0ad36dfe",
   "metadata": {},
   "outputs": [
    {
     "name": "stdout",
     "output_type": "stream",
     "text": [
      "244\n"
     ]
    }
   ],
   "source": [
    "# проверяем на независимость групп\n",
    "A_inter = knigi_data_df[knigi_data_df['city']=='Москва']['puid']\n",
    "B_inter = knigi_data_df[knigi_data_df['city']=='Санкт-Петербург']['puid']\n",
    "\n",
    "intersection = list(set(A_inter) & set(B_inter))\n",
    "print(len(intersection))"
   ]
  },
  {
   "cell_type": "code",
   "execution_count": 7,
   "id": "62910234",
   "metadata": {},
   "outputs": [
    {
     "data": {
      "text/plain": [
       "0                   9668\n",
       "1                  16598\n",
       "2                  80401\n",
       "3                 140205\n",
       "4                 248755\n",
       "              ...       \n",
       "6229    1130000059765086\n",
       "6230    1130000059999641\n",
       "6231    1130000060143349\n",
       "6232    1130000060647736\n",
       "6233    1130000065762132\n",
       "Name: puid, Length: 6234, dtype: int64"
      ]
     },
     "execution_count": 7,
     "metadata": {},
     "output_type": "execute_result"
    }
   ],
   "source": [
    "A_inter"
   ]
  },
  {
   "cell_type": "code",
   "execution_count": 8,
   "id": "b4e05888",
   "metadata": {},
   "outputs": [],
   "source": [
    "knigi_data_df = knigi_data_df[~knigi_data_df['puid'].isin(intersection)] "
   ]
  },
  {
   "cell_type": "code",
   "execution_count": 9,
   "id": "edbd7cfd",
   "metadata": {},
   "outputs": [
    {
     "data": {
      "text/html": [
       "<div>\n",
       "<style scoped>\n",
       "    .dataframe tbody tr th:only-of-type {\n",
       "        vertical-align: middle;\n",
       "    }\n",
       "\n",
       "    .dataframe tbody tr th {\n",
       "        vertical-align: top;\n",
       "    }\n",
       "\n",
       "    .dataframe thead th {\n",
       "        text-align: right;\n",
       "    }\n",
       "</style>\n",
       "<table border=\"1\" class=\"dataframe\">\n",
       "  <thead>\n",
       "    <tr style=\"text-align: right;\">\n",
       "      <th></th>\n",
       "      <th>city</th>\n",
       "      <th>all</th>\n",
       "    </tr>\n",
       "  </thead>\n",
       "  <tbody>\n",
       "    <tr>\n",
       "      <th>0</th>\n",
       "      <td>Москва</td>\n",
       "      <td>5990</td>\n",
       "    </tr>\n",
       "    <tr>\n",
       "      <th>1</th>\n",
       "      <td>Санкт-Петербург</td>\n",
       "      <td>2306</td>\n",
       "    </tr>\n",
       "  </tbody>\n",
       "</table>\n",
       "</div>"
      ],
      "text/plain": [
       "              city   all\n",
       "0           Москва  5990\n",
       "1  Санкт-Петербург  2306"
      ]
     },
     "execution_count": 9,
     "metadata": {},
     "output_type": "execute_result"
    }
   ],
   "source": [
    "knigi_data_df_group_day = knigi_data_df.groupby('city').agg(all=('puid', 'nunique')).reset_index()\n",
    "knigi_data_df_group_day"
   ]
  },
  {
   "cell_type": "code",
   "execution_count": 10,
   "id": "93dbf510",
   "metadata": {},
   "outputs": [
    {
     "data": {
      "image/png": "[encoded data removed]",
      "text/plain": [
       "<Figure size 720x360 with 1 Axes>"
      ]
     },
     "metadata": {
      "needs_background": "light"
     },
     "output_type": "display_data"
    }
   ],
   "source": [
    "cleaned_page_counter = knigi_data_df[knigi_data_df['hours'] <= knigi_data_df['hours'].quantile(0.95)]\n",
    "\n",
    "plt.figure(figsize=(10, 5))\n",
    "\n",
    "# Строим гистограмму с помощью pandas через plot(kind='hist')\n",
    "cleaned_page_counter[cleaned_page_counter['city']=='Москва']['hours'].plot(\n",
    "                kind='hist', # Тип графика — гистограмма\n",
    "                bins=80, # Устанавливаем количество корзин\n",
    "                alpha=0.75,\n",
    "                edgecolor='black',\n",
    ")\n",
    "\n",
    "cleaned_page_counter[cleaned_page_counter['city']=='Санкт-Петербург']['hours'].plot(\n",
    "                kind='hist', # Тип графика — гистограмма\n",
    "                bins=80, # Устанавливаем количество корзин\n",
    "                alpha=0.75,\n",
    "                edgecolor='black',\n",
    ")\n",
    "\n",
    "\n",
    "# Настраиваем оформление графика\n",
    "plt.title('Распределение количества прослушанных часов')\n",
    "plt.xlabel('Продолжительность прослушивания')\n",
    "plt.ylabel('Частота')\n",
    "plt.legend()\n",
    "\n",
    "# Добавляем сетку графика\n",
    "plt.grid()\n",
    "\n",
    "# Выводим график\n",
    "plt.show() \n",
    "\n",
    "\n",
    "\n"
   ]
  },
  {
   "cell_type": "code",
   "execution_count": 11,
   "id": "1776c60e",
   "metadata": {},
   "outputs": [
    {
     "data": {
      "text/plain": [
       "4.641440177240952"
      ]
     },
     "metadata": {},
     "output_type": "display_data"
    },
    {
     "data": {
      "text/plain": [
       "4.971759345003627"
      ]
     },
     "metadata": {},
     "output_type": "display_data"
    }
   ],
   "source": [
    "# Вычисляем средние\n",
    "display(cleaned_page_counter[cleaned_page_counter['city']=='Москва']['hours'].mean())\n",
    "display(cleaned_page_counter[cleaned_page_counter['city']=='Санкт-Петербург']['hours'].mean())"
   ]
  },
  {
   "cell_type": "code",
   "execution_count": 12,
   "id": "88242ad4",
   "metadata": {},
   "outputs": [
    {
     "data": {
      "text/plain": [
       "9.065173764185792"
      ]
     },
     "metadata": {},
     "output_type": "display_data"
    },
    {
     "data": {
      "text/plain": [
       "9.832974425119525"
      ]
     },
     "metadata": {},
     "output_type": "display_data"
    }
   ],
   "source": [
    "# Вычисляем стандартное отклонение\n",
    "display(cleaned_page_counter[cleaned_page_counter['city']=='Москва']['hours'].std())\n",
    "display(cleaned_page_counter[cleaned_page_counter['city']=='Санкт-Петербург']['hours'].std())"
   ]
  },
  {
   "cell_type": "markdown",
   "id": "51b78221",
   "metadata": {},
   "source": [
    "Получили датафрейм `knigi_data_df` в котором 8784 строк. Нет пустых значчений, типы данных соответствует. \n",
    "Для Москвы количество пользователей равно 5990, для Санкт-Петербурга - 2306. \n",
    "Построили гистограммы для анализа распределения данных. Данные распределенны одинаково. \n",
    "Средние значения примерно одинаковые 4.64 и 4.97"
   ]
  },
  {
   "cell_type": "markdown",
   "id": "956e82e2",
   "metadata": {
    "id": "956e82e2"
   },
   "source": [
    "## 2. Проверка гипотезы в Python\n",
    "\n",
    "Гипотеза звучит так: пользователи из Санкт-Петербурга проводят в среднем больше времени за чтением и прослушиванием книг в приложении, чем пользователи из Москвы. Попробуйте статистически это доказать, используя одностороннюю проверку гипотезы с двумя выборками:\n",
    "\n",
    "- Нулевая гипотеза H₀: Средняя активность пользователей в часах в двух группах (Москва и Санкт-Петербург) не различается.\n",
    "\n",
    "- Альтернативная гипотеза H₁: Средняя активность пользователей в Санкт-Петербурге больше, и это различие статистически значимо."
   ]
  },
  {
   "cell_type": "markdown",
   "id": "6953e84c",
   "metadata": {
    "id": "6953e84c"
   },
   "source": [
    "## 3. Аналитическая записка\n",
    "По результатам анализа данных подготовьте аналитическую записку, в которой опишете:\n",
    "\n",
    "- Выбранный тип t-теста и уровень статистической значимости.\n",
    "\n",
    "- Результат теста, или p-value.\n",
    "\n",
    "- Вывод на основе полученного p-value, то есть интерпретацию результатов.\n",
    "\n",
    "- Одну или две возможные причины, объясняющие полученные результаты.\n",
    "\n"
   ]
  },
  {
   "cell_type": "code",
   "execution_count": 13,
   "id": "8c7f833a",
   "metadata": {},
   "outputs": [
    {
     "name": "stdout",
     "output_type": "stream",
     "text": [
      "p-value теста Уэлча =0.6636\n",
      "Нулевая гипотеза находит подтверждение! Выборочные средние в группах A и B равны\n",
      "Интерпретация: среднее время активности в двух выборках не различается\n"
     ]
    }
   ],
   "source": [
    "# проверяем используя статистический тест Т-тест Уэлча и Стьюдена\n",
    "metric_a = knigi_data_df[knigi_data_df.city=='Москва']['hours'] ## выборка целевой метрики для группы A\n",
    "metric_b = knigi_data_df[knigi_data_df.city=='Санкт-Петербург']['hours'] ## выборка целевой метрики для группы B\n",
    "\n",
    "alpha = 0.05 ## на каком уровне значимости проверяем гипотезу о равенстве выборочных средних\n",
    "\n",
    "stat_welch_ttest, p_value_welch_ttest = ttest_ind(\n",
    "    metric_a, \n",
    "    metric_b, \n",
    "    equal_var=False) ## применяем t-тест Уэлча\n",
    "if p_value_welch_ttest>alpha:\n",
    "    print(f'p-value теста Уэлча ={round(p_value_welch_ttest, 4)}')\n",
    "    print('Нулевая гипотеза находит подтверждение! Выборочные средние в группах A и B равны')\n",
    "    print('Интерпретация: среднее время активности в двух выборках не различается')\n",
    "else:\n",
    "    print(f'p-value теста Уэлча ={round(p_value_welch_ttest, 4)}')\n",
    "    print('Нулевая гипотеза не находит подтверждения! Выборочные средние в группах A и B не равны, и в группе B больше')\n",
    "    print('Интерпретация: среднее время активности в двух выборках различается')"
   ]
  },
  {
   "cell_type": "markdown",
   "id": "3ba39f4f",
   "metadata": {},
   "source": [
    "Пользователи из Санкт-Петербурга проводят в среднем больше времени за чтением и прослушиванием книг в приложении, чем пользователи из Москвы, значения средних показывают 4.64 для Москвы и 4.97 для Санкт-Петербурга. \n",
    "Для проведения анализа используем одностороннюю проверку гипотезы с двумя выборками:\n",
    "* Нулевая гипотеза H0 : μСПб ≤μ Москва  \n",
    "Среднее время активности пользователей в Санкт-Петербурге не больше, чем в Москве.\n",
    "* Альтернативная гипотеза H1 : μСПб >μМосква.\n",
    "Среднее время активности пользователей в Санкт-Петербурге больше, и это различие статистически значимо.\n",
    "\n",
    "Тип основной метрики средняя пользовательская. Для анализа данных выбираем т-тест. Выборки достаточны (более 30 в каждой), средние почти равны, стандартные отклонения тоже несильно различаются (значит дисперсии примерно равны ), нет сильных выборосов.\n",
    "Уровень статистической значимости устанавливаем равным 5% (α=0.05).\n",
    "Среднее время активности в двух выборках не различается.\n",
    "По результату теста определили, что среднее время активности в двух выборках не различается.\n",
    "Возможно мы получили более высокое среднее из-за разницы размера выборок и выбросов в данных из 'Санкт-Петербурга'"
   ]
  },
  {
   "cell_type": "markdown",
   "id": "hc1d6jVISegz",
   "metadata": {
    "id": "hc1d6jVISegz"
   },
   "source": [
    "----"
   ]
  },
  {
   "cell_type": "markdown",
   "id": "NqOUIYhbrIfC",
   "metadata": {
    "id": "NqOUIYhbrIfC"
   },
   "source": [
    "# Часть 2. Анализ результатов A/B-тестирования"
   ]
  },
  {
   "cell_type": "markdown",
   "id": "tDwMKFNGsClr",
   "metadata": {
    "id": "tDwMKFNGsClr"
   },
   "source": [
    "Теперь вам нужно проанализировать другие данные. Представьте, что к вам обратились представители интернет-магазина BitMotion Kit, в котором продаются геймифицированные товары для тех, кто ведёт здоровый образ жизни. У него есть своя целевая аудитория, даже появились хиты продаж: эспандер со счётчиком и напоминанием, так и подстольный велотренажёр с Bluetooth.\n",
    "\n",
    "В будущем компания хочет расширить ассортимент товаров. Но перед этим нужно решить одну проблему. Интерфейс онлайн-магазина слишком сложен для пользователей — об этом говорят отзывы.\n",
    "\n",
    "Чтобы привлечь новых клиентов и увеличить число продаж, владельцы магазина разработали новую версию сайта и протестировали его на части пользователей. По задумке, это решение доказуемо повысит количество пользователей, которые совершат покупку.\n",
    "\n",
    "Ваша задача — провести оценку результатов A/B-теста. В вашем распоряжении:\n",
    "\n",
    "* данные о действиях пользователей и распределении их на группы,\n",
    "\n",
    "* техническое задание.\n",
    "\n",
    "Оцените корректность проведения теста и проанализируйте его результаты."
   ]
  },
  {
   "cell_type": "markdown",
   "id": "UNXAAyF5r9Rk",
   "metadata": {
    "id": "UNXAAyF5r9Rk"
   },
   "source": [
    "## 1. Опишите цели исследования.\n",
    "\n"
   ]
  },
  {
   "cell_type": "markdown",
   "id": "kHx-51yES8bd",
   "metadata": {
    "id": "kHx-51yES8bd"
   },
   "source": [
    "Владельцы магазина разработали новую версию сайта и протестировали его на части пользователей. Предполагается, что это повысит количество пользователей, которые совершат покупку.\n",
    "Необходимо провести A/B-тест для новой версии сайта и сделать оценку результатов."
   ]
  },
  {
   "cell_type": "markdown",
   "id": "_CZryx2OsH-s",
   "metadata": {
    "id": "_CZryx2OsH-s"
   },
   "source": [
    "## 2. Загрузите данные, оцените их целостность.\n"
   ]
  },
  {
   "cell_type": "code",
   "execution_count": 14,
   "id": "DjFcJbeGsTIg",
   "metadata": {
    "id": "DjFcJbeGsTIg"
   },
   "outputs": [],
   "source": [
    "participants = pd.read_csv('https://code.s3.yandex.net/datasets/ab_test_participants.csv')\n",
    "events = pd.read_csv('https://code.s3.yandex.net/datasets/ab_test_events.zip',\n",
    "                     parse_dates=['event_dt'], low_memory=False)"
   ]
  },
  {
   "cell_type": "code",
   "execution_count": 15,
   "id": "723daec3",
   "metadata": {},
   "outputs": [
    {
     "data": {
      "text/html": [
       "<div>\n",
       "<style scoped>\n",
       "    .dataframe tbody tr th:only-of-type {\n",
       "        vertical-align: middle;\n",
       "    }\n",
       "\n",
       "    .dataframe tbody tr th {\n",
       "        vertical-align: top;\n",
       "    }\n",
       "\n",
       "    .dataframe thead th {\n",
       "        text-align: right;\n",
       "    }\n",
       "</style>\n",
       "<table border=\"1\" class=\"dataframe\">\n",
       "  <thead>\n",
       "    <tr style=\"text-align: right;\">\n",
       "      <th></th>\n",
       "      <th>user_id</th>\n",
       "      <th>group</th>\n",
       "      <th>ab_test</th>\n",
       "      <th>device</th>\n",
       "    </tr>\n",
       "  </thead>\n",
       "  <tbody>\n",
       "    <tr>\n",
       "      <th>0</th>\n",
       "      <td>0002CE61FF2C4011</td>\n",
       "      <td>B</td>\n",
       "      <td>interface_eu_test</td>\n",
       "      <td>Mac</td>\n",
       "    </tr>\n",
       "    <tr>\n",
       "      <th>1</th>\n",
       "      <td>001064FEAAB631A1</td>\n",
       "      <td>B</td>\n",
       "      <td>recommender_system_test</td>\n",
       "      <td>Android</td>\n",
       "    </tr>\n",
       "    <tr>\n",
       "      <th>2</th>\n",
       "      <td>001064FEAAB631A1</td>\n",
       "      <td>A</td>\n",
       "      <td>interface_eu_test</td>\n",
       "      <td>Android</td>\n",
       "    </tr>\n",
       "    <tr>\n",
       "      <th>3</th>\n",
       "      <td>0010A1C096941592</td>\n",
       "      <td>A</td>\n",
       "      <td>recommender_system_test</td>\n",
       "      <td>Android</td>\n",
       "    </tr>\n",
       "    <tr>\n",
       "      <th>4</th>\n",
       "      <td>001E72F50D1C48FA</td>\n",
       "      <td>A</td>\n",
       "      <td>interface_eu_test</td>\n",
       "      <td>Mac</td>\n",
       "    </tr>\n",
       "  </tbody>\n",
       "</table>\n",
       "</div>"
      ],
      "text/plain": [
       "            user_id group                  ab_test   device\n",
       "0  0002CE61FF2C4011     B        interface_eu_test      Mac\n",
       "1  001064FEAAB631A1     B  recommender_system_test  Android\n",
       "2  001064FEAAB631A1     A        interface_eu_test  Android\n",
       "3  0010A1C096941592     A  recommender_system_test  Android\n",
       "4  001E72F50D1C48FA     A        interface_eu_test      Mac"
      ]
     },
     "execution_count": 15,
     "metadata": {},
     "output_type": "execute_result"
    }
   ],
   "source": [
    "participants.head()"
   ]
  },
  {
   "cell_type": "code",
   "execution_count": 16,
   "id": "fdf963e5",
   "metadata": {},
   "outputs": [
    {
     "name": "stdout",
     "output_type": "stream",
     "text": [
      "<class 'pandas.core.frame.DataFrame'>\n",
      "RangeIndex: 14525 entries, 0 to 14524\n",
      "Data columns (total 4 columns):\n",
      " #   Column   Non-Null Count  Dtype \n",
      "---  ------   --------------  ----- \n",
      " 0   user_id  14525 non-null  object\n",
      " 1   group    14525 non-null  object\n",
      " 2   ab_test  14525 non-null  object\n",
      " 3   device   14525 non-null  object\n",
      "dtypes: object(4)\n",
      "memory usage: 454.0+ KB\n"
     ]
    }
   ],
   "source": [
    "participants.info()"
   ]
  },
  {
   "cell_type": "code",
   "execution_count": 17,
   "id": "f87ddc10",
   "metadata": {},
   "outputs": [
    {
     "data": {
      "text/html": [
       "<div>\n",
       "<style scoped>\n",
       "    .dataframe tbody tr th:only-of-type {\n",
       "        vertical-align: middle;\n",
       "    }\n",
       "\n",
       "    .dataframe tbody tr th {\n",
       "        vertical-align: top;\n",
       "    }\n",
       "\n",
       "    .dataframe thead th {\n",
       "        text-align: right;\n",
       "    }\n",
       "</style>\n",
       "<table border=\"1\" class=\"dataframe\">\n",
       "  <thead>\n",
       "    <tr style=\"text-align: right;\">\n",
       "      <th></th>\n",
       "      <th>user_id</th>\n",
       "      <th>event_dt</th>\n",
       "      <th>event_name</th>\n",
       "      <th>details</th>\n",
       "    </tr>\n",
       "  </thead>\n",
       "  <tbody>\n",
       "    <tr>\n",
       "      <th>0</th>\n",
       "      <td>GLOBAL</td>\n",
       "      <td>2020-12-01 00:00:00</td>\n",
       "      <td>End of Black Friday Ads Campaign</td>\n",
       "      <td>ZONE_CODE15</td>\n",
       "    </tr>\n",
       "    <tr>\n",
       "      <th>1</th>\n",
       "      <td>CCBE9E7E99F94A08</td>\n",
       "      <td>2020-12-01 00:00:11</td>\n",
       "      <td>registration</td>\n",
       "      <td>0.0</td>\n",
       "    </tr>\n",
       "    <tr>\n",
       "      <th>2</th>\n",
       "      <td>GLOBAL</td>\n",
       "      <td>2020-12-01 00:00:25</td>\n",
       "      <td>product_page</td>\n",
       "      <td>NaN</td>\n",
       "    </tr>\n",
       "    <tr>\n",
       "      <th>3</th>\n",
       "      <td>CCBE9E7E99F94A08</td>\n",
       "      <td>2020-12-01 00:00:33</td>\n",
       "      <td>login</td>\n",
       "      <td>NaN</td>\n",
       "    </tr>\n",
       "    <tr>\n",
       "      <th>4</th>\n",
       "      <td>CCBE9E7E99F94A08</td>\n",
       "      <td>2020-12-01 00:00:52</td>\n",
       "      <td>product_page</td>\n",
       "      <td>NaN</td>\n",
       "    </tr>\n",
       "  </tbody>\n",
       "</table>\n",
       "</div>"
      ],
      "text/plain": [
       "            user_id            event_dt                        event_name  \\\n",
       "0            GLOBAL 2020-12-01 00:00:00  End of Black Friday Ads Campaign   \n",
       "1  CCBE9E7E99F94A08 2020-12-01 00:00:11                      registration   \n",
       "2            GLOBAL 2020-12-01 00:00:25                      product_page   \n",
       "3  CCBE9E7E99F94A08 2020-12-01 00:00:33                             login   \n",
       "4  CCBE9E7E99F94A08 2020-12-01 00:00:52                      product_page   \n",
       "\n",
       "       details  \n",
       "0  ZONE_CODE15  \n",
       "1          0.0  \n",
       "2          NaN  \n",
       "3          NaN  \n",
       "4          NaN  "
      ]
     },
     "execution_count": 17,
     "metadata": {},
     "output_type": "execute_result"
    }
   ],
   "source": [
    "events.head()"
   ]
  },
  {
   "cell_type": "code",
   "execution_count": 18,
   "id": "ed756298",
   "metadata": {},
   "outputs": [
    {
     "name": "stdout",
     "output_type": "stream",
     "text": [
      "<class 'pandas.core.frame.DataFrame'>\n",
      "RangeIndex: 787286 entries, 0 to 787285\n",
      "Data columns (total 4 columns):\n",
      " #   Column      Non-Null Count   Dtype         \n",
      "---  ------      --------------   -----         \n",
      " 0   user_id     787286 non-null  object        \n",
      " 1   event_dt    787286 non-null  datetime64[ns]\n",
      " 2   event_name  787286 non-null  object        \n",
      " 3   details     249022 non-null  object        \n",
      "dtypes: datetime64[ns](1), object(3)\n",
      "memory usage: 24.0+ MB\n"
     ]
    }
   ],
   "source": [
    "events.info()"
   ]
  },
  {
   "cell_type": "code",
   "execution_count": 19,
   "id": "83fc4934",
   "metadata": {},
   "outputs": [
    {
     "data": {
      "text/plain": [
       "36318"
      ]
     },
     "execution_count": 19,
     "metadata": {},
     "output_type": "execute_result"
    }
   ],
   "source": [
    "# проверяем дубликаты по событиям\n",
    "events.duplicated().sum()"
   ]
  },
  {
   "cell_type": "code",
   "execution_count": 20,
   "id": "5c8d23bf",
   "metadata": {},
   "outputs": [],
   "source": [
    "events = events.drop_duplicates()"
   ]
  },
  {
   "cell_type": "markdown",
   "id": "CnzA-efasUrk",
   "metadata": {
    "id": "CnzA-efasUrk"
   },
   "source": [
    "## 3. По таблице `ab_test_participants` оцените корректность проведения теста:\n",
    "\n",
    "   3\\.1 Выделите пользователей, участвующих в тесте, и проверьте:\n",
    "\n",
    "   - соответствие требованиям технического задания,\n",
    "\n",
    "   - равномерность распределения пользователей по группам теста,\n",
    "\n",
    "   - отсутствие пересечений с конкурирующим тестом (нет пользователей, участвующих одновременно в двух тестовых группах)."
   ]
  },
  {
   "cell_type": "code",
   "execution_count": 21,
   "id": "82752fb0",
   "metadata": {},
   "outputs": [],
   "source": [
    "participants_test=participants[participants['ab_test']=='interface_eu_test']"
   ]
  },
  {
   "cell_type": "code",
   "execution_count": 22,
   "id": "41e59263",
   "metadata": {},
   "outputs": [
    {
     "name": "stdout",
     "output_type": "stream",
     "text": [
      "<class 'pandas.core.frame.DataFrame'>\n",
      "Int64Index: 10850 entries, 0 to 14524\n",
      "Data columns (total 4 columns):\n",
      " #   Column   Non-Null Count  Dtype \n",
      "---  ------   --------------  ----- \n",
      " 0   user_id  10850 non-null  object\n",
      " 1   group    10850 non-null  object\n",
      " 2   ab_test  10850 non-null  object\n",
      " 3   device   10850 non-null  object\n",
      "dtypes: object(4)\n",
      "memory usage: 423.8+ KB\n"
     ]
    }
   ],
   "source": [
    "participants_test.info()"
   ]
  },
  {
   "cell_type": "code",
   "execution_count": 23,
   "id": "4e5baa33",
   "metadata": {},
   "outputs": [
    {
     "data": {
      "text/plain": [
       "0"
      ]
     },
     "execution_count": 23,
     "metadata": {},
     "output_type": "execute_result"
    }
   ],
   "source": [
    "# проверяем дубликаты\n",
    "participants_test['user_id'].duplicated().sum()"
   ]
  },
  {
   "cell_type": "code",
   "execution_count": 24,
   "id": "aNa3zHrKslEN",
   "metadata": {
    "id": "aNa3zHrKslEN"
   },
   "outputs": [
    {
     "name": "stdout",
     "output_type": "stream",
     "text": [
      "0\n"
     ]
    }
   ],
   "source": [
    "# проверяем на независимость групп\n",
    "A_inter = participants_test[participants_test['group']=='A']['user_id']\n",
    "B_inter = participants_test[participants_test['group']=='B']['user_id']\n",
    "\n",
    "intersection = list(set(A_inter) & set(B_inter))\n",
    "print(len(intersection))"
   ]
  },
  {
   "cell_type": "code",
   "execution_count": 25,
   "id": "a7d9c624",
   "metadata": {},
   "outputs": [
    {
     "name": "stdout",
     "output_type": "stream",
     "text": [
      "10850\n"
     ]
    }
   ],
   "source": [
    "print(len(participants_test))\n"
   ]
  },
  {
   "cell_type": "code",
   "execution_count": 26,
   "id": "33fed95a",
   "metadata": {},
   "outputs": [
    {
     "data": {
      "text/plain": [
       "116"
      ]
     },
     "metadata": {},
     "output_type": "display_data"
    }
   ],
   "source": [
    "participants_b_rec_test=participants[(participants['group']=='B')&(participants['ab_test']=='recommender_system_test')]['user_id']\n",
    "participants_b_inter_test=participants[(participants['group']=='B')&(participants['ab_test']=='interface_eu_test')]['user_id']\n",
    "\n",
    "intersection_b = list(set(participants_b_rec_test) & set(participants_b_inter_test))\n",
    "\n",
    "display(len(intersection_b))"
   ]
  },
  {
   "cell_type": "code",
   "execution_count": 27,
   "id": "c48a0205",
   "metadata": {},
   "outputs": [],
   "source": [
    "participants_test = participants_test[~participants_test['user_id'].isin(intersection_b)] "
   ]
  },
  {
   "cell_type": "code",
   "execution_count": 28,
   "id": "ec633820",
   "metadata": {},
   "outputs": [
    {
     "name": "stdout",
     "output_type": "stream",
     "text": [
      "10734\n"
     ]
    }
   ],
   "source": [
    "print(len(participants_test))\n"
   ]
  },
  {
   "cell_type": "code",
   "execution_count": 29,
   "id": "0c83faf9",
   "metadata": {},
   "outputs": [
    {
     "data": {
      "text/html": [
       "<div>\n",
       "<style scoped>\n",
       "    .dataframe tbody tr th:only-of-type {\n",
       "        vertical-align: middle;\n",
       "    }\n",
       "\n",
       "    .dataframe tbody tr th {\n",
       "        vertical-align: top;\n",
       "    }\n",
       "\n",
       "    .dataframe thead th {\n",
       "        text-align: right;\n",
       "    }\n",
       "</style>\n",
       "<table border=\"1\" class=\"dataframe\">\n",
       "  <thead>\n",
       "    <tr style=\"text-align: right;\">\n",
       "      <th></th>\n",
       "      <th>group</th>\n",
       "      <th>all</th>\n",
       "      <th>%</th>\n",
       "    </tr>\n",
       "  </thead>\n",
       "  <tbody>\n",
       "    <tr>\n",
       "      <th>0</th>\n",
       "      <td>A</td>\n",
       "      <td>5383</td>\n",
       "      <td>50.149059</td>\n",
       "    </tr>\n",
       "    <tr>\n",
       "      <th>1</th>\n",
       "      <td>B</td>\n",
       "      <td>5351</td>\n",
       "      <td>49.850941</td>\n",
       "    </tr>\n",
       "  </tbody>\n",
       "</table>\n",
       "</div>"
      ],
      "text/plain": [
       "  group   all          %\n",
       "0     A  5383  50.149059\n",
       "1     B  5351  49.850941"
      ]
     },
     "execution_count": 29,
     "metadata": {},
     "output_type": "execute_result"
    }
   ],
   "source": [
    "# проверяем количество пользователей в группах и процент\n",
    "participants_group= participants_test.groupby('group').agg(all=('user_id', 'nunique')).reset_index()\n",
    "participants_group['%'] = 100 * participants_group['all'] / participants_group['all'].sum()\n",
    "participants_group"
   ]
  },
  {
   "cell_type": "code",
   "execution_count": 30,
   "id": "5c4edc7f",
   "metadata": {},
   "outputs": [],
   "source": [
    "# создаем список с пользователями, которые участвуют в тесте\n",
    "spr=list(participants_test['user_id'])   "
   ]
  },
  {
   "cell_type": "markdown",
   "id": "GjulgSrlsqUU",
   "metadata": {
    "id": "GjulgSrlsqUU"
   },
   "source": [
    "3\\.2 Проанализируйте данные о пользовательской активности по таблице `ab_test_events`:\n",
    "\n",
    "- оставьте только события, связанные с участвующими в изучаемом тесте пользователями;"
   ]
  },
  {
   "cell_type": "code",
   "execution_count": 31,
   "id": "QMt0Ybo_swDK",
   "metadata": {
    "id": "QMt0Ybo_swDK"
   },
   "outputs": [
    {
     "data": {
      "text/plain": [
       "72935"
      ]
     },
     "execution_count": 31,
     "metadata": {},
     "output_type": "execute_result"
    }
   ],
   "source": [
    "# выбираем только те события, пользователи которых есть в списке участников теста 'spr' из датафрейма 'participants_test'\n",
    "events_change=events[events['user_id'].isin(spr)]\n",
    "events_change.shape[0]"
   ]
  },
  {
   "cell_type": "code",
   "execution_count": 32,
   "id": "e1ff751b",
   "metadata": {},
   "outputs": [
    {
     "data": {
      "text/html": [
       "<div>\n",
       "<style scoped>\n",
       "    .dataframe tbody tr th:only-of-type {\n",
       "        vertical-align: middle;\n",
       "    }\n",
       "\n",
       "    .dataframe tbody tr th {\n",
       "        vertical-align: top;\n",
       "    }\n",
       "\n",
       "    .dataframe thead th {\n",
       "        text-align: right;\n",
       "    }\n",
       "</style>\n",
       "<table border=\"1\" class=\"dataframe\">\n",
       "  <thead>\n",
       "    <tr style=\"text-align: right;\">\n",
       "      <th></th>\n",
       "      <th>user_id</th>\n",
       "      <th>install_date</th>\n",
       "    </tr>\n",
       "  </thead>\n",
       "  <tbody>\n",
       "    <tr>\n",
       "      <th>64672</th>\n",
       "      <td>5F506CEBEDC05D30</td>\n",
       "      <td>2020-12-06 14:10:01</td>\n",
       "    </tr>\n",
       "    <tr>\n",
       "      <th>64946</th>\n",
       "      <td>51278A006E918D97</td>\n",
       "      <td>2020-12-06 14:37:25</td>\n",
       "    </tr>\n",
       "    <tr>\n",
       "      <th>66585</th>\n",
       "      <td>A0C1E8EFAD874D8B</td>\n",
       "      <td>2020-12-06 17:20:22</td>\n",
       "    </tr>\n",
       "    <tr>\n",
       "      <th>67873</th>\n",
       "      <td>275A8D6254ACF530</td>\n",
       "      <td>2020-12-06 19:36:54</td>\n",
       "    </tr>\n",
       "    <tr>\n",
       "      <th>67930</th>\n",
       "      <td>0B704EB2DC7FCA4B</td>\n",
       "      <td>2020-12-06 19:42:20</td>\n",
       "    </tr>\n",
       "    <tr>\n",
       "      <th>...</th>\n",
       "      <td>...</td>\n",
       "      <td>...</td>\n",
       "    </tr>\n",
       "    <tr>\n",
       "      <th>654517</th>\n",
       "      <td>52B5A81EFC31AF1D</td>\n",
       "      <td>2020-12-23 23:44:45</td>\n",
       "    </tr>\n",
       "    <tr>\n",
       "      <th>654518</th>\n",
       "      <td>B1D88FBD4BA58E1B</td>\n",
       "      <td>2020-12-23 23:44:47</td>\n",
       "    </tr>\n",
       "    <tr>\n",
       "      <th>654581</th>\n",
       "      <td>38CA3A3C4FE3FEFD</td>\n",
       "      <td>2020-12-23 23:47:47</td>\n",
       "    </tr>\n",
       "    <tr>\n",
       "      <th>654640</th>\n",
       "      <td>16CCB1C8C4DCF1AF</td>\n",
       "      <td>2020-12-23 23:50:29</td>\n",
       "    </tr>\n",
       "    <tr>\n",
       "      <th>680872</th>\n",
       "      <td>2DDC948BD76ABC57</td>\n",
       "      <td>2020-12-24 21:57:10</td>\n",
       "    </tr>\n",
       "  </tbody>\n",
       "</table>\n",
       "<p>10734 rows × 2 columns</p>\n",
       "</div>"
      ],
      "text/plain": [
       "                 user_id        install_date\n",
       "64672   5F506CEBEDC05D30 2020-12-06 14:10:01\n",
       "64946   51278A006E918D97 2020-12-06 14:37:25\n",
       "66585   A0C1E8EFAD874D8B 2020-12-06 17:20:22\n",
       "67873   275A8D6254ACF530 2020-12-06 19:36:54\n",
       "67930   0B704EB2DC7FCA4B 2020-12-06 19:42:20\n",
       "...                  ...                 ...\n",
       "654517  52B5A81EFC31AF1D 2020-12-23 23:44:45\n",
       "654518  B1D88FBD4BA58E1B 2020-12-23 23:44:47\n",
       "654581  38CA3A3C4FE3FEFD 2020-12-23 23:47:47\n",
       "654640  16CCB1C8C4DCF1AF 2020-12-23 23:50:29\n",
       "680872  2DDC948BD76ABC57 2020-12-24 21:57:10\n",
       "\n",
       "[10734 rows x 2 columns]"
      ]
     },
     "execution_count": 32,
     "metadata": {},
     "output_type": "execute_result"
    }
   ],
   "source": [
    "# выбираем только время регистрации\n",
    "events_change_new = events_change[events_change['event_name'] == 'registration'][['user_id', 'event_dt']]\n",
    "events_change_new = events_change_new.rename(columns={'event_dt': 'install_date'})\n",
    "\n",
    "events_change_new"
   ]
  },
  {
   "cell_type": "code",
   "execution_count": 33,
   "id": "3ffdf784",
   "metadata": {},
   "outputs": [
    {
     "data": {
      "text/html": [
       "<div>\n",
       "<style scoped>\n",
       "    .dataframe tbody tr th:only-of-type {\n",
       "        vertical-align: middle;\n",
       "    }\n",
       "\n",
       "    .dataframe tbody tr th {\n",
       "        vertical-align: top;\n",
       "    }\n",
       "\n",
       "    .dataframe thead th {\n",
       "        text-align: right;\n",
       "    }\n",
       "</style>\n",
       "<table border=\"1\" class=\"dataframe\">\n",
       "  <thead>\n",
       "    <tr style=\"text-align: right;\">\n",
       "      <th></th>\n",
       "      <th>user_id</th>\n",
       "      <th>group</th>\n",
       "      <th>device</th>\n",
       "      <th>install_date</th>\n",
       "    </tr>\n",
       "  </thead>\n",
       "  <tbody>\n",
       "    <tr>\n",
       "      <th>0</th>\n",
       "      <td>0002CE61FF2C4011</td>\n",
       "      <td>B</td>\n",
       "      <td>Mac</td>\n",
       "      <td>2020-12-07 04:37:31</td>\n",
       "    </tr>\n",
       "    <tr>\n",
       "      <th>1</th>\n",
       "      <td>001064FEAAB631A1</td>\n",
       "      <td>A</td>\n",
       "      <td>Android</td>\n",
       "      <td>2020-12-20 14:12:45</td>\n",
       "    </tr>\n",
       "    <tr>\n",
       "      <th>2</th>\n",
       "      <td>001E72F50D1C48FA</td>\n",
       "      <td>A</td>\n",
       "      <td>Mac</td>\n",
       "      <td>2020-12-17 15:44:05</td>\n",
       "    </tr>\n",
       "    <tr>\n",
       "      <th>3</th>\n",
       "      <td>002412F1EB3F6E38</td>\n",
       "      <td>B</td>\n",
       "      <td>Mac</td>\n",
       "      <td>2020-12-09 09:36:50</td>\n",
       "    </tr>\n",
       "    <tr>\n",
       "      <th>4</th>\n",
       "      <td>002540BE89C930FB</td>\n",
       "      <td>B</td>\n",
       "      <td>Android</td>\n",
       "      <td>2020-12-08 18:06:07</td>\n",
       "    </tr>\n",
       "    <tr>\n",
       "      <th>...</th>\n",
       "      <td>...</td>\n",
       "      <td>...</td>\n",
       "      <td>...</td>\n",
       "      <td>...</td>\n",
       "    </tr>\n",
       "    <tr>\n",
       "      <th>10729</th>\n",
       "      <td>FFE5B14BD55C1C5C</td>\n",
       "      <td>A</td>\n",
       "      <td>PC</td>\n",
       "      <td>2020-12-19 06:27:24</td>\n",
       "    </tr>\n",
       "    <tr>\n",
       "      <th>10730</th>\n",
       "      <td>FFE600EEC4BA7685</td>\n",
       "      <td>B</td>\n",
       "      <td>Android</td>\n",
       "      <td>2020-12-13 21:43:31</td>\n",
       "    </tr>\n",
       "    <tr>\n",
       "      <th>10731</th>\n",
       "      <td>FFE7FC140521F5F6</td>\n",
       "      <td>A</td>\n",
       "      <td>PC</td>\n",
       "      <td>2020-12-23 09:10:16</td>\n",
       "    </tr>\n",
       "    <tr>\n",
       "      <th>10732</th>\n",
       "      <td>FFEFC0E55C1CCD4F</td>\n",
       "      <td>A</td>\n",
       "      <td>PC</td>\n",
       "      <td>2020-12-13 23:52:15</td>\n",
       "    </tr>\n",
       "    <tr>\n",
       "      <th>10733</th>\n",
       "      <td>FFF58BC33966EB51</td>\n",
       "      <td>A</td>\n",
       "      <td>Android</td>\n",
       "      <td>2020-12-13 17:37:34</td>\n",
       "    </tr>\n",
       "  </tbody>\n",
       "</table>\n",
       "<p>10734 rows × 4 columns</p>\n",
       "</div>"
      ],
      "text/plain": [
       "                user_id group   device        install_date\n",
       "0      0002CE61FF2C4011     B      Mac 2020-12-07 04:37:31\n",
       "1      001064FEAAB631A1     A  Android 2020-12-20 14:12:45\n",
       "2      001E72F50D1C48FA     A      Mac 2020-12-17 15:44:05\n",
       "3      002412F1EB3F6E38     B      Mac 2020-12-09 09:36:50\n",
       "4      002540BE89C930FB     B  Android 2020-12-08 18:06:07\n",
       "...                 ...   ...      ...                 ...\n",
       "10729  FFE5B14BD55C1C5C     A       PC 2020-12-19 06:27:24\n",
       "10730  FFE600EEC4BA7685     B  Android 2020-12-13 21:43:31\n",
       "10731  FFE7FC140521F5F6     A       PC 2020-12-23 09:10:16\n",
       "10732  FFEFC0E55C1CCD4F     A       PC 2020-12-13 23:52:15\n",
       "10733  FFF58BC33966EB51     A  Android 2020-12-13 17:37:34\n",
       "\n",
       "[10734 rows x 4 columns]"
      ]
     },
     "execution_count": 33,
     "metadata": {},
     "output_type": "execute_result"
    }
   ],
   "source": [
    "# объединяем с таблицей пользователей, участвующих в тесте\n",
    "participants_test_new = participants_test.merge(events_change_new, on='user_id', how='left')[['user_id', 'group', 'device', 'install_date']]\n",
    "participants_test_new"
   ]
  },
  {
   "cell_type": "code",
   "execution_count": 34,
   "id": "c91cfbed",
   "metadata": {},
   "outputs": [
    {
     "data": {
      "text/html": [
       "<div>\n",
       "<style scoped>\n",
       "    .dataframe tbody tr th:only-of-type {\n",
       "        vertical-align: middle;\n",
       "    }\n",
       "\n",
       "    .dataframe tbody tr th {\n",
       "        vertical-align: top;\n",
       "    }\n",
       "\n",
       "    .dataframe thead th {\n",
       "        text-align: right;\n",
       "    }\n",
       "</style>\n",
       "<table border=\"1\" class=\"dataframe\">\n",
       "  <thead>\n",
       "    <tr style=\"text-align: right;\">\n",
       "      <th></th>\n",
       "      <th>user_id</th>\n",
       "      <th>event_dt</th>\n",
       "      <th>event_name</th>\n",
       "      <th>details</th>\n",
       "      <th>group</th>\n",
       "      <th>device</th>\n",
       "      <th>install_date</th>\n",
       "    </tr>\n",
       "  </thead>\n",
       "  <tbody>\n",
       "    <tr>\n",
       "      <th>0</th>\n",
       "      <td>5F506CEBEDC05D30</td>\n",
       "      <td>2020-12-06 14:10:01</td>\n",
       "      <td>registration</td>\n",
       "      <td>0.0</td>\n",
       "      <td>A</td>\n",
       "      <td>iPhone</td>\n",
       "      <td>2020-12-06 14:10:01</td>\n",
       "    </tr>\n",
       "    <tr>\n",
       "      <th>1</th>\n",
       "      <td>51278A006E918D97</td>\n",
       "      <td>2020-12-06 14:37:25</td>\n",
       "      <td>registration</td>\n",
       "      <td>-3.8</td>\n",
       "      <td>A</td>\n",
       "      <td>Android</td>\n",
       "      <td>2020-12-06 14:37:25</td>\n",
       "    </tr>\n",
       "    <tr>\n",
       "      <th>2</th>\n",
       "      <td>A0C1E8EFAD874D8B</td>\n",
       "      <td>2020-12-06 17:20:22</td>\n",
       "      <td>registration</td>\n",
       "      <td>-3.32</td>\n",
       "      <td>B</td>\n",
       "      <td>iPhone</td>\n",
       "      <td>2020-12-06 17:20:22</td>\n",
       "    </tr>\n",
       "    <tr>\n",
       "      <th>3</th>\n",
       "      <td>275A8D6254ACF530</td>\n",
       "      <td>2020-12-06 19:36:54</td>\n",
       "      <td>registration</td>\n",
       "      <td>-0.48</td>\n",
       "      <td>A</td>\n",
       "      <td>iPhone</td>\n",
       "      <td>2020-12-06 19:36:54</td>\n",
       "    </tr>\n",
       "    <tr>\n",
       "      <th>4</th>\n",
       "      <td>0B704EB2DC7FCA4B</td>\n",
       "      <td>2020-12-06 19:42:20</td>\n",
       "      <td>registration</td>\n",
       "      <td>0.0</td>\n",
       "      <td>B</td>\n",
       "      <td>PC</td>\n",
       "      <td>2020-12-06 19:42:20</td>\n",
       "    </tr>\n",
       "    <tr>\n",
       "      <th>...</th>\n",
       "      <td>...</td>\n",
       "      <td>...</td>\n",
       "      <td>...</td>\n",
       "      <td>...</td>\n",
       "      <td>...</td>\n",
       "      <td>...</td>\n",
       "      <td>...</td>\n",
       "    </tr>\n",
       "    <tr>\n",
       "      <th>72930</th>\n",
       "      <td>F80C9BDDEA02E53C</td>\n",
       "      <td>2020-12-30 10:02:43</td>\n",
       "      <td>purchase</td>\n",
       "      <td>4.49</td>\n",
       "      <td>B</td>\n",
       "      <td>iPhone</td>\n",
       "      <td>2020-12-07 10:05:54</td>\n",
       "    </tr>\n",
       "    <tr>\n",
       "      <th>72931</th>\n",
       "      <td>F80C9BDDEA02E53C</td>\n",
       "      <td>2020-12-30 10:03:51</td>\n",
       "      <td>purchase</td>\n",
       "      <td>4.49</td>\n",
       "      <td>B</td>\n",
       "      <td>iPhone</td>\n",
       "      <td>2020-12-07 10:05:54</td>\n",
       "    </tr>\n",
       "    <tr>\n",
       "      <th>72932</th>\n",
       "      <td>F80C9BDDEA02E53C</td>\n",
       "      <td>2020-12-30 10:03:52</td>\n",
       "      <td>product_cart</td>\n",
       "      <td>NaN</td>\n",
       "      <td>B</td>\n",
       "      <td>iPhone</td>\n",
       "      <td>2020-12-07 10:05:54</td>\n",
       "    </tr>\n",
       "    <tr>\n",
       "      <th>72933</th>\n",
       "      <td>6181F3835EBE66BF</td>\n",
       "      <td>2020-12-30 12:10:39</td>\n",
       "      <td>product_cart</td>\n",
       "      <td>NaN</td>\n",
       "      <td>B</td>\n",
       "      <td>Android</td>\n",
       "      <td>2020-12-07 19:53:20</td>\n",
       "    </tr>\n",
       "    <tr>\n",
       "      <th>72934</th>\n",
       "      <td>9DF4F595A906A0BA</td>\n",
       "      <td>2020-12-30 18:34:08</td>\n",
       "      <td>product_page</td>\n",
       "      <td>NaN</td>\n",
       "      <td>A</td>\n",
       "      <td>Android</td>\n",
       "      <td>2020-12-07 23:40:47</td>\n",
       "    </tr>\n",
       "  </tbody>\n",
       "</table>\n",
       "<p>72935 rows × 7 columns</p>\n",
       "</div>"
      ],
      "text/plain": [
       "                user_id            event_dt    event_name details group  \\\n",
       "0      5F506CEBEDC05D30 2020-12-06 14:10:01  registration     0.0     A   \n",
       "1      51278A006E918D97 2020-12-06 14:37:25  registration    -3.8     A   \n",
       "2      A0C1E8EFAD874D8B 2020-12-06 17:20:22  registration   -3.32     B   \n",
       "3      275A8D6254ACF530 2020-12-06 19:36:54  registration   -0.48     A   \n",
       "4      0B704EB2DC7FCA4B 2020-12-06 19:42:20  registration     0.0     B   \n",
       "...                 ...                 ...           ...     ...   ...   \n",
       "72930  F80C9BDDEA02E53C 2020-12-30 10:02:43      purchase    4.49     B   \n",
       "72931  F80C9BDDEA02E53C 2020-12-30 10:03:51      purchase    4.49     B   \n",
       "72932  F80C9BDDEA02E53C 2020-12-30 10:03:52  product_cart     NaN     B   \n",
       "72933  6181F3835EBE66BF 2020-12-30 12:10:39  product_cart     NaN     B   \n",
       "72934  9DF4F595A906A0BA 2020-12-30 18:34:08  product_page     NaN     A   \n",
       "\n",
       "        device        install_date  \n",
       "0       iPhone 2020-12-06 14:10:01  \n",
       "1      Android 2020-12-06 14:37:25  \n",
       "2       iPhone 2020-12-06 17:20:22  \n",
       "3       iPhone 2020-12-06 19:36:54  \n",
       "4           PC 2020-12-06 19:42:20  \n",
       "...        ...                 ...  \n",
       "72930   iPhone 2020-12-07 10:05:54  \n",
       "72931   iPhone 2020-12-07 10:05:54  \n",
       "72932   iPhone 2020-12-07 10:05:54  \n",
       "72933  Android 2020-12-07 19:53:20  \n",
       "72934  Android 2020-12-07 23:40:47  \n",
       "\n",
       "[72935 rows x 7 columns]"
      ]
     },
     "execution_count": 34,
     "metadata": {},
     "output_type": "execute_result"
    }
   ],
   "source": [
    "# объединяем с таблицей событий, все данные в одной таблице\n",
    "events_change_inst=events_change.merge(participants_test_new, on='user_id', how='left')\n",
    "events_change_inst"
   ]
  },
  {
   "cell_type": "code",
   "execution_count": 35,
   "id": "f399e5f2",
   "metadata": {},
   "outputs": [
    {
     "data": {
      "text/html": [
       "<div>\n",
       "<style scoped>\n",
       "    .dataframe tbody tr th:only-of-type {\n",
       "        vertical-align: middle;\n",
       "    }\n",
       "\n",
       "    .dataframe tbody tr th {\n",
       "        vertical-align: top;\n",
       "    }\n",
       "\n",
       "    .dataframe thead th {\n",
       "        text-align: right;\n",
       "    }\n",
       "</style>\n",
       "<table border=\"1\" class=\"dataframe\">\n",
       "  <thead>\n",
       "    <tr style=\"text-align: right;\">\n",
       "      <th></th>\n",
       "      <th>user_id</th>\n",
       "      <th>event_dt</th>\n",
       "      <th>event_name</th>\n",
       "      <th>details</th>\n",
       "      <th>group</th>\n",
       "      <th>device</th>\n",
       "      <th>install_date</th>\n",
       "      <th>day_event</th>\n",
       "      <th>install_day</th>\n",
       "    </tr>\n",
       "  </thead>\n",
       "  <tbody>\n",
       "    <tr>\n",
       "      <th>0</th>\n",
       "      <td>5F506CEBEDC05D30</td>\n",
       "      <td>2020-12-06 14:10:01</td>\n",
       "      <td>registration</td>\n",
       "      <td>0.0</td>\n",
       "      <td>A</td>\n",
       "      <td>iPhone</td>\n",
       "      <td>2020-12-06 14:10:01</td>\n",
       "      <td>0</td>\n",
       "      <td>2020-12-06</td>\n",
       "    </tr>\n",
       "    <tr>\n",
       "      <th>1</th>\n",
       "      <td>51278A006E918D97</td>\n",
       "      <td>2020-12-06 14:37:25</td>\n",
       "      <td>registration</td>\n",
       "      <td>-3.8</td>\n",
       "      <td>A</td>\n",
       "      <td>Android</td>\n",
       "      <td>2020-12-06 14:37:25</td>\n",
       "      <td>0</td>\n",
       "      <td>2020-12-06</td>\n",
       "    </tr>\n",
       "    <tr>\n",
       "      <th>2</th>\n",
       "      <td>A0C1E8EFAD874D8B</td>\n",
       "      <td>2020-12-06 17:20:22</td>\n",
       "      <td>registration</td>\n",
       "      <td>-3.32</td>\n",
       "      <td>B</td>\n",
       "      <td>iPhone</td>\n",
       "      <td>2020-12-06 17:20:22</td>\n",
       "      <td>0</td>\n",
       "      <td>2020-12-06</td>\n",
       "    </tr>\n",
       "    <tr>\n",
       "      <th>3</th>\n",
       "      <td>275A8D6254ACF530</td>\n",
       "      <td>2020-12-06 19:36:54</td>\n",
       "      <td>registration</td>\n",
       "      <td>-0.48</td>\n",
       "      <td>A</td>\n",
       "      <td>iPhone</td>\n",
       "      <td>2020-12-06 19:36:54</td>\n",
       "      <td>0</td>\n",
       "      <td>2020-12-06</td>\n",
       "    </tr>\n",
       "    <tr>\n",
       "      <th>4</th>\n",
       "      <td>0B704EB2DC7FCA4B</td>\n",
       "      <td>2020-12-06 19:42:20</td>\n",
       "      <td>registration</td>\n",
       "      <td>0.0</td>\n",
       "      <td>B</td>\n",
       "      <td>PC</td>\n",
       "      <td>2020-12-06 19:42:20</td>\n",
       "      <td>0</td>\n",
       "      <td>2020-12-06</td>\n",
       "    </tr>\n",
       "    <tr>\n",
       "      <th>...</th>\n",
       "      <td>...</td>\n",
       "      <td>...</td>\n",
       "      <td>...</td>\n",
       "      <td>...</td>\n",
       "      <td>...</td>\n",
       "      <td>...</td>\n",
       "      <td>...</td>\n",
       "      <td>...</td>\n",
       "      <td>...</td>\n",
       "    </tr>\n",
       "    <tr>\n",
       "      <th>72930</th>\n",
       "      <td>F80C9BDDEA02E53C</td>\n",
       "      <td>2020-12-30 10:02:43</td>\n",
       "      <td>purchase</td>\n",
       "      <td>4.49</td>\n",
       "      <td>B</td>\n",
       "      <td>iPhone</td>\n",
       "      <td>2020-12-07 10:05:54</td>\n",
       "      <td>22</td>\n",
       "      <td>2020-12-07</td>\n",
       "    </tr>\n",
       "    <tr>\n",
       "      <th>72931</th>\n",
       "      <td>F80C9BDDEA02E53C</td>\n",
       "      <td>2020-12-30 10:03:51</td>\n",
       "      <td>purchase</td>\n",
       "      <td>4.49</td>\n",
       "      <td>B</td>\n",
       "      <td>iPhone</td>\n",
       "      <td>2020-12-07 10:05:54</td>\n",
       "      <td>22</td>\n",
       "      <td>2020-12-07</td>\n",
       "    </tr>\n",
       "    <tr>\n",
       "      <th>72932</th>\n",
       "      <td>F80C9BDDEA02E53C</td>\n",
       "      <td>2020-12-30 10:03:52</td>\n",
       "      <td>product_cart</td>\n",
       "      <td>NaN</td>\n",
       "      <td>B</td>\n",
       "      <td>iPhone</td>\n",
       "      <td>2020-12-07 10:05:54</td>\n",
       "      <td>22</td>\n",
       "      <td>2020-12-07</td>\n",
       "    </tr>\n",
       "    <tr>\n",
       "      <th>72933</th>\n",
       "      <td>6181F3835EBE66BF</td>\n",
       "      <td>2020-12-30 12:10:39</td>\n",
       "      <td>product_cart</td>\n",
       "      <td>NaN</td>\n",
       "      <td>B</td>\n",
       "      <td>Android</td>\n",
       "      <td>2020-12-07 19:53:20</td>\n",
       "      <td>22</td>\n",
       "      <td>2020-12-07</td>\n",
       "    </tr>\n",
       "    <tr>\n",
       "      <th>72934</th>\n",
       "      <td>9DF4F595A906A0BA</td>\n",
       "      <td>2020-12-30 18:34:08</td>\n",
       "      <td>product_page</td>\n",
       "      <td>NaN</td>\n",
       "      <td>A</td>\n",
       "      <td>Android</td>\n",
       "      <td>2020-12-07 23:40:47</td>\n",
       "      <td>22</td>\n",
       "      <td>2020-12-07</td>\n",
       "    </tr>\n",
       "  </tbody>\n",
       "</table>\n",
       "<p>72935 rows × 9 columns</p>\n",
       "</div>"
      ],
      "text/plain": [
       "                user_id            event_dt    event_name details group  \\\n",
       "0      5F506CEBEDC05D30 2020-12-06 14:10:01  registration     0.0     A   \n",
       "1      51278A006E918D97 2020-12-06 14:37:25  registration    -3.8     A   \n",
       "2      A0C1E8EFAD874D8B 2020-12-06 17:20:22  registration   -3.32     B   \n",
       "3      275A8D6254ACF530 2020-12-06 19:36:54  registration   -0.48     A   \n",
       "4      0B704EB2DC7FCA4B 2020-12-06 19:42:20  registration     0.0     B   \n",
       "...                 ...                 ...           ...     ...   ...   \n",
       "72930  F80C9BDDEA02E53C 2020-12-30 10:02:43      purchase    4.49     B   \n",
       "72931  F80C9BDDEA02E53C 2020-12-30 10:03:51      purchase    4.49     B   \n",
       "72932  F80C9BDDEA02E53C 2020-12-30 10:03:52  product_cart     NaN     B   \n",
       "72933  6181F3835EBE66BF 2020-12-30 12:10:39  product_cart     NaN     B   \n",
       "72934  9DF4F595A906A0BA 2020-12-30 18:34:08  product_page     NaN     A   \n",
       "\n",
       "        device        install_date  day_event install_day  \n",
       "0       iPhone 2020-12-06 14:10:01          0  2020-12-06  \n",
       "1      Android 2020-12-06 14:37:25          0  2020-12-06  \n",
       "2       iPhone 2020-12-06 17:20:22          0  2020-12-06  \n",
       "3       iPhone 2020-12-06 19:36:54          0  2020-12-06  \n",
       "4           PC 2020-12-06 19:42:20          0  2020-12-06  \n",
       "...        ...                 ...        ...         ...  \n",
       "72930   iPhone 2020-12-07 10:05:54         22  2020-12-07  \n",
       "72931   iPhone 2020-12-07 10:05:54         22  2020-12-07  \n",
       "72932   iPhone 2020-12-07 10:05:54         22  2020-12-07  \n",
       "72933  Android 2020-12-07 19:53:20         22  2020-12-07  \n",
       "72934  Android 2020-12-07 23:40:47         22  2020-12-07  \n",
       "\n",
       "[72935 rows x 9 columns]"
      ]
     },
     "execution_count": 35,
     "metadata": {},
     "output_type": "execute_result"
    }
   ],
   "source": [
    "# вычисляем количество дней с момента регистрации до покупки\n",
    "events_change_inst['day_event'] = (events_change_inst['event_dt'] - events_change_inst['install_date']).dt.days\n",
    "events_change_inst['install_day'] = events_change_inst['install_date'].dt.date\n",
    "# events_change_inst = events_change_inst.drop('install_date', axis=1) \n",
    "events_change_inst"
   ]
  },
  {
   "cell_type": "code",
   "execution_count": 36,
   "id": "e2e44486",
   "metadata": {},
   "outputs": [
    {
     "data": {
      "text/html": [
       "<div>\n",
       "<style scoped>\n",
       "    .dataframe tbody tr th:only-of-type {\n",
       "        vertical-align: middle;\n",
       "    }\n",
       "\n",
       "    .dataframe tbody tr th {\n",
       "        vertical-align: top;\n",
       "    }\n",
       "\n",
       "    .dataframe thead th {\n",
       "        text-align: right;\n",
       "    }\n",
       "</style>\n",
       "<table border=\"1\" class=\"dataframe\">\n",
       "  <thead>\n",
       "    <tr style=\"text-align: right;\">\n",
       "      <th></th>\n",
       "      <th>install_day</th>\n",
       "      <th>user_id</th>\n",
       "    </tr>\n",
       "  </thead>\n",
       "  <tbody>\n",
       "    <tr>\n",
       "      <th>0</th>\n",
       "      <td>2020-12-06</td>\n",
       "      <td>13</td>\n",
       "    </tr>\n",
       "    <tr>\n",
       "      <th>1</th>\n",
       "      <td>2020-12-07</td>\n",
       "      <td>891</td>\n",
       "    </tr>\n",
       "    <tr>\n",
       "      <th>2</th>\n",
       "      <td>2020-12-08</td>\n",
       "      <td>559</td>\n",
       "    </tr>\n",
       "    <tr>\n",
       "      <th>3</th>\n",
       "      <td>2020-12-09</td>\n",
       "      <td>403</td>\n",
       "    </tr>\n",
       "    <tr>\n",
       "      <th>4</th>\n",
       "      <td>2020-12-10</td>\n",
       "      <td>479</td>\n",
       "    </tr>\n",
       "    <tr>\n",
       "      <th>5</th>\n",
       "      <td>2020-12-11</td>\n",
       "      <td>415</td>\n",
       "    </tr>\n",
       "    <tr>\n",
       "      <th>6</th>\n",
       "      <td>2020-12-12</td>\n",
       "      <td>718</td>\n",
       "    </tr>\n",
       "    <tr>\n",
       "      <th>7</th>\n",
       "      <td>2020-12-13</td>\n",
       "      <td>751</td>\n",
       "    </tr>\n",
       "    <tr>\n",
       "      <th>8</th>\n",
       "      <td>2020-12-14</td>\n",
       "      <td>983</td>\n",
       "    </tr>\n",
       "    <tr>\n",
       "      <th>9</th>\n",
       "      <td>2020-12-15</td>\n",
       "      <td>548</td>\n",
       "    </tr>\n",
       "    <tr>\n",
       "      <th>10</th>\n",
       "      <td>2020-12-16</td>\n",
       "      <td>374</td>\n",
       "    </tr>\n",
       "    <tr>\n",
       "      <th>11</th>\n",
       "      <td>2020-12-17</td>\n",
       "      <td>555</td>\n",
       "    </tr>\n",
       "    <tr>\n",
       "      <th>12</th>\n",
       "      <td>2020-12-18</td>\n",
       "      <td>593</td>\n",
       "    </tr>\n",
       "    <tr>\n",
       "      <th>13</th>\n",
       "      <td>2020-12-19</td>\n",
       "      <td>589</td>\n",
       "    </tr>\n",
       "    <tr>\n",
       "      <th>14</th>\n",
       "      <td>2020-12-20</td>\n",
       "      <td>747</td>\n",
       "    </tr>\n",
       "    <tr>\n",
       "      <th>15</th>\n",
       "      <td>2020-12-21</td>\n",
       "      <td>1119</td>\n",
       "    </tr>\n",
       "    <tr>\n",
       "      <th>16</th>\n",
       "      <td>2020-12-22</td>\n",
       "      <td>580</td>\n",
       "    </tr>\n",
       "    <tr>\n",
       "      <th>17</th>\n",
       "      <td>2020-12-23</td>\n",
       "      <td>416</td>\n",
       "    </tr>\n",
       "    <tr>\n",
       "      <th>18</th>\n",
       "      <td>2020-12-24</td>\n",
       "      <td>1</td>\n",
       "    </tr>\n",
       "  </tbody>\n",
       "</table>\n",
       "</div>"
      ],
      "text/plain": [
       "   install_day  user_id\n",
       "0   2020-12-06       13\n",
       "1   2020-12-07      891\n",
       "2   2020-12-08      559\n",
       "3   2020-12-09      403\n",
       "4   2020-12-10      479\n",
       "5   2020-12-11      415\n",
       "6   2020-12-12      718\n",
       "7   2020-12-13      751\n",
       "8   2020-12-14      983\n",
       "9   2020-12-15      548\n",
       "10  2020-12-16      374\n",
       "11  2020-12-17      555\n",
       "12  2020-12-18      593\n",
       "13  2020-12-19      589\n",
       "14  2020-12-20      747\n",
       "15  2020-12-21     1119\n",
       "16  2020-12-22      580\n",
       "17  2020-12-23      416\n",
       "18  2020-12-24        1"
      ]
     },
     "execution_count": 36,
     "metadata": {},
     "output_type": "execute_result"
    }
   ],
   "source": [
    "# определяем сколько пользователей зарегистрировались по дням.\n",
    "events_change_inst_group = events_change_inst.groupby(['install_day'])['user_id'].nunique().reset_index()\n",
    "events_change_inst_group.head(30)"
   ]
  },
  {
   "cell_type": "markdown",
   "id": "c0a8024a",
   "metadata": {},
   "source": [
    "Мы выбрали данные по техзаданию, необходимые для проверки теста Вычислили для каждого пользователя дату регистрации и количество дней до события в таблице 'events'. Сгруппировав по дням количество регистраций, получаем, что меньше всего регистрировались \"2020-12-06\" и \"2020-12-24\", максимальное количество зарегистрированных было \"2020-12-21\" 1134 пользователя. Но так как нам нужно определить, что в течение семи дней после регистрации в системе конверсия зарегистрированных пользователей в покупателей увеличится как минимум на три процентных пункта, выбираем с 2020-12-06, фильтруя по количеству дней с момента регистрации."
   ]
  },
  {
   "cell_type": "markdown",
   "id": "fBZ4DC2xswZJ",
   "metadata": {
    "id": "fBZ4DC2xswZJ"
   },
   "source": [
    "- определите горизонт анализа: рассчитайте время (лайфтайм) совершения события пользователем после регистрации и оставьте только те события, которые были выполнены в течение первых семи дней с момента регистрации;"
   ]
  },
  {
   "cell_type": "code",
   "execution_count": 37,
   "id": "87135312",
   "metadata": {
    "scrolled": true
   },
   "outputs": [
    {
     "data": {
      "text/html": [
       "<div>\n",
       "<style scoped>\n",
       "    .dataframe tbody tr th:only-of-type {\n",
       "        vertical-align: middle;\n",
       "    }\n",
       "\n",
       "    .dataframe tbody tr th {\n",
       "        vertical-align: top;\n",
       "    }\n",
       "\n",
       "    .dataframe thead th {\n",
       "        text-align: right;\n",
       "    }\n",
       "</style>\n",
       "<table border=\"1\" class=\"dataframe\">\n",
       "  <thead>\n",
       "    <tr style=\"text-align: right;\">\n",
       "      <th></th>\n",
       "      <th>user_id</th>\n",
       "      <th>event_dt</th>\n",
       "      <th>event_name</th>\n",
       "      <th>details</th>\n",
       "      <th>group</th>\n",
       "      <th>device</th>\n",
       "      <th>install_date</th>\n",
       "      <th>day_event</th>\n",
       "      <th>install_day</th>\n",
       "    </tr>\n",
       "  </thead>\n",
       "  <tbody>\n",
       "    <tr>\n",
       "      <th>0</th>\n",
       "      <td>5F506CEBEDC05D30</td>\n",
       "      <td>2020-12-06 14:10:01</td>\n",
       "      <td>registration</td>\n",
       "      <td>0.0</td>\n",
       "      <td>A</td>\n",
       "      <td>iPhone</td>\n",
       "      <td>2020-12-06 14:10:01</td>\n",
       "      <td>0</td>\n",
       "      <td>2020-12-06</td>\n",
       "    </tr>\n",
       "    <tr>\n",
       "      <th>1</th>\n",
       "      <td>51278A006E918D97</td>\n",
       "      <td>2020-12-06 14:37:25</td>\n",
       "      <td>registration</td>\n",
       "      <td>-3.8</td>\n",
       "      <td>A</td>\n",
       "      <td>Android</td>\n",
       "      <td>2020-12-06 14:37:25</td>\n",
       "      <td>0</td>\n",
       "      <td>2020-12-06</td>\n",
       "    </tr>\n",
       "    <tr>\n",
       "      <th>2</th>\n",
       "      <td>A0C1E8EFAD874D8B</td>\n",
       "      <td>2020-12-06 17:20:22</td>\n",
       "      <td>registration</td>\n",
       "      <td>-3.32</td>\n",
       "      <td>B</td>\n",
       "      <td>iPhone</td>\n",
       "      <td>2020-12-06 17:20:22</td>\n",
       "      <td>0</td>\n",
       "      <td>2020-12-06</td>\n",
       "    </tr>\n",
       "    <tr>\n",
       "      <th>3</th>\n",
       "      <td>275A8D6254ACF530</td>\n",
       "      <td>2020-12-06 19:36:54</td>\n",
       "      <td>registration</td>\n",
       "      <td>-0.48</td>\n",
       "      <td>A</td>\n",
       "      <td>iPhone</td>\n",
       "      <td>2020-12-06 19:36:54</td>\n",
       "      <td>0</td>\n",
       "      <td>2020-12-06</td>\n",
       "    </tr>\n",
       "    <tr>\n",
       "      <th>4</th>\n",
       "      <td>0B704EB2DC7FCA4B</td>\n",
       "      <td>2020-12-06 19:42:20</td>\n",
       "      <td>registration</td>\n",
       "      <td>0.0</td>\n",
       "      <td>B</td>\n",
       "      <td>PC</td>\n",
       "      <td>2020-12-06 19:42:20</td>\n",
       "      <td>0</td>\n",
       "      <td>2020-12-06</td>\n",
       "    </tr>\n",
       "    <tr>\n",
       "      <th>...</th>\n",
       "      <td>...</td>\n",
       "      <td>...</td>\n",
       "      <td>...</td>\n",
       "      <td>...</td>\n",
       "      <td>...</td>\n",
       "      <td>...</td>\n",
       "      <td>...</td>\n",
       "      <td>...</td>\n",
       "      <td>...</td>\n",
       "    </tr>\n",
       "    <tr>\n",
       "      <th>72628</th>\n",
       "      <td>96371D85BF5A99DD</td>\n",
       "      <td>2020-12-29 19:11:11</td>\n",
       "      <td>purchase</td>\n",
       "      <td>4.49</td>\n",
       "      <td>B</td>\n",
       "      <td>iPhone</td>\n",
       "      <td>2020-12-23 13:16:19</td>\n",
       "      <td>6</td>\n",
       "      <td>2020-12-23</td>\n",
       "    </tr>\n",
       "    <tr>\n",
       "      <th>72631</th>\n",
       "      <td>96371D85BF5A99DD</td>\n",
       "      <td>2020-12-29 19:12:42</td>\n",
       "      <td>purchase</td>\n",
       "      <td>89.99</td>\n",
       "      <td>B</td>\n",
       "      <td>iPhone</td>\n",
       "      <td>2020-12-23 13:16:19</td>\n",
       "      <td>6</td>\n",
       "      <td>2020-12-23</td>\n",
       "    </tr>\n",
       "    <tr>\n",
       "      <th>72666</th>\n",
       "      <td>2CD92B2BD7A136C2</td>\n",
       "      <td>2020-12-29 19:47:22</td>\n",
       "      <td>purchase</td>\n",
       "      <td>4.49</td>\n",
       "      <td>B</td>\n",
       "      <td>PC</td>\n",
       "      <td>2020-12-22 22:27:30</td>\n",
       "      <td>6</td>\n",
       "      <td>2020-12-22</td>\n",
       "    </tr>\n",
       "    <tr>\n",
       "      <th>72667</th>\n",
       "      <td>2CD92B2BD7A136C2</td>\n",
       "      <td>2020-12-29 19:47:38</td>\n",
       "      <td>purchase</td>\n",
       "      <td>4.49</td>\n",
       "      <td>B</td>\n",
       "      <td>PC</td>\n",
       "      <td>2020-12-22 22:27:30</td>\n",
       "      <td>6</td>\n",
       "      <td>2020-12-22</td>\n",
       "    </tr>\n",
       "    <tr>\n",
       "      <th>72702</th>\n",
       "      <td>60B500A3F5E2F7BC</td>\n",
       "      <td>2020-12-29 20:22:58</td>\n",
       "      <td>purchase</td>\n",
       "      <td>89.99</td>\n",
       "      <td>A</td>\n",
       "      <td>Android</td>\n",
       "      <td>2020-12-23 02:37:08</td>\n",
       "      <td>6</td>\n",
       "      <td>2020-12-23</td>\n",
       "    </tr>\n",
       "  </tbody>\n",
       "</table>\n",
       "<p>16969 rows × 9 columns</p>\n",
       "</div>"
      ],
      "text/plain": [
       "                user_id            event_dt    event_name details group  \\\n",
       "0      5F506CEBEDC05D30 2020-12-06 14:10:01  registration     0.0     A   \n",
       "1      51278A006E918D97 2020-12-06 14:37:25  registration    -3.8     A   \n",
       "2      A0C1E8EFAD874D8B 2020-12-06 17:20:22  registration   -3.32     B   \n",
       "3      275A8D6254ACF530 2020-12-06 19:36:54  registration   -0.48     A   \n",
       "4      0B704EB2DC7FCA4B 2020-12-06 19:42:20  registration     0.0     B   \n",
       "...                 ...                 ...           ...     ...   ...   \n",
       "72628  96371D85BF5A99DD 2020-12-29 19:11:11      purchase    4.49     B   \n",
       "72631  96371D85BF5A99DD 2020-12-29 19:12:42      purchase   89.99     B   \n",
       "72666  2CD92B2BD7A136C2 2020-12-29 19:47:22      purchase    4.49     B   \n",
       "72667  2CD92B2BD7A136C2 2020-12-29 19:47:38      purchase    4.49     B   \n",
       "72702  60B500A3F5E2F7BC 2020-12-29 20:22:58      purchase   89.99     A   \n",
       "\n",
       "        device        install_date  day_event install_day  \n",
       "0       iPhone 2020-12-06 14:10:01          0  2020-12-06  \n",
       "1      Android 2020-12-06 14:37:25          0  2020-12-06  \n",
       "2       iPhone 2020-12-06 17:20:22          0  2020-12-06  \n",
       "3       iPhone 2020-12-06 19:36:54          0  2020-12-06  \n",
       "4           PC 2020-12-06 19:42:20          0  2020-12-06  \n",
       "...        ...                 ...        ...         ...  \n",
       "72628   iPhone 2020-12-23 13:16:19          6  2020-12-23  \n",
       "72631   iPhone 2020-12-23 13:16:19          6  2020-12-23  \n",
       "72666       PC 2020-12-22 22:27:30          6  2020-12-22  \n",
       "72667       PC 2020-12-22 22:27:30          6  2020-12-22  \n",
       "72702  Android 2020-12-23 02:37:08          6  2020-12-23  \n",
       "\n",
       "[16969 rows x 9 columns]"
      ]
     },
     "execution_count": 37,
     "metadata": {},
     "output_type": "execute_result"
    }
   ],
   "source": [
    "# определяем сколько пользователей зарегистрировались по дням.\n",
    "events_change_for_test = events_change_inst[(events_change_inst['day_event']<7)&((events_change_inst['event_name']=='registration')|(events_change_inst['event_name']=='purchase'))]\n",
    "events_change_for_test"
   ]
  },
  {
   "cell_type": "markdown",
   "id": "7cf1df48",
   "metadata": {},
   "source": [
    "Оцените достаточность выборки для получения статистически значимых результатов A/B-теста. Заданные параметры:\n",
    "\n",
    "- базовый показатель конверсии — 30%,\n",
    "\n",
    "- мощность теста — 80%,\n",
    "\n",
    "- достоверность теста — 95%."
   ]
  },
  {
   "cell_type": "code",
   "execution_count": 38,
   "id": "7d97b466",
   "metadata": {},
   "outputs": [
    {
     "name": "stdout",
     "output_type": "stream",
     "text": [
      "Необходимый размер выборки для каждой группы: 3761\n"
     ]
    }
   ],
   "source": [
    "# Задаём параметры\n",
    "alpha = 0.05  # Уровень значимости\n",
    "beta = 0.2  # Ошибка второго рода, часто 1 - мощность\n",
    "power = 1-beta  # Мощность теста\n",
    "p = 0.3 # Базовый уровень доли\n",
    "mde = 0.03  # Минимальный детектируемый эффект\n",
    "effect_size = proportion_effectsize(p, p + mde)\n",
    "\n",
    "# Инициализируем класс NormalIndPower\n",
    "power_analysis = NormalIndPower()\n",
    "\n",
    "# Рассчитываем размер выборки\n",
    "sample_size = power_analysis.solve_power(\n",
    "    effect_size = effect_size,\n",
    "    power = power,\n",
    "    alpha = alpha,\n",
    "    ratio = 1 # Равномерное распределение выборок\n",
    ")\n",
    "\n",
    "print(f\"Необходимый размер выборки для каждой группы: {int(sample_size)}\")"
   ]
  },
  {
   "cell_type": "markdown",
   "id": "SadyUDgZs0t3",
   "metadata": {
    "id": "SadyUDgZs0t3"
   },
   "source": [
    "- рассчитайте для каждой группы количество посетителей, сделавших покупку, и общее количество посетителей."
   ]
  },
  {
   "cell_type": "code",
   "execution_count": 39,
   "id": "06db58cd",
   "metadata": {},
   "outputs": [
    {
     "data": {
      "text/html": [
       "<div>\n",
       "<style scoped>\n",
       "    .dataframe tbody tr th:only-of-type {\n",
       "        vertical-align: middle;\n",
       "    }\n",
       "\n",
       "    .dataframe tbody tr th {\n",
       "        vertical-align: top;\n",
       "    }\n",
       "\n",
       "    .dataframe thead th {\n",
       "        text-align: right;\n",
       "    }\n",
       "</style>\n",
       "<table border=\"1\" class=\"dataframe\">\n",
       "  <thead>\n",
       "    <tr style=\"text-align: right;\">\n",
       "      <th></th>\n",
       "      <th>group</th>\n",
       "      <th>event_name</th>\n",
       "      <th>all_users</th>\n",
       "      <th>%</th>\n",
       "    </tr>\n",
       "  </thead>\n",
       "  <tbody>\n",
       "    <tr>\n",
       "      <th>0</th>\n",
       "      <td>A</td>\n",
       "      <td>purchase</td>\n",
       "      <td>1480</td>\n",
       "      <td>27.493962</td>\n",
       "    </tr>\n",
       "    <tr>\n",
       "      <th>1</th>\n",
       "      <td>A</td>\n",
       "      <td>registration</td>\n",
       "      <td>5383</td>\n",
       "      <td>100.000000</td>\n",
       "    </tr>\n",
       "    <tr>\n",
       "      <th>2</th>\n",
       "      <td>B</td>\n",
       "      <td>purchase</td>\n",
       "      <td>1579</td>\n",
       "      <td>29.508503</td>\n",
       "    </tr>\n",
       "    <tr>\n",
       "      <th>3</th>\n",
       "      <td>B</td>\n",
       "      <td>registration</td>\n",
       "      <td>5351</td>\n",
       "      <td>100.000000</td>\n",
       "    </tr>\n",
       "  </tbody>\n",
       "</table>\n",
       "</div>"
      ],
      "text/plain": [
       "  group    event_name  all_users           %\n",
       "0     A      purchase       1480   27.493962\n",
       "1     A  registration       5383  100.000000\n",
       "2     B      purchase       1579   29.508503\n",
       "3     B  registration       5351  100.000000"
      ]
     },
     "execution_count": 39,
     "metadata": {},
     "output_type": "execute_result"
    }
   ],
   "source": [
    "# проверяем количество пользователей в группах и процент\n",
    "events_change_group_test= events_change_for_test.groupby(['group', 'event_name']).agg(all_users=('user_id', 'nunique')).reset_index()\n",
    "events_change_group_test['%'] = events_change_group_test.groupby('group')['all_users'].apply(lambda x: 100 * x / float(x.max()))\n",
    "events_change_group_test"
   ]
  },
  {
   "cell_type": "markdown",
   "id": "sh1JpGvAs5E3",
   "metadata": {
    "id": "sh1JpGvAs5E3"
   },
   "source": [
    "- сделайте предварительный общий вывод об изменении пользовательской активности в тестовой группе по сравнению с контрольной."
   ]
  },
  {
   "cell_type": "markdown",
   "id": "80b9626d",
   "metadata": {
    "id": "hHTHPkJYs8mE"
   },
   "source": [
    "Врезультате вычислений получили датафрейм с событиями с количеством дней с момента регистрации равном 7.\n",
    "По количеству пользователей совершивших покупку, в группе В это 29.5 % от общего количества в группе, в А - 27.5%. "
   ]
  },
  {
   "cell_type": "markdown",
   "id": "IKZ1Oo3Ws919",
   "metadata": {
    "id": "IKZ1Oo3Ws919"
   },
   "source": [
    "## 4. Проведите оценку результатов A/B-тестирования:"
   ]
  },
  {
   "cell_type": "markdown",
   "id": "dcUdBSmvtC-E",
   "metadata": {
    "id": "dcUdBSmvtC-E"
   },
   "source": [
    "- Проверьте изменение конверсии подходящим статистическим тестом, учитывая все этапы проверки гипотез."
   ]
  },
  {
   "cell_type": "markdown",
   "id": "e1f5ed57",
   "metadata": {},
   "source": [
    "Пусть {nA,nB} — это размеры выборок A и B, а {mA,mB} — количество успехов в выборках A и B.\n",
    "сформулируем гипотезы для Z-теста пропорций:\n",
    "Нулевая гипотеза «вероятности успеха равны между группами A и B» — H0:pA=pB.\n",
    "Альтернативная гипотеза.\n",
    "Односторонняя. Вероятность успеха в группе B выше, чем в группе A — H1:pA<pB.\n",
    "\n",
    "Гипотеза заключается в том, что для тестовой группы В, упрощение интерфейса приведёт к тому, что в течение семи дней после регистрации в системе \n",
    "конверсия зарегистрированных пользователей в покупателей увеличится как минимум на три процентных пункта."
   ]
  },
  {
   "cell_type": "code",
   "execution_count": 40,
   "id": "l_KOziBQtL3t",
   "metadata": {
    "id": "l_KOziBQtL3t"
   },
   "outputs": [
    {
     "name": "stdout",
     "output_type": "stream",
     "text": [
      "Предпосылка о достаточном количестве данных выполняется!\n",
      "pvalue=0.010393282955333764\n",
      "Нулевая гипотеза не находит подтверждения!\n"
     ]
    }
   ],
   "source": [
    "# размер группы A\n",
    "\n",
    "\n",
    "n_a = events_change_for_test[(events_change_for_test.group=='A')&(events_change_for_test.event_name=='registration')].shape[0] # посчитали размер группы А\n",
    "\n",
    "n_b = events_change_for_test[(events_change_for_test.group=='B')&(events_change_for_test.event_name=='registration')].shape[0] # посчитали размер группы B\n",
    "\n",
    "m_a = events_change_for_test[(events_change_for_test.group=='A')&(events_change_for_test.event_name=='purchase')]['user_id'].nunique()\n",
    "# посчитали кол-во успехов в группе A\n",
    "\n",
    "m_b = events_change_for_test[(events_change_for_test.group=='B')&(events_change_for_test.event_name=='purchase')]['user_id'].nunique()\n",
    "# посчитали кол-во успехов в группе В\n",
    "\n",
    "p_a, p_b = m_a/n_a, m_b/n_b # посчитали доли успехов для каждой группы: A и B\n",
    "\n",
    "if (p_a*n_a > 10)and((1-p_a)*n_a > 10)and(p_b*n_b > 10)and((1-p_b)*n_b > 10): # проверили предпосылку о достаточном количестве данных\n",
    "    print('Предпосылка о достаточном количестве данных выполняется!')\n",
    "else:\n",
    "    print('Предпосылка о достаточном количестве данных НЕ выполняется!')\n",
    "\n",
    "alpha = 0.05 ## установили уровень значимости\n",
    "\n",
    "\n",
    "stat_ztest, p_value_ztest = proportions_ztest( # провели Z-тест пропорций\n",
    "\t[m_a, m_b],\n",
    "    [n_a, n_b],\n",
    "    alternative='smaller'\n",
    ")\n",
    "\n",
    "print(f'pvalue={p_value_ztest}') # вывели полученное p-value \n",
    "\n",
    "if p_value_ztest > alpha:\n",
    "    print('Нулевая гипотеза находит подтверждение!')\n",
    "else:\n",
    "    print('Нулевая гипотеза не находит подтверждения!')\n"
   ]
  },
  {
   "cell_type": "markdown",
   "id": "9jkyKOjgtGoc",
   "metadata": {
    "id": "9jkyKOjgtGoc"
   },
   "source": [
    "- Опишите выводы по проведённой оценке результатов A/B-тестирования. Что можно сказать про результаты A/B-тестирования? Был ли достигнут ожидаемый эффект в изменении конверсии?"
   ]
  },
  {
   "cell_type": "markdown",
   "id": "npoPPSKytKvR",
   "metadata": {
    "id": "npoPPSKytKvR"
   },
   "source": [
    "Провели A/B-тестирования методом Z-тест пропорций.\n",
    "Получили pvalue=0.010393282955333764.\n",
    "\n",
    "При расчете конверсии по количеству пользователей совершивших покупку, в группе В это 29.5 % от общего количества в группе, в А - 27.5%. Разница 2%, получается, что требуемое по техзаданию условие увеличения пользователей не выполнилось.\n",
    "\n",
    "После проведения теста получили подверждение гипотезы.\n",
    "Гипотеза о том, что упрощение интерфейса приведёт к тому, что в течение семи дней после регистрации в системе конверсия зарегистрированных пользователей в покупателей увеличится как минимум на три процентных пункта потвердилась.\n",
    "Значит существует статистически значимое различие между долями зарегистрированных пользователей в группах A и B.\n",
    "Поэтому предполагаем, что конверсия увеличиться на три процента, и разработанную новую версию сайта можно внедрять.  "
   ]
  }
 ],
 "metadata": {
  "ExecuteTimeLog": [
   {
    "duration": 1423,
    "start_time": "2025-08-14T09:19:07.449Z"
   },
   {
    "duration": 2,
    "start_time": "2025-08-14T09:19:13.873Z"
   },
   {
    "duration": 97,
    "start_time": "2025-08-14T09:19:33.724Z"
   },
   {
    "duration": 5,
    "start_time": "2025-08-14T09:20:01.519Z"
   },
   {
    "duration": 67,
    "start_time": "2025-08-14T09:20:48.612Z"
   },
   {
    "duration": 3,
    "start_time": "2025-08-14T09:20:52.647Z"
   },
   {
    "duration": 14,
    "start_time": "2025-08-14T09:21:03.517Z"
   },
   {
    "duration": 12,
    "start_time": "2025-08-14T09:21:39.552Z"
   },
   {
    "duration": 7,
    "start_time": "2025-08-14T09:24:20.699Z"
   },
   {
    "duration": 4,
    "start_time": "2025-08-14T09:25:34.981Z"
   },
   {
    "duration": 12,
    "start_time": "2025-08-14T09:25:40.898Z"
   },
   {
    "duration": 10,
    "start_time": "2025-08-14T09:25:45.989Z"
   },
   {
    "duration": 6,
    "start_time": "2025-08-14T09:27:31.057Z"
   },
   {
    "duration": 8,
    "start_time": "2025-08-14T09:27:55.027Z"
   },
   {
    "duration": 6,
    "start_time": "2025-08-14T09:28:31.486Z"
   },
   {
    "duration": 14,
    "start_time": "2025-08-14T10:05:56.341Z"
   },
   {
    "duration": 1151,
    "start_time": "2025-08-14T10:06:04.273Z"
   },
   {
    "duration": 71,
    "start_time": "2025-08-14T10:06:05.426Z"
   },
   {
    "duration": 16,
    "start_time": "2025-08-14T10:06:05.498Z"
   },
   {
    "duration": 20,
    "start_time": "2025-08-14T10:06:05.516Z"
   },
   {
    "duration": 4,
    "start_time": "2025-08-14T10:06:05.537Z"
   },
   {
    "duration": 55,
    "start_time": "2025-08-14T10:06:05.543Z"
   },
   {
    "duration": 1603,
    "start_time": "2025-08-14T10:06:05.600Z"
   },
   {
    "duration": 20,
    "start_time": "2025-08-14T10:09:40.139Z"
   },
   {
    "duration": 11,
    "start_time": "2025-08-14T10:10:40.345Z"
   },
   {
    "duration": 114,
    "start_time": "2025-08-14T10:11:00.984Z"
   },
   {
    "duration": 9,
    "start_time": "2025-08-14T10:11:20.162Z"
   },
   {
    "duration": 210,
    "start_time": "2025-08-14T10:35:59.006Z"
   },
   {
    "duration": 161,
    "start_time": "2025-08-14T10:38:24.833Z"
   },
   {
    "duration": 221,
    "start_time": "2025-08-14T10:38:36.834Z"
   },
   {
    "duration": 224,
    "start_time": "2025-08-14T10:38:46.048Z"
   },
   {
    "duration": 204,
    "start_time": "2025-08-14T10:39:09.793Z"
   },
   {
    "duration": 210,
    "start_time": "2025-08-14T10:39:29.482Z"
   },
   {
    "duration": 214,
    "start_time": "2025-08-14T10:39:52.801Z"
   },
   {
    "duration": 5,
    "start_time": "2025-08-14T10:42:13.509Z"
   },
   {
    "duration": 10,
    "start_time": "2025-08-14T10:42:21.665Z"
   },
   {
    "duration": 9,
    "start_time": "2025-08-14T10:42:56.459Z"
   },
   {
    "duration": 5,
    "start_time": "2025-08-14T10:43:36.084Z"
   },
   {
    "duration": 10,
    "start_time": "2025-08-14T10:43:40.132Z"
   },
   {
    "duration": 152,
    "start_time": "2025-08-14T10:47:41.007Z"
   },
   {
    "duration": 133,
    "start_time": "2025-08-14T10:48:04.341Z"
   },
   {
    "duration": 205,
    "start_time": "2025-08-14T10:48:16.017Z"
   },
   {
    "duration": 11,
    "start_time": "2025-08-14T11:37:47.333Z"
   },
   {
    "duration": 1314,
    "start_time": "2025-08-15T07:25:12.718Z"
   },
   {
    "duration": 56,
    "start_time": "2025-08-15T07:25:14.034Z"
   },
   {
    "duration": 15,
    "start_time": "2025-08-15T07:25:14.091Z"
   },
   {
    "duration": 12,
    "start_time": "2025-08-15T07:25:14.108Z"
   },
   {
    "duration": 4,
    "start_time": "2025-08-15T07:25:14.121Z"
   },
   {
    "duration": 35,
    "start_time": "2025-08-15T07:25:14.127Z"
   },
   {
    "duration": 9,
    "start_time": "2025-08-15T07:25:14.163Z"
   },
   {
    "duration": 4,
    "start_time": "2025-08-15T07:25:14.173Z"
   },
   {
    "duration": 10,
    "start_time": "2025-08-15T07:25:14.178Z"
   },
   {
    "duration": 1438,
    "start_time": "2025-08-15T07:25:14.190Z"
   },
   {
    "duration": 202,
    "start_time": "2025-08-15T07:29:52.335Z"
   },
   {
    "duration": 1296,
    "start_time": "2025-08-15T11:27:59.326Z"
   },
   {
    "duration": 121,
    "start_time": "2025-08-15T11:28:00.624Z"
   },
   {
    "duration": 14,
    "start_time": "2025-08-15T11:28:00.747Z"
   },
   {
    "duration": 12,
    "start_time": "2025-08-15T11:28:00.763Z"
   },
   {
    "duration": 37,
    "start_time": "2025-08-15T11:28:00.776Z"
   },
   {
    "duration": 46,
    "start_time": "2025-08-15T11:28:00.814Z"
   },
   {
    "duration": 8,
    "start_time": "2025-08-15T11:28:00.861Z"
   },
   {
    "duration": 3,
    "start_time": "2025-08-15T11:28:00.871Z"
   },
   {
    "duration": 195,
    "start_time": "2025-08-15T11:28:00.876Z"
   },
   {
    "duration": 8,
    "start_time": "2025-08-15T11:28:01.073Z"
   },
   {
    "duration": 1481,
    "start_time": "2025-08-15T11:28:01.082Z"
   },
   {
    "duration": 232,
    "start_time": "2025-08-15T12:02:18.625Z"
   },
   {
    "duration": 105,
    "start_time": "2025-08-15T12:02:53.744Z"
   },
   {
    "duration": 527,
    "start_time": "2025-08-15T12:03:04.475Z"
   },
   {
    "duration": 222,
    "start_time": "2025-08-15T12:03:25.382Z"
   },
   {
    "duration": 353,
    "start_time": "2025-08-15T12:09:31.375Z"
   },
   {
    "duration": 1562,
    "start_time": "2025-08-15T12:25:19.996Z"
   },
   {
    "duration": 7,
    "start_time": "2025-08-15T12:26:20.523Z"
   },
   {
    "duration": 13,
    "start_time": "2025-08-15T12:26:53.983Z"
   },
   {
    "duration": 357,
    "start_time": "2025-08-15T12:27:00.207Z"
   },
   {
    "duration": 417,
    "start_time": "2025-08-15T12:29:03.097Z"
   },
   {
    "duration": 372,
    "start_time": "2025-08-15T12:29:11.230Z"
   },
   {
    "duration": 8,
    "start_time": "2025-08-15T12:34:41.328Z"
   },
   {
    "duration": 9,
    "start_time": "2025-08-15T12:35:20.556Z"
   },
   {
    "duration": 1154,
    "start_time": "2025-08-15T12:36:26.560Z"
   },
   {
    "duration": 47,
    "start_time": "2025-08-15T12:36:27.716Z"
   },
   {
    "duration": 14,
    "start_time": "2025-08-15T12:36:27.764Z"
   },
   {
    "duration": 32,
    "start_time": "2025-08-15T12:36:27.779Z"
   },
   {
    "duration": 5,
    "start_time": "2025-08-15T12:36:27.812Z"
   },
   {
    "duration": 41,
    "start_time": "2025-08-15T12:36:27.819Z"
   },
   {
    "duration": 5,
    "start_time": "2025-08-15T12:36:27.861Z"
   },
   {
    "duration": 29,
    "start_time": "2025-08-15T12:36:27.868Z"
   },
   {
    "duration": 390,
    "start_time": "2025-08-15T12:36:27.899Z"
   },
   {
    "duration": 9,
    "start_time": "2025-08-15T12:36:28.291Z"
   },
   {
    "duration": 54,
    "start_time": "2025-08-15T12:36:28.301Z"
   },
   {
    "duration": 1559,
    "start_time": "2025-08-15T12:36:28.356Z"
   },
   {
    "duration": 8,
    "start_time": "2025-08-15T12:40:08.219Z"
   },
   {
    "duration": 9,
    "start_time": "2025-08-15T12:45:23.027Z"
   },
   {
    "duration": 9,
    "start_time": "2025-08-15T12:45:34.653Z"
   },
   {
    "duration": 1325,
    "start_time": "2025-08-16T12:21:38.247Z"
   },
   {
    "duration": 45,
    "start_time": "2025-08-16T12:21:39.576Z"
   },
   {
    "duration": 15,
    "start_time": "2025-08-16T12:21:39.622Z"
   },
   {
    "duration": 99,
    "start_time": "2025-08-16T12:21:39.639Z"
   },
   {
    "duration": 3,
    "start_time": "2025-08-16T12:21:39.740Z"
   },
   {
    "duration": 8,
    "start_time": "2025-08-16T12:21:39.744Z"
   },
   {
    "duration": 3,
    "start_time": "2025-08-16T12:21:39.754Z"
   },
   {
    "duration": 12,
    "start_time": "2025-08-16T12:21:39.759Z"
   },
   {
    "duration": 443,
    "start_time": "2025-08-16T12:21:39.772Z"
   },
   {
    "duration": 9,
    "start_time": "2025-08-16T12:21:40.217Z"
   },
   {
    "duration": 54,
    "start_time": "2025-08-16T12:21:40.228Z"
   },
   {
    "duration": 1417,
    "start_time": "2025-08-16T12:21:40.283Z"
   },
   {
    "duration": 8,
    "start_time": "2025-08-16T12:21:41.701Z"
   },
   {
    "duration": 47,
    "start_time": "2025-08-16T12:21:41.711Z"
   },
   {
    "duration": 12,
    "start_time": "2025-08-16T12:22:27.363Z"
   },
   {
    "duration": 111,
    "start_time": "2025-08-16T12:22:35.892Z"
   },
   {
    "duration": 118,
    "start_time": "2025-08-16T12:24:38.624Z"
   },
   {
    "duration": 14,
    "start_time": "2025-08-16T12:27:00.487Z"
   },
   {
    "duration": 7,
    "start_time": "2025-08-16T12:28:01.676Z"
   },
   {
    "duration": 14,
    "start_time": "2025-08-16T12:28:06.992Z"
   },
   {
    "duration": 11,
    "start_time": "2025-08-16T13:12:10.053Z"
   },
   {
    "duration": 124,
    "start_time": "2025-08-16T13:17:31.971Z"
   },
   {
    "duration": 25,
    "start_time": "2025-08-16T13:18:24.786Z"
   },
   {
    "duration": 9,
    "start_time": "2025-08-16T13:18:41.825Z"
   },
   {
    "duration": 4,
    "start_time": "2025-08-16T13:18:49.646Z"
   },
   {
    "duration": 12,
    "start_time": "2025-08-16T13:19:08.400Z"
   },
   {
    "duration": 13,
    "start_time": "2025-08-16T13:19:54.598Z"
   },
   {
    "duration": 3,
    "start_time": "2025-08-16T13:20:24.328Z"
   },
   {
    "duration": 15,
    "start_time": "2025-08-16T13:20:34.269Z"
   },
   {
    "duration": 14,
    "start_time": "2025-08-16T13:21:06.091Z"
   },
   {
    "duration": 8,
    "start_time": "2025-08-16T13:22:43.241Z"
   },
   {
    "duration": 10,
    "start_time": "2025-08-16T13:23:11.605Z"
   },
   {
    "duration": 1173,
    "start_time": "2025-08-16T13:23:17.261Z"
   },
   {
    "duration": 52,
    "start_time": "2025-08-16T13:23:18.435Z"
   },
   {
    "duration": 17,
    "start_time": "2025-08-16T13:23:18.489Z"
   },
   {
    "duration": 14,
    "start_time": "2025-08-16T13:23:18.508Z"
   },
   {
    "duration": 3,
    "start_time": "2025-08-16T13:23:18.523Z"
   },
   {
    "duration": 8,
    "start_time": "2025-08-16T13:23:18.527Z"
   },
   {
    "duration": 3,
    "start_time": "2025-08-16T13:23:18.536Z"
   },
   {
    "duration": 12,
    "start_time": "2025-08-16T13:23:18.540Z"
   },
   {
    "duration": 418,
    "start_time": "2025-08-16T13:23:18.554Z"
   },
   {
    "duration": 9,
    "start_time": "2025-08-16T13:23:18.974Z"
   },
   {
    "duration": 8,
    "start_time": "2025-08-16T13:23:18.985Z"
   },
   {
    "duration": 1552,
    "start_time": "2025-08-16T13:23:18.995Z"
   },
   {
    "duration": 8,
    "start_time": "2025-08-16T13:23:20.549Z"
   },
   {
    "duration": 26,
    "start_time": "2025-08-16T13:23:20.558Z"
   },
   {
    "duration": 11,
    "start_time": "2025-08-16T13:23:20.586Z"
   },
   {
    "duration": 134,
    "start_time": "2025-08-16T13:23:20.599Z"
   },
   {
    "duration": 9,
    "start_time": "2025-08-16T13:23:20.735Z"
   },
   {
    "duration": 5,
    "start_time": "2025-08-16T13:23:20.746Z"
   },
   {
    "duration": 27,
    "start_time": "2025-08-16T13:23:20.753Z"
   },
   {
    "duration": 18,
    "start_time": "2025-08-16T13:23:49.564Z"
   },
   {
    "duration": 16,
    "start_time": "2025-08-16T13:26:33.586Z"
   },
   {
    "duration": 5,
    "start_time": "2025-08-16T13:26:35.223Z"
   },
   {
    "duration": 16,
    "start_time": "2025-08-16T13:26:36.452Z"
   },
   {
    "duration": 1670,
    "start_time": "2025-08-19T06:05:28.783Z"
   },
   {
    "duration": 101,
    "start_time": "2025-08-19T06:05:30.460Z"
   },
   {
    "duration": 23,
    "start_time": "2025-08-19T06:05:30.563Z"
   },
   {
    "duration": 156,
    "start_time": "2025-08-19T06:05:30.590Z"
   },
   {
    "duration": 13,
    "start_time": "2025-08-19T06:05:30.748Z"
   },
   {
    "duration": 24,
    "start_time": "2025-08-19T06:05:30.763Z"
   },
   {
    "duration": 151,
    "start_time": "2025-08-19T06:05:30.789Z"
   },
   {
    "duration": 31,
    "start_time": "2025-08-19T06:05:30.943Z"
   },
   {
    "duration": 537,
    "start_time": "2025-08-19T06:05:30.977Z"
   },
   {
    "duration": 15,
    "start_time": "2025-08-19T06:05:31.518Z"
   },
   {
    "duration": 291,
    "start_time": "2025-08-19T06:05:31.535Z"
   },
   {
    "duration": 1840,
    "start_time": "2025-08-19T06:05:31.828Z"
   },
   {
    "duration": 11,
    "start_time": "2025-08-19T06:05:33.670Z"
   },
   {
    "duration": 144,
    "start_time": "2025-08-19T06:05:33.684Z"
   },
   {
    "duration": 150,
    "start_time": "2025-08-19T06:05:33.831Z"
   },
   {
    "duration": 134,
    "start_time": "2025-08-19T06:05:33.982Z"
   },
   {
    "duration": 14,
    "start_time": "2025-08-19T06:05:34.118Z"
   },
   {
    "duration": 27,
    "start_time": "2025-08-19T06:05:34.135Z"
   },
   {
    "duration": 27,
    "start_time": "2025-08-19T06:05:34.165Z"
   },
   {
    "duration": 9,
    "start_time": "2025-08-19T06:13:19.077Z"
   },
   {
    "duration": 10,
    "start_time": "2025-08-19T06:13:26.444Z"
   },
   {
    "duration": 13,
    "start_time": "2025-08-19T06:14:28.394Z"
   },
   {
    "duration": 15,
    "start_time": "2025-08-19T06:15:25.953Z"
   },
   {
    "duration": 114,
    "start_time": "2025-08-19T06:50:13.373Z"
   },
   {
    "duration": 9,
    "start_time": "2025-08-19T06:50:17.493Z"
   },
   {
    "duration": 15,
    "start_time": "2025-08-19T06:50:19.779Z"
   },
   {
    "duration": 11,
    "start_time": "2025-08-19T06:50:41.262Z"
   },
   {
    "duration": 12,
    "start_time": "2025-08-19T06:50:47.208Z"
   },
   {
    "duration": 18,
    "start_time": "2025-08-19T06:51:54.419Z"
   },
   {
    "duration": 17,
    "start_time": "2025-08-19T06:52:10.678Z"
   },
   {
    "duration": 10,
    "start_time": "2025-08-19T06:55:19.953Z"
   },
   {
    "duration": 14,
    "start_time": "2025-08-19T06:55:39.043Z"
   },
   {
    "duration": 35,
    "start_time": "2025-08-19T07:07:01.175Z"
   },
   {
    "duration": 24,
    "start_time": "2025-08-19T07:09:26.313Z"
   },
   {
    "duration": 29,
    "start_time": "2025-08-19T07:09:39.779Z"
   },
   {
    "duration": 305,
    "start_time": "2025-08-19T07:17:50.742Z"
   },
   {
    "duration": 130,
    "start_time": "2025-08-19T07:17:58.437Z"
   },
   {
    "duration": 143,
    "start_time": "2025-08-19T07:18:09.980Z"
   },
   {
    "duration": 16,
    "start_time": "2025-08-19T07:25:12.770Z"
   },
   {
    "duration": 21,
    "start_time": "2025-08-19T07:25:17.789Z"
   },
   {
    "duration": 10,
    "start_time": "2025-08-19T07:26:36.398Z"
   },
   {
    "duration": 12,
    "start_time": "2025-08-19T08:11:48.843Z"
   },
   {
    "duration": 7,
    "start_time": "2025-08-19T08:12:57.664Z"
   },
   {
    "duration": 6,
    "start_time": "2025-08-19T08:13:19.751Z"
   },
   {
    "duration": 17,
    "start_time": "2025-08-19T08:13:26.260Z"
   },
   {
    "duration": 14,
    "start_time": "2025-08-19T08:13:50.689Z"
   },
   {
    "duration": 4,
    "start_time": "2025-08-19T08:14:27.461Z"
   },
   {
    "duration": 6,
    "start_time": "2025-08-19T08:14:51.011Z"
   },
   {
    "duration": 7,
    "start_time": "2025-08-19T08:14:59.195Z"
   },
   {
    "duration": 12,
    "start_time": "2025-08-19T08:15:07.087Z"
   },
   {
    "duration": 6,
    "start_time": "2025-08-19T08:15:36.116Z"
   },
   {
    "duration": 15,
    "start_time": "2025-08-19T08:16:14.246Z"
   },
   {
    "duration": 4,
    "start_time": "2025-08-19T08:17:03.767Z"
   },
   {
    "duration": 103,
    "start_time": "2025-08-19T08:25:00.630Z"
   },
   {
    "duration": 99,
    "start_time": "2025-08-19T08:25:04.951Z"
   },
   {
    "duration": 92,
    "start_time": "2025-08-19T08:25:22.781Z"
   },
   {
    "duration": 97,
    "start_time": "2025-08-19T08:27:07.648Z"
   },
   {
    "duration": 87,
    "start_time": "2025-08-19T08:27:55.026Z"
   },
   {
    "duration": 17,
    "start_time": "2025-08-19T08:28:50.408Z"
   },
   {
    "duration": 116,
    "start_time": "2025-08-19T08:31:26.924Z"
   },
   {
    "duration": 121,
    "start_time": "2025-08-19T08:31:33.557Z"
   },
   {
    "duration": 36,
    "start_time": "2025-08-19T08:31:40.695Z"
   },
   {
    "duration": 29,
    "start_time": "2025-08-19T08:39:50.195Z"
   },
   {
    "duration": 35,
    "start_time": "2025-08-19T08:40:52.634Z"
   },
   {
    "duration": 35,
    "start_time": "2025-08-19T08:41:07.991Z"
   },
   {
    "duration": 1584,
    "start_time": "2025-08-19T12:28:53.534Z"
   },
   {
    "duration": 101,
    "start_time": "2025-08-19T12:28:55.121Z"
   },
   {
    "duration": 21,
    "start_time": "2025-08-19T12:28:55.224Z"
   },
   {
    "duration": 12,
    "start_time": "2025-08-19T12:28:55.247Z"
   },
   {
    "duration": 50,
    "start_time": "2025-08-19T12:28:55.261Z"
   },
   {
    "duration": 9,
    "start_time": "2025-08-19T12:28:55.313Z"
   },
   {
    "duration": 15,
    "start_time": "2025-08-19T12:28:55.324Z"
   },
   {
    "duration": 17,
    "start_time": "2025-08-19T12:28:55.340Z"
   },
   {
    "duration": 479,
    "start_time": "2025-08-19T12:28:55.359Z"
   },
   {
    "duration": 11,
    "start_time": "2025-08-19T12:28:55.848Z"
   },
   {
    "duration": 10,
    "start_time": "2025-08-19T12:28:55.860Z"
   },
   {
    "duration": 9,
    "start_time": "2025-08-19T12:28:55.872Z"
   },
   {
    "duration": 1793,
    "start_time": "2025-08-19T12:28:55.883Z"
   },
   {
    "duration": 9,
    "start_time": "2025-08-19T12:28:57.678Z"
   },
   {
    "duration": 13,
    "start_time": "2025-08-19T12:28:57.688Z"
   },
   {
    "duration": 9,
    "start_time": "2025-08-19T12:28:57.703Z"
   },
   {
    "duration": 147,
    "start_time": "2025-08-19T12:28:57.714Z"
   },
   {
    "duration": 5,
    "start_time": "2025-08-19T12:28:57.863Z"
   },
   {
    "duration": 15,
    "start_time": "2025-08-19T12:28:57.869Z"
   },
   {
    "duration": 13,
    "start_time": "2025-08-19T12:28:57.886Z"
   },
   {
    "duration": 10,
    "start_time": "2025-08-19T12:28:57.901Z"
   },
   {
    "duration": 51,
    "start_time": "2025-08-19T12:28:57.913Z"
   },
   {
    "duration": 4,
    "start_time": "2025-08-19T12:28:57.966Z"
   },
   {
    "duration": 97,
    "start_time": "2025-08-19T12:28:57.972Z"
   },
   {
    "duration": 19,
    "start_time": "2025-08-19T12:53:47.231Z"
   },
   {
    "duration": 134,
    "start_time": "2025-08-19T13:36:41.897Z"
   },
   {
    "duration": 16,
    "start_time": "2025-08-19T13:47:00.037Z"
   },
   {
    "duration": 4,
    "start_time": "2025-08-19T13:48:27.078Z"
   },
   {
    "duration": 20,
    "start_time": "2025-08-19T13:48:38.071Z"
   },
   {
    "duration": 38,
    "start_time": "2025-08-19T13:48:54.733Z"
   },
   {
    "duration": 16,
    "start_time": "2025-08-19T13:52:37.467Z"
   },
   {
    "duration": 27,
    "start_time": "2025-08-19T13:52:43.932Z"
   },
   {
    "duration": 693,
    "start_time": "2025-08-19T13:53:09.573Z"
   },
   {
    "duration": 26,
    "start_time": "2025-08-19T13:53:20.592Z"
   },
   {
    "duration": 1264,
    "start_time": "2025-08-20T07:40:35.916Z"
   },
   {
    "duration": 49,
    "start_time": "2025-08-20T07:40:37.182Z"
   },
   {
    "duration": 14,
    "start_time": "2025-08-20T07:40:37.232Z"
   },
   {
    "duration": 20,
    "start_time": "2025-08-20T07:40:37.248Z"
   },
   {
    "duration": 3,
    "start_time": "2025-08-20T07:40:37.269Z"
   },
   {
    "duration": 12,
    "start_time": "2025-08-20T07:40:37.274Z"
   },
   {
    "duration": 22,
    "start_time": "2025-08-20T07:40:37.287Z"
   },
   {
    "duration": 17,
    "start_time": "2025-08-20T07:40:37.311Z"
   },
   {
    "duration": 411,
    "start_time": "2025-08-20T07:40:37.330Z"
   },
   {
    "duration": 9,
    "start_time": "2025-08-20T07:40:37.743Z"
   },
   {
    "duration": 28,
    "start_time": "2025-08-20T07:40:37.753Z"
   },
   {
    "duration": 9,
    "start_time": "2025-08-20T07:40:37.783Z"
   },
   {
    "duration": 1553,
    "start_time": "2025-08-20T07:40:37.793Z"
   },
   {
    "duration": 8,
    "start_time": "2025-08-20T07:40:39.348Z"
   },
   {
    "duration": 20,
    "start_time": "2025-08-20T07:40:39.357Z"
   },
   {
    "duration": 23,
    "start_time": "2025-08-20T07:40:39.378Z"
   },
   {
    "duration": 122,
    "start_time": "2025-08-20T07:40:39.402Z"
   },
   {
    "duration": 4,
    "start_time": "2025-08-20T07:40:39.526Z"
   },
   {
    "duration": 30,
    "start_time": "2025-08-20T07:40:39.531Z"
   },
   {
    "duration": 9,
    "start_time": "2025-08-20T07:40:39.562Z"
   },
   {
    "duration": 19,
    "start_time": "2025-08-20T07:40:39.572Z"
   },
   {
    "duration": 71,
    "start_time": "2025-08-20T07:40:39.593Z"
   },
   {
    "duration": 35,
    "start_time": "2025-08-20T07:40:39.666Z"
   },
   {
    "duration": 73,
    "start_time": "2025-08-20T07:40:39.702Z"
   },
   {
    "duration": 16,
    "start_time": "2025-08-20T07:40:39.779Z"
   },
   {
    "duration": 22,
    "start_time": "2025-08-20T07:40:39.796Z"
   },
   {
    "duration": 11,
    "start_time": "2025-08-20T07:50:21.554Z"
   },
   {
    "duration": 105,
    "start_time": "2025-08-20T07:50:55.329Z"
   },
   {
    "duration": 21,
    "start_time": "2025-08-20T07:51:18.684Z"
   },
   {
    "duration": 1194,
    "start_time": "2025-08-20T07:52:48.678Z"
   },
   {
    "duration": 48,
    "start_time": "2025-08-20T07:52:49.874Z"
   },
   {
    "duration": 15,
    "start_time": "2025-08-20T07:52:49.923Z"
   },
   {
    "duration": 11,
    "start_time": "2025-08-20T07:52:49.940Z"
   },
   {
    "duration": 6,
    "start_time": "2025-08-20T07:52:49.952Z"
   },
   {
    "duration": 17,
    "start_time": "2025-08-20T07:52:49.960Z"
   },
   {
    "duration": 6,
    "start_time": "2025-08-20T07:52:49.979Z"
   },
   {
    "duration": 16,
    "start_time": "2025-08-20T07:52:49.986Z"
   },
   {
    "duration": 432,
    "start_time": "2025-08-20T07:52:50.004Z"
   },
   {
    "duration": 9,
    "start_time": "2025-08-20T07:52:50.439Z"
   },
   {
    "duration": 28,
    "start_time": "2025-08-20T07:52:50.449Z"
   },
   {
    "duration": 10,
    "start_time": "2025-08-20T07:52:50.479Z"
   },
   {
    "duration": 1494,
    "start_time": "2025-08-20T07:52:50.490Z"
   },
   {
    "duration": 9,
    "start_time": "2025-08-20T07:52:51.986Z"
   },
   {
    "duration": 43,
    "start_time": "2025-08-20T07:52:51.997Z"
   },
   {
    "duration": 104,
    "start_time": "2025-08-20T07:52:52.042Z"
   },
   {
    "duration": 107,
    "start_time": "2025-08-20T07:52:52.148Z"
   },
   {
    "duration": 4,
    "start_time": "2025-08-20T07:52:52.257Z"
   },
   {
    "duration": 20,
    "start_time": "2025-08-20T07:52:52.263Z"
   },
   {
    "duration": 8,
    "start_time": "2025-08-20T07:52:52.284Z"
   },
   {
    "duration": 9,
    "start_time": "2025-08-20T07:52:52.293Z"
   },
   {
    "duration": 19,
    "start_time": "2025-08-20T07:52:52.304Z"
   },
   {
    "duration": 3,
    "start_time": "2025-08-20T07:52:52.324Z"
   },
   {
    "duration": 109,
    "start_time": "2025-08-20T07:52:52.328Z"
   },
   {
    "duration": 24,
    "start_time": "2025-08-20T07:52:52.439Z"
   },
   {
    "duration": 20,
    "start_time": "2025-08-20T07:52:52.465Z"
   },
   {
    "duration": 25,
    "start_time": "2025-08-20T07:53:39.876Z"
   },
   {
    "duration": 106,
    "start_time": "2025-08-20T07:54:23.018Z"
   },
   {
    "duration": 1428,
    "start_time": "2025-08-20T07:54:34.333Z"
   },
   {
    "duration": 12,
    "start_time": "2025-08-20T07:54:53.002Z"
   },
   {
    "duration": 1479,
    "start_time": "2025-08-20T07:55:20.845Z"
   },
   {
    "duration": 1436,
    "start_time": "2025-08-20T07:55:39.444Z"
   },
   {
    "duration": 16,
    "start_time": "2025-08-20T07:55:48.300Z"
   },
   {
    "duration": 25,
    "start_time": "2025-08-20T07:56:00.003Z"
   },
   {
    "duration": 98,
    "start_time": "2025-08-20T07:56:26.499Z"
   },
   {
    "duration": 88,
    "start_time": "2025-08-20T07:56:32.804Z"
   },
   {
    "duration": 154,
    "start_time": "2025-08-20T07:57:00.139Z"
   },
   {
    "duration": 89,
    "start_time": "2025-08-20T07:57:08.230Z"
   },
   {
    "duration": 18,
    "start_time": "2025-08-20T07:57:14.070Z"
   },
   {
    "duration": 20,
    "start_time": "2025-08-20T07:58:36.836Z"
   },
   {
    "duration": 91,
    "start_time": "2025-08-20T07:59:31.840Z"
   },
   {
    "duration": 93,
    "start_time": "2025-08-20T07:59:39.045Z"
   },
   {
    "duration": 8,
    "start_time": "2025-08-20T08:01:14.772Z"
   },
   {
    "duration": 18,
    "start_time": "2025-08-20T08:02:49.582Z"
   },
   {
    "duration": 14,
    "start_time": "2025-08-20T08:03:46.512Z"
   },
   {
    "duration": 43,
    "start_time": "2025-08-20T08:04:18.561Z"
   },
   {
    "duration": 14,
    "start_time": "2025-08-20T08:04:38.257Z"
   },
   {
    "duration": 25,
    "start_time": "2025-08-20T08:04:46.532Z"
   },
   {
    "duration": 1580,
    "start_time": "2025-08-20T08:07:48.611Z"
   },
   {
    "duration": 1619,
    "start_time": "2025-08-20T08:08:09.769Z"
   },
   {
    "duration": 18,
    "start_time": "2025-08-20T08:08:24.830Z"
   },
   {
    "duration": 19,
    "start_time": "2025-08-20T08:08:32.557Z"
   },
   {
    "duration": 18,
    "start_time": "2025-08-20T08:09:13.580Z"
   },
   {
    "duration": 17,
    "start_time": "2025-08-20T08:09:20.394Z"
   },
   {
    "duration": 20,
    "start_time": "2025-08-20T08:09:36.375Z"
   },
   {
    "duration": 42,
    "start_time": "2025-08-20T08:10:37.239Z"
   },
   {
    "duration": 19,
    "start_time": "2025-08-20T08:11:38.680Z"
   },
   {
    "duration": 19,
    "start_time": "2025-08-20T08:12:56.448Z"
   },
   {
    "duration": 45,
    "start_time": "2025-08-20T08:13:06.397Z"
   },
   {
    "duration": 18,
    "start_time": "2025-08-20T08:24:03.240Z"
   },
   {
    "duration": 45,
    "start_time": "2025-08-20T08:28:16.020Z"
   },
   {
    "duration": 1127,
    "start_time": "2025-08-20T10:23:08.434Z"
   },
   {
    "duration": 52,
    "start_time": "2025-08-20T10:23:09.563Z"
   },
   {
    "duration": 15,
    "start_time": "2025-08-20T10:23:09.617Z"
   },
   {
    "duration": 13,
    "start_time": "2025-08-20T10:23:09.634Z"
   },
   {
    "duration": 10,
    "start_time": "2025-08-20T10:23:09.648Z"
   },
   {
    "duration": 15,
    "start_time": "2025-08-20T10:23:09.660Z"
   },
   {
    "duration": 11,
    "start_time": "2025-08-20T10:23:09.677Z"
   },
   {
    "duration": 27,
    "start_time": "2025-08-20T10:23:09.690Z"
   },
   {
    "duration": 444,
    "start_time": "2025-08-20T10:23:09.719Z"
   },
   {
    "duration": 25,
    "start_time": "2025-08-20T10:23:10.165Z"
   },
   {
    "duration": 10,
    "start_time": "2025-08-20T10:23:10.192Z"
   },
   {
    "duration": 27,
    "start_time": "2025-08-20T10:23:10.204Z"
   },
   {
    "duration": 1668,
    "start_time": "2025-08-20T10:23:10.233Z"
   },
   {
    "duration": 13,
    "start_time": "2025-08-20T10:23:11.903Z"
   },
   {
    "duration": 31,
    "start_time": "2025-08-20T10:23:11.917Z"
   },
   {
    "duration": 8,
    "start_time": "2025-08-20T10:23:11.950Z"
   },
   {
    "duration": 170,
    "start_time": "2025-08-20T10:23:11.960Z"
   },
   {
    "duration": 6,
    "start_time": "2025-08-20T10:23:12.132Z"
   },
   {
    "duration": 23,
    "start_time": "2025-08-20T10:23:12.139Z"
   },
   {
    "duration": 42,
    "start_time": "2025-08-20T10:23:12.164Z"
   },
   {
    "duration": 18,
    "start_time": "2025-08-20T10:23:12.208Z"
   },
   {
    "duration": 18,
    "start_time": "2025-08-20T10:23:12.228Z"
   },
   {
    "duration": 15,
    "start_time": "2025-08-20T10:23:12.248Z"
   },
   {
    "duration": 111,
    "start_time": "2025-08-20T10:23:12.265Z"
   },
   {
    "duration": 20,
    "start_time": "2025-08-20T10:23:12.378Z"
   },
   {
    "duration": 28,
    "start_time": "2025-08-20T10:23:12.400Z"
   },
   {
    "duration": 77,
    "start_time": "2025-08-20T10:23:12.430Z"
   },
   {
    "duration": 18,
    "start_time": "2025-08-20T10:26:36.826Z"
   },
   {
    "duration": 96,
    "start_time": "2025-08-20T10:27:05.895Z"
   },
   {
    "duration": 117,
    "start_time": "2025-08-20T10:30:25.860Z"
   },
   {
    "duration": 9,
    "start_time": "2025-08-20T10:31:57.075Z"
   },
   {
    "duration": 31,
    "start_time": "2025-08-20T10:32:08.207Z"
   },
   {
    "duration": 565,
    "start_time": "2025-08-20T10:35:06.337Z"
   },
   {
    "duration": 585,
    "start_time": "2025-08-20T10:35:23.433Z"
   },
   {
    "duration": 604,
    "start_time": "2025-08-20T10:35:49.582Z"
   },
   {
    "duration": 27,
    "start_time": "2025-08-20T10:36:28.560Z"
   },
   {
    "duration": 1195,
    "start_time": "2025-08-20T10:36:38.998Z"
   },
   {
    "duration": 47,
    "start_time": "2025-08-20T10:36:40.195Z"
   },
   {
    "duration": 15,
    "start_time": "2025-08-20T10:36:40.244Z"
   },
   {
    "duration": 18,
    "start_time": "2025-08-20T10:36:40.261Z"
   },
   {
    "duration": 17,
    "start_time": "2025-08-20T10:36:40.281Z"
   },
   {
    "duration": 16,
    "start_time": "2025-08-20T10:36:40.299Z"
   },
   {
    "duration": 10,
    "start_time": "2025-08-20T10:36:40.316Z"
   },
   {
    "duration": 23,
    "start_time": "2025-08-20T10:36:40.327Z"
   },
   {
    "duration": 446,
    "start_time": "2025-08-20T10:36:40.352Z"
   },
   {
    "duration": 10,
    "start_time": "2025-08-20T10:36:40.801Z"
   },
   {
    "duration": 12,
    "start_time": "2025-08-20T10:36:40.812Z"
   },
   {
    "duration": 10,
    "start_time": "2025-08-20T10:36:40.826Z"
   },
   {
    "duration": 1526,
    "start_time": "2025-08-20T10:36:40.837Z"
   },
   {
    "duration": 13,
    "start_time": "2025-08-20T10:36:42.364Z"
   },
   {
    "duration": 15,
    "start_time": "2025-08-20T10:36:42.379Z"
   },
   {
    "duration": 9,
    "start_time": "2025-08-20T10:36:42.396Z"
   },
   {
    "duration": 138,
    "start_time": "2025-08-20T10:36:42.406Z"
   },
   {
    "duration": 5,
    "start_time": "2025-08-20T10:36:42.546Z"
   },
   {
    "duration": 96,
    "start_time": "2025-08-20T10:36:42.553Z"
   },
   {
    "duration": 19,
    "start_time": "2025-08-20T10:36:42.651Z"
   },
   {
    "duration": 18,
    "start_time": "2025-08-20T10:36:42.672Z"
   },
   {
    "duration": 17,
    "start_time": "2025-08-20T10:36:42.692Z"
   },
   {
    "duration": 3,
    "start_time": "2025-08-20T10:36:42.711Z"
   },
   {
    "duration": 95,
    "start_time": "2025-08-20T10:36:42.716Z"
   },
   {
    "duration": 18,
    "start_time": "2025-08-20T10:36:42.813Z"
   },
   {
    "duration": 18,
    "start_time": "2025-08-20T10:36:42.833Z"
   },
   {
    "duration": 64,
    "start_time": "2025-08-20T10:36:42.853Z"
   },
   {
    "duration": 113,
    "start_time": "2025-08-20T10:36:42.920Z"
   },
   {
    "duration": 19,
    "start_time": "2025-08-20T10:37:03.429Z"
   },
   {
    "duration": 31,
    "start_time": "2025-08-20T10:37:17.860Z"
   },
   {
    "duration": 194,
    "start_time": "2025-08-20T10:40:40.730Z"
   },
   {
    "duration": 175,
    "start_time": "2025-08-20T10:40:47.032Z"
   },
   {
    "duration": 17,
    "start_time": "2025-08-20T10:43:35.816Z"
   },
   {
    "duration": 12,
    "start_time": "2025-08-20T10:43:59.969Z"
   },
   {
    "duration": 29,
    "start_time": "2025-08-20T10:44:54.827Z"
   },
   {
    "duration": 24,
    "start_time": "2025-08-20T10:45:11.815Z"
   },
   {
    "duration": 70,
    "start_time": "2025-08-20T10:46:18.459Z"
   },
   {
    "duration": 50,
    "start_time": "2025-08-20T10:46:37.281Z"
   },
   {
    "duration": 40,
    "start_time": "2025-08-20T10:46:48.237Z"
   },
   {
    "duration": 55,
    "start_time": "2025-08-20T10:47:19.956Z"
   },
   {
    "duration": 181,
    "start_time": "2025-08-20T10:48:35.893Z"
   },
   {
    "duration": 188,
    "start_time": "2025-08-20T10:49:00.523Z"
   },
   {
    "duration": 178,
    "start_time": "2025-08-20T10:49:13.483Z"
   },
   {
    "duration": 178,
    "start_time": "2025-08-20T10:49:37.552Z"
   },
   {
    "duration": 1129,
    "start_time": "2025-08-20T10:50:08.269Z"
   },
   {
    "duration": 51,
    "start_time": "2025-08-20T10:50:09.400Z"
   },
   {
    "duration": 13,
    "start_time": "2025-08-20T10:50:09.452Z"
   },
   {
    "duration": 89,
    "start_time": "2025-08-20T10:50:09.467Z"
   },
   {
    "duration": 28,
    "start_time": "2025-08-20T10:50:09.558Z"
   },
   {
    "duration": 11,
    "start_time": "2025-08-20T10:50:09.587Z"
   },
   {
    "duration": 6,
    "start_time": "2025-08-20T10:50:09.599Z"
   },
   {
    "duration": 22,
    "start_time": "2025-08-20T10:50:09.607Z"
   },
   {
    "duration": 381,
    "start_time": "2025-08-20T10:50:09.630Z"
   },
   {
    "duration": 8,
    "start_time": "2025-08-20T10:50:10.013Z"
   },
   {
    "duration": 31,
    "start_time": "2025-08-20T10:50:10.023Z"
   },
   {
    "duration": 36,
    "start_time": "2025-08-20T10:50:10.055Z"
   },
   {
    "duration": 1411,
    "start_time": "2025-08-20T10:50:10.092Z"
   },
   {
    "duration": 7,
    "start_time": "2025-08-20T10:50:11.505Z"
   },
   {
    "duration": 47,
    "start_time": "2025-08-20T10:50:11.514Z"
   },
   {
    "duration": 12,
    "start_time": "2025-08-20T10:50:11.562Z"
   },
   {
    "duration": 108,
    "start_time": "2025-08-20T10:50:11.576Z"
   },
   {
    "duration": 5,
    "start_time": "2025-08-20T10:50:11.686Z"
   },
   {
    "duration": 18,
    "start_time": "2025-08-20T10:50:11.692Z"
   },
   {
    "duration": 12,
    "start_time": "2025-08-20T10:50:11.711Z"
   },
   {
    "duration": 7,
    "start_time": "2025-08-20T10:50:11.725Z"
   },
   {
    "duration": 17,
    "start_time": "2025-08-20T10:50:11.734Z"
   },
   {
    "duration": 3,
    "start_time": "2025-08-20T10:50:11.753Z"
   },
   {
    "duration": 108,
    "start_time": "2025-08-20T10:50:11.757Z"
   },
   {
    "duration": 17,
    "start_time": "2025-08-20T10:50:11.867Z"
   },
   {
    "duration": 17,
    "start_time": "2025-08-20T10:50:11.885Z"
   },
   {
    "duration": 43,
    "start_time": "2025-08-20T10:50:11.904Z"
   },
   {
    "duration": 214,
    "start_time": "2025-08-20T10:50:11.948Z"
   },
   {
    "duration": 33,
    "start_time": "2025-08-20T10:50:12.164Z"
   },
   {
    "duration": 186,
    "start_time": "2025-08-20T10:50:26.095Z"
   },
   {
    "duration": 112,
    "start_time": "2025-08-20T11:36:18.372Z"
   },
   {
    "duration": 56,
    "start_time": "2025-08-20T11:38:05.045Z"
   },
   {
    "duration": 34,
    "start_time": "2025-08-20T11:38:27.690Z"
   },
   {
    "duration": 1241,
    "start_time": "2025-08-20T11:38:40.068Z"
   },
   {
    "duration": 46,
    "start_time": "2025-08-20T11:38:41.312Z"
   },
   {
    "duration": 15,
    "start_time": "2025-08-20T11:38:41.360Z"
   },
   {
    "duration": 18,
    "start_time": "2025-08-20T11:38:41.381Z"
   },
   {
    "duration": 4,
    "start_time": "2025-08-20T11:38:41.402Z"
   },
   {
    "duration": 9,
    "start_time": "2025-08-20T11:38:41.407Z"
   },
   {
    "duration": 4,
    "start_time": "2025-08-20T11:38:41.417Z"
   },
   {
    "duration": 12,
    "start_time": "2025-08-20T11:38:41.422Z"
   },
   {
    "duration": 429,
    "start_time": "2025-08-20T11:38:41.436Z"
   },
   {
    "duration": 27,
    "start_time": "2025-08-20T11:38:41.868Z"
   },
   {
    "duration": 8,
    "start_time": "2025-08-20T11:38:41.896Z"
   },
   {
    "duration": 12,
    "start_time": "2025-08-20T11:38:41.905Z"
   },
   {
    "duration": 1475,
    "start_time": "2025-08-20T11:38:41.918Z"
   },
   {
    "duration": 8,
    "start_time": "2025-08-20T11:38:43.395Z"
   },
   {
    "duration": 15,
    "start_time": "2025-08-20T11:38:43.405Z"
   },
   {
    "duration": 12,
    "start_time": "2025-08-20T11:38:43.422Z"
   },
   {
    "duration": 135,
    "start_time": "2025-08-20T11:38:43.436Z"
   },
   {
    "duration": 16,
    "start_time": "2025-08-20T11:38:43.572Z"
   },
   {
    "duration": 15,
    "start_time": "2025-08-20T11:38:43.591Z"
   },
   {
    "duration": 83,
    "start_time": "2025-08-20T11:38:43.608Z"
   },
   {
    "duration": 11,
    "start_time": "2025-08-20T11:38:43.693Z"
   },
   {
    "duration": 17,
    "start_time": "2025-08-20T11:38:43.705Z"
   },
   {
    "duration": 3,
    "start_time": "2025-08-20T11:38:43.724Z"
   },
   {
    "duration": 109,
    "start_time": "2025-08-20T11:38:43.728Z"
   },
   {
    "duration": 17,
    "start_time": "2025-08-20T11:38:43.839Z"
   },
   {
    "duration": 39,
    "start_time": "2025-08-20T11:38:43.857Z"
   },
   {
    "duration": 54,
    "start_time": "2025-08-20T11:38:43.898Z"
   },
   {
    "duration": 198,
    "start_time": "2025-08-20T11:38:43.956Z"
   },
   {
    "duration": 36,
    "start_time": "2025-08-20T11:38:44.155Z"
   },
   {
    "duration": 12,
    "start_time": "2025-08-20T11:39:21.244Z"
   },
   {
    "duration": 23,
    "start_time": "2025-08-20T12:23:36.535Z"
   },
   {
    "duration": 18,
    "start_time": "2025-08-20T12:24:05.460Z"
   },
   {
    "duration": 41,
    "start_time": "2025-08-20T12:27:12.294Z"
   },
   {
    "duration": 38,
    "start_time": "2025-08-20T12:33:10.073Z"
   },
   {
    "duration": 28,
    "start_time": "2025-08-20T12:33:28.949Z"
   },
   {
    "duration": 1207,
    "start_time": "2025-08-20T12:33:35.753Z"
   },
   {
    "duration": 53,
    "start_time": "2025-08-20T12:33:36.961Z"
   },
   {
    "duration": 49,
    "start_time": "2025-08-20T12:33:37.015Z"
   },
   {
    "duration": 18,
    "start_time": "2025-08-20T12:33:37.066Z"
   },
   {
    "duration": 7,
    "start_time": "2025-08-20T12:33:37.086Z"
   },
   {
    "duration": 14,
    "start_time": "2025-08-20T12:33:37.094Z"
   },
   {
    "duration": 10,
    "start_time": "2025-08-20T12:33:37.110Z"
   },
   {
    "duration": 32,
    "start_time": "2025-08-20T12:33:37.122Z"
   },
   {
    "duration": 448,
    "start_time": "2025-08-20T12:33:37.155Z"
   },
   {
    "duration": 8,
    "start_time": "2025-08-20T12:33:37.606Z"
   },
   {
    "duration": 8,
    "start_time": "2025-08-20T12:33:37.616Z"
   },
   {
    "duration": 17,
    "start_time": "2025-08-20T12:33:37.626Z"
   },
   {
    "duration": 1550,
    "start_time": "2025-08-20T12:33:37.645Z"
   },
   {
    "duration": 8,
    "start_time": "2025-08-20T12:33:39.197Z"
   },
   {
    "duration": 17,
    "start_time": "2025-08-20T12:33:39.207Z"
   },
   {
    "duration": 21,
    "start_time": "2025-08-20T12:33:39.226Z"
   },
   {
    "duration": 143,
    "start_time": "2025-08-20T12:33:39.248Z"
   },
   {
    "duration": 5,
    "start_time": "2025-08-20T12:33:39.393Z"
   },
   {
    "duration": 31,
    "start_time": "2025-08-20T12:33:39.399Z"
   },
   {
    "duration": 11,
    "start_time": "2025-08-20T12:33:39.432Z"
   },
   {
    "duration": 31,
    "start_time": "2025-08-20T12:33:39.444Z"
   },
   {
    "duration": 28,
    "start_time": "2025-08-20T12:33:39.477Z"
   },
   {
    "duration": 3,
    "start_time": "2025-08-20T12:33:39.507Z"
   },
   {
    "duration": 79,
    "start_time": "2025-08-20T12:33:39.511Z"
   },
   {
    "duration": 36,
    "start_time": "2025-08-20T12:33:39.592Z"
   },
   {
    "duration": 19,
    "start_time": "2025-08-20T12:33:39.629Z"
   },
   {
    "duration": 59,
    "start_time": "2025-08-20T12:33:39.649Z"
   },
   {
    "duration": 38,
    "start_time": "2025-08-20T12:33:39.712Z"
   },
   {
    "duration": 31,
    "start_time": "2025-08-20T12:33:39.751Z"
   },
   {
    "duration": 52,
    "start_time": "2025-08-20T12:36:17.133Z"
   },
   {
    "duration": 18,
    "start_time": "2025-08-20T12:36:41.539Z"
   },
   {
    "duration": 60,
    "start_time": "2025-08-20T12:37:03.789Z"
   },
   {
    "duration": 1170,
    "start_time": "2025-08-20T12:37:19.965Z"
   },
   {
    "duration": 78,
    "start_time": "2025-08-20T12:37:21.137Z"
   },
   {
    "duration": 14,
    "start_time": "2025-08-20T12:37:21.217Z"
   },
   {
    "duration": 38,
    "start_time": "2025-08-20T12:37:21.233Z"
   },
   {
    "duration": 15,
    "start_time": "2025-08-20T12:37:21.272Z"
   },
   {
    "duration": 23,
    "start_time": "2025-08-20T12:37:21.289Z"
   },
   {
    "duration": 24,
    "start_time": "2025-08-20T12:37:21.314Z"
   },
   {
    "duration": 45,
    "start_time": "2025-08-20T12:37:21.340Z"
   },
   {
    "duration": 451,
    "start_time": "2025-08-20T12:37:21.387Z"
   },
   {
    "duration": 9,
    "start_time": "2025-08-20T12:37:21.841Z"
   },
   {
    "duration": 32,
    "start_time": "2025-08-20T12:37:21.851Z"
   },
   {
    "duration": 28,
    "start_time": "2025-08-20T12:37:21.885Z"
   },
   {
    "duration": 1562,
    "start_time": "2025-08-20T12:37:21.915Z"
   },
   {
    "duration": 14,
    "start_time": "2025-08-20T12:37:23.480Z"
   },
   {
    "duration": 14,
    "start_time": "2025-08-20T12:37:23.496Z"
   },
   {
    "duration": 10,
    "start_time": "2025-08-20T12:37:23.512Z"
   },
   {
    "duration": 134,
    "start_time": "2025-08-20T12:37:23.524Z"
   },
   {
    "duration": 5,
    "start_time": "2025-08-20T12:37:23.660Z"
   },
   {
    "duration": 34,
    "start_time": "2025-08-20T12:37:23.680Z"
   },
   {
    "duration": 10,
    "start_time": "2025-08-20T12:37:23.715Z"
   },
   {
    "duration": 25,
    "start_time": "2025-08-20T12:37:23.726Z"
   },
   {
    "duration": 31,
    "start_time": "2025-08-20T12:37:23.753Z"
   },
   {
    "duration": 18,
    "start_time": "2025-08-20T12:37:23.785Z"
   },
   {
    "duration": 80,
    "start_time": "2025-08-20T12:37:23.805Z"
   },
   {
    "duration": 109,
    "start_time": "2025-08-20T12:37:23.887Z"
   },
   {
    "duration": 0,
    "start_time": "2025-08-20T12:37:23.998Z"
   },
   {
    "duration": 0,
    "start_time": "2025-08-20T12:37:23.999Z"
   },
   {
    "duration": 0,
    "start_time": "2025-08-20T12:37:24.000Z"
   },
   {
    "duration": 0,
    "start_time": "2025-08-20T12:37:24.001Z"
   },
   {
    "duration": 18,
    "start_time": "2025-08-20T12:37:56.385Z"
   },
   {
    "duration": 36,
    "start_time": "2025-08-20T12:38:04.201Z"
   },
   {
    "duration": 29,
    "start_time": "2025-08-20T12:39:42.028Z"
   },
   {
    "duration": 19,
    "start_time": "2025-08-20T12:39:46.604Z"
   },
   {
    "duration": 23,
    "start_time": "2025-08-20T12:40:28.864Z"
   },
   {
    "duration": 21,
    "start_time": "2025-08-20T12:40:54.767Z"
   },
   {
    "duration": 44,
    "start_time": "2025-08-20T12:41:08.730Z"
   },
   {
    "duration": 301,
    "start_time": "2025-08-20T12:41:15.539Z"
   },
   {
    "duration": 17,
    "start_time": "2025-08-20T12:42:40.153Z"
   },
   {
    "duration": 19,
    "start_time": "2025-08-20T12:42:44.021Z"
   },
   {
    "duration": 41,
    "start_time": "2025-08-20T12:42:47.273Z"
   },
   {
    "duration": 18,
    "start_time": "2025-08-20T12:42:52.711Z"
   },
   {
    "duration": 70,
    "start_time": "2025-08-20T12:44:21.002Z"
   },
   {
    "duration": 18,
    "start_time": "2025-08-20T12:44:30.931Z"
   },
   {
    "duration": 20,
    "start_time": "2025-08-20T12:44:55.861Z"
   },
   {
    "duration": 21,
    "start_time": "2025-08-20T12:45:07.001Z"
   },
   {
    "duration": 20,
    "start_time": "2025-08-20T12:45:36.126Z"
   },
   {
    "duration": 19,
    "start_time": "2025-08-20T12:45:52.285Z"
   },
   {
    "duration": 1441,
    "start_time": "2025-08-20T12:49:46.001Z"
   },
   {
    "duration": 1573,
    "start_time": "2025-08-20T12:50:10.953Z"
   },
   {
    "duration": 1160,
    "start_time": "2025-08-20T12:50:28.042Z"
   },
   {
    "duration": 44,
    "start_time": "2025-08-20T12:50:29.205Z"
   },
   {
    "duration": 13,
    "start_time": "2025-08-20T12:50:29.251Z"
   },
   {
    "duration": 20,
    "start_time": "2025-08-20T12:50:29.266Z"
   },
   {
    "duration": 28,
    "start_time": "2025-08-20T12:50:29.287Z"
   },
   {
    "duration": 21,
    "start_time": "2025-08-20T12:50:29.316Z"
   },
   {
    "duration": 7,
    "start_time": "2025-08-20T12:50:29.338Z"
   },
   {
    "duration": 35,
    "start_time": "2025-08-20T12:50:29.347Z"
   },
   {
    "duration": 382,
    "start_time": "2025-08-20T12:50:29.384Z"
   },
   {
    "duration": 15,
    "start_time": "2025-08-20T12:50:29.768Z"
   },
   {
    "duration": 20,
    "start_time": "2025-08-20T12:50:29.785Z"
   },
   {
    "duration": 9,
    "start_time": "2025-08-20T12:50:29.806Z"
   },
   {
    "duration": 1592,
    "start_time": "2025-08-20T12:50:29.818Z"
   },
   {
    "duration": 9,
    "start_time": "2025-08-20T12:50:31.411Z"
   },
   {
    "duration": 46,
    "start_time": "2025-08-20T12:50:31.421Z"
   },
   {
    "duration": 22,
    "start_time": "2025-08-20T12:50:31.469Z"
   },
   {
    "duration": 114,
    "start_time": "2025-08-20T12:50:31.493Z"
   },
   {
    "duration": 4,
    "start_time": "2025-08-20T12:50:31.609Z"
   },
   {
    "duration": 13,
    "start_time": "2025-08-20T12:50:31.614Z"
   },
   {
    "duration": 39,
    "start_time": "2025-08-20T12:50:31.628Z"
   },
   {
    "duration": 8,
    "start_time": "2025-08-20T12:50:31.669Z"
   },
   {
    "duration": 27,
    "start_time": "2025-08-20T12:50:31.678Z"
   },
   {
    "duration": 46,
    "start_time": "2025-08-20T12:50:31.706Z"
   },
   {
    "duration": 106,
    "start_time": "2025-08-20T12:50:31.754Z"
   },
   {
    "duration": 32,
    "start_time": "2025-08-20T12:50:31.862Z"
   },
   {
    "duration": 89,
    "start_time": "2025-08-20T12:50:31.895Z"
   },
   {
    "duration": 138,
    "start_time": "2025-08-20T12:50:31.986Z"
   },
   {
    "duration": 16,
    "start_time": "2025-08-20T12:50:32.125Z"
   },
   {
    "duration": 79,
    "start_time": "2025-08-20T12:50:32.143Z"
   },
   {
    "duration": 9,
    "start_time": "2025-08-20T12:50:32.224Z"
   },
   {
    "duration": 1787,
    "start_time": "2025-08-20T12:55:14.027Z"
   },
   {
    "duration": 1147,
    "start_time": "2025-08-20T12:55:34.322Z"
   },
   {
    "duration": 50,
    "start_time": "2025-08-20T12:55:35.471Z"
   },
   {
    "duration": 14,
    "start_time": "2025-08-20T12:55:35.522Z"
   },
   {
    "duration": 52,
    "start_time": "2025-08-20T12:55:35.537Z"
   },
   {
    "duration": 18,
    "start_time": "2025-08-20T12:55:35.591Z"
   },
   {
    "duration": 28,
    "start_time": "2025-08-20T12:55:35.610Z"
   },
   {
    "duration": 44,
    "start_time": "2025-08-20T12:55:35.639Z"
   },
   {
    "duration": 34,
    "start_time": "2025-08-20T12:55:35.685Z"
   },
   {
    "duration": 429,
    "start_time": "2025-08-20T12:55:35.721Z"
   },
   {
    "duration": 24,
    "start_time": "2025-08-20T12:55:36.153Z"
   },
   {
    "duration": 12,
    "start_time": "2025-08-20T12:55:36.179Z"
   },
   {
    "duration": 68,
    "start_time": "2025-08-20T12:55:36.193Z"
   },
   {
    "duration": 1432,
    "start_time": "2025-08-20T12:55:36.263Z"
   },
   {
    "duration": 9,
    "start_time": "2025-08-20T12:55:37.697Z"
   },
   {
    "duration": 19,
    "start_time": "2025-08-20T12:55:37.707Z"
   },
   {
    "duration": 18,
    "start_time": "2025-08-20T12:55:37.728Z"
   },
   {
    "duration": 132,
    "start_time": "2025-08-20T12:55:37.748Z"
   },
   {
    "duration": 5,
    "start_time": "2025-08-20T12:55:37.882Z"
   },
   {
    "duration": 78,
    "start_time": "2025-08-20T12:55:37.888Z"
   },
   {
    "duration": 30,
    "start_time": "2025-08-20T12:55:37.968Z"
   },
   {
    "duration": 120,
    "start_time": "2025-08-20T12:55:38.000Z"
   },
   {
    "duration": 36,
    "start_time": "2025-08-20T12:55:38.122Z"
   },
   {
    "duration": 4,
    "start_time": "2025-08-20T12:55:38.160Z"
   },
   {
    "duration": 78,
    "start_time": "2025-08-20T12:55:38.165Z"
   },
   {
    "duration": 18,
    "start_time": "2025-08-20T12:55:38.244Z"
   },
   {
    "duration": 29,
    "start_time": "2025-08-20T12:55:38.264Z"
   },
   {
    "duration": 76,
    "start_time": "2025-08-20T12:55:38.294Z"
   },
   {
    "duration": 24,
    "start_time": "2025-08-20T12:55:38.372Z"
   },
   {
    "duration": 40,
    "start_time": "2025-08-20T12:55:38.397Z"
   },
   {
    "duration": 41,
    "start_time": "2025-08-20T12:55:38.438Z"
   },
   {
    "duration": 12,
    "start_time": "2025-08-20T12:55:38.480Z"
   },
   {
    "duration": 29,
    "start_time": "2025-08-20T12:56:52.139Z"
   },
   {
    "duration": 15,
    "start_time": "2025-08-20T12:57:12.740Z"
   },
   {
    "duration": 10,
    "start_time": "2025-08-20T12:57:23.789Z"
   },
   {
    "duration": 16,
    "start_time": "2025-08-20T12:58:43.703Z"
   },
   {
    "duration": 8,
    "start_time": "2025-08-20T12:58:47.930Z"
   },
   {
    "duration": 15,
    "start_time": "2025-08-20T13:00:52.192Z"
   },
   {
    "duration": 1125,
    "start_time": "2025-08-20T13:01:14.506Z"
   },
   {
    "duration": 75,
    "start_time": "2025-08-20T13:01:15.633Z"
   },
   {
    "duration": 16,
    "start_time": "2025-08-20T13:01:15.710Z"
   },
   {
    "duration": 27,
    "start_time": "2025-08-20T13:01:15.728Z"
   },
   {
    "duration": 31,
    "start_time": "2025-08-20T13:01:15.757Z"
   },
   {
    "duration": 30,
    "start_time": "2025-08-20T13:01:15.790Z"
   },
   {
    "duration": 15,
    "start_time": "2025-08-20T13:01:15.822Z"
   },
   {
    "duration": 53,
    "start_time": "2025-08-20T13:01:15.839Z"
   },
   {
    "duration": 400,
    "start_time": "2025-08-20T13:01:15.894Z"
   },
   {
    "duration": 9,
    "start_time": "2025-08-20T13:01:16.296Z"
   },
   {
    "duration": 12,
    "start_time": "2025-08-20T13:01:16.306Z"
   },
   {
    "duration": 16,
    "start_time": "2025-08-20T13:01:16.320Z"
   },
   {
    "duration": 1529,
    "start_time": "2025-08-20T13:01:16.337Z"
   },
   {
    "duration": 13,
    "start_time": "2025-08-20T13:01:17.867Z"
   },
   {
    "duration": 26,
    "start_time": "2025-08-20T13:01:17.881Z"
   },
   {
    "duration": 99,
    "start_time": "2025-08-20T13:01:17.909Z"
   },
   {
    "duration": 103,
    "start_time": "2025-08-20T13:01:18.010Z"
   },
   {
    "duration": 6,
    "start_time": "2025-08-20T13:01:18.115Z"
   },
   {
    "duration": 64,
    "start_time": "2025-08-20T13:01:18.122Z"
   },
   {
    "duration": 12,
    "start_time": "2025-08-20T13:01:18.188Z"
   },
   {
    "duration": 20,
    "start_time": "2025-08-20T13:01:18.202Z"
   },
   {
    "duration": 17,
    "start_time": "2025-08-20T13:01:18.224Z"
   },
   {
    "duration": 3,
    "start_time": "2025-08-20T13:01:18.243Z"
   },
   {
    "duration": 89,
    "start_time": "2025-08-20T13:01:18.247Z"
   },
   {
    "duration": 47,
    "start_time": "2025-08-20T13:01:18.338Z"
   },
   {
    "duration": 24,
    "start_time": "2025-08-20T13:01:18.386Z"
   },
   {
    "duration": 79,
    "start_time": "2025-08-20T13:01:18.412Z"
   },
   {
    "duration": 18,
    "start_time": "2025-08-20T13:01:18.494Z"
   },
   {
    "duration": 74,
    "start_time": "2025-08-20T13:01:18.514Z"
   },
   {
    "duration": 40,
    "start_time": "2025-08-20T13:01:18.590Z"
   },
   {
    "duration": 20,
    "start_time": "2025-08-20T13:01:18.632Z"
   },
   {
    "duration": 14,
    "start_time": "2025-08-20T13:05:21.484Z"
   },
   {
    "duration": 15,
    "start_time": "2025-08-20T13:05:35.168Z"
   },
   {
    "duration": 485,
    "start_time": "2025-08-20T13:06:22.024Z"
   },
   {
    "duration": 343,
    "start_time": "2025-08-20T13:06:42.121Z"
   },
   {
    "duration": 116,
    "start_time": "2025-08-20T13:07:30.774Z"
   },
   {
    "duration": 96,
    "start_time": "2025-08-20T13:07:48.463Z"
   },
   {
    "duration": 92,
    "start_time": "2025-08-20T13:07:54.235Z"
   },
   {
    "duration": 1156,
    "start_time": "2025-08-20T13:08:51.770Z"
   },
   {
    "duration": 49,
    "start_time": "2025-08-20T13:08:52.928Z"
   },
   {
    "duration": 75,
    "start_time": "2025-08-20T13:08:52.978Z"
   },
   {
    "duration": 101,
    "start_time": "2025-08-20T13:08:53.055Z"
   },
   {
    "duration": 37,
    "start_time": "2025-08-20T13:08:53.157Z"
   },
   {
    "duration": 41,
    "start_time": "2025-08-20T13:08:53.196Z"
   },
   {
    "duration": 45,
    "start_time": "2025-08-20T13:08:53.239Z"
   },
   {
    "duration": 50,
    "start_time": "2025-08-20T13:08:53.286Z"
   },
   {
    "duration": 432,
    "start_time": "2025-08-20T13:08:53.338Z"
   },
   {
    "duration": 8,
    "start_time": "2025-08-20T13:08:53.776Z"
   },
   {
    "duration": 26,
    "start_time": "2025-08-20T13:08:53.786Z"
   },
   {
    "duration": 17,
    "start_time": "2025-08-20T13:08:53.813Z"
   },
   {
    "duration": 1586,
    "start_time": "2025-08-20T13:08:53.831Z"
   },
   {
    "duration": 9,
    "start_time": "2025-08-20T13:08:55.418Z"
   },
   {
    "duration": 36,
    "start_time": "2025-08-20T13:08:55.428Z"
   },
   {
    "duration": 11,
    "start_time": "2025-08-20T13:08:55.466Z"
   },
   {
    "duration": 111,
    "start_time": "2025-08-20T13:08:55.479Z"
   },
   {
    "duration": 5,
    "start_time": "2025-08-20T13:08:55.592Z"
   },
   {
    "duration": 25,
    "start_time": "2025-08-20T13:08:55.598Z"
   },
   {
    "duration": 23,
    "start_time": "2025-08-20T13:08:55.624Z"
   },
   {
    "duration": 20,
    "start_time": "2025-08-20T13:08:55.649Z"
   },
   {
    "duration": 28,
    "start_time": "2025-08-20T13:08:55.670Z"
   },
   {
    "duration": 10,
    "start_time": "2025-08-20T13:08:55.700Z"
   },
   {
    "duration": 83,
    "start_time": "2025-08-20T13:08:55.712Z"
   },
   {
    "duration": 39,
    "start_time": "2025-08-20T13:08:55.797Z"
   },
   {
    "duration": 19,
    "start_time": "2025-08-20T13:08:55.838Z"
   },
   {
    "duration": 59,
    "start_time": "2025-08-20T13:08:55.858Z"
   },
   {
    "duration": 19,
    "start_time": "2025-08-20T13:08:55.921Z"
   },
   {
    "duration": 105,
    "start_time": "2025-08-20T13:08:55.941Z"
   },
   {
    "duration": 45,
    "start_time": "2025-08-20T13:08:56.048Z"
   },
   {
    "duration": 16,
    "start_time": "2025-08-20T13:08:56.094Z"
   },
   {
    "duration": 14,
    "start_time": "2025-08-20T13:09:24.637Z"
   },
   {
    "duration": 109,
    "start_time": "2025-08-20T13:11:53.068Z"
   },
   {
    "duration": 82,
    "start_time": "2025-08-20T13:12:28.703Z"
   },
   {
    "duration": 97,
    "start_time": "2025-08-20T13:13:10.817Z"
   },
   {
    "duration": 91,
    "start_time": "2025-08-20T13:13:39.060Z"
   },
   {
    "duration": 20,
    "start_time": "2025-08-20T13:14:11.950Z"
   },
   {
    "duration": 17,
    "start_time": "2025-08-20T13:14:21.832Z"
   },
   {
    "duration": 32,
    "start_time": "2025-08-20T13:16:44.985Z"
   },
   {
    "duration": 20,
    "start_time": "2025-08-20T13:16:58.601Z"
   },
   {
    "duration": 11,
    "start_time": "2025-08-20T13:17:01.828Z"
   },
   {
    "duration": 19,
    "start_time": "2025-08-20T13:17:15.773Z"
   },
   {
    "duration": 10,
    "start_time": "2025-08-20T13:17:20.059Z"
   },
   {
    "duration": 15,
    "start_time": "2025-08-20T13:17:48.788Z"
   },
   {
    "duration": 11,
    "start_time": "2025-08-20T13:18:20.068Z"
   },
   {
    "duration": 11,
    "start_time": "2025-08-20T13:18:25.782Z"
   },
   {
    "duration": 11,
    "start_time": "2025-08-20T13:18:29.944Z"
   },
   {
    "duration": 10,
    "start_time": "2025-08-20T13:18:33.586Z"
   },
   {
    "duration": 10,
    "start_time": "2025-08-20T13:18:41.800Z"
   },
   {
    "duration": 1526,
    "start_time": "2025-08-21T07:27:07.611Z"
   },
   {
    "duration": 84,
    "start_time": "2025-08-21T07:27:09.139Z"
   },
   {
    "duration": 42,
    "start_time": "2025-08-21T07:27:09.225Z"
   },
   {
    "duration": 14,
    "start_time": "2025-08-21T07:27:09.270Z"
   },
   {
    "duration": 14,
    "start_time": "2025-08-21T07:27:09.286Z"
   },
   {
    "duration": 23,
    "start_time": "2025-08-21T07:27:09.302Z"
   },
   {
    "duration": 6,
    "start_time": "2025-08-21T07:27:09.327Z"
   },
   {
    "duration": 31,
    "start_time": "2025-08-21T07:27:09.335Z"
   },
   {
    "duration": 491,
    "start_time": "2025-08-21T07:27:09.368Z"
   },
   {
    "duration": 13,
    "start_time": "2025-08-21T07:27:09.863Z"
   },
   {
    "duration": 57,
    "start_time": "2025-08-21T07:27:09.878Z"
   },
   {
    "duration": 11,
    "start_time": "2025-08-21T07:27:09.937Z"
   },
   {
    "duration": 1770,
    "start_time": "2025-08-21T07:27:09.950Z"
   },
   {
    "duration": 9,
    "start_time": "2025-08-21T07:27:11.721Z"
   },
   {
    "duration": 204,
    "start_time": "2025-08-21T07:27:11.732Z"
   },
   {
    "duration": 24,
    "start_time": "2025-08-21T07:27:11.938Z"
   },
   {
    "duration": 140,
    "start_time": "2025-08-21T07:27:11.965Z"
   },
   {
    "duration": 6,
    "start_time": "2025-08-21T07:27:12.107Z"
   },
   {
    "duration": 14,
    "start_time": "2025-08-21T07:27:12.114Z"
   },
   {
    "duration": 28,
    "start_time": "2025-08-21T07:27:12.130Z"
   },
   {
    "duration": 15,
    "start_time": "2025-08-21T07:27:12.160Z"
   },
   {
    "duration": 39,
    "start_time": "2025-08-21T07:27:12.177Z"
   },
   {
    "duration": 3,
    "start_time": "2025-08-21T07:27:12.218Z"
   },
   {
    "duration": 109,
    "start_time": "2025-08-21T07:27:12.223Z"
   },
   {
    "duration": 35,
    "start_time": "2025-08-21T07:27:12.334Z"
   },
   {
    "duration": 21,
    "start_time": "2025-08-21T07:27:12.371Z"
   },
   {
    "duration": 69,
    "start_time": "2025-08-21T07:27:12.394Z"
   },
   {
    "duration": 23,
    "start_time": "2025-08-21T07:27:12.467Z"
   },
   {
    "duration": 67,
    "start_time": "2025-08-21T07:27:12.492Z"
   },
   {
    "duration": 54,
    "start_time": "2025-08-21T07:27:12.562Z"
   },
   {
    "duration": 12,
    "start_time": "2025-08-21T07:27:12.618Z"
   },
   {
    "duration": 29,
    "start_time": "2025-08-21T07:28:47.444Z"
   },
   {
    "duration": 1310,
    "start_time": "2025-08-21T07:29:22.514Z"
   },
   {
    "duration": 50,
    "start_time": "2025-08-21T07:29:23.826Z"
   },
   {
    "duration": 84,
    "start_time": "2025-08-21T07:29:23.878Z"
   },
   {
    "duration": 13,
    "start_time": "2025-08-21T07:29:23.967Z"
   },
   {
    "duration": 23,
    "start_time": "2025-08-21T07:29:23.982Z"
   },
   {
    "duration": 12,
    "start_time": "2025-08-21T07:29:24.007Z"
   },
   {
    "duration": 5,
    "start_time": "2025-08-21T07:29:24.021Z"
   },
   {
    "duration": 31,
    "start_time": "2025-08-21T07:29:24.027Z"
   },
   {
    "duration": 522,
    "start_time": "2025-08-21T07:29:24.060Z"
   },
   {
    "duration": 9,
    "start_time": "2025-08-21T07:29:24.585Z"
   },
   {
    "duration": 18,
    "start_time": "2025-08-21T07:29:24.596Z"
   },
   {
    "duration": 16,
    "start_time": "2025-08-21T07:29:24.616Z"
   },
   {
    "duration": 2034,
    "start_time": "2025-08-21T07:29:24.634Z"
   },
   {
    "duration": 9,
    "start_time": "2025-08-21T07:29:26.670Z"
   },
   {
    "duration": 42,
    "start_time": "2025-08-21T07:29:26.681Z"
   },
   {
    "duration": 9,
    "start_time": "2025-08-21T07:29:26.725Z"
   },
   {
    "duration": 145,
    "start_time": "2025-08-21T07:29:26.736Z"
   },
   {
    "duration": 5,
    "start_time": "2025-08-21T07:29:26.883Z"
   },
   {
    "duration": 31,
    "start_time": "2025-08-21T07:29:26.890Z"
   },
   {
    "duration": 52,
    "start_time": "2025-08-21T07:29:26.923Z"
   },
   {
    "duration": 46,
    "start_time": "2025-08-21T07:29:26.977Z"
   },
   {
    "duration": 18,
    "start_time": "2025-08-21T07:29:27.025Z"
   },
   {
    "duration": 3,
    "start_time": "2025-08-21T07:29:27.045Z"
   },
   {
    "duration": 99,
    "start_time": "2025-08-21T07:29:27.050Z"
   },
   {
    "duration": 51,
    "start_time": "2025-08-21T07:29:27.151Z"
   },
   {
    "duration": 38,
    "start_time": "2025-08-21T07:29:27.204Z"
   },
   {
    "duration": 55,
    "start_time": "2025-08-21T07:29:27.244Z"
   },
   {
    "duration": 20,
    "start_time": "2025-08-21T07:29:27.302Z"
   },
   {
    "duration": 67,
    "start_time": "2025-08-21T07:29:27.324Z"
   },
   {
    "duration": 66,
    "start_time": "2025-08-21T07:29:27.393Z"
   },
   {
    "duration": 14,
    "start_time": "2025-08-21T07:29:27.464Z"
   },
   {
    "duration": 22,
    "start_time": "2025-08-21T07:31:52.914Z"
   },
   {
    "duration": 12,
    "start_time": "2025-08-21T07:32:00.888Z"
   },
   {
    "duration": 11,
    "start_time": "2025-08-21T07:32:40.160Z"
   },
   {
    "duration": 8,
    "start_time": "2025-08-21T07:32:48.586Z"
   },
   {
    "duration": 10,
    "start_time": "2025-08-21T07:33:27.929Z"
   },
   {
    "duration": 1283,
    "start_time": "2025-08-21T07:33:39.665Z"
   },
   {
    "duration": 47,
    "start_time": "2025-08-21T07:33:40.950Z"
   },
   {
    "duration": 41,
    "start_time": "2025-08-21T07:33:40.999Z"
   },
   {
    "duration": 14,
    "start_time": "2025-08-21T07:33:41.043Z"
   },
   {
    "duration": 4,
    "start_time": "2025-08-21T07:33:41.059Z"
   },
   {
    "duration": 10,
    "start_time": "2025-08-21T07:33:41.066Z"
   },
   {
    "duration": 112,
    "start_time": "2025-08-21T07:33:41.078Z"
   },
   {
    "duration": 30,
    "start_time": "2025-08-21T07:33:41.191Z"
   },
   {
    "duration": 471,
    "start_time": "2025-08-21T07:33:41.223Z"
   },
   {
    "duration": 11,
    "start_time": "2025-08-21T07:33:41.699Z"
   },
   {
    "duration": 71,
    "start_time": "2025-08-21T07:33:41.712Z"
   },
   {
    "duration": 14,
    "start_time": "2025-08-21T07:33:41.785Z"
   },
   {
    "duration": 1627,
    "start_time": "2025-08-21T07:33:41.801Z"
   },
   {
    "duration": 10,
    "start_time": "2025-08-21T07:33:43.430Z"
   },
   {
    "duration": 21,
    "start_time": "2025-08-21T07:33:43.442Z"
   },
   {
    "duration": 15,
    "start_time": "2025-08-21T07:33:43.465Z"
   },
   {
    "duration": 146,
    "start_time": "2025-08-21T07:33:43.483Z"
   },
   {
    "duration": 6,
    "start_time": "2025-08-21T07:33:43.631Z"
   },
   {
    "duration": 157,
    "start_time": "2025-08-21T07:33:43.639Z"
   },
   {
    "duration": 23,
    "start_time": "2025-08-21T07:33:43.798Z"
   },
   {
    "duration": 124,
    "start_time": "2025-08-21T07:33:43.823Z"
   },
   {
    "duration": 47,
    "start_time": "2025-08-21T07:33:43.950Z"
   },
   {
    "duration": 4,
    "start_time": "2025-08-21T07:33:43.999Z"
   },
   {
    "duration": 108,
    "start_time": "2025-08-21T07:33:44.005Z"
   },
   {
    "duration": 20,
    "start_time": "2025-08-21T07:33:44.115Z"
   },
   {
    "duration": 36,
    "start_time": "2025-08-21T07:33:44.137Z"
   },
   {
    "duration": 52,
    "start_time": "2025-08-21T07:33:44.175Z"
   },
   {
    "duration": 43,
    "start_time": "2025-08-21T07:33:44.231Z"
   },
   {
    "duration": 46,
    "start_time": "2025-08-21T07:33:44.275Z"
   },
   {
    "duration": 70,
    "start_time": "2025-08-21T07:33:44.322Z"
   },
   {
    "duration": 12,
    "start_time": "2025-08-21T07:33:44.393Z"
   },
   {
    "duration": 17,
    "start_time": "2025-08-21T07:36:14.270Z"
   },
   {
    "duration": 11,
    "start_time": "2025-08-21T07:36:24.491Z"
   },
   {
    "duration": 1346,
    "start_time": "2025-08-21T07:39:35.727Z"
   },
   {
    "duration": 49,
    "start_time": "2025-08-21T07:39:37.080Z"
   },
   {
    "duration": 16,
    "start_time": "2025-08-21T07:39:37.131Z"
   },
   {
    "duration": 37,
    "start_time": "2025-08-21T07:39:37.149Z"
   },
   {
    "duration": 30,
    "start_time": "2025-08-21T07:39:37.188Z"
   },
   {
    "duration": 21,
    "start_time": "2025-08-21T07:39:37.220Z"
   },
   {
    "duration": 4,
    "start_time": "2025-08-21T07:39:37.243Z"
   },
   {
    "duration": 33,
    "start_time": "2025-08-21T07:39:37.248Z"
   },
   {
    "duration": 543,
    "start_time": "2025-08-21T07:39:37.284Z"
   },
   {
    "duration": 9,
    "start_time": "2025-08-21T07:39:37.830Z"
   },
   {
    "duration": 149,
    "start_time": "2025-08-21T07:39:37.840Z"
   },
   {
    "duration": 11,
    "start_time": "2025-08-21T07:39:37.991Z"
   },
   {
    "duration": 2485,
    "start_time": "2025-08-21T07:39:38.004Z"
   },
   {
    "duration": 9,
    "start_time": "2025-08-21T07:39:40.491Z"
   },
   {
    "duration": 37,
    "start_time": "2025-08-21T07:39:40.502Z"
   },
   {
    "duration": 11,
    "start_time": "2025-08-21T07:39:40.541Z"
   },
   {
    "duration": 150,
    "start_time": "2025-08-21T07:39:40.563Z"
   },
   {
    "duration": 7,
    "start_time": "2025-08-21T07:39:40.715Z"
   },
   {
    "duration": 22,
    "start_time": "2025-08-21T07:39:40.724Z"
   },
   {
    "duration": 27,
    "start_time": "2025-08-21T07:39:40.754Z"
   },
   {
    "duration": 13,
    "start_time": "2025-08-21T07:39:40.784Z"
   },
   {
    "duration": 37,
    "start_time": "2025-08-21T07:39:40.799Z"
   },
   {
    "duration": 4,
    "start_time": "2025-08-21T07:39:40.839Z"
   },
   {
    "duration": 133,
    "start_time": "2025-08-21T07:39:40.845Z"
   },
   {
    "duration": 23,
    "start_time": "2025-08-21T07:39:40.981Z"
   },
   {
    "duration": 90,
    "start_time": "2025-08-21T07:39:41.005Z"
   },
   {
    "duration": 143,
    "start_time": "2025-08-21T07:39:41.098Z"
   },
   {
    "duration": 63,
    "start_time": "2025-08-21T07:39:41.245Z"
   },
   {
    "duration": 47,
    "start_time": "2025-08-21T07:39:41.309Z"
   },
   {
    "duration": 1387,
    "start_time": "2025-08-21T08:00:08.041Z"
   },
   {
    "duration": 166,
    "start_time": "2025-08-21T08:00:09.431Z"
   },
   {
    "duration": 16,
    "start_time": "2025-08-21T08:00:09.599Z"
   },
   {
    "duration": 31,
    "start_time": "2025-08-21T08:00:09.617Z"
   },
   {
    "duration": 29,
    "start_time": "2025-08-21T08:00:09.649Z"
   },
   {
    "duration": 11,
    "start_time": "2025-08-21T08:00:09.680Z"
   },
   {
    "duration": 225,
    "start_time": "2025-08-21T08:00:09.692Z"
   },
   {
    "duration": 18,
    "start_time": "2025-08-21T08:00:09.919Z"
   },
   {
    "duration": 562,
    "start_time": "2025-08-21T08:00:09.938Z"
   },
   {
    "duration": 11,
    "start_time": "2025-08-21T08:00:10.503Z"
   },
   {
    "duration": 11,
    "start_time": "2025-08-21T08:00:10.516Z"
   },
   {
    "duration": 33,
    "start_time": "2025-08-21T08:00:10.529Z"
   },
   {
    "duration": 2071,
    "start_time": "2025-08-21T08:00:10.566Z"
   },
   {
    "duration": 28,
    "start_time": "2025-08-21T08:00:12.639Z"
   },
   {
    "duration": 19,
    "start_time": "2025-08-21T08:00:12.669Z"
   },
   {
    "duration": 9,
    "start_time": "2025-08-21T08:00:12.690Z"
   },
   {
    "duration": 180,
    "start_time": "2025-08-21T08:00:12.702Z"
   },
   {
    "duration": 6,
    "start_time": "2025-08-21T08:00:12.884Z"
   },
   {
    "duration": 19,
    "start_time": "2025-08-21T08:00:12.892Z"
   },
   {
    "duration": 19,
    "start_time": "2025-08-21T08:00:12.913Z"
   },
   {
    "duration": 10,
    "start_time": "2025-08-21T08:00:12.934Z"
   },
   {
    "duration": 32,
    "start_time": "2025-08-21T08:00:12.960Z"
   },
   {
    "duration": 4,
    "start_time": "2025-08-21T08:00:12.994Z"
   },
   {
    "duration": 110,
    "start_time": "2025-08-21T08:00:12.999Z"
   },
   {
    "duration": 79,
    "start_time": "2025-08-21T08:00:13.111Z"
   },
   {
    "duration": 22,
    "start_time": "2025-08-21T08:00:13.192Z"
   },
   {
    "duration": 169,
    "start_time": "2025-08-21T08:00:13.216Z"
   },
   {
    "duration": 51,
    "start_time": "2025-08-21T08:00:13.389Z"
   },
   {
    "duration": 61,
    "start_time": "2025-08-21T08:00:13.442Z"
   },
   {
    "duration": 97,
    "start_time": "2025-08-21T08:00:13.505Z"
   },
   {
    "duration": 0,
    "start_time": "2025-08-21T08:00:13.604Z"
   },
   {
    "duration": 29,
    "start_time": "2025-08-21T08:01:00.803Z"
   },
   {
    "duration": 26,
    "start_time": "2025-08-21T08:03:22.819Z"
   },
   {
    "duration": 38,
    "start_time": "2025-08-21T08:03:35.898Z"
   },
   {
    "duration": 18,
    "start_time": "2025-08-21T08:05:45.561Z"
   },
   {
    "duration": 73,
    "start_time": "2025-08-21T08:06:08.620Z"
   },
   {
    "duration": 790,
    "start_time": "2025-08-21T08:07:13.170Z"
   },
   {
    "duration": 313,
    "start_time": "2025-08-21T08:08:35.272Z"
   },
   {
    "duration": 25,
    "start_time": "2025-08-21T08:13:28.501Z"
   },
   {
    "duration": 36,
    "start_time": "2025-08-21T08:13:38.041Z"
   },
   {
    "duration": 18,
    "start_time": "2025-08-21T08:15:17.771Z"
   },
   {
    "duration": 14,
    "start_time": "2025-08-21T08:15:29.881Z"
   },
   {
    "duration": 27,
    "start_time": "2025-08-21T08:15:44.154Z"
   },
   {
    "duration": 24,
    "start_time": "2025-08-21T08:15:55.282Z"
   },
   {
    "duration": 20,
    "start_time": "2025-08-21T08:16:15.430Z"
   },
   {
    "duration": 26,
    "start_time": "2025-08-21T08:16:25.269Z"
   },
   {
    "duration": 21,
    "start_time": "2025-08-21T08:16:47.880Z"
   },
   {
    "duration": 19,
    "start_time": "2025-08-21T08:16:56.734Z"
   },
   {
    "duration": 36,
    "start_time": "2025-08-21T08:17:16.792Z"
   },
   {
    "duration": 30,
    "start_time": "2025-08-21T08:17:28.216Z"
   },
   {
    "duration": 72,
    "start_time": "2025-08-21T08:18:15.044Z"
   },
   {
    "duration": 35,
    "start_time": "2025-08-21T08:19:49.141Z"
   },
   {
    "duration": 29,
    "start_time": "2025-08-21T08:20:02.391Z"
   },
   {
    "duration": 28,
    "start_time": "2025-08-21T08:20:22.083Z"
   },
   {
    "duration": 19,
    "start_time": "2025-08-21T08:21:40.441Z"
   },
   {
    "duration": 11,
    "start_time": "2025-08-21T08:23:47.302Z"
   },
   {
    "duration": 15,
    "start_time": "2025-08-21T08:23:56.963Z"
   },
   {
    "duration": 134,
    "start_time": "2025-08-21T08:25:31.773Z"
   },
   {
    "duration": 15,
    "start_time": "2025-08-21T08:25:56.870Z"
   },
   {
    "duration": 23,
    "start_time": "2025-08-21T08:26:10.715Z"
   },
   {
    "duration": 22,
    "start_time": "2025-08-21T08:26:16.345Z"
   },
   {
    "duration": 27,
    "start_time": "2025-08-21T08:26:46.278Z"
   },
   {
    "duration": 11,
    "start_time": "2025-08-21T08:26:51.492Z"
   },
   {
    "duration": 17,
    "start_time": "2025-08-21T08:32:35.679Z"
   },
   {
    "duration": 1660,
    "start_time": "2025-08-21T11:29:44.490Z"
   },
   {
    "duration": 115,
    "start_time": "2025-08-21T11:29:46.152Z"
   },
   {
    "duration": 28,
    "start_time": "2025-08-21T11:29:46.279Z"
   },
   {
    "duration": 15,
    "start_time": "2025-08-21T11:29:46.310Z"
   },
   {
    "duration": 5,
    "start_time": "2025-08-21T11:29:46.326Z"
   },
   {
    "duration": 13,
    "start_time": "2025-08-21T11:29:46.333Z"
   },
   {
    "duration": 28,
    "start_time": "2025-08-21T11:29:46.348Z"
   },
   {
    "duration": 51,
    "start_time": "2025-08-21T11:29:46.386Z"
   },
   {
    "duration": 584,
    "start_time": "2025-08-21T11:29:46.441Z"
   },
   {
    "duration": 12,
    "start_time": "2025-08-21T11:29:47.029Z"
   },
   {
    "duration": 21,
    "start_time": "2025-08-21T11:29:47.063Z"
   },
   {
    "duration": 64,
    "start_time": "2025-08-21T11:29:47.087Z"
   },
   {
    "duration": 1908,
    "start_time": "2025-08-21T11:29:47.153Z"
   },
   {
    "duration": 21,
    "start_time": "2025-08-21T11:29:49.067Z"
   },
   {
    "duration": 15,
    "start_time": "2025-08-21T11:29:49.090Z"
   },
   {
    "duration": 13,
    "start_time": "2025-08-21T11:29:49.107Z"
   },
   {
    "duration": 165,
    "start_time": "2025-08-21T11:29:49.122Z"
   },
   {
    "duration": 834,
    "start_time": "2025-08-21T11:29:49.289Z"
   },
   {
    "duration": 355,
    "start_time": "2025-08-21T11:29:50.124Z"
   },
   {
    "duration": 6,
    "start_time": "2025-08-21T11:29:50.483Z"
   },
   {
    "duration": 39,
    "start_time": "2025-08-21T11:29:50.491Z"
   },
   {
    "duration": 48,
    "start_time": "2025-08-21T11:29:50.532Z"
   },
   {
    "duration": 13,
    "start_time": "2025-08-21T11:29:50.582Z"
   },
   {
    "duration": 35,
    "start_time": "2025-08-21T11:29:50.597Z"
   },
   {
    "duration": 15,
    "start_time": "2025-08-21T11:29:50.634Z"
   },
   {
    "duration": 251,
    "start_time": "2025-08-21T11:29:50.651Z"
   },
   {
    "duration": 25,
    "start_time": "2025-08-21T11:29:50.905Z"
   },
   {
    "duration": 68,
    "start_time": "2025-08-21T11:29:50.934Z"
   },
   {
    "duration": 91,
    "start_time": "2025-08-21T11:29:51.004Z"
   },
   {
    "duration": 50,
    "start_time": "2025-08-21T11:29:51.097Z"
   },
   {
    "duration": 50,
    "start_time": "2025-08-21T11:29:51.161Z"
   },
   {
    "duration": 27,
    "start_time": "2025-08-21T11:29:51.214Z"
   },
   {
    "duration": 30,
    "start_time": "2025-08-21T11:29:51.260Z"
   },
   {
    "duration": 46,
    "start_time": "2025-08-21T11:29:51.292Z"
   },
   {
    "duration": 44,
    "start_time": "2025-08-21T11:29:51.340Z"
   },
   {
    "duration": 24,
    "start_time": "2025-08-21T11:32:31.640Z"
   },
   {
    "duration": 148,
    "start_time": "2025-08-21T11:33:50.529Z"
   },
   {
    "duration": 10,
    "start_time": "2025-08-21T11:33:57.366Z"
   },
   {
    "duration": 13,
    "start_time": "2025-08-21T11:34:22.709Z"
   },
   {
    "duration": 7,
    "start_time": "2025-08-21T11:34:45.493Z"
   },
   {
    "duration": 26,
    "start_time": "2025-08-21T11:35:03.676Z"
   },
   {
    "duration": 25,
    "start_time": "2025-08-21T11:37:32.175Z"
   },
   {
    "duration": 1478,
    "start_time": "2025-08-22T07:13:11.463Z"
   },
   {
    "duration": 54,
    "start_time": "2025-08-22T07:13:12.944Z"
   },
   {
    "duration": 20,
    "start_time": "2025-08-22T07:13:13.002Z"
   },
   {
    "duration": 12,
    "start_time": "2025-08-22T07:13:13.024Z"
   },
   {
    "duration": 10,
    "start_time": "2025-08-22T07:13:13.038Z"
   },
   {
    "duration": 23,
    "start_time": "2025-08-22T07:13:13.049Z"
   },
   {
    "duration": 9,
    "start_time": "2025-08-22T07:13:13.075Z"
   },
   {
    "duration": 24,
    "start_time": "2025-08-22T07:13:13.086Z"
   },
   {
    "duration": 439,
    "start_time": "2025-08-22T07:13:13.114Z"
   },
   {
    "duration": 22,
    "start_time": "2025-08-22T07:13:13.555Z"
   },
   {
    "duration": 82,
    "start_time": "2025-08-22T07:13:13.580Z"
   },
   {
    "duration": 12,
    "start_time": "2025-08-22T07:13:13.664Z"
   },
   {
    "duration": 1526,
    "start_time": "2025-08-22T07:13:13.679Z"
   },
   {
    "duration": 10,
    "start_time": "2025-08-22T07:13:15.206Z"
   },
   {
    "duration": 42,
    "start_time": "2025-08-22T07:13:15.217Z"
   },
   {
    "duration": 26,
    "start_time": "2025-08-22T07:13:15.260Z"
   },
   {
    "duration": 143,
    "start_time": "2025-08-22T07:13:15.287Z"
   },
   {
    "duration": 664,
    "start_time": "2025-08-22T07:13:15.431Z"
   },
   {
    "duration": 278,
    "start_time": "2025-08-22T07:13:16.097Z"
   },
   {
    "duration": 5,
    "start_time": "2025-08-22T07:13:16.377Z"
   },
   {
    "duration": 69,
    "start_time": "2025-08-22T07:13:16.384Z"
   },
   {
    "duration": 22,
    "start_time": "2025-08-22T07:13:16.455Z"
   },
   {
    "duration": 11,
    "start_time": "2025-08-22T07:13:16.478Z"
   },
   {
    "duration": 29,
    "start_time": "2025-08-22T07:13:16.491Z"
   },
   {
    "duration": 7,
    "start_time": "2025-08-22T07:13:16.522Z"
   },
   {
    "duration": 95,
    "start_time": "2025-08-22T07:13:16.531Z"
   },
   {
    "duration": 68,
    "start_time": "2025-08-22T07:13:16.629Z"
   },
   {
    "duration": 22,
    "start_time": "2025-08-22T07:13:16.698Z"
   },
   {
    "duration": 55,
    "start_time": "2025-08-22T07:13:16.721Z"
   },
   {
    "duration": 46,
    "start_time": "2025-08-22T07:13:16.778Z"
   },
   {
    "duration": 57,
    "start_time": "2025-08-22T07:13:16.826Z"
   },
   {
    "duration": 25,
    "start_time": "2025-08-22T07:13:16.885Z"
   },
   {
    "duration": 36,
    "start_time": "2025-08-22T07:13:16.912Z"
   },
   {
    "duration": 33,
    "start_time": "2025-08-22T07:13:16.950Z"
   },
   {
    "duration": 4,
    "start_time": "2025-08-22T07:30:36.185Z"
   },
   {
    "duration": 14,
    "start_time": "2025-08-22T07:31:56.123Z"
   },
   {
    "duration": 6,
    "start_time": "2025-08-22T07:39:25.180Z"
   },
   {
    "duration": 10,
    "start_time": "2025-08-22T07:39:34.608Z"
   },
   {
    "duration": 92,
    "start_time": "2025-08-22T07:41:55.405Z"
   },
   {
    "duration": 89,
    "start_time": "2025-08-22T07:43:06.794Z"
   },
   {
    "duration": 97,
    "start_time": "2025-08-22T07:43:18.675Z"
   },
   {
    "duration": 129,
    "start_time": "2025-08-22T07:43:29.552Z"
   },
   {
    "duration": 15,
    "start_time": "2025-08-22T07:43:37.084Z"
   },
   {
    "duration": 19,
    "start_time": "2025-08-22T07:43:52.944Z"
   },
   {
    "duration": 22,
    "start_time": "2025-08-22T07:54:19.364Z"
   },
   {
    "duration": 35,
    "start_time": "2025-08-22T07:54:22.057Z"
   },
   {
    "duration": 1679,
    "start_time": "2025-08-22T07:55:19.316Z"
   },
   {
    "duration": 20,
    "start_time": "2025-08-22T07:55:34.072Z"
   },
   {
    "duration": 47,
    "start_time": "2025-08-22T07:56:22.339Z"
   },
   {
    "duration": 28,
    "start_time": "2025-08-22T07:56:59.882Z"
   },
   {
    "duration": 21,
    "start_time": "2025-08-22T08:12:37.402Z"
   },
   {
    "duration": 14,
    "start_time": "2025-08-22T08:53:03.189Z"
   },
   {
    "duration": 93,
    "start_time": "2025-08-22T08:56:09.553Z"
   },
   {
    "duration": 20,
    "start_time": "2025-08-22T08:56:15.564Z"
   },
   {
    "duration": 1172,
    "start_time": "2025-08-22T08:56:34.015Z"
   },
   {
    "duration": 252,
    "start_time": "2025-08-22T08:56:35.189Z"
   },
   {
    "duration": 15,
    "start_time": "2025-08-22T08:56:35.443Z"
   },
   {
    "duration": 12,
    "start_time": "2025-08-22T08:56:35.459Z"
   },
   {
    "duration": 4,
    "start_time": "2025-08-22T08:56:35.473Z"
   },
   {
    "duration": 17,
    "start_time": "2025-08-22T08:56:35.479Z"
   },
   {
    "duration": 4,
    "start_time": "2025-08-22T08:56:35.498Z"
   },
   {
    "duration": 14,
    "start_time": "2025-08-22T08:56:35.504Z"
   },
   {
    "duration": 493,
    "start_time": "2025-08-22T08:56:35.520Z"
   },
   {
    "duration": 10,
    "start_time": "2025-08-22T08:56:36.015Z"
   },
   {
    "duration": 38,
    "start_time": "2025-08-22T08:56:36.027Z"
   },
   {
    "duration": 10,
    "start_time": "2025-08-22T08:56:36.067Z"
   },
   {
    "duration": 1509,
    "start_time": "2025-08-22T08:56:36.078Z"
   },
   {
    "duration": 9,
    "start_time": "2025-08-22T08:56:37.590Z"
   },
   {
    "duration": 13,
    "start_time": "2025-08-22T08:56:37.600Z"
   },
   {
    "duration": 9,
    "start_time": "2025-08-22T08:56:37.615Z"
   },
   {
    "duration": 137,
    "start_time": "2025-08-22T08:56:37.625Z"
   },
   {
    "duration": 14,
    "start_time": "2025-08-22T08:56:37.764Z"
   },
   {
    "duration": 13,
    "start_time": "2025-08-22T08:56:37.779Z"
   },
   {
    "duration": 10,
    "start_time": "2025-08-22T08:56:37.793Z"
   },
   {
    "duration": 9,
    "start_time": "2025-08-22T08:56:37.805Z"
   },
   {
    "duration": 19,
    "start_time": "2025-08-22T08:56:37.815Z"
   },
   {
    "duration": 3,
    "start_time": "2025-08-22T08:56:37.836Z"
   },
   {
    "duration": 106,
    "start_time": "2025-08-22T08:56:37.841Z"
   },
   {
    "duration": 33,
    "start_time": "2025-08-22T08:56:37.949Z"
   },
   {
    "duration": 22,
    "start_time": "2025-08-22T08:56:37.984Z"
   },
   {
    "duration": 78,
    "start_time": "2025-08-22T08:56:38.008Z"
   },
   {
    "duration": 46,
    "start_time": "2025-08-22T08:56:38.088Z"
   },
   {
    "duration": 57,
    "start_time": "2025-08-22T08:56:38.136Z"
   },
   {
    "duration": 20,
    "start_time": "2025-08-22T08:56:38.195Z"
   },
   {
    "duration": 13,
    "start_time": "2025-08-22T08:56:38.217Z"
   },
   {
    "duration": 20,
    "start_time": "2025-08-22T08:56:38.232Z"
   },
   {
    "duration": 25,
    "start_time": "2025-08-22T08:56:38.253Z"
   },
   {
    "duration": 25,
    "start_time": "2025-08-22T08:57:15.512Z"
   },
   {
    "duration": 32,
    "start_time": "2025-08-22T08:58:15.182Z"
   },
   {
    "duration": 12,
    "start_time": "2025-08-22T08:58:20.989Z"
   },
   {
    "duration": 27,
    "start_time": "2025-08-22T08:58:24.028Z"
   },
   {
    "duration": 125,
    "start_time": "2025-08-22T09:01:53.285Z"
   },
   {
    "duration": 26,
    "start_time": "2025-08-22T09:02:16.807Z"
   },
   {
    "duration": 28,
    "start_time": "2025-08-22T09:02:31.492Z"
   },
   {
    "duration": 4,
    "start_time": "2025-08-22T09:03:21.790Z"
   },
   {
    "duration": 4,
    "start_time": "2025-08-22T09:03:38.760Z"
   },
   {
    "duration": 21,
    "start_time": "2025-08-22T09:07:25.363Z"
   },
   {
    "duration": 23,
    "start_time": "2025-08-22T09:07:50.057Z"
   },
   {
    "duration": 23,
    "start_time": "2025-08-22T09:08:25.905Z"
   },
   {
    "duration": 1216,
    "start_time": "2025-08-22T09:09:03.866Z"
   },
   {
    "duration": 50,
    "start_time": "2025-08-22T09:09:05.084Z"
   },
   {
    "duration": 19,
    "start_time": "2025-08-22T09:09:05.136Z"
   },
   {
    "duration": 89,
    "start_time": "2025-08-22T09:09:05.157Z"
   },
   {
    "duration": 21,
    "start_time": "2025-08-22T09:09:05.249Z"
   },
   {
    "duration": 9,
    "start_time": "2025-08-22T09:09:05.272Z"
   },
   {
    "duration": 15,
    "start_time": "2025-08-22T09:09:05.282Z"
   },
   {
    "duration": 97,
    "start_time": "2025-08-22T09:09:05.299Z"
   },
   {
    "duration": 426,
    "start_time": "2025-08-22T09:09:05.398Z"
   },
   {
    "duration": 9,
    "start_time": "2025-08-22T09:09:05.828Z"
   },
   {
    "duration": 26,
    "start_time": "2025-08-22T09:09:05.839Z"
   },
   {
    "duration": 21,
    "start_time": "2025-08-22T09:09:05.867Z"
   },
   {
    "duration": 1451,
    "start_time": "2025-08-22T09:09:05.890Z"
   },
   {
    "duration": 8,
    "start_time": "2025-08-22T09:09:07.343Z"
   },
   {
    "duration": 44,
    "start_time": "2025-08-22T09:09:07.353Z"
   },
   {
    "duration": 50,
    "start_time": "2025-08-22T09:09:07.398Z"
   },
   {
    "duration": 113,
    "start_time": "2025-08-22T09:09:07.450Z"
   },
   {
    "duration": 13,
    "start_time": "2025-08-22T09:09:07.565Z"
   },
   {
    "duration": 42,
    "start_time": "2025-08-22T09:09:07.580Z"
   },
   {
    "duration": 33,
    "start_time": "2025-08-22T09:09:07.624Z"
   },
   {
    "duration": 9,
    "start_time": "2025-08-22T09:09:07.659Z"
   },
   {
    "duration": 16,
    "start_time": "2025-08-22T09:09:07.670Z"
   },
   {
    "duration": 3,
    "start_time": "2025-08-22T09:09:07.687Z"
   },
   {
    "duration": 88,
    "start_time": "2025-08-22T09:09:07.691Z"
   },
   {
    "duration": 18,
    "start_time": "2025-08-22T09:09:07.781Z"
   },
   {
    "duration": 20,
    "start_time": "2025-08-22T09:09:07.800Z"
   },
   {
    "duration": 67,
    "start_time": "2025-08-22T09:09:07.822Z"
   },
   {
    "duration": 45,
    "start_time": "2025-08-22T09:09:07.894Z"
   },
   {
    "duration": 63,
    "start_time": "2025-08-22T09:09:07.941Z"
   },
   {
    "duration": 29,
    "start_time": "2025-08-22T09:09:08.006Z"
   },
   {
    "duration": 124,
    "start_time": "2025-08-22T09:09:08.037Z"
   },
   {
    "duration": 0,
    "start_time": "2025-08-22T09:09:08.163Z"
   },
   {
    "duration": 0,
    "start_time": "2025-08-22T09:09:08.165Z"
   },
   {
    "duration": 20,
    "start_time": "2025-08-22T09:10:22.494Z"
   },
   {
    "duration": 16,
    "start_time": "2025-08-22T09:10:34.312Z"
   },
   {
    "duration": 24,
    "start_time": "2025-08-22T09:10:44.235Z"
   },
   {
    "duration": 30,
    "start_time": "2025-08-22T09:13:21.926Z"
   },
   {
    "duration": 1699,
    "start_time": "2025-08-22T11:07:18.982Z"
   },
   {
    "duration": 1293,
    "start_time": "2025-08-22T11:07:29.505Z"
   },
   {
    "duration": 87,
    "start_time": "2025-08-22T11:07:30.800Z"
   },
   {
    "duration": 34,
    "start_time": "2025-08-22T11:07:30.888Z"
   },
   {
    "duration": 52,
    "start_time": "2025-08-22T11:07:30.924Z"
   },
   {
    "duration": 37,
    "start_time": "2025-08-22T11:07:30.978Z"
   },
   {
    "duration": 56,
    "start_time": "2025-08-22T11:07:31.017Z"
   },
   {
    "duration": 10,
    "start_time": "2025-08-22T11:07:31.075Z"
   },
   {
    "duration": 16,
    "start_time": "2025-08-22T11:07:31.086Z"
   },
   {
    "duration": 468,
    "start_time": "2025-08-22T11:07:31.104Z"
   },
   {
    "duration": 13,
    "start_time": "2025-08-22T11:07:31.578Z"
   },
   {
    "duration": 11,
    "start_time": "2025-08-22T11:07:31.593Z"
   },
   {
    "duration": 23,
    "start_time": "2025-08-22T11:07:31.606Z"
   },
   {
    "duration": 1696,
    "start_time": "2025-08-22T11:07:31.630Z"
   },
   {
    "duration": 8,
    "start_time": "2025-08-22T11:07:33.328Z"
   },
   {
    "duration": 40,
    "start_time": "2025-08-22T11:07:33.338Z"
   },
   {
    "duration": 8,
    "start_time": "2025-08-22T11:07:33.380Z"
   },
   {
    "duration": 165,
    "start_time": "2025-08-22T11:07:33.390Z"
   },
   {
    "duration": 4,
    "start_time": "2025-08-22T11:07:33.557Z"
   },
   {
    "duration": 21,
    "start_time": "2025-08-22T11:07:33.562Z"
   },
   {
    "duration": 1585,
    "start_time": "2025-08-22T11:07:33.585Z"
   },
   {
    "duration": 0,
    "start_time": "2025-08-22T11:07:35.173Z"
   },
   {
    "duration": 0,
    "start_time": "2025-08-22T11:07:35.174Z"
   },
   {
    "duration": 0,
    "start_time": "2025-08-22T11:07:35.175Z"
   },
   {
    "duration": 1,
    "start_time": "2025-08-22T11:07:35.176Z"
   },
   {
    "duration": 0,
    "start_time": "2025-08-22T11:07:35.178Z"
   },
   {
    "duration": 0,
    "start_time": "2025-08-22T11:07:35.179Z"
   },
   {
    "duration": 0,
    "start_time": "2025-08-22T11:07:35.180Z"
   },
   {
    "duration": 0,
    "start_time": "2025-08-22T11:07:35.181Z"
   },
   {
    "duration": 0,
    "start_time": "2025-08-22T11:07:35.182Z"
   },
   {
    "duration": 0,
    "start_time": "2025-08-22T11:07:35.183Z"
   },
   {
    "duration": 0,
    "start_time": "2025-08-22T11:07:35.184Z"
   },
   {
    "duration": 0,
    "start_time": "2025-08-22T11:07:35.186Z"
   },
   {
    "duration": 0,
    "start_time": "2025-08-22T11:07:35.187Z"
   },
   {
    "duration": 7,
    "start_time": "2025-08-22T11:07:52.650Z"
   },
   {
    "duration": 67,
    "start_time": "2025-08-22T11:08:32.856Z"
   },
   {
    "duration": 328,
    "start_time": "2025-08-22T11:08:38.895Z"
   },
   {
    "duration": 9,
    "start_time": "2025-08-22T11:09:01.084Z"
   },
   {
    "duration": 10,
    "start_time": "2025-08-22T11:09:13.732Z"
   },
   {
    "duration": 1188,
    "start_time": "2025-08-22T11:09:19.483Z"
   },
   {
    "duration": 48,
    "start_time": "2025-08-22T11:09:20.673Z"
   },
   {
    "duration": 16,
    "start_time": "2025-08-22T11:09:20.723Z"
   },
   {
    "duration": 17,
    "start_time": "2025-08-22T11:09:20.741Z"
   },
   {
    "duration": 38,
    "start_time": "2025-08-22T11:09:20.760Z"
   },
   {
    "duration": 53,
    "start_time": "2025-08-22T11:09:20.799Z"
   },
   {
    "duration": 90,
    "start_time": "2025-08-22T11:09:20.853Z"
   },
   {
    "duration": 21,
    "start_time": "2025-08-22T11:09:20.945Z"
   },
   {
    "duration": 417,
    "start_time": "2025-08-22T11:09:20.968Z"
   },
   {
    "duration": 9,
    "start_time": "2025-08-22T11:09:21.388Z"
   },
   {
    "duration": 11,
    "start_time": "2025-08-22T11:09:21.399Z"
   },
   {
    "duration": 9,
    "start_time": "2025-08-22T11:09:21.411Z"
   },
   {
    "duration": 1437,
    "start_time": "2025-08-22T11:09:21.421Z"
   },
   {
    "duration": 8,
    "start_time": "2025-08-22T11:09:22.860Z"
   },
   {
    "duration": 36,
    "start_time": "2025-08-22T11:09:22.869Z"
   },
   {
    "duration": 11,
    "start_time": "2025-08-22T11:09:22.906Z"
   },
   {
    "duration": 117,
    "start_time": "2025-08-22T11:09:22.919Z"
   },
   {
    "duration": 5,
    "start_time": "2025-08-22T11:09:23.037Z"
   },
   {
    "duration": 17,
    "start_time": "2025-08-22T11:09:23.044Z"
   },
   {
    "duration": 6,
    "start_time": "2025-08-22T11:09:23.062Z"
   },
   {
    "duration": 19,
    "start_time": "2025-08-22T11:09:23.076Z"
   },
   {
    "duration": 17,
    "start_time": "2025-08-22T11:09:23.097Z"
   },
   {
    "duration": 3,
    "start_time": "2025-08-22T11:09:23.115Z"
   },
   {
    "duration": 88,
    "start_time": "2025-08-22T11:09:23.120Z"
   },
   {
    "duration": 28,
    "start_time": "2025-08-22T11:09:23.209Z"
   },
   {
    "duration": 18,
    "start_time": "2025-08-22T11:09:23.239Z"
   },
   {
    "duration": 20,
    "start_time": "2025-08-22T11:09:23.277Z"
   },
   {
    "duration": 42,
    "start_time": "2025-08-22T11:09:23.300Z"
   },
   {
    "duration": 66,
    "start_time": "2025-08-22T11:09:23.344Z"
   },
   {
    "duration": 37,
    "start_time": "2025-08-22T11:09:23.412Z"
   },
   {
    "duration": 46,
    "start_time": "2025-08-22T11:09:23.451Z"
   },
   {
    "duration": 57,
    "start_time": "2025-08-22T11:09:23.498Z"
   },
   {
    "duration": 31,
    "start_time": "2025-08-22T11:09:23.557Z"
   },
   {
    "duration": 113,
    "start_time": "2025-08-22T11:41:51.880Z"
   },
   {
    "duration": 20,
    "start_time": "2025-08-22T11:42:31.507Z"
   },
   {
    "duration": 20,
    "start_time": "2025-08-22T11:44:11.398Z"
   },
   {
    "duration": 21,
    "start_time": "2025-08-22T11:47:09.878Z"
   },
   {
    "duration": 19,
    "start_time": "2025-08-22T11:49:28.245Z"
   },
   {
    "duration": 20,
    "start_time": "2025-08-22T11:50:07.606Z"
   },
   {
    "duration": 22,
    "start_time": "2025-08-22T11:59:57.620Z"
   },
   {
    "duration": 16,
    "start_time": "2025-08-22T12:00:26.596Z"
   },
   {
    "duration": 1165,
    "start_time": "2025-08-22T12:05:15.293Z"
   },
   {
    "duration": 60,
    "start_time": "2025-08-22T12:05:16.460Z"
   },
   {
    "duration": 15,
    "start_time": "2025-08-22T12:05:16.521Z"
   },
   {
    "duration": 38,
    "start_time": "2025-08-22T12:05:16.538Z"
   },
   {
    "duration": 45,
    "start_time": "2025-08-22T12:05:16.577Z"
   },
   {
    "duration": 22,
    "start_time": "2025-08-22T12:05:16.623Z"
   },
   {
    "duration": 25,
    "start_time": "2025-08-22T12:05:16.646Z"
   },
   {
    "duration": 31,
    "start_time": "2025-08-22T12:05:16.672Z"
   },
   {
    "duration": 433,
    "start_time": "2025-08-22T12:05:16.705Z"
   },
   {
    "duration": 8,
    "start_time": "2025-08-22T12:05:17.141Z"
   },
   {
    "duration": 65,
    "start_time": "2025-08-22T12:05:17.151Z"
   },
   {
    "duration": 7,
    "start_time": "2025-08-22T12:05:17.218Z"
   },
   {
    "duration": 3350,
    "start_time": "2025-08-22T12:05:17.227Z"
   },
   {
    "duration": 8,
    "start_time": "2025-08-22T12:05:20.579Z"
   },
   {
    "duration": 27,
    "start_time": "2025-08-22T12:05:20.589Z"
   },
   {
    "duration": 27,
    "start_time": "2025-08-22T12:05:20.618Z"
   },
   {
    "duration": 130,
    "start_time": "2025-08-22T12:05:20.647Z"
   },
   {
    "duration": 6,
    "start_time": "2025-08-22T12:05:20.779Z"
   },
   {
    "duration": 24,
    "start_time": "2025-08-22T12:05:20.786Z"
   },
   {
    "duration": 48,
    "start_time": "2025-08-22T12:05:20.813Z"
   },
   {
    "duration": 36,
    "start_time": "2025-08-22T12:05:20.863Z"
   },
   {
    "duration": 29,
    "start_time": "2025-08-22T12:05:20.901Z"
   },
   {
    "duration": 3,
    "start_time": "2025-08-22T12:05:20.932Z"
   },
   {
    "duration": 122,
    "start_time": "2025-08-22T12:05:20.937Z"
   },
   {
    "duration": 38,
    "start_time": "2025-08-22T12:05:21.061Z"
   },
   {
    "duration": 91,
    "start_time": "2025-08-22T12:05:21.101Z"
   },
   {
    "duration": 45,
    "start_time": "2025-08-22T12:05:21.194Z"
   },
   {
    "duration": 62,
    "start_time": "2025-08-22T12:05:21.243Z"
   },
   {
    "duration": 115,
    "start_time": "2025-08-22T12:05:21.306Z"
   },
   {
    "duration": 0,
    "start_time": "2025-08-22T12:05:21.423Z"
   },
   {
    "duration": 0,
    "start_time": "2025-08-22T12:05:21.424Z"
   },
   {
    "duration": 0,
    "start_time": "2025-08-22T12:05:21.426Z"
   },
   {
    "duration": 0,
    "start_time": "2025-08-22T12:05:21.428Z"
   },
   {
    "duration": 42,
    "start_time": "2025-08-22T12:07:50.585Z"
   },
   {
    "duration": 31,
    "start_time": "2025-08-22T12:08:14.026Z"
   },
   {
    "duration": 1204,
    "start_time": "2025-08-22T12:08:38.453Z"
   },
   {
    "duration": 67,
    "start_time": "2025-08-22T12:08:39.659Z"
   },
   {
    "duration": 16,
    "start_time": "2025-08-22T12:08:39.728Z"
   },
   {
    "duration": 12,
    "start_time": "2025-08-22T12:08:39.746Z"
   },
   {
    "duration": 8,
    "start_time": "2025-08-22T12:08:39.760Z"
   },
   {
    "duration": 11,
    "start_time": "2025-08-22T12:08:39.769Z"
   },
   {
    "duration": 4,
    "start_time": "2025-08-22T12:08:39.782Z"
   },
   {
    "duration": 14,
    "start_time": "2025-08-22T12:08:39.787Z"
   },
   {
    "duration": 469,
    "start_time": "2025-08-22T12:08:39.802Z"
   },
   {
    "duration": 10,
    "start_time": "2025-08-22T12:08:40.277Z"
   },
   {
    "duration": 104,
    "start_time": "2025-08-22T12:08:40.289Z"
   },
   {
    "duration": 12,
    "start_time": "2025-08-22T12:08:40.395Z"
   },
   {
    "duration": 1526,
    "start_time": "2025-08-22T12:08:40.409Z"
   },
   {
    "duration": 9,
    "start_time": "2025-08-22T12:08:41.937Z"
   },
   {
    "duration": 12,
    "start_time": "2025-08-22T12:08:41.948Z"
   },
   {
    "duration": 10,
    "start_time": "2025-08-22T12:08:41.976Z"
   },
   {
    "duration": 162,
    "start_time": "2025-08-22T12:08:41.987Z"
   },
   {
    "duration": 5,
    "start_time": "2025-08-22T12:08:42.151Z"
   },
   {
    "duration": 27,
    "start_time": "2025-08-22T12:08:42.157Z"
   },
   {
    "duration": 21,
    "start_time": "2025-08-22T12:08:42.186Z"
   },
   {
    "duration": 17,
    "start_time": "2025-08-22T12:08:42.208Z"
   },
   {
    "duration": 156,
    "start_time": "2025-08-22T12:08:42.226Z"
   },
   {
    "duration": 3,
    "start_time": "2025-08-22T12:08:42.383Z"
   },
   {
    "duration": 107,
    "start_time": "2025-08-22T12:08:42.388Z"
   },
   {
    "duration": 19,
    "start_time": "2025-08-22T12:08:42.497Z"
   },
   {
    "duration": 20,
    "start_time": "2025-08-22T12:08:42.518Z"
   },
   {
    "duration": 61,
    "start_time": "2025-08-22T12:08:42.540Z"
   },
   {
    "duration": 46,
    "start_time": "2025-08-22T12:08:42.604Z"
   },
   {
    "duration": 51,
    "start_time": "2025-08-22T12:08:42.652Z"
   },
   {
    "duration": 46,
    "start_time": "2025-08-22T12:08:42.705Z"
   },
   {
    "duration": 33,
    "start_time": "2025-08-22T12:08:42.753Z"
   },
   {
    "duration": 42,
    "start_time": "2025-08-22T12:08:42.787Z"
   },
   {
    "duration": 21,
    "start_time": "2025-08-22T12:08:42.831Z"
   },
   {
    "duration": 52,
    "start_time": "2025-08-23T06:44:58.208Z"
   },
   {
    "duration": 1429,
    "start_time": "2025-08-23T06:45:08.030Z"
   },
   {
    "duration": 110,
    "start_time": "2025-08-23T06:45:09.461Z"
   },
   {
    "duration": 16,
    "start_time": "2025-08-23T06:45:09.572Z"
   },
   {
    "duration": 14,
    "start_time": "2025-08-23T06:45:09.590Z"
   },
   {
    "duration": 9,
    "start_time": "2025-08-23T06:45:09.606Z"
   },
   {
    "duration": 10,
    "start_time": "2025-08-23T06:45:09.617Z"
   },
   {
    "duration": 9,
    "start_time": "2025-08-23T06:45:09.628Z"
   },
   {
    "duration": 15,
    "start_time": "2025-08-23T06:45:09.638Z"
   },
   {
    "duration": 467,
    "start_time": "2025-08-23T06:45:09.654Z"
   },
   {
    "duration": 18,
    "start_time": "2025-08-23T06:45:10.123Z"
   },
   {
    "duration": 21,
    "start_time": "2025-08-23T06:45:10.142Z"
   },
   {
    "duration": 11,
    "start_time": "2025-08-23T06:45:10.164Z"
   },
   {
    "duration": 2035,
    "start_time": "2025-08-23T06:45:10.176Z"
   },
   {
    "duration": 8,
    "start_time": "2025-08-23T06:45:12.214Z"
   },
   {
    "duration": 14,
    "start_time": "2025-08-23T06:45:12.235Z"
   },
   {
    "duration": 61,
    "start_time": "2025-08-23T06:45:12.250Z"
   },
   {
    "duration": 123,
    "start_time": "2025-08-23T06:45:12.313Z"
   },
   {
    "duration": 67,
    "start_time": "2025-08-23T06:45:12.437Z"
   },
   {
    "duration": 30,
    "start_time": "2025-08-23T06:45:12.506Z"
   },
   {
    "duration": 24,
    "start_time": "2025-08-23T06:45:12.538Z"
   },
   {
    "duration": 14,
    "start_time": "2025-08-23T06:45:12.564Z"
   },
   {
    "duration": 14,
    "start_time": "2025-08-23T06:45:12.580Z"
   },
   {
    "duration": 20,
    "start_time": "2025-08-23T06:45:12.596Z"
   },
   {
    "duration": 4,
    "start_time": "2025-08-23T06:45:12.617Z"
   },
   {
    "duration": 131,
    "start_time": "2025-08-23T06:45:12.634Z"
   },
   {
    "duration": 19,
    "start_time": "2025-08-23T06:45:12.767Z"
   },
   {
    "duration": 21,
    "start_time": "2025-08-23T06:45:12.788Z"
   },
   {
    "duration": 59,
    "start_time": "2025-08-23T06:45:12.813Z"
   },
   {
    "duration": 63,
    "start_time": "2025-08-23T06:45:12.874Z"
   },
   {
    "duration": 34,
    "start_time": "2025-08-23T06:45:12.939Z"
   },
   {
    "duration": 60,
    "start_time": "2025-08-23T06:45:12.974Z"
   },
   {
    "duration": 15,
    "start_time": "2025-08-23T06:45:13.037Z"
   },
   {
    "duration": 28,
    "start_time": "2025-08-23T06:45:13.054Z"
   },
   {
    "duration": 20,
    "start_time": "2025-08-23T06:45:13.083Z"
   },
   {
    "duration": 368,
    "start_time": "2025-08-23T06:45:31.561Z"
   },
   {
    "duration": 334,
    "start_time": "2025-08-23T06:52:06.046Z"
   },
   {
    "duration": 59,
    "start_time": "2025-08-23T06:52:45.437Z"
   },
   {
    "duration": 83,
    "start_time": "2025-08-23T06:53:07.973Z"
   },
   {
    "duration": 377,
    "start_time": "2025-08-23T06:54:40.265Z"
   },
   {
    "duration": 10,
    "start_time": "2025-08-23T06:59:28.787Z"
   },
   {
    "duration": 9,
    "start_time": "2025-08-23T07:04:07.161Z"
   },
   {
    "duration": 1224,
    "start_time": "2025-08-23T07:04:17.718Z"
   },
   {
    "duration": 82,
    "start_time": "2025-08-23T07:04:18.944Z"
   },
   {
    "duration": 16,
    "start_time": "2025-08-23T07:04:19.027Z"
   },
   {
    "duration": 11,
    "start_time": "2025-08-23T07:04:19.045Z"
   },
   {
    "duration": 70,
    "start_time": "2025-08-23T07:04:19.058Z"
   },
   {
    "duration": 10,
    "start_time": "2025-08-23T07:04:19.130Z"
   },
   {
    "duration": 5,
    "start_time": "2025-08-23T07:04:19.141Z"
   },
   {
    "duration": 15,
    "start_time": "2025-08-23T07:04:19.147Z"
   },
   {
    "duration": 474,
    "start_time": "2025-08-23T07:04:19.163Z"
   },
   {
    "duration": 9,
    "start_time": "2025-08-23T07:04:19.640Z"
   },
   {
    "duration": 15,
    "start_time": "2025-08-23T07:04:19.651Z"
   },
   {
    "duration": 10,
    "start_time": "2025-08-23T07:04:19.668Z"
   },
   {
    "duration": 1812,
    "start_time": "2025-08-23T07:04:19.680Z"
   },
   {
    "duration": 8,
    "start_time": "2025-08-23T07:04:21.494Z"
   },
   {
    "duration": 37,
    "start_time": "2025-08-23T07:04:21.504Z"
   },
   {
    "duration": 19,
    "start_time": "2025-08-23T07:04:21.542Z"
   },
   {
    "duration": 195,
    "start_time": "2025-08-23T07:04:21.563Z"
   },
   {
    "duration": 357,
    "start_time": "2025-08-23T07:04:21.760Z"
   },
   {
    "duration": 387,
    "start_time": "2025-08-23T07:04:22.119Z"
   },
   {
    "duration": 6,
    "start_time": "2025-08-23T07:04:22.508Z"
   },
   {
    "duration": 48,
    "start_time": "2025-08-23T07:04:22.515Z"
   },
   {
    "duration": 6,
    "start_time": "2025-08-23T07:04:22.565Z"
   },
   {
    "duration": 14,
    "start_time": "2025-08-23T07:04:22.573Z"
   },
   {
    "duration": 19,
    "start_time": "2025-08-23T07:04:22.589Z"
   },
   {
    "duration": 4,
    "start_time": "2025-08-23T07:04:22.610Z"
   },
   {
    "duration": 28,
    "start_time": "2025-08-23T07:04:22.615Z"
   },
   {
    "duration": 16,
    "start_time": "2025-08-23T07:04:22.645Z"
   },
   {
    "duration": 96,
    "start_time": "2025-08-23T07:04:22.665Z"
   },
   {
    "duration": 38,
    "start_time": "2025-08-23T07:04:22.763Z"
   },
   {
    "duration": 22,
    "start_time": "2025-08-23T07:04:22.803Z"
   },
   {
    "duration": 46,
    "start_time": "2025-08-23T07:04:22.827Z"
   },
   {
    "duration": 61,
    "start_time": "2025-08-23T07:04:22.875Z"
   },
   {
    "duration": 35,
    "start_time": "2025-08-23T07:04:22.937Z"
   },
   {
    "duration": 67,
    "start_time": "2025-08-23T07:04:22.974Z"
   },
   {
    "duration": 14,
    "start_time": "2025-08-23T07:04:23.043Z"
   },
   {
    "duration": 106,
    "start_time": "2025-08-23T07:04:23.059Z"
   },
   {
    "duration": 21,
    "start_time": "2025-08-23T07:04:23.167Z"
   },
   {
    "duration": 14,
    "start_time": "2025-08-23T07:05:56.343Z"
   },
   {
    "duration": 18,
    "start_time": "2025-08-23T07:09:17.868Z"
   },
   {
    "duration": 21,
    "start_time": "2025-08-23T07:09:31.388Z"
   },
   {
    "duration": 23,
    "start_time": "2025-08-23T07:10:10.886Z"
   },
   {
    "duration": 22,
    "start_time": "2025-08-23T07:10:36.311Z"
   },
   {
    "duration": 18,
    "start_time": "2025-08-23T07:10:57.572Z"
   },
   {
    "duration": 19,
    "start_time": "2025-08-23T07:11:21.153Z"
   },
   {
    "duration": 18,
    "start_time": "2025-08-23T08:50:26.562Z"
   },
   {
    "duration": 16,
    "start_time": "2025-08-23T08:50:32.899Z"
   },
   {
    "duration": 15,
    "start_time": "2025-08-23T08:50:46.396Z"
   },
   {
    "duration": 14,
    "start_time": "2025-08-23T08:51:11.704Z"
   },
   {
    "duration": 5,
    "start_time": "2025-08-23T08:56:09.431Z"
   },
   {
    "duration": 14,
    "start_time": "2025-08-23T08:56:14.352Z"
   },
   {
    "duration": 3,
    "start_time": "2025-08-23T08:56:50.094Z"
   },
   {
    "duration": 4,
    "start_time": "2025-08-23T08:56:59.603Z"
   },
   {
    "duration": 1292,
    "start_time": "2025-08-23T14:33:58.217Z"
   },
   {
    "duration": 71,
    "start_time": "2025-08-23T14:33:59.511Z"
   },
   {
    "duration": 14,
    "start_time": "2025-08-23T14:33:59.583Z"
   },
   {
    "duration": 49,
    "start_time": "2025-08-23T14:33:59.599Z"
   },
   {
    "duration": 4,
    "start_time": "2025-08-23T14:33:59.650Z"
   },
   {
    "duration": 8,
    "start_time": "2025-08-23T14:33:59.656Z"
   },
   {
    "duration": 11,
    "start_time": "2025-08-23T14:33:59.665Z"
   },
   {
    "duration": 14,
    "start_time": "2025-08-23T14:33:59.677Z"
   },
   {
    "duration": 392,
    "start_time": "2025-08-23T14:33:59.692Z"
   },
   {
    "duration": 9,
    "start_time": "2025-08-23T14:34:00.086Z"
   },
   {
    "duration": 47,
    "start_time": "2025-08-23T14:34:00.096Z"
   },
   {
    "duration": 45,
    "start_time": "2025-08-23T14:34:00.145Z"
   },
   {
    "duration": 1684,
    "start_time": "2025-08-23T14:34:00.192Z"
   },
   {
    "duration": 7,
    "start_time": "2025-08-23T14:34:01.878Z"
   },
   {
    "duration": 22,
    "start_time": "2025-08-23T14:34:01.886Z"
   },
   {
    "duration": 56,
    "start_time": "2025-08-23T14:34:01.910Z"
   },
   {
    "duration": 130,
    "start_time": "2025-08-23T14:34:01.968Z"
   },
   {
    "duration": 310,
    "start_time": "2025-08-23T14:34:02.100Z"
   },
   {
    "duration": 351,
    "start_time": "2025-08-23T14:34:02.412Z"
   },
   {
    "duration": 12,
    "start_time": "2025-08-23T14:34:02.764Z"
   },
   {
    "duration": 52,
    "start_time": "2025-08-23T14:34:02.778Z"
   },
   {
    "duration": 25,
    "start_time": "2025-08-23T14:34:02.832Z"
   },
   {
    "duration": 9,
    "start_time": "2025-08-23T14:34:02.859Z"
   },
   {
    "duration": 22,
    "start_time": "2025-08-23T14:34:02.869Z"
   },
   {
    "duration": 3,
    "start_time": "2025-08-23T14:34:02.892Z"
   },
   {
    "duration": 4,
    "start_time": "2025-08-23T14:34:02.896Z"
   },
   {
    "duration": 48,
    "start_time": "2025-08-23T14:34:02.902Z"
   },
   {
    "duration": 20,
    "start_time": "2025-08-23T14:34:02.953Z"
   },
   {
    "duration": 4,
    "start_time": "2025-08-23T14:34:02.974Z"
   },
   {
    "duration": 9,
    "start_time": "2025-08-23T14:34:02.979Z"
   },
   {
    "duration": 87,
    "start_time": "2025-08-23T14:34:02.990Z"
   },
   {
    "duration": 18,
    "start_time": "2025-08-23T14:34:03.079Z"
   },
   {
    "duration": 18,
    "start_time": "2025-08-23T14:34:03.099Z"
   },
   {
    "duration": 58,
    "start_time": "2025-08-23T14:34:03.119Z"
   },
   {
    "duration": 43,
    "start_time": "2025-08-23T14:34:03.179Z"
   },
   {
    "duration": 30,
    "start_time": "2025-08-23T14:34:03.224Z"
   },
   {
    "duration": 45,
    "start_time": "2025-08-23T14:34:03.275Z"
   },
   {
    "duration": 11,
    "start_time": "2025-08-23T14:34:03.322Z"
   },
   {
    "duration": 80,
    "start_time": "2025-08-23T14:34:03.334Z"
   },
   {
    "duration": 18,
    "start_time": "2025-08-23T14:34:03.415Z"
   },
   {
    "duration": 12,
    "start_time": "2025-08-23T14:44:33.695Z"
   },
   {
    "duration": 1066,
    "start_time": "2025-08-23T14:44:48.509Z"
   },
   {
    "duration": 45,
    "start_time": "2025-08-23T14:44:49.577Z"
   },
   {
    "duration": 15,
    "start_time": "2025-08-23T14:44:49.623Z"
   },
   {
    "duration": 58,
    "start_time": "2025-08-23T14:44:49.640Z"
   },
   {
    "duration": 3,
    "start_time": "2025-08-23T14:44:49.700Z"
   },
   {
    "duration": 7,
    "start_time": "2025-08-23T14:44:49.705Z"
   },
   {
    "duration": 3,
    "start_time": "2025-08-23T14:44:49.714Z"
   },
   {
    "duration": 12,
    "start_time": "2025-08-23T14:44:49.718Z"
   },
   {
    "duration": 384,
    "start_time": "2025-08-23T14:44:49.732Z"
   },
   {
    "duration": 8,
    "start_time": "2025-08-23T14:44:50.118Z"
   },
   {
    "duration": 8,
    "start_time": "2025-08-23T14:44:50.127Z"
   },
   {
    "duration": 7,
    "start_time": "2025-08-23T14:44:50.136Z"
   },
   {
    "duration": 1381,
    "start_time": "2025-08-23T14:44:50.144Z"
   },
   {
    "duration": 7,
    "start_time": "2025-08-23T14:44:51.526Z"
   },
   {
    "duration": 46,
    "start_time": "2025-08-23T14:44:51.534Z"
   },
   {
    "duration": 12,
    "start_time": "2025-08-23T14:44:51.582Z"
   },
   {
    "duration": 104,
    "start_time": "2025-08-23T14:44:51.595Z"
   },
   {
    "duration": 306,
    "start_time": "2025-08-23T14:44:51.700Z"
   },
   {
    "duration": 360,
    "start_time": "2025-08-23T14:44:52.008Z"
   },
   {
    "duration": 9,
    "start_time": "2025-08-23T14:44:52.369Z"
   },
   {
    "duration": 52,
    "start_time": "2025-08-23T14:44:52.379Z"
   },
   {
    "duration": 29,
    "start_time": "2025-08-23T14:44:52.432Z"
   },
   {
    "duration": 21,
    "start_time": "2025-08-23T14:44:52.463Z"
   },
   {
    "duration": 19,
    "start_time": "2025-08-23T14:44:52.485Z"
   },
   {
    "duration": 3,
    "start_time": "2025-08-23T14:44:52.506Z"
   },
   {
    "duration": 5,
    "start_time": "2025-08-23T14:44:52.510Z"
   },
   {
    "duration": 13,
    "start_time": "2025-08-23T14:44:52.516Z"
   },
   {
    "duration": 4,
    "start_time": "2025-08-23T14:44:52.532Z"
   },
   {
    "duration": 6,
    "start_time": "2025-08-23T14:44:52.537Z"
   },
   {
    "duration": 89,
    "start_time": "2025-08-23T14:44:52.544Z"
   },
   {
    "duration": 16,
    "start_time": "2025-08-23T14:44:52.635Z"
   },
   {
    "duration": 33,
    "start_time": "2025-08-23T14:44:52.652Z"
   },
   {
    "duration": 37,
    "start_time": "2025-08-23T14:44:52.687Z"
   },
   {
    "duration": 51,
    "start_time": "2025-08-23T14:44:52.726Z"
   },
   {
    "duration": 29,
    "start_time": "2025-08-23T14:44:52.779Z"
   },
   {
    "duration": 77,
    "start_time": "2025-08-23T14:44:52.809Z"
   },
   {
    "duration": 11,
    "start_time": "2025-08-23T14:44:52.888Z"
   },
   {
    "duration": 35,
    "start_time": "2025-08-23T14:44:52.901Z"
   },
   {
    "duration": 19,
    "start_time": "2025-08-23T14:44:52.937Z"
   },
   {
    "duration": 1183,
    "start_time": "2025-08-23T14:54:32.464Z"
   },
   {
    "duration": 55,
    "start_time": "2025-08-23T14:54:33.649Z"
   },
   {
    "duration": 15,
    "start_time": "2025-08-23T14:54:33.705Z"
   },
   {
    "duration": 41,
    "start_time": "2025-08-23T14:54:33.722Z"
   },
   {
    "duration": 3,
    "start_time": "2025-08-23T14:54:33.764Z"
   },
   {
    "duration": 16,
    "start_time": "2025-08-23T14:54:33.769Z"
   },
   {
    "duration": 4,
    "start_time": "2025-08-23T14:54:33.786Z"
   },
   {
    "duration": 12,
    "start_time": "2025-08-23T14:54:33.791Z"
   },
   {
    "duration": 390,
    "start_time": "2025-08-23T14:54:33.805Z"
   },
   {
    "duration": 9,
    "start_time": "2025-08-23T14:54:34.197Z"
   },
   {
    "duration": 16,
    "start_time": "2025-08-23T14:54:34.208Z"
   },
   {
    "duration": 9,
    "start_time": "2025-08-23T14:54:34.225Z"
   },
   {
    "duration": 1485,
    "start_time": "2025-08-23T14:54:34.235Z"
   },
   {
    "duration": 8,
    "start_time": "2025-08-23T14:54:35.721Z"
   },
   {
    "duration": 58,
    "start_time": "2025-08-23T14:54:35.731Z"
   },
   {
    "duration": 10,
    "start_time": "2025-08-23T14:54:35.790Z"
   },
   {
    "duration": 121,
    "start_time": "2025-08-23T14:54:35.801Z"
   },
   {
    "duration": 110,
    "start_time": "2025-08-23T14:54:35.924Z"
   },
   {
    "duration": 331,
    "start_time": "2025-08-23T14:54:36.036Z"
   },
   {
    "duration": 350,
    "start_time": "2025-08-23T14:54:36.368Z"
   },
   {
    "duration": 106,
    "start_time": "2025-08-23T14:54:36.720Z"
   },
   {
    "duration": 6,
    "start_time": "2025-08-23T14:54:36.828Z"
   },
   {
    "duration": 62,
    "start_time": "2025-08-23T14:54:36.835Z"
   },
   {
    "duration": 22,
    "start_time": "2025-08-23T14:54:36.899Z"
   },
   {
    "duration": 17,
    "start_time": "2025-08-23T14:54:36.923Z"
   },
   {
    "duration": 33,
    "start_time": "2025-08-23T14:54:36.942Z"
   },
   {
    "duration": 4,
    "start_time": "2025-08-23T14:54:36.976Z"
   },
   {
    "duration": 2,
    "start_time": "2025-08-23T14:54:36.984Z"
   },
   {
    "duration": 17,
    "start_time": "2025-08-23T14:54:36.988Z"
   },
   {
    "duration": 5,
    "start_time": "2025-08-23T14:54:37.007Z"
   },
   {
    "duration": 3,
    "start_time": "2025-08-23T14:54:37.014Z"
   },
   {
    "duration": 93,
    "start_time": "2025-08-23T14:54:37.018Z"
   },
   {
    "duration": 16,
    "start_time": "2025-08-23T14:54:37.113Z"
   },
   {
    "duration": 19,
    "start_time": "2025-08-23T14:54:37.131Z"
   },
   {
    "duration": 60,
    "start_time": "2025-08-23T14:54:37.151Z"
   },
   {
    "duration": 41,
    "start_time": "2025-08-23T14:54:37.212Z"
   },
   {
    "duration": 43,
    "start_time": "2025-08-23T14:54:37.254Z"
   },
   {
    "duration": 41,
    "start_time": "2025-08-23T14:54:37.299Z"
   },
   {
    "duration": 12,
    "start_time": "2025-08-23T14:54:37.342Z"
   },
   {
    "duration": 41,
    "start_time": "2025-08-23T14:54:37.355Z"
   },
   {
    "duration": 67,
    "start_time": "2025-08-23T14:54:37.398Z"
   },
   {
    "duration": 316,
    "start_time": "2025-08-23T14:56:10.371Z"
   },
   {
    "duration": 94,
    "start_time": "2025-08-23T14:56:14.094Z"
   },
   {
    "duration": 1135,
    "start_time": "2025-08-23T15:01:07.267Z"
   },
   {
    "duration": 54,
    "start_time": "2025-08-23T15:01:08.404Z"
   },
   {
    "duration": 33,
    "start_time": "2025-08-23T15:01:08.459Z"
   },
   {
    "duration": 10,
    "start_time": "2025-08-23T15:01:08.494Z"
   },
   {
    "duration": 9,
    "start_time": "2025-08-23T15:01:08.505Z"
   },
   {
    "duration": 10,
    "start_time": "2025-08-23T15:01:08.515Z"
   },
   {
    "duration": 5,
    "start_time": "2025-08-23T15:01:08.526Z"
   },
   {
    "duration": 15,
    "start_time": "2025-08-23T15:01:08.532Z"
   },
   {
    "duration": 378,
    "start_time": "2025-08-23T15:01:08.549Z"
   },
   {
    "duration": 8,
    "start_time": "2025-08-23T15:01:08.929Z"
   },
   {
    "duration": 13,
    "start_time": "2025-08-23T15:01:08.939Z"
   },
   {
    "duration": 23,
    "start_time": "2025-08-23T15:01:08.954Z"
   },
   {
    "duration": 1369,
    "start_time": "2025-08-23T15:01:08.978Z"
   },
   {
    "duration": 7,
    "start_time": "2025-08-23T15:01:10.349Z"
   },
   {
    "duration": 20,
    "start_time": "2025-08-23T15:01:10.357Z"
   },
   {
    "duration": 8,
    "start_time": "2025-08-23T15:01:10.378Z"
   },
   {
    "duration": 115,
    "start_time": "2025-08-23T15:01:10.388Z"
   },
   {
    "duration": 311,
    "start_time": "2025-08-23T15:01:10.506Z"
   },
   {
    "duration": 337,
    "start_time": "2025-08-23T15:01:10.819Z"
   },
   {
    "duration": 5,
    "start_time": "2025-08-23T15:01:11.157Z"
   },
   {
    "duration": 20,
    "start_time": "2025-08-23T15:01:11.163Z"
   },
   {
    "duration": 6,
    "start_time": "2025-08-23T15:01:11.184Z"
   },
   {
    "duration": 13,
    "start_time": "2025-08-23T15:01:11.191Z"
   },
   {
    "duration": 3,
    "start_time": "2025-08-23T15:01:11.205Z"
   },
   {
    "duration": 11,
    "start_time": "2025-08-23T15:01:11.210Z"
   },
   {
    "duration": 5,
    "start_time": "2025-08-23T15:01:11.222Z"
   },
   {
    "duration": 5,
    "start_time": "2025-08-23T15:01:11.228Z"
   },
   {
    "duration": 48,
    "start_time": "2025-08-23T15:01:11.236Z"
   },
   {
    "duration": 3,
    "start_time": "2025-08-23T15:01:11.286Z"
   },
   {
    "duration": 65,
    "start_time": "2025-08-23T15:01:11.290Z"
   },
   {
    "duration": 30,
    "start_time": "2025-08-23T15:01:11.356Z"
   },
   {
    "duration": 17,
    "start_time": "2025-08-23T15:01:11.388Z"
   },
   {
    "duration": 34,
    "start_time": "2025-08-23T15:01:11.407Z"
   },
   {
    "duration": 63,
    "start_time": "2025-08-23T15:01:11.443Z"
   },
   {
    "duration": 25,
    "start_time": "2025-08-23T15:01:11.508Z"
   },
   {
    "duration": 51,
    "start_time": "2025-08-23T15:01:11.535Z"
   },
   {
    "duration": 21,
    "start_time": "2025-08-23T15:01:11.588Z"
   },
   {
    "duration": 30,
    "start_time": "2025-08-23T15:01:11.610Z"
   },
   {
    "duration": 18,
    "start_time": "2025-08-23T15:01:11.641Z"
   },
   {
    "duration": 1215,
    "start_time": "2025-08-23T15:21:41.154Z"
   },
   {
    "duration": 55,
    "start_time": "2025-08-23T15:21:42.370Z"
   },
   {
    "duration": 15,
    "start_time": "2025-08-23T15:21:42.426Z"
   },
   {
    "duration": 11,
    "start_time": "2025-08-23T15:21:42.443Z"
   },
   {
    "duration": 6,
    "start_time": "2025-08-23T15:21:42.456Z"
   },
   {
    "duration": 9,
    "start_time": "2025-08-23T15:21:42.463Z"
   },
   {
    "duration": 5,
    "start_time": "2025-08-23T15:21:42.473Z"
   },
   {
    "duration": 15,
    "start_time": "2025-08-23T15:21:42.479Z"
   },
   {
    "duration": 425,
    "start_time": "2025-08-23T15:21:42.495Z"
   },
   {
    "duration": 9,
    "start_time": "2025-08-23T15:21:42.922Z"
   },
   {
    "duration": 65,
    "start_time": "2025-08-23T15:21:42.933Z"
   },
   {
    "duration": 9,
    "start_time": "2025-08-23T15:21:43.000Z"
   },
   {
    "duration": 1476,
    "start_time": "2025-08-23T15:21:43.010Z"
   },
   {
    "duration": 7,
    "start_time": "2025-08-23T15:21:44.488Z"
   },
   {
    "duration": 30,
    "start_time": "2025-08-23T15:21:44.497Z"
   },
   {
    "duration": 16,
    "start_time": "2025-08-23T15:21:44.529Z"
   },
   {
    "duration": 163,
    "start_time": "2025-08-23T15:21:44.547Z"
   },
   {
    "duration": 343,
    "start_time": "2025-08-23T15:21:44.712Z"
   },
   {
    "duration": 367,
    "start_time": "2025-08-23T15:21:45.056Z"
   },
   {
    "duration": 5,
    "start_time": "2025-08-23T15:21:45.424Z"
   },
   {
    "duration": 61,
    "start_time": "2025-08-23T15:21:45.431Z"
   },
   {
    "duration": 29,
    "start_time": "2025-08-23T15:21:45.494Z"
   },
   {
    "duration": 39,
    "start_time": "2025-08-23T15:21:45.525Z"
   },
   {
    "duration": 33,
    "start_time": "2025-08-23T15:21:45.565Z"
   },
   {
    "duration": 75,
    "start_time": "2025-08-23T15:21:45.600Z"
   },
   {
    "duration": 11,
    "start_time": "2025-08-23T15:21:45.677Z"
   },
   {
    "duration": 18,
    "start_time": "2025-08-23T15:21:45.690Z"
   },
   {
    "duration": 34,
    "start_time": "2025-08-23T15:21:45.711Z"
   },
   {
    "duration": 15,
    "start_time": "2025-08-23T15:21:45.746Z"
   },
   {
    "duration": 103,
    "start_time": "2025-08-23T15:21:45.763Z"
   },
   {
    "duration": 65,
    "start_time": "2025-08-23T15:21:45.868Z"
   },
   {
    "duration": 31,
    "start_time": "2025-08-23T15:21:45.934Z"
   },
   {
    "duration": 52,
    "start_time": "2025-08-23T15:21:45.966Z"
   },
   {
    "duration": 40,
    "start_time": "2025-08-23T15:21:46.020Z"
   },
   {
    "duration": 36,
    "start_time": "2025-08-23T15:21:46.061Z"
   },
   {
    "duration": 48,
    "start_time": "2025-08-23T15:21:46.099Z"
   },
   {
    "duration": 31,
    "start_time": "2025-08-23T15:21:46.149Z"
   },
   {
    "duration": 28,
    "start_time": "2025-08-23T15:21:46.182Z"
   },
   {
    "duration": 98,
    "start_time": "2025-08-23T15:21:46.212Z"
   },
   {
    "duration": 0,
    "start_time": "2025-08-23T15:21:46.312Z"
   },
   {
    "duration": 19,
    "start_time": "2025-08-23T15:23:28.416Z"
   },
   {
    "duration": 1145,
    "start_time": "2025-08-23T15:24:42.891Z"
   },
   {
    "duration": 42,
    "start_time": "2025-08-23T15:24:44.038Z"
   },
   {
    "duration": 12,
    "start_time": "2025-08-23T15:24:44.082Z"
   },
   {
    "duration": 11,
    "start_time": "2025-08-23T15:24:44.096Z"
   },
   {
    "duration": 3,
    "start_time": "2025-08-23T15:24:44.109Z"
   },
   {
    "duration": 10,
    "start_time": "2025-08-23T15:24:44.114Z"
   },
   {
    "duration": 3,
    "start_time": "2025-08-23T15:24:44.125Z"
   },
   {
    "duration": 13,
    "start_time": "2025-08-23T15:24:44.129Z"
   },
   {
    "duration": 423,
    "start_time": "2025-08-23T15:24:44.143Z"
   },
   {
    "duration": 9,
    "start_time": "2025-08-23T15:24:44.576Z"
   },
   {
    "duration": 33,
    "start_time": "2025-08-23T15:24:44.586Z"
   },
   {
    "duration": 8,
    "start_time": "2025-08-23T15:24:44.621Z"
   },
   {
    "duration": 1423,
    "start_time": "2025-08-23T15:24:44.630Z"
   },
   {
    "duration": 7,
    "start_time": "2025-08-23T15:24:46.056Z"
   },
   {
    "duration": 18,
    "start_time": "2025-08-23T15:24:46.064Z"
   },
   {
    "duration": 29,
    "start_time": "2025-08-23T15:24:46.083Z"
   },
   {
    "duration": 105,
    "start_time": "2025-08-23T15:24:46.113Z"
   },
   {
    "duration": 306,
    "start_time": "2025-08-23T15:24:46.220Z"
   },
   {
    "duration": 349,
    "start_time": "2025-08-23T15:24:46.529Z"
   },
   {
    "duration": 5,
    "start_time": "2025-08-23T15:24:46.880Z"
   },
   {
    "duration": 13,
    "start_time": "2025-08-23T15:24:46.886Z"
   },
   {
    "duration": 5,
    "start_time": "2025-08-23T15:24:46.900Z"
   },
   {
    "duration": 9,
    "start_time": "2025-08-23T15:24:46.906Z"
   },
   {
    "duration": 3,
    "start_time": "2025-08-23T15:24:46.917Z"
   },
   {
    "duration": 36,
    "start_time": "2025-08-23T15:24:46.922Z"
   },
   {
    "duration": 58,
    "start_time": "2025-08-23T15:24:46.960Z"
   },
   {
    "duration": 6,
    "start_time": "2025-08-23T15:24:47.020Z"
   },
   {
    "duration": 16,
    "start_time": "2025-08-23T15:24:47.028Z"
   },
   {
    "duration": 4,
    "start_time": "2025-08-23T15:24:47.046Z"
   },
   {
    "duration": 63,
    "start_time": "2025-08-23T15:24:47.051Z"
   },
   {
    "duration": 22,
    "start_time": "2025-08-23T15:24:47.116Z"
   },
   {
    "duration": 23,
    "start_time": "2025-08-23T15:24:47.139Z"
   },
   {
    "duration": 34,
    "start_time": "2025-08-23T15:24:47.164Z"
   },
   {
    "duration": 36,
    "start_time": "2025-08-23T15:24:47.199Z"
   },
   {
    "duration": 41,
    "start_time": "2025-08-23T15:24:47.237Z"
   },
   {
    "duration": 52,
    "start_time": "2025-08-23T15:24:47.280Z"
   },
   {
    "duration": 14,
    "start_time": "2025-08-23T15:24:47.334Z"
   },
   {
    "duration": 55,
    "start_time": "2025-08-23T15:24:47.349Z"
   },
   {
    "duration": 17,
    "start_time": "2025-08-23T15:24:47.406Z"
   },
   {
    "duration": 20,
    "start_time": "2025-08-23T15:28:48.930Z"
   },
   {
    "duration": 23,
    "start_time": "2025-08-23T15:29:46.661Z"
   },
   {
    "duration": 22,
    "start_time": "2025-08-23T15:29:58.045Z"
   },
   {
    "duration": 1375,
    "start_time": "2025-08-24T14:03:47.871Z"
   },
   {
    "duration": 50,
    "start_time": "2025-08-24T14:03:49.248Z"
   },
   {
    "duration": 14,
    "start_time": "2025-08-24T14:03:49.300Z"
   },
   {
    "duration": 13,
    "start_time": "2025-08-24T14:03:49.316Z"
   },
   {
    "duration": 3,
    "start_time": "2025-08-24T14:03:49.331Z"
   },
   {
    "duration": 8,
    "start_time": "2025-08-24T14:03:49.336Z"
   },
   {
    "duration": 52,
    "start_time": "2025-08-24T14:03:49.346Z"
   },
   {
    "duration": 79,
    "start_time": "2025-08-24T14:03:49.400Z"
   },
   {
    "duration": 431,
    "start_time": "2025-08-24T14:03:49.488Z"
   },
   {
    "duration": 9,
    "start_time": "2025-08-24T14:03:49.923Z"
   },
   {
    "duration": 19,
    "start_time": "2025-08-24T14:03:49.934Z"
   },
   {
    "duration": 37,
    "start_time": "2025-08-24T14:03:49.955Z"
   },
   {
    "duration": 1537,
    "start_time": "2025-08-24T14:03:49.994Z"
   },
   {
    "duration": 8,
    "start_time": "2025-08-24T14:03:51.533Z"
   },
   {
    "duration": 62,
    "start_time": "2025-08-24T14:03:51.542Z"
   },
   {
    "duration": 10,
    "start_time": "2025-08-24T14:03:51.606Z"
   },
   {
    "duration": 124,
    "start_time": "2025-08-24T14:03:51.617Z"
   },
   {
    "duration": 384,
    "start_time": "2025-08-24T14:03:51.742Z"
   },
   {
    "duration": 371,
    "start_time": "2025-08-24T14:03:52.128Z"
   },
   {
    "duration": 5,
    "start_time": "2025-08-24T14:03:52.501Z"
   },
   {
    "duration": 16,
    "start_time": "2025-08-24T14:03:52.508Z"
   },
   {
    "duration": 5,
    "start_time": "2025-08-24T14:03:52.526Z"
   },
   {
    "duration": 31,
    "start_time": "2025-08-24T14:03:52.533Z"
   },
   {
    "duration": 4,
    "start_time": "2025-08-24T14:03:52.566Z"
   },
   {
    "duration": 16,
    "start_time": "2025-08-24T14:03:52.589Z"
   },
   {
    "duration": 5,
    "start_time": "2025-08-24T14:03:52.607Z"
   },
   {
    "duration": 5,
    "start_time": "2025-08-24T14:03:52.613Z"
   },
   {
    "duration": 25,
    "start_time": "2025-08-24T14:03:52.621Z"
   },
   {
    "duration": 15,
    "start_time": "2025-08-24T14:03:52.648Z"
   },
   {
    "duration": 88,
    "start_time": "2025-08-24T14:03:52.664Z"
   },
   {
    "duration": 85,
    "start_time": "2025-08-24T14:03:52.754Z"
   },
   {
    "duration": 49,
    "start_time": "2025-08-24T14:03:52.841Z"
   },
   {
    "duration": 39,
    "start_time": "2025-08-24T14:03:52.892Z"
   },
   {
    "duration": 60,
    "start_time": "2025-08-24T14:03:52.932Z"
   },
   {
    "duration": 30,
    "start_time": "2025-08-24T14:03:52.994Z"
   },
   {
    "duration": 67,
    "start_time": "2025-08-24T14:03:53.026Z"
   },
   {
    "duration": 13,
    "start_time": "2025-08-24T14:03:53.095Z"
   },
   {
    "duration": 105,
    "start_time": "2025-08-24T14:03:53.109Z"
   },
   {
    "duration": 25,
    "start_time": "2025-08-24T14:03:53.216Z"
   },
   {
    "duration": 20,
    "start_time": "2025-08-24T14:03:53.243Z"
   },
   {
    "duration": 23,
    "start_time": "2025-08-24T14:49:07.854Z"
   },
   {
    "duration": 30,
    "start_time": "2025-08-24T14:49:50.890Z"
   },
   {
    "duration": 105,
    "start_time": "2025-08-24T14:51:00.336Z"
   },
   {
    "duration": 26,
    "start_time": "2025-08-24T14:51:42.577Z"
   },
   {
    "duration": 26,
    "start_time": "2025-08-24T14:51:57.188Z"
   },
   {
    "duration": 24,
    "start_time": "2025-08-24T14:52:58.002Z"
   },
   {
    "duration": 22,
    "start_time": "2025-08-24T14:53:22.777Z"
   },
   {
    "duration": 30,
    "start_time": "2025-08-24T14:55:13.772Z"
   },
   {
    "duration": 1468,
    "start_time": "2025-08-25T06:00:18.108Z"
   },
   {
    "duration": 67,
    "start_time": "2025-08-25T06:00:19.578Z"
   },
   {
    "duration": 16,
    "start_time": "2025-08-25T06:00:19.647Z"
   },
   {
    "duration": 12,
    "start_time": "2025-08-25T06:00:19.665Z"
   },
   {
    "duration": 6,
    "start_time": "2025-08-25T06:00:19.679Z"
   },
   {
    "duration": 9,
    "start_time": "2025-08-25T06:00:19.687Z"
   },
   {
    "duration": 7,
    "start_time": "2025-08-25T06:00:19.697Z"
   },
   {
    "duration": 15,
    "start_time": "2025-08-25T06:00:19.734Z"
   },
   {
    "duration": 487,
    "start_time": "2025-08-25T06:00:19.750Z"
   },
   {
    "duration": 11,
    "start_time": "2025-08-25T06:00:20.240Z"
   },
   {
    "duration": 11,
    "start_time": "2025-08-25T06:00:20.253Z"
   },
   {
    "duration": 29,
    "start_time": "2025-08-25T06:00:20.266Z"
   },
   {
    "duration": 2247,
    "start_time": "2025-08-25T06:00:20.297Z"
   },
   {
    "duration": 10,
    "start_time": "2025-08-25T06:00:22.546Z"
   },
   {
    "duration": 18,
    "start_time": "2025-08-25T06:00:22.558Z"
   },
   {
    "duration": 16,
    "start_time": "2025-08-25T06:00:22.578Z"
   },
   {
    "duration": 144,
    "start_time": "2025-08-25T06:00:22.595Z"
   },
   {
    "duration": 363,
    "start_time": "2025-08-25T06:00:22.741Z"
   },
   {
    "duration": 395,
    "start_time": "2025-08-25T06:00:23.107Z"
   },
   {
    "duration": 5,
    "start_time": "2025-08-25T06:00:23.504Z"
   },
   {
    "duration": 30,
    "start_time": "2025-08-25T06:00:23.510Z"
   },
   {
    "duration": 57,
    "start_time": "2025-08-25T06:00:23.542Z"
   },
   {
    "duration": 32,
    "start_time": "2025-08-25T06:00:23.601Z"
   },
   {
    "duration": 30,
    "start_time": "2025-08-25T06:00:23.635Z"
   },
   {
    "duration": 19,
    "start_time": "2025-08-25T06:00:23.667Z"
   },
   {
    "duration": 6,
    "start_time": "2025-08-25T06:00:23.688Z"
   },
   {
    "duration": 4,
    "start_time": "2025-08-25T06:00:23.696Z"
   },
   {
    "duration": 21,
    "start_time": "2025-08-25T06:00:23.703Z"
   },
   {
    "duration": 9,
    "start_time": "2025-08-25T06:00:23.726Z"
   },
   {
    "duration": 143,
    "start_time": "2025-08-25T06:00:23.736Z"
   },
   {
    "duration": 26,
    "start_time": "2025-08-25T06:00:23.881Z"
   },
   {
    "duration": 30,
    "start_time": "2025-08-25T06:00:23.909Z"
   },
   {
    "duration": 41,
    "start_time": "2025-08-25T06:00:23.941Z"
   },
   {
    "duration": 60,
    "start_time": "2025-08-25T06:00:23.984Z"
   },
   {
    "duration": 33,
    "start_time": "2025-08-25T06:00:24.046Z"
   },
   {
    "duration": 64,
    "start_time": "2025-08-25T06:00:24.081Z"
   },
   {
    "duration": 15,
    "start_time": "2025-08-25T06:00:24.146Z"
   },
   {
    "duration": 30,
    "start_time": "2025-08-25T06:00:24.163Z"
   },
   {
    "duration": 51,
    "start_time": "2025-08-25T06:00:24.194Z"
   },
   {
    "duration": 1242,
    "start_time": "2025-08-25T06:16:16.896Z"
   },
   {
    "duration": 57,
    "start_time": "2025-08-25T06:16:18.140Z"
   },
   {
    "duration": 17,
    "start_time": "2025-08-25T06:16:18.199Z"
   },
   {
    "duration": 16,
    "start_time": "2025-08-25T06:16:18.218Z"
   },
   {
    "duration": 5,
    "start_time": "2025-08-25T06:16:18.235Z"
   },
   {
    "duration": 19,
    "start_time": "2025-08-25T06:16:18.242Z"
   },
   {
    "duration": 5,
    "start_time": "2025-08-25T06:16:18.262Z"
   },
   {
    "duration": 19,
    "start_time": "2025-08-25T06:16:18.269Z"
   },
   {
    "duration": 496,
    "start_time": "2025-08-25T06:16:18.290Z"
   },
   {
    "duration": 10,
    "start_time": "2025-08-25T06:16:19.703Z"
   },
   {
    "duration": 11,
    "start_time": "2025-08-25T06:16:19.715Z"
   },
   {
    "duration": 10,
    "start_time": "2025-08-25T06:16:19.900Z"
   },
   {
    "duration": 2078,
    "start_time": "2025-08-25T06:16:19.912Z"
   },
   {
    "duration": 10,
    "start_time": "2025-08-25T06:16:21.992Z"
   },
   {
    "duration": 32,
    "start_time": "2025-08-25T06:16:22.005Z"
   },
   {
    "duration": 20,
    "start_time": "2025-08-25T06:16:22.039Z"
   },
   {
    "duration": 130,
    "start_time": "2025-08-25T06:16:22.060Z"
   },
   {
    "duration": 396,
    "start_time": "2025-08-25T06:16:22.191Z"
   },
   {
    "duration": 401,
    "start_time": "2025-08-25T06:16:22.590Z"
   },
   {
    "duration": 7,
    "start_time": "2025-08-25T06:16:22.994Z"
   },
   {
    "duration": 19,
    "start_time": "2025-08-25T06:16:23.003Z"
   },
   {
    "duration": 7,
    "start_time": "2025-08-25T06:16:23.035Z"
   },
   {
    "duration": 15,
    "start_time": "2025-08-25T06:16:23.044Z"
   },
   {
    "duration": 3,
    "start_time": "2025-08-25T06:16:23.061Z"
   },
   {
    "duration": 18,
    "start_time": "2025-08-25T06:16:23.066Z"
   },
   {
    "duration": 6,
    "start_time": "2025-08-25T06:16:23.086Z"
   },
   {
    "duration": 5,
    "start_time": "2025-08-25T06:16:23.094Z"
   },
   {
    "duration": 53,
    "start_time": "2025-08-25T06:16:23.100Z"
   },
   {
    "duration": 3,
    "start_time": "2025-08-25T06:16:23.155Z"
   },
   {
    "duration": 91,
    "start_time": "2025-08-25T06:16:23.160Z"
   },
   {
    "duration": 59,
    "start_time": "2025-08-25T06:16:23.253Z"
   },
   {
    "duration": 28,
    "start_time": "2025-08-25T06:16:23.313Z"
   },
   {
    "duration": 42,
    "start_time": "2025-08-25T06:16:23.342Z"
   },
   {
    "duration": 61,
    "start_time": "2025-08-25T06:16:23.386Z"
   },
   {
    "duration": 37,
    "start_time": "2025-08-25T06:16:23.450Z"
   },
   {
    "duration": 76,
    "start_time": "2025-08-25T06:16:23.488Z"
   },
   {
    "duration": 16,
    "start_time": "2025-08-25T06:16:23.566Z"
   },
   {
    "duration": 30,
    "start_time": "2025-08-25T06:16:23.583Z"
   },
   {
    "duration": 27,
    "start_time": "2025-08-25T06:16:23.635Z"
   },
   {
    "duration": 12,
    "start_time": "2025-08-25T06:18:40.473Z"
   },
   {
    "duration": 1175,
    "start_time": "2025-08-25T06:21:50.156Z"
   },
   {
    "duration": 89,
    "start_time": "2025-08-25T06:21:51.334Z"
   },
   {
    "duration": 16,
    "start_time": "2025-08-25T06:21:51.425Z"
   },
   {
    "duration": 13,
    "start_time": "2025-08-25T06:21:51.443Z"
   },
   {
    "duration": 10,
    "start_time": "2025-08-25T06:21:51.458Z"
   },
   {
    "duration": 41,
    "start_time": "2025-08-25T06:21:51.469Z"
   },
   {
    "duration": 26,
    "start_time": "2025-08-25T06:21:51.511Z"
   },
   {
    "duration": 30,
    "start_time": "2025-08-25T06:21:51.538Z"
   },
   {
    "duration": 452,
    "start_time": "2025-08-25T06:21:51.570Z"
   },
   {
    "duration": 16,
    "start_time": "2025-08-25T06:21:52.025Z"
   },
   {
    "duration": 19,
    "start_time": "2025-08-25T06:21:52.043Z"
   },
   {
    "duration": 10,
    "start_time": "2025-08-25T06:21:52.064Z"
   },
   {
    "duration": 1991,
    "start_time": "2025-08-25T06:21:52.075Z"
   },
   {
    "duration": 8,
    "start_time": "2025-08-25T06:21:54.068Z"
   },
   {
    "duration": 27,
    "start_time": "2025-08-25T06:21:54.078Z"
   },
   {
    "duration": 11,
    "start_time": "2025-08-25T06:21:54.106Z"
   },
   {
    "duration": 137,
    "start_time": "2025-08-25T06:21:54.119Z"
   },
   {
    "duration": 365,
    "start_time": "2025-08-25T06:21:54.258Z"
   },
   {
    "duration": 382,
    "start_time": "2025-08-25T06:21:54.625Z"
   },
   {
    "duration": 7,
    "start_time": "2025-08-25T06:21:55.008Z"
   },
   {
    "duration": 27,
    "start_time": "2025-08-25T06:21:55.016Z"
   },
   {
    "duration": 10,
    "start_time": "2025-08-25T06:21:55.045Z"
   },
   {
    "duration": 10,
    "start_time": "2025-08-25T06:21:55.056Z"
   },
   {
    "duration": 23,
    "start_time": "2025-08-25T06:21:55.068Z"
   },
   {
    "duration": 19,
    "start_time": "2025-08-25T06:21:55.093Z"
   },
   {
    "duration": 33,
    "start_time": "2025-08-25T06:21:55.114Z"
   },
   {
    "duration": 5,
    "start_time": "2025-08-25T06:21:55.151Z"
   },
   {
    "duration": 27,
    "start_time": "2025-08-25T06:21:55.162Z"
   },
   {
    "duration": 8,
    "start_time": "2025-08-25T06:21:55.191Z"
   },
   {
    "duration": 100,
    "start_time": "2025-08-25T06:21:55.201Z"
   },
   {
    "duration": 25,
    "start_time": "2025-08-25T06:21:55.302Z"
   },
   {
    "duration": 37,
    "start_time": "2025-08-25T06:21:55.329Z"
   },
   {
    "duration": 42,
    "start_time": "2025-08-25T06:21:55.367Z"
   },
   {
    "duration": 57,
    "start_time": "2025-08-25T06:21:55.410Z"
   },
   {
    "duration": 30,
    "start_time": "2025-08-25T06:21:55.469Z"
   },
   {
    "duration": 95,
    "start_time": "2025-08-25T06:21:55.501Z"
   },
   {
    "duration": 14,
    "start_time": "2025-08-25T06:21:55.598Z"
   },
   {
    "duration": 29,
    "start_time": "2025-08-25T06:21:55.614Z"
   },
   {
    "duration": 132,
    "start_time": "2025-08-25T06:21:55.644Z"
   },
   {
    "duration": 50,
    "start_time": "2025-09-25T07:11:38.614Z"
   },
   {
    "duration": 1263,
    "start_time": "2025-09-25T07:11:47.508Z"
   },
   {
    "duration": 90,
    "start_time": "2025-09-25T07:11:48.773Z"
   },
   {
    "duration": 15,
    "start_time": "2025-09-25T07:11:48.865Z"
   },
   {
    "duration": 15,
    "start_time": "2025-09-25T07:11:48.882Z"
   },
   {
    "duration": 4,
    "start_time": "2025-09-25T07:11:48.900Z"
   },
   {
    "duration": 26,
    "start_time": "2025-09-25T07:11:48.906Z"
   },
   {
    "duration": 44,
    "start_time": "2025-09-25T07:11:48.933Z"
   },
   {
    "duration": 14,
    "start_time": "2025-09-25T07:11:48.978Z"
   },
   {
    "duration": 30,
    "start_time": "2025-09-25T07:11:48.994Z"
   },
   {
    "duration": 450,
    "start_time": "2025-09-25T07:11:49.026Z"
   },
   {
    "duration": 9,
    "start_time": "2025-09-25T07:11:49.478Z"
   },
   {
    "duration": 29,
    "start_time": "2025-09-25T07:11:49.488Z"
   },
   {
    "duration": 10,
    "start_time": "2025-09-25T07:11:49.518Z"
   },
   {
    "duration": 1758,
    "start_time": "2025-09-25T07:11:49.531Z"
   },
   {
    "duration": 9,
    "start_time": "2025-09-25T07:11:51.291Z"
   },
   {
    "duration": 24,
    "start_time": "2025-09-25T07:11:51.301Z"
   },
   {
    "duration": 20,
    "start_time": "2025-09-25T07:11:51.326Z"
   },
   {
    "duration": 131,
    "start_time": "2025-09-25T07:11:51.347Z"
   },
   {
    "duration": 329,
    "start_time": "2025-09-25T07:11:51.479Z"
   },
   {
    "duration": 361,
    "start_time": "2025-09-25T07:11:51.813Z"
   },
   {
    "duration": 5,
    "start_time": "2025-09-25T07:11:52.176Z"
   },
   {
    "duration": 75,
    "start_time": "2025-09-25T07:11:52.182Z"
   },
   {
    "duration": 80,
    "start_time": "2025-09-25T07:11:52.260Z"
   },
   {
    "duration": 22,
    "start_time": "2025-09-25T07:11:52.341Z"
   },
   {
    "duration": 4,
    "start_time": "2025-09-25T07:11:52.365Z"
   },
   {
    "duration": 20,
    "start_time": "2025-09-25T07:11:52.371Z"
   },
   {
    "duration": 40,
    "start_time": "2025-09-25T07:11:52.393Z"
   },
   {
    "duration": 20,
    "start_time": "2025-09-25T07:11:52.435Z"
   },
   {
    "duration": 21,
    "start_time": "2025-09-25T07:11:52.457Z"
   },
   {
    "duration": 23,
    "start_time": "2025-09-25T07:11:52.480Z"
   },
   {
    "duration": 83,
    "start_time": "2025-09-25T07:11:52.505Z"
   },
   {
    "duration": 27,
    "start_time": "2025-09-25T07:11:52.590Z"
   },
   {
    "duration": 22,
    "start_time": "2025-09-25T07:11:52.619Z"
   },
   {
    "duration": 42,
    "start_time": "2025-09-25T07:11:52.643Z"
   },
   {
    "duration": 65,
    "start_time": "2025-09-25T07:11:52.687Z"
   },
   {
    "duration": 31,
    "start_time": "2025-09-25T07:11:52.754Z"
   },
   {
    "duration": 57,
    "start_time": "2025-09-25T07:11:52.787Z"
   },
   {
    "duration": 15,
    "start_time": "2025-09-25T07:11:52.846Z"
   },
   {
    "duration": 52,
    "start_time": "2025-09-25T07:11:52.862Z"
   },
   {
    "duration": 25,
    "start_time": "2025-09-25T07:11:52.916Z"
   },
   {
    "duration": 1544,
    "start_time": "2025-10-20T11:40:34.526Z"
   },
   {
    "duration": 98,
    "start_time": "2025-10-20T11:40:36.072Z"
   },
   {
    "duration": 18,
    "start_time": "2025-10-20T11:40:36.171Z"
   },
   {
    "duration": 14,
    "start_time": "2025-10-20T11:40:36.192Z"
   },
   {
    "duration": 5,
    "start_time": "2025-10-20T11:40:36.208Z"
   },
   {
    "duration": 42,
    "start_time": "2025-10-20T11:40:36.215Z"
   },
   {
    "duration": 7,
    "start_time": "2025-10-20T11:40:36.259Z"
   },
   {
    "duration": 7,
    "start_time": "2025-10-20T11:40:36.268Z"
   },
   {
    "duration": 20,
    "start_time": "2025-10-20T11:40:36.276Z"
   },
   {
    "duration": 495,
    "start_time": "2025-10-20T11:40:36.300Z"
   },
   {
    "duration": 13,
    "start_time": "2025-10-20T11:40:36.797Z"
   },
   {
    "duration": 12,
    "start_time": "2025-10-20T11:40:36.812Z"
   },
   {
    "duration": 38,
    "start_time": "2025-10-20T11:40:36.826Z"
   },
   {
    "duration": 1637,
    "start_time": "2025-10-20T11:40:36.866Z"
   },
   {
    "duration": 8,
    "start_time": "2025-10-20T11:40:38.505Z"
   },
   {
    "duration": 20,
    "start_time": "2025-10-20T11:40:38.514Z"
   },
   {
    "duration": 26,
    "start_time": "2025-10-20T11:40:38.535Z"
   },
   {
    "duration": 123,
    "start_time": "2025-10-20T11:40:38.563Z"
   },
   {
    "duration": 348,
    "start_time": "2025-10-20T11:40:38.689Z"
   },
   {
    "duration": 379,
    "start_time": "2025-10-20T11:40:39.039Z"
   },
   {
    "duration": 6,
    "start_time": "2025-10-20T11:40:39.420Z"
   },
   {
    "duration": 14,
    "start_time": "2025-10-20T11:40:39.428Z"
   },
   {
    "duration": 36,
    "start_time": "2025-10-20T11:40:39.444Z"
   },
   {
    "duration": 11,
    "start_time": "2025-10-20T11:40:39.482Z"
   },
   {
    "duration": 20,
    "start_time": "2025-10-20T11:40:39.495Z"
   },
   {
    "duration": 23,
    "start_time": "2025-10-20T11:40:39.517Z"
   },
   {
    "duration": 10,
    "start_time": "2025-10-20T11:40:39.542Z"
   },
   {
    "duration": 14,
    "start_time": "2025-10-20T11:40:39.556Z"
   },
   {
    "duration": 32,
    "start_time": "2025-10-20T11:40:39.572Z"
   },
   {
    "duration": 9,
    "start_time": "2025-10-20T11:40:39.606Z"
   },
   {
    "duration": 89,
    "start_time": "2025-10-20T11:40:39.617Z"
   },
   {
    "duration": 26,
    "start_time": "2025-10-20T11:40:39.708Z"
   },
   {
    "duration": 26,
    "start_time": "2025-10-20T11:40:39.735Z"
   },
   {
    "duration": 39,
    "start_time": "2025-10-20T11:40:39.763Z"
   },
   {
    "duration": 65,
    "start_time": "2025-10-20T11:40:39.804Z"
   },
   {
    "duration": 30,
    "start_time": "2025-10-20T11:40:39.871Z"
   },
   {
    "duration": 61,
    "start_time": "2025-10-20T11:40:39.903Z"
   },
   {
    "duration": 15,
    "start_time": "2025-10-20T11:40:39.966Z"
   },
   {
    "duration": 88,
    "start_time": "2025-10-20T11:40:39.982Z"
   },
   {
    "duration": 32,
    "start_time": "2025-10-20T11:40:40.072Z"
   }
  ],
  "colab": {
   "provenance": [],
   "toc_visible": true
  },
  "kernelspec": {
   "display_name": "Python 3 (ipykernel)",
   "language": "python",
   "name": "python3"
  },
  "language_info": {
   "codemirror_mode": {
    "name": "ipython",
    "version": 3
   },
   "file_extension": ".py",
   "mimetype": "text/x-python",
   "name": "python",
   "nbconvert_exporter": "python",
   "pygments_lexer": "ipython3",
   "version": "3.9.5"
  },
  "toc": {
   "base_numbering": 1,
   "nav_menu": {},
   "number_sections": true,
   "sideBar": true,
   "skip_h1_title": true,
   "title_cell": "Table of Contents",
   "title_sidebar": "Contents",
   "toc_cell": false,
   "toc_position": {},
   "toc_section_display": true,
   "toc_window_display": false
  }
 },
 "nbformat": 4,
 "nbformat_minor": 5
}
