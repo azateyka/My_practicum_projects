{
 "cells": [
  {
   "cell_type": "markdown",
   "id": "9f427be8",
   "metadata": {
    "id": "4mJbK1knrJgz"
   },
   "source": [
    "# Проект: Исследование стартапов"
   ]
  },
  {
   "cell_type": "markdown",
   "id": "7723b131",
   "metadata": {
    "id": "P6j0r3worJg0"
   },
   "source": [
    "## Введение"
   ]
  },
  {
   "cell_type": "markdown",
   "id": "033eba2f",
   "metadata": {},
   "source": [
    "### Цели и задачи проекта\n",
    "\n",
    "Финансовая компания, которая предоставляет льготные займы стартапам, хочет войти на инвестиционный рынок с прицелом на покупку, развитие и последующую перепродажу перспективных стартапов. Для разработки модели бизнеса нужна информация. Чтобы выработать общее понимание, какие данные могут быть полезны, проводится исследование на исторических данных."
   ]
  },
  {
   "cell_type": "markdown",
   "id": "728986ea",
   "metadata": {
    "id": "728986ea"
   },
   "source": [
    "### Описание данных\n",
    "\n",
    "Таблица `acquisition` содержит информацию о покупках одними компаниями других компаний\n",
    "\n",
    "Таблица `company_and_rounds` содержит информацию о компаниях и раундах финансирования\n",
    "\n",
    "Таблица `education Содержит` информацию об образовании сотрудника\n",
    "\n",
    "Таблица `people` Содержит информацию о сотрудниках\n",
    "\n",
    "Таблица `degrees` Содержит информацию о типе образования сотрудника"
   ]
  },
  {
   "cell_type": "markdown",
   "id": "51cf427c",
   "metadata": {},
   "source": [
    "### Содержимое проекта\n",
    "\n",
    "- Загрузка данных и знакомство с ними\n",
    "- Предобработка данных\n",
    "- Исследовательский анализ данных\n",
    "- Итоговый вывод и рекомендации\n",
    "\n",
    "---"
   ]
  },
  {
   "cell_type": "markdown",
   "id": "f6827f51",
   "metadata": {
    "id": "xqr6uttCrJg0"
   },
   "source": [
    "\n",
    "## Шаг 1. Знакомство с данными: загрузка и первичная предобработка\n",
    "\n",
    "Названия файлов:\n",
    "* acquisition.csv\n",
    "* company_and_rounds.csv\n",
    "* people.csv\n",
    "* education.csv\n",
    "* degrees.csv\n",
    "\n",
    "Опциональные датасеты:\n",
    "* fund.csv\n",
    "* investment.csv\n",
    "\n",
    "\n",
    "Загружаем библиотеки и данные. Путь к файлам: `https://code.s3.yandex.net/datasets/` + имя файла."
   ]
  },
  {
   "cell_type": "code",
   "execution_count": 1,
   "id": "b983407f",
   "metadata": {
    "id": "2Tm4Pk__Felf"
   },
   "outputs": [
    {
     "name": "stdout",
     "output_type": "stream",
     "text": [
      "Collecting phik\n",
      "  Downloading phik-0.12.5-cp39-cp39-manylinux_2_24_x86_64.manylinux_2_28_x86_64.whl (677 kB)\n",
      "\u001b[K     |████████████████████████████████| 677 kB 2.4 MB/s eta 0:00:01\n",
      "\u001b[?25hRequirement already satisfied: numpy>=1.18.0 in /opt/conda/lib/python3.9/site-packages (from phik) (1.21.1)\n",
      "Requirement already satisfied: pandas>=0.25.1 in /opt/conda/lib/python3.9/site-packages (from phik) (1.2.4)\n",
      "Requirement already satisfied: matplotlib>=2.2.3 in /opt/conda/lib/python3.9/site-packages (from phik) (3.3.4)\n",
      "Requirement already satisfied: joblib>=0.14.1 in /opt/conda/lib/python3.9/site-packages (from phik) (1.1.0)\n",
      "Requirement already satisfied: scipy>=1.5.2 in /opt/conda/lib/python3.9/site-packages (from phik) (1.9.1)\n",
      "Requirement already satisfied: pillow>=6.2.0 in /opt/conda/lib/python3.9/site-packages (from matplotlib>=2.2.3->phik) (8.4.0)\n",
      "Requirement already satisfied: kiwisolver>=1.0.1 in /opt/conda/lib/python3.9/site-packages (from matplotlib>=2.2.3->phik) (1.4.4)\n",
      "Requirement already satisfied: cycler>=0.10 in /opt/conda/lib/python3.9/site-packages (from matplotlib>=2.2.3->phik) (0.11.0)\n",
      "Requirement already satisfied: pyparsing!=2.0.4,!=2.1.2,!=2.1.6,>=2.0.3 in /opt/conda/lib/python3.9/site-packages (from matplotlib>=2.2.3->phik) (2.4.7)\n",
      "Requirement already satisfied: python-dateutil>=2.1 in /opt/conda/lib/python3.9/site-packages (from matplotlib>=2.2.3->phik) (2.8.1)\n",
      "Requirement already satisfied: pytz>=2017.3 in /opt/conda/lib/python3.9/site-packages (from pandas>=0.25.1->phik) (2021.1)\n",
      "Requirement already satisfied: six>=1.5 in /opt/conda/lib/python3.9/site-packages (from python-dateutil>=2.1->matplotlib>=2.2.3->phik) (1.16.0)\n",
      "Installing collected packages: phik\n",
      "Successfully installed phik-0.12.5\n"
     ]
    }
   ],
   "source": [
    "# устанавливаем необходимую библиотеки в случае её отсутствия\n",
    "!pip install phik    "
   ]
  },
  {
   "cell_type": "code",
   "execution_count": 2,
   "id": "ad30a516",
   "metadata": {
    "id": "oNqJ2qpRFebv"
   },
   "outputs": [],
   "source": [
    "# Импортируем библиотеки\n",
    "import pandas as pd\n",
    "\n",
    "# Загружаем библиотеки для визуализации данных\n",
    "import matplotlib.pyplot as plt\n",
    "import seaborn as sns\n",
    "import numpy as np"
   ]
  },
  {
   "cell_type": "code",
   "execution_count": 3,
   "id": "5a89bdeb",
   "metadata": {},
   "outputs": [],
   "source": [
    "# Выгружаем данные в переменные\n",
    "address = 'https://code.s3.yandex.net/datasets/'\n",
    "\n",
    "acquisition_df = pd.read_csv(address+'acquisition.csv')\n",
    "company_and_rounds_df = pd.read_csv(address+'company_and_rounds.csv')\n",
    "people_df = pd.read_csv(address+'people.csv')\n",
    "education_df = pd.read_csv(address+'education.csv')\n",
    "degrees_df = pd.read_csv(address+'degrees.csv')\n",
    "fund_df = pd.read_csv(address+'fund.csv')\n",
    "investment_df = pd.read_csv(address+'investment.csv')"
   ]
  },
  {
   "cell_type": "code",
   "execution_count": 4,
   "id": "d4d5fd27",
   "metadata": {},
   "outputs": [],
   "source": [
    "pd.set_option('display.max_columns', 500)"
   ]
  },
  {
   "cell_type": "code",
   "execution_count": 5,
   "id": "d2bb1b01",
   "metadata": {},
   "outputs": [
    {
     "data": {
      "text/html": [
       "<div>\n",
       "<style scoped>\n",
       "    .dataframe tbody tr th:only-of-type {\n",
       "        vertical-align: middle;\n",
       "    }\n",
       "\n",
       "    .dataframe tbody tr th {\n",
       "        vertical-align: top;\n",
       "    }\n",
       "\n",
       "    .dataframe thead th {\n",
       "        text-align: right;\n",
       "    }\n",
       "</style>\n",
       "<table border=\"1\" class=\"dataframe\">\n",
       "  <thead>\n",
       "    <tr style=\"text-align: right;\">\n",
       "      <th></th>\n",
       "      <th>id</th>\n",
       "      <th>acquiring_company_id</th>\n",
       "      <th>acquired_company_id</th>\n",
       "      <th>term_code</th>\n",
       "      <th>price_amount</th>\n",
       "      <th>acquired_at</th>\n",
       "    </tr>\n",
       "  </thead>\n",
       "  <tbody>\n",
       "    <tr>\n",
       "      <th>0</th>\n",
       "      <td>1</td>\n",
       "      <td>11</td>\n",
       "      <td>10</td>\n",
       "      <td>NaN</td>\n",
       "      <td>20000000</td>\n",
       "      <td>2007-05-30</td>\n",
       "    </tr>\n",
       "    <tr>\n",
       "      <th>1</th>\n",
       "      <td>7</td>\n",
       "      <td>59</td>\n",
       "      <td>72</td>\n",
       "      <td>cash</td>\n",
       "      <td>60000000</td>\n",
       "      <td>2007-07-01</td>\n",
       "    </tr>\n",
       "    <tr>\n",
       "      <th>2</th>\n",
       "      <td>8</td>\n",
       "      <td>24</td>\n",
       "      <td>132</td>\n",
       "      <td>cash</td>\n",
       "      <td>280000000</td>\n",
       "      <td>2007-05-01</td>\n",
       "    </tr>\n",
       "    <tr>\n",
       "      <th>3</th>\n",
       "      <td>9</td>\n",
       "      <td>59</td>\n",
       "      <td>155</td>\n",
       "      <td>cash</td>\n",
       "      <td>100000000</td>\n",
       "      <td>2007-06-01</td>\n",
       "    </tr>\n",
       "    <tr>\n",
       "      <th>4</th>\n",
       "      <td>10</td>\n",
       "      <td>212</td>\n",
       "      <td>215</td>\n",
       "      <td>cash</td>\n",
       "      <td>25000000</td>\n",
       "      <td>2007-07-01</td>\n",
       "    </tr>\n",
       "  </tbody>\n",
       "</table>\n",
       "</div>"
      ],
      "text/plain": [
       "   id  acquiring_company_id  acquired_company_id term_code  price_amount  \\\n",
       "0   1                    11                   10       NaN      20000000   \n",
       "1   7                    59                   72      cash      60000000   \n",
       "2   8                    24                  132      cash     280000000   \n",
       "3   9                    59                  155      cash     100000000   \n",
       "4  10                   212                  215      cash      25000000   \n",
       "\n",
       "  acquired_at  \n",
       "0  2007-05-30  \n",
       "1  2007-07-01  \n",
       "2  2007-05-01  \n",
       "3  2007-06-01  \n",
       "4  2007-07-01  "
      ]
     },
     "execution_count": 5,
     "metadata": {},
     "output_type": "execute_result"
    }
   ],
   "source": [
    "# Выводим первые строки датафрейма на экран\n",
    "acquisition_df.head()"
   ]
  },
  {
   "cell_type": "code",
   "execution_count": 6,
   "id": "2ba4e90e",
   "metadata": {},
   "outputs": [],
   "source": [
    "# Выводим информацию о датафрейме\n",
    "# acquisition_df.info()"
   ]
  },
  {
   "cell_type": "code",
   "execution_count": 7,
   "id": "30a5b9cd",
   "metadata": {},
   "outputs": [
    {
     "data": {
      "text/html": [
       "<div>\n",
       "<style scoped>\n",
       "    .dataframe tbody tr th:only-of-type {\n",
       "        vertical-align: middle;\n",
       "    }\n",
       "\n",
       "    .dataframe tbody tr th {\n",
       "        vertical-align: top;\n",
       "    }\n",
       "\n",
       "    .dataframe thead th {\n",
       "        text-align: right;\n",
       "    }\n",
       "</style>\n",
       "<table border=\"1\" class=\"dataframe\">\n",
       "  <thead>\n",
       "    <tr style=\"text-align: right;\">\n",
       "      <th></th>\n",
       "      <th>company  ID</th>\n",
       "      <th>name</th>\n",
       "      <th>category  code</th>\n",
       "      <th>status</th>\n",
       "      <th>founded  at</th>\n",
       "      <th>closed  at</th>\n",
       "      <th>domain</th>\n",
       "      <th>network  username</th>\n",
       "      <th>country  code</th>\n",
       "      <th>investment  rounds</th>\n",
       "      <th>funding  rounds</th>\n",
       "      <th>funding  total</th>\n",
       "      <th>milestones</th>\n",
       "      <th>funding  round  id</th>\n",
       "      <th>company  id</th>\n",
       "      <th>funded  at</th>\n",
       "      <th>funding  round  type</th>\n",
       "      <th>raised  amount</th>\n",
       "      <th>pre  money  valuation</th>\n",
       "      <th>participants</th>\n",
       "      <th>is  first  round</th>\n",
       "      <th>is  last  round</th>\n",
       "    </tr>\n",
       "  </thead>\n",
       "  <tbody>\n",
       "    <tr>\n",
       "      <th>0</th>\n",
       "      <td>1.0</td>\n",
       "      <td>Wetpaint</td>\n",
       "      <td>web</td>\n",
       "      <td>operating</td>\n",
       "      <td>2005-10-17</td>\n",
       "      <td>NaN</td>\n",
       "      <td>wetpaint-inc.com</td>\n",
       "      <td>BachelrWetpaint</td>\n",
       "      <td>USA</td>\n",
       "      <td>0.0</td>\n",
       "      <td>3.0</td>\n",
       "      <td>39750000.0</td>\n",
       "      <td>5.0</td>\n",
       "      <td>888.0</td>\n",
       "      <td>1.0</td>\n",
       "      <td>2005-10-01</td>\n",
       "      <td>series-a</td>\n",
       "      <td>5250000.0</td>\n",
       "      <td>0.0</td>\n",
       "      <td>2.0</td>\n",
       "      <td>0.0</td>\n",
       "      <td>1.0</td>\n",
       "    </tr>\n",
       "    <tr>\n",
       "      <th>1</th>\n",
       "      <td>1.0</td>\n",
       "      <td>Wetpaint</td>\n",
       "      <td>web</td>\n",
       "      <td>operating</td>\n",
       "      <td>2005-10-17</td>\n",
       "      <td>NaN</td>\n",
       "      <td>wetpaint-inc.com</td>\n",
       "      <td>BachelrWetpaint</td>\n",
       "      <td>USA</td>\n",
       "      <td>0.0</td>\n",
       "      <td>3.0</td>\n",
       "      <td>39750000.0</td>\n",
       "      <td>5.0</td>\n",
       "      <td>889.0</td>\n",
       "      <td>1.0</td>\n",
       "      <td>2007-01-01</td>\n",
       "      <td>series-b</td>\n",
       "      <td>9500000.0</td>\n",
       "      <td>0.0</td>\n",
       "      <td>3.0</td>\n",
       "      <td>0.0</td>\n",
       "      <td>0.0</td>\n",
       "    </tr>\n",
       "    <tr>\n",
       "      <th>2</th>\n",
       "      <td>1.0</td>\n",
       "      <td>Wetpaint</td>\n",
       "      <td>web</td>\n",
       "      <td>operating</td>\n",
       "      <td>2005-10-17</td>\n",
       "      <td>NaN</td>\n",
       "      <td>wetpaint-inc.com</td>\n",
       "      <td>BachelrWetpaint</td>\n",
       "      <td>USA</td>\n",
       "      <td>0.0</td>\n",
       "      <td>3.0</td>\n",
       "      <td>39750000.0</td>\n",
       "      <td>5.0</td>\n",
       "      <td>2312.0</td>\n",
       "      <td>1.0</td>\n",
       "      <td>2008-05-19</td>\n",
       "      <td>series-c+</td>\n",
       "      <td>25000000.0</td>\n",
       "      <td>0.0</td>\n",
       "      <td>4.0</td>\n",
       "      <td>1.0</td>\n",
       "      <td>0.0</td>\n",
       "    </tr>\n",
       "    <tr>\n",
       "      <th>3</th>\n",
       "      <td>10.0</td>\n",
       "      <td>Flektor</td>\n",
       "      <td>games_video</td>\n",
       "      <td>acquired</td>\n",
       "      <td>NaN</td>\n",
       "      <td>NaN</td>\n",
       "      <td>flektor.com</td>\n",
       "      <td>NaN</td>\n",
       "      <td>USA</td>\n",
       "      <td>0.0</td>\n",
       "      <td>0.0</td>\n",
       "      <td>0.0</td>\n",
       "      <td>0.0</td>\n",
       "      <td>NaN</td>\n",
       "      <td>NaN</td>\n",
       "      <td>NaN</td>\n",
       "      <td>NaN</td>\n",
       "      <td>NaN</td>\n",
       "      <td>NaN</td>\n",
       "      <td>NaN</td>\n",
       "      <td>NaN</td>\n",
       "      <td>NaN</td>\n",
       "    </tr>\n",
       "    <tr>\n",
       "      <th>4</th>\n",
       "      <td>100.0</td>\n",
       "      <td>There</td>\n",
       "      <td>games_video</td>\n",
       "      <td>acquired</td>\n",
       "      <td>NaN</td>\n",
       "      <td>NaN</td>\n",
       "      <td>there.com</td>\n",
       "      <td>NaN</td>\n",
       "      <td>USA</td>\n",
       "      <td>0.0</td>\n",
       "      <td>0.0</td>\n",
       "      <td>0.0</td>\n",
       "      <td>4.0</td>\n",
       "      <td>NaN</td>\n",
       "      <td>NaN</td>\n",
       "      <td>NaN</td>\n",
       "      <td>NaN</td>\n",
       "      <td>NaN</td>\n",
       "      <td>NaN</td>\n",
       "      <td>NaN</td>\n",
       "      <td>NaN</td>\n",
       "      <td>NaN</td>\n",
       "    </tr>\n",
       "  </tbody>\n",
       "</table>\n",
       "</div>"
      ],
      "text/plain": [
       "   company  ID      name category  code     status founded  at closed  at  \\\n",
       "0          1.0  Wetpaint            web  operating  2005-10-17        NaN   \n",
       "1          1.0  Wetpaint            web  operating  2005-10-17        NaN   \n",
       "2          1.0  Wetpaint            web  operating  2005-10-17        NaN   \n",
       "3         10.0   Flektor    games_video   acquired         NaN        NaN   \n",
       "4        100.0     There    games_video   acquired         NaN        NaN   \n",
       "\n",
       "             domain network  username country  code  investment  rounds  \\\n",
       "0  wetpaint-inc.com   BachelrWetpaint           USA                 0.0   \n",
       "1  wetpaint-inc.com   BachelrWetpaint           USA                 0.0   \n",
       "2  wetpaint-inc.com   BachelrWetpaint           USA                 0.0   \n",
       "3       flektor.com               NaN           USA                 0.0   \n",
       "4         there.com               NaN           USA                 0.0   \n",
       "\n",
       "   funding  rounds  funding  total  milestones  funding  round  id  \\\n",
       "0              3.0      39750000.0         5.0               888.0   \n",
       "1              3.0      39750000.0         5.0               889.0   \n",
       "2              3.0      39750000.0         5.0              2312.0   \n",
       "3              0.0             0.0         0.0                 NaN   \n",
       "4              0.0             0.0         4.0                 NaN   \n",
       "\n",
       "   company  id  funded  at funding  round  type  raised  amount  \\\n",
       "0          1.0  2005-10-01             series-a       5250000.0   \n",
       "1          1.0  2007-01-01             series-b       9500000.0   \n",
       "2          1.0  2008-05-19            series-c+      25000000.0   \n",
       "3          NaN         NaN                  NaN             NaN   \n",
       "4          NaN         NaN                  NaN             NaN   \n",
       "\n",
       "   pre  money  valuation  participants  is  first  round  is  last  round  \n",
       "0                    0.0           2.0               0.0              1.0  \n",
       "1                    0.0           3.0               0.0              0.0  \n",
       "2                    0.0           4.0               1.0              0.0  \n",
       "3                    NaN           NaN               NaN              NaN  \n",
       "4                    NaN           NaN               NaN              NaN  "
      ]
     },
     "execution_count": 7,
     "metadata": {},
     "output_type": "execute_result"
    }
   ],
   "source": [
    "# Выводим первые строки датафрейма на экран\n",
    "company_and_rounds_df.head()"
   ]
  },
  {
   "cell_type": "code",
   "execution_count": 8,
   "id": "8abd0350",
   "metadata": {},
   "outputs": [],
   "source": [
    "# Выводим информацию о датафрейме\n",
    "# company_and_rounds_df.info()"
   ]
  },
  {
   "cell_type": "code",
   "execution_count": 9,
   "id": "8d0035d7",
   "metadata": {},
   "outputs": [
    {
     "data": {
      "text/html": [
       "<div>\n",
       "<style scoped>\n",
       "    .dataframe tbody tr th:only-of-type {\n",
       "        vertical-align: middle;\n",
       "    }\n",
       "\n",
       "    .dataframe tbody tr th {\n",
       "        vertical-align: top;\n",
       "    }\n",
       "\n",
       "    .dataframe thead th {\n",
       "        text-align: right;\n",
       "    }\n",
       "</style>\n",
       "<table border=\"1\" class=\"dataframe\">\n",
       "  <thead>\n",
       "    <tr style=\"text-align: right;\">\n",
       "      <th></th>\n",
       "      <th>id</th>\n",
       "      <th>first_name</th>\n",
       "      <th>last_name</th>\n",
       "      <th>company_id</th>\n",
       "      <th>network_username</th>\n",
       "    </tr>\n",
       "  </thead>\n",
       "  <tbody>\n",
       "    <tr>\n",
       "      <th>0</th>\n",
       "      <td>10</td>\n",
       "      <td>Mark</td>\n",
       "      <td>Zuckerberg</td>\n",
       "      <td>5.0</td>\n",
       "      <td>NaN</td>\n",
       "    </tr>\n",
       "    <tr>\n",
       "      <th>1</th>\n",
       "      <td>100</td>\n",
       "      <td>Peter</td>\n",
       "      <td>Lester</td>\n",
       "      <td>27.0</td>\n",
       "      <td>NaN</td>\n",
       "    </tr>\n",
       "    <tr>\n",
       "      <th>2</th>\n",
       "      <td>1000</td>\n",
       "      <td>Dr. Steven</td>\n",
       "      <td>E. Saunders</td>\n",
       "      <td>292.0</td>\n",
       "      <td>NaN</td>\n",
       "    </tr>\n",
       "    <tr>\n",
       "      <th>3</th>\n",
       "      <td>10000</td>\n",
       "      <td>Neil</td>\n",
       "      <td>Capel</td>\n",
       "      <td>2526.0</td>\n",
       "      <td>NaN</td>\n",
       "    </tr>\n",
       "    <tr>\n",
       "      <th>4</th>\n",
       "      <td>100000</td>\n",
       "      <td>Sue</td>\n",
       "      <td>Pilsch</td>\n",
       "      <td>NaN</td>\n",
       "      <td>NaN</td>\n",
       "    </tr>\n",
       "  </tbody>\n",
       "</table>\n",
       "</div>"
      ],
      "text/plain": [
       "       id  first_name    last_name  company_id network_username\n",
       "0      10        Mark   Zuckerberg         5.0              NaN\n",
       "1     100       Peter       Lester        27.0              NaN\n",
       "2    1000  Dr. Steven  E. Saunders       292.0              NaN\n",
       "3   10000        Neil        Capel      2526.0              NaN\n",
       "4  100000         Sue       Pilsch         NaN              NaN"
      ]
     },
     "execution_count": 9,
     "metadata": {},
     "output_type": "execute_result"
    }
   ],
   "source": [
    "# Выводим первые строки датафрейма на экран\n",
    "people_df.head()"
   ]
  },
  {
   "cell_type": "code",
   "execution_count": 10,
   "id": "e877e4a4",
   "metadata": {},
   "outputs": [],
   "source": [
    "# Выводим информацию о датафрейме\n",
    "# people_df.info()"
   ]
  },
  {
   "cell_type": "code",
   "execution_count": 11,
   "id": "b4f31f55",
   "metadata": {},
   "outputs": [
    {
     "data": {
      "text/html": [
       "<div>\n",
       "<style scoped>\n",
       "    .dataframe tbody tr th:only-of-type {\n",
       "        vertical-align: middle;\n",
       "    }\n",
       "\n",
       "    .dataframe tbody tr th {\n",
       "        vertical-align: top;\n",
       "    }\n",
       "\n",
       "    .dataframe thead th {\n",
       "        text-align: right;\n",
       "    }\n",
       "</style>\n",
       "<table border=\"1\" class=\"dataframe\">\n",
       "  <thead>\n",
       "    <tr style=\"text-align: right;\">\n",
       "      <th></th>\n",
       "      <th>id</th>\n",
       "      <th>person_id</th>\n",
       "      <th>instituition</th>\n",
       "      <th>graduated_at</th>\n",
       "    </tr>\n",
       "  </thead>\n",
       "  <tbody>\n",
       "    <tr>\n",
       "      <th>0</th>\n",
       "      <td>1</td>\n",
       "      <td>6117</td>\n",
       "      <td>NaN</td>\n",
       "      <td>NaN</td>\n",
       "    </tr>\n",
       "    <tr>\n",
       "      <th>1</th>\n",
       "      <td>2</td>\n",
       "      <td>6136</td>\n",
       "      <td>Washington University, St. Louis</td>\n",
       "      <td>1990-01-01</td>\n",
       "    </tr>\n",
       "    <tr>\n",
       "      <th>2</th>\n",
       "      <td>3</td>\n",
       "      <td>6136</td>\n",
       "      <td>Boston University</td>\n",
       "      <td>1992-01-01</td>\n",
       "    </tr>\n",
       "    <tr>\n",
       "      <th>3</th>\n",
       "      <td>4</td>\n",
       "      <td>6005</td>\n",
       "      <td>University of Greenwich</td>\n",
       "      <td>2006-01-01</td>\n",
       "    </tr>\n",
       "    <tr>\n",
       "      <th>4</th>\n",
       "      <td>5</td>\n",
       "      <td>5832</td>\n",
       "      <td>Rice University</td>\n",
       "      <td>NaN</td>\n",
       "    </tr>\n",
       "  </tbody>\n",
       "</table>\n",
       "</div>"
      ],
      "text/plain": [
       "   id  person_id                      instituition graduated_at\n",
       "0   1       6117                               NaN          NaN\n",
       "1   2       6136  Washington University, St. Louis   1990-01-01\n",
       "2   3       6136                 Boston University   1992-01-01\n",
       "3   4       6005           University of Greenwich   2006-01-01\n",
       "4   5       5832                   Rice University          NaN"
      ]
     },
     "execution_count": 11,
     "metadata": {},
     "output_type": "execute_result"
    }
   ],
   "source": [
    "# Выводим первые строки датафрейма на экран\n",
    "education_df.head()"
   ]
  },
  {
   "cell_type": "code",
   "execution_count": 12,
   "id": "e805ce49",
   "metadata": {},
   "outputs": [],
   "source": [
    "# Выводим информацию о датафрейме\n",
    "# education_df.info()"
   ]
  },
  {
   "cell_type": "code",
   "execution_count": 13,
   "id": "cf4616d1",
   "metadata": {},
   "outputs": [
    {
     "data": {
      "text/html": [
       "<div>\n",
       "<style scoped>\n",
       "    .dataframe tbody tr th:only-of-type {\n",
       "        vertical-align: middle;\n",
       "    }\n",
       "\n",
       "    .dataframe tbody tr th {\n",
       "        vertical-align: top;\n",
       "    }\n",
       "\n",
       "    .dataframe thead th {\n",
       "        text-align: right;\n",
       "    }\n",
       "</style>\n",
       "<table border=\"1\" class=\"dataframe\">\n",
       "  <thead>\n",
       "    <tr style=\"text-align: right;\">\n",
       "      <th></th>\n",
       "      <th>id</th>\n",
       "      <th>object_id</th>\n",
       "      <th>degree_type</th>\n",
       "      <th>subject</th>\n",
       "    </tr>\n",
       "  </thead>\n",
       "  <tbody>\n",
       "    <tr>\n",
       "      <th>0</th>\n",
       "      <td>1</td>\n",
       "      <td>p:6117</td>\n",
       "      <td>MBA</td>\n",
       "      <td>NaN</td>\n",
       "    </tr>\n",
       "    <tr>\n",
       "      <th>1</th>\n",
       "      <td>2</td>\n",
       "      <td>p:6136</td>\n",
       "      <td>BA</td>\n",
       "      <td>English, French</td>\n",
       "    </tr>\n",
       "    <tr>\n",
       "      <th>2</th>\n",
       "      <td>3</td>\n",
       "      <td>p:6136</td>\n",
       "      <td>MS</td>\n",
       "      <td>Mass Communication</td>\n",
       "    </tr>\n",
       "    <tr>\n",
       "      <th>3</th>\n",
       "      <td>4</td>\n",
       "      <td>p:6005</td>\n",
       "      <td>MS</td>\n",
       "      <td>Internet Technology</td>\n",
       "    </tr>\n",
       "    <tr>\n",
       "      <th>4</th>\n",
       "      <td>5</td>\n",
       "      <td>p:5832</td>\n",
       "      <td>BCS</td>\n",
       "      <td>Computer Science, Psychology</td>\n",
       "    </tr>\n",
       "  </tbody>\n",
       "</table>\n",
       "</div>"
      ],
      "text/plain": [
       "   id object_id degree_type                       subject\n",
       "0   1    p:6117         MBA                           NaN\n",
       "1   2    p:6136          BA               English, French\n",
       "2   3    p:6136          MS            Mass Communication\n",
       "3   4    p:6005          MS           Internet Technology\n",
       "4   5    p:5832         BCS  Computer Science, Psychology"
      ]
     },
     "execution_count": 13,
     "metadata": {},
     "output_type": "execute_result"
    }
   ],
   "source": [
    "# Выводим первые строки датафрейма на экран\n",
    "degrees_df.head()"
   ]
  },
  {
   "cell_type": "code",
   "execution_count": 14,
   "id": "5e62aa7e",
   "metadata": {},
   "outputs": [],
   "source": [
    "# Выводим информацию о датафрейме\n",
    "# degrees_df.info()"
   ]
  },
  {
   "cell_type": "markdown",
   "id": "2e96f1dd",
   "metadata": {},
   "source": [
    "* Датафрейм `acquisition_df` содержит 6 столбцов 9407 строк. Названия соответствуют содержанию столбцов. Больше всего пропусков в столбце `term_code`. Возможно пропуски в \"вариантах расчёта\" связаны с отсутствием информации или много различных способов и  не всегда используется один вариант расчета.\n",
    "* Датафрейм `company_and_rounds_df` содержит 22 столбца 217774 строк. Больше всего пропусков в столбце `closed_at`. Пропуски в \"дата закрытия компании\" обусловленны тем , что компании не закрыты, а работают.\n",
    "* Датафрейм `people_df` содержит 5 столбцов 226709 строк. Названия соответствуют содержанию столбцов. Больше всего пропусков в столбце `company_id`. \"идентификатор компании\" отсутствует, возможно из за ошибки при заполнении данных.\n",
    "* Датафрейм `education_df` содержит 4 столбцов 109610 строк. Названия соответствуют содержанию столбцов. Больше всего пропусков в столбце `graduated_at`. \"дата получения образования\" может отсутствовать, потому что сотрудник не окончил учебное заведение.\n",
    "* Датафрейм `degrees_df` содержит 4 столбцов 109610 строк. Названия соответствуют содержанию столбцов. Больше всего пропусков в столбце `subject`. \"специальность\" может быть не указанна в типе образования сотрудника.\n"
   ]
  },
  {
   "cell_type": "code",
   "execution_count": 15,
   "id": "42ec4c15",
   "metadata": {},
   "outputs": [],
   "source": [
    "# Создаем словарь с датафреймами\n",
    "dfs = {11: acquisition_df, 22: company_and_rounds_df, 33: people_df, 44:education_df, 55: degrees_df, 66: fund_df, 77: investment_df}"
   ]
  },
  {
   "cell_type": "code",
   "execution_count": 16,
   "id": "d5861245",
   "metadata": {},
   "outputs": [
    {
     "name": "stdout",
     "output_type": "stream",
     "text": [
      "----------       11       ----------\n"
     ]
    },
    {
     "data": {
      "text/html": [
       "<div>\n",
       "<style scoped>\n",
       "    .dataframe tbody tr th:only-of-type {\n",
       "        vertical-align: middle;\n",
       "    }\n",
       "\n",
       "    .dataframe tbody tr th {\n",
       "        vertical-align: top;\n",
       "    }\n",
       "\n",
       "    .dataframe thead th {\n",
       "        text-align: right;\n",
       "    }\n",
       "</style>\n",
       "<table border=\"1\" class=\"dataframe\">\n",
       "  <thead>\n",
       "    <tr style=\"text-align: right;\">\n",
       "      <th></th>\n",
       "      <th>Тип данных колонки</th>\n",
       "      <th>Тип значения</th>\n",
       "      <th>Пропущено</th>\n",
       "      <th>0</th>\n",
       "      <th>1</th>\n",
       "      <th>9406</th>\n",
       "    </tr>\n",
       "  </thead>\n",
       "  <tbody>\n",
       "    <tr>\n",
       "      <th>id</th>\n",
       "      <td>int64</td>\n",
       "      <td>&lt;class 'numpy.int64'&gt;</td>\n",
       "      <td></td>\n",
       "      <td>1</td>\n",
       "      <td>7</td>\n",
       "      <td>10529</td>\n",
       "    </tr>\n",
       "    <tr>\n",
       "      <th>acquiring_company_id</th>\n",
       "      <td>int64</td>\n",
       "      <td>&lt;class 'numpy.int64'&gt;</td>\n",
       "      <td></td>\n",
       "      <td>11</td>\n",
       "      <td>59</td>\n",
       "      <td>53</td>\n",
       "    </tr>\n",
       "    <tr>\n",
       "      <th>acquired_company_id</th>\n",
       "      <td>int64</td>\n",
       "      <td>&lt;class 'numpy.int64'&gt;</td>\n",
       "      <td></td>\n",
       "      <td>10</td>\n",
       "      <td>72</td>\n",
       "      <td>92846</td>\n",
       "    </tr>\n",
       "    <tr>\n",
       "      <th>term_code</th>\n",
       "      <td>object</td>\n",
       "      <td>&lt;class 'str'&gt;</td>\n",
       "      <td>80.54%</td>\n",
       "      <td>NaN</td>\n",
       "      <td>cash</td>\n",
       "      <td>NaN</td>\n",
       "    </tr>\n",
       "    <tr>\n",
       "      <th>price_amount</th>\n",
       "      <td>int64</td>\n",
       "      <td>&lt;class 'numpy.int64'&gt;</td>\n",
       "      <td></td>\n",
       "      <td>20000000</td>\n",
       "      <td>60000000</td>\n",
       "      <td>42600000</td>\n",
       "    </tr>\n",
       "    <tr>\n",
       "      <th>acquired_at</th>\n",
       "      <td>object</td>\n",
       "      <td>&lt;class 'str'&gt;</td>\n",
       "      <td>0.31%</td>\n",
       "      <td>2007-05-30</td>\n",
       "      <td>2007-07-01</td>\n",
       "      <td>2013-12-12</td>\n",
       "    </tr>\n",
       "  </tbody>\n",
       "</table>\n",
       "</div>"
      ],
      "text/plain": [
       "                     Тип данных колонки           Тип значения Пропущено  \\\n",
       "id                                int64  <class 'numpy.int64'>             \n",
       "acquiring_company_id              int64  <class 'numpy.int64'>             \n",
       "acquired_company_id               int64  <class 'numpy.int64'>             \n",
       "term_code                        object          <class 'str'>    80.54%   \n",
       "price_amount                      int64  <class 'numpy.int64'>             \n",
       "acquired_at                      object          <class 'str'>     0.31%   \n",
       "\n",
       "                               0           1        9406  \n",
       "id                             1           7       10529  \n",
       "acquiring_company_id          11          59          53  \n",
       "acquired_company_id           10          72       92846  \n",
       "term_code                    NaN        cash         NaN  \n",
       "price_amount            20000000    60000000    42600000  \n",
       "acquired_at           2007-05-30  2007-07-01  2013-12-12  "
      ]
     },
     "metadata": {},
     "output_type": "display_data"
    },
    {
     "name": "stdout",
     "output_type": "stream",
     "text": [
      "\n",
      "----------       22       ----------\n"
     ]
    },
    {
     "data": {
      "text/html": [
       "<div>\n",
       "<style scoped>\n",
       "    .dataframe tbody tr th:only-of-type {\n",
       "        vertical-align: middle;\n",
       "    }\n",
       "\n",
       "    .dataframe tbody tr th {\n",
       "        vertical-align: top;\n",
       "    }\n",
       "\n",
       "    .dataframe thead th {\n",
       "        text-align: right;\n",
       "    }\n",
       "</style>\n",
       "<table border=\"1\" class=\"dataframe\">\n",
       "  <thead>\n",
       "    <tr style=\"text-align: right;\">\n",
       "      <th></th>\n",
       "      <th>Тип данных колонки</th>\n",
       "      <th>Тип значения</th>\n",
       "      <th>Пропущено</th>\n",
       "      <th>0</th>\n",
       "      <th>91</th>\n",
       "      <th>217773</th>\n",
       "    </tr>\n",
       "  </thead>\n",
       "  <tbody>\n",
       "    <tr>\n",
       "      <th>company  ID</th>\n",
       "      <td>float64</td>\n",
       "      <td>&lt;class 'numpy.float64'&gt;</td>\n",
       "      <td>0.14%</td>\n",
       "      <td>1.0</td>\n",
       "      <td>1006.0</td>\n",
       "      <td>NaN</td>\n",
       "    </tr>\n",
       "    <tr>\n",
       "      <th>name</th>\n",
       "      <td>object</td>\n",
       "      <td>&lt;class 'str'&gt;</td>\n",
       "      <td>0.14%</td>\n",
       "      <td>Wetpaint</td>\n",
       "      <td>Youlicit</td>\n",
       "      <td>NaN</td>\n",
       "    </tr>\n",
       "    <tr>\n",
       "      <th>category  code</th>\n",
       "      <td>object</td>\n",
       "      <td>&lt;class 'str'&gt;</td>\n",
       "      <td>33.93%</td>\n",
       "      <td>web</td>\n",
       "      <td>web</td>\n",
       "      <td>NaN</td>\n",
       "    </tr>\n",
       "    <tr>\n",
       "      <th>status</th>\n",
       "      <td>object</td>\n",
       "      <td>&lt;class 'str'&gt;</td>\n",
       "      <td>0.14%</td>\n",
       "      <td>operating</td>\n",
       "      <td>closed</td>\n",
       "      <td>NaN</td>\n",
       "    </tr>\n",
       "    <tr>\n",
       "      <th>founded  at</th>\n",
       "      <td>object</td>\n",
       "      <td>&lt;class 'str'&gt;</td>\n",
       "      <td>49.51%</td>\n",
       "      <td>2005-10-17</td>\n",
       "      <td>2006-09-01</td>\n",
       "      <td>NaN</td>\n",
       "    </tr>\n",
       "    <tr>\n",
       "      <th>closed  at</th>\n",
       "      <td>object</td>\n",
       "      <td>&lt;class 'str'&gt;</td>\n",
       "      <td>98.42%</td>\n",
       "      <td>NaN</td>\n",
       "      <td>2010-05-22</td>\n",
       "      <td>NaN</td>\n",
       "    </tr>\n",
       "    <tr>\n",
       "      <th>domain</th>\n",
       "      <td>object</td>\n",
       "      <td>&lt;class 'str'&gt;</td>\n",
       "      <td>32.43%</td>\n",
       "      <td>wetpaint-inc.com</td>\n",
       "      <td>youlicit.com</td>\n",
       "      <td>NaN</td>\n",
       "    </tr>\n",
       "    <tr>\n",
       "      <th>network  username</th>\n",
       "      <td>object</td>\n",
       "      <td>&lt;class 'str'&gt;</td>\n",
       "      <td>56.13%</td>\n",
       "      <td>BachelrWetpaint</td>\n",
       "      <td>youlicit</td>\n",
       "      <td>NaN</td>\n",
       "    </tr>\n",
       "    <tr>\n",
       "      <th>country  code</th>\n",
       "      <td>object</td>\n",
       "      <td>&lt;class 'str'&gt;</td>\n",
       "      <td>50.13%</td>\n",
       "      <td>USA</td>\n",
       "      <td>USA</td>\n",
       "      <td>NaN</td>\n",
       "    </tr>\n",
       "    <tr>\n",
       "      <th>investment  rounds</th>\n",
       "      <td>float64</td>\n",
       "      <td>&lt;class 'numpy.float64'&gt;</td>\n",
       "      <td>0.14%</td>\n",
       "      <td>0.0</td>\n",
       "      <td>0.0</td>\n",
       "      <td>NaN</td>\n",
       "    </tr>\n",
       "    <tr>\n",
       "      <th>funding  rounds</th>\n",
       "      <td>float64</td>\n",
       "      <td>&lt;class 'numpy.float64'&gt;</td>\n",
       "      <td>0.14%</td>\n",
       "      <td>3.0</td>\n",
       "      <td>1.0</td>\n",
       "      <td>NaN</td>\n",
       "    </tr>\n",
       "    <tr>\n",
       "      <th>funding  total</th>\n",
       "      <td>float64</td>\n",
       "      <td>&lt;class 'numpy.float64'&gt;</td>\n",
       "      <td>0.14%</td>\n",
       "      <td>39750000.0</td>\n",
       "      <td>0.0</td>\n",
       "      <td>NaN</td>\n",
       "    </tr>\n",
       "    <tr>\n",
       "      <th>milestones</th>\n",
       "      <td>float64</td>\n",
       "      <td>&lt;class 'numpy.float64'&gt;</td>\n",
       "      <td>0.14%</td>\n",
       "      <td>5.0</td>\n",
       "      <td>0.0</td>\n",
       "      <td>NaN</td>\n",
       "    </tr>\n",
       "    <tr>\n",
       "      <th>funding  round  id</th>\n",
       "      <td>float64</td>\n",
       "      <td>&lt;class 'numpy.float64'&gt;</td>\n",
       "      <td>75.70%</td>\n",
       "      <td>888.0</td>\n",
       "      <td>3178.0</td>\n",
       "      <td>57063.0</td>\n",
       "    </tr>\n",
       "    <tr>\n",
       "      <th>company  id</th>\n",
       "      <td>float64</td>\n",
       "      <td>&lt;class 'numpy.float64'&gt;</td>\n",
       "      <td>75.70%</td>\n",
       "      <td>1.0</td>\n",
       "      <td>1006.0</td>\n",
       "      <td>284191.0</td>\n",
       "    </tr>\n",
       "    <tr>\n",
       "      <th>funded  at</th>\n",
       "      <td>object</td>\n",
       "      <td>&lt;class 'str'&gt;</td>\n",
       "      <td>75.81%</td>\n",
       "      <td>2005-10-01</td>\n",
       "      <td>2008-01-01</td>\n",
       "      <td>2013-12-04</td>\n",
       "    </tr>\n",
       "    <tr>\n",
       "      <th>funding  round  type</th>\n",
       "      <td>object</td>\n",
       "      <td>&lt;class 'str'&gt;</td>\n",
       "      <td>75.70%</td>\n",
       "      <td>series-a</td>\n",
       "      <td>angel</td>\n",
       "      <td>venture</td>\n",
       "    </tr>\n",
       "    <tr>\n",
       "      <th>raised  amount</th>\n",
       "      <td>float64</td>\n",
       "      <td>&lt;class 'numpy.float64'&gt;</td>\n",
       "      <td>75.70%</td>\n",
       "      <td>5250000.0</td>\n",
       "      <td>0.0</td>\n",
       "      <td>7000000.0</td>\n",
       "    </tr>\n",
       "    <tr>\n",
       "      <th>pre  money  valuation</th>\n",
       "      <td>float64</td>\n",
       "      <td>&lt;class 'numpy.float64'&gt;</td>\n",
       "      <td>75.70%</td>\n",
       "      <td>0.0</td>\n",
       "      <td>0.0</td>\n",
       "      <td>0.0</td>\n",
       "    </tr>\n",
       "    <tr>\n",
       "      <th>participants</th>\n",
       "      <td>float64</td>\n",
       "      <td>&lt;class 'numpy.float64'&gt;</td>\n",
       "      <td>75.70%</td>\n",
       "      <td>2.0</td>\n",
       "      <td>1.0</td>\n",
       "      <td>4.0</td>\n",
       "    </tr>\n",
       "    <tr>\n",
       "      <th>is  first  round</th>\n",
       "      <td>float64</td>\n",
       "      <td>&lt;class 'numpy.float64'&gt;</td>\n",
       "      <td>75.70%</td>\n",
       "      <td>0.0</td>\n",
       "      <td>1.0</td>\n",
       "      <td>1.0</td>\n",
       "    </tr>\n",
       "    <tr>\n",
       "      <th>is  last  round</th>\n",
       "      <td>float64</td>\n",
       "      <td>&lt;class 'numpy.float64'&gt;</td>\n",
       "      <td>75.70%</td>\n",
       "      <td>1.0</td>\n",
       "      <td>1.0</td>\n",
       "      <td>1.0</td>\n",
       "    </tr>\n",
       "  </tbody>\n",
       "</table>\n",
       "</div>"
      ],
      "text/plain": [
       "                      Тип данных колонки             Тип значения Пропущено  \\\n",
       "company  ID                      float64  <class 'numpy.float64'>     0.14%   \n",
       "name                              object            <class 'str'>     0.14%   \n",
       "category  code                    object            <class 'str'>    33.93%   \n",
       "status                            object            <class 'str'>     0.14%   \n",
       "founded  at                       object            <class 'str'>    49.51%   \n",
       "closed  at                        object            <class 'str'>    98.42%   \n",
       "domain                            object            <class 'str'>    32.43%   \n",
       "network  username                 object            <class 'str'>    56.13%   \n",
       "country  code                     object            <class 'str'>    50.13%   \n",
       "investment  rounds               float64  <class 'numpy.float64'>     0.14%   \n",
       "funding  rounds                  float64  <class 'numpy.float64'>     0.14%   \n",
       "funding  total                   float64  <class 'numpy.float64'>     0.14%   \n",
       "milestones                       float64  <class 'numpy.float64'>     0.14%   \n",
       "funding  round  id               float64  <class 'numpy.float64'>    75.70%   \n",
       "company  id                      float64  <class 'numpy.float64'>    75.70%   \n",
       "funded  at                        object            <class 'str'>    75.81%   \n",
       "funding  round  type              object            <class 'str'>    75.70%   \n",
       "raised  amount                   float64  <class 'numpy.float64'>    75.70%   \n",
       "pre  money  valuation            float64  <class 'numpy.float64'>    75.70%   \n",
       "participants                     float64  <class 'numpy.float64'>    75.70%   \n",
       "is  first  round                 float64  <class 'numpy.float64'>    75.70%   \n",
       "is  last  round                  float64  <class 'numpy.float64'>    75.70%   \n",
       "\n",
       "                                      0            91      217773  \n",
       "company  ID                         1.0        1006.0         NaN  \n",
       "name                           Wetpaint      Youlicit         NaN  \n",
       "category  code                      web           web         NaN  \n",
       "status                        operating        closed         NaN  \n",
       "founded  at                  2005-10-17    2006-09-01         NaN  \n",
       "closed  at                          NaN    2010-05-22         NaN  \n",
       "domain                 wetpaint-inc.com  youlicit.com         NaN  \n",
       "network  username       BachelrWetpaint      youlicit         NaN  \n",
       "country  code                       USA           USA         NaN  \n",
       "investment  rounds                  0.0           0.0         NaN  \n",
       "funding  rounds                     3.0           1.0         NaN  \n",
       "funding  total               39750000.0           0.0         NaN  \n",
       "milestones                          5.0           0.0         NaN  \n",
       "funding  round  id                888.0        3178.0     57063.0  \n",
       "company  id                         1.0        1006.0    284191.0  \n",
       "funded  at                   2005-10-01    2008-01-01  2013-12-04  \n",
       "funding  round  type           series-a         angel     venture  \n",
       "raised  amount                5250000.0           0.0   7000000.0  \n",
       "pre  money  valuation               0.0           0.0         0.0  \n",
       "participants                        2.0           1.0         4.0  \n",
       "is  first  round                    0.0           1.0         1.0  \n",
       "is  last  round                     1.0           1.0         1.0  "
      ]
     },
     "metadata": {},
     "output_type": "display_data"
    },
    {
     "name": "stdout",
     "output_type": "stream",
     "text": [
      "\n",
      "----------       33       ----------\n"
     ]
    },
    {
     "data": {
      "text/html": [
       "<div>\n",
       "<style scoped>\n",
       "    .dataframe tbody tr th:only-of-type {\n",
       "        vertical-align: middle;\n",
       "    }\n",
       "\n",
       "    .dataframe tbody tr th {\n",
       "        vertical-align: top;\n",
       "    }\n",
       "\n",
       "    .dataframe thead th {\n",
       "        text-align: right;\n",
       "    }\n",
       "</style>\n",
       "<table border=\"1\" class=\"dataframe\">\n",
       "  <thead>\n",
       "    <tr style=\"text-align: right;\">\n",
       "      <th></th>\n",
       "      <th>Тип данных колонки</th>\n",
       "      <th>Тип значения</th>\n",
       "      <th>Пропущено</th>\n",
       "      <th>0</th>\n",
       "      <th>6</th>\n",
       "      <th>226708</th>\n",
       "    </tr>\n",
       "  </thead>\n",
       "  <tbody>\n",
       "    <tr>\n",
       "      <th>id</th>\n",
       "      <td>int64</td>\n",
       "      <td>&lt;class 'numpy.int64'&gt;</td>\n",
       "      <td></td>\n",
       "      <td>10</td>\n",
       "      <td>100006</td>\n",
       "      <td>178190</td>\n",
       "    </tr>\n",
       "    <tr>\n",
       "      <th>first_name</th>\n",
       "      <td>object</td>\n",
       "      <td>&lt;class 'str'&gt;</td>\n",
       "      <td>0.00%</td>\n",
       "      <td>Mark</td>\n",
       "      <td>Courtney</td>\n",
       "      <td>Alex</td>\n",
       "    </tr>\n",
       "    <tr>\n",
       "      <th>last_name</th>\n",
       "      <td>object</td>\n",
       "      <td>&lt;class 'str'&gt;</td>\n",
       "      <td>0.00%</td>\n",
       "      <td>Zuckerberg</td>\n",
       "      <td>Homer</td>\n",
       "      <td>Smith</td>\n",
       "    </tr>\n",
       "    <tr>\n",
       "      <th>company_id</th>\n",
       "      <td>float64</td>\n",
       "      <td>&lt;class 'numpy.float64'&gt;</td>\n",
       "      <td>84.73%</td>\n",
       "      <td>5.0</td>\n",
       "      <td>81558.0</td>\n",
       "      <td>NaN</td>\n",
       "    </tr>\n",
       "    <tr>\n",
       "      <th>network_username</th>\n",
       "      <td>object</td>\n",
       "      <td>&lt;class 'str'&gt;</td>\n",
       "      <td>82.86%</td>\n",
       "      <td>NaN</td>\n",
       "      <td>jobsbostontech</td>\n",
       "      <td>esocialnetlike</td>\n",
       "    </tr>\n",
       "  </tbody>\n",
       "</table>\n",
       "</div>"
      ],
      "text/plain": [
       "                 Тип данных колонки             Тип значения Пропущено  \\\n",
       "id                            int64    <class 'numpy.int64'>             \n",
       "first_name                   object            <class 'str'>     0.00%   \n",
       "last_name                    object            <class 'str'>     0.00%   \n",
       "company_id                  float64  <class 'numpy.float64'>    84.73%   \n",
       "network_username             object            <class 'str'>    82.86%   \n",
       "\n",
       "                           0               6          226708  \n",
       "id                        10          100006          178190  \n",
       "first_name              Mark        Courtney            Alex  \n",
       "last_name         Zuckerberg           Homer           Smith  \n",
       "company_id               5.0         81558.0             NaN  \n",
       "network_username         NaN  jobsbostontech  esocialnetlike  "
      ]
     },
     "metadata": {},
     "output_type": "display_data"
    },
    {
     "name": "stdout",
     "output_type": "stream",
     "text": [
      "\n",
      "----------       44       ----------\n"
     ]
    },
    {
     "data": {
      "text/html": [
       "<div>\n",
       "<style scoped>\n",
       "    .dataframe tbody tr th:only-of-type {\n",
       "        vertical-align: middle;\n",
       "    }\n",
       "\n",
       "    .dataframe tbody tr th {\n",
       "        vertical-align: top;\n",
       "    }\n",
       "\n",
       "    .dataframe thead th {\n",
       "        text-align: right;\n",
       "    }\n",
       "</style>\n",
       "<table border=\"1\" class=\"dataframe\">\n",
       "  <thead>\n",
       "    <tr style=\"text-align: right;\">\n",
       "      <th></th>\n",
       "      <th>Тип данных колонки</th>\n",
       "      <th>Тип значения</th>\n",
       "      <th>Пропущено</th>\n",
       "      <th>0</th>\n",
       "      <th>1</th>\n",
       "      <th>109609</th>\n",
       "    </tr>\n",
       "  </thead>\n",
       "  <tbody>\n",
       "    <tr>\n",
       "      <th>id</th>\n",
       "      <td>int64</td>\n",
       "      <td>&lt;class 'numpy.int64'&gt;</td>\n",
       "      <td></td>\n",
       "      <td>1</td>\n",
       "      <td>2</td>\n",
       "      <td>109610</td>\n",
       "    </tr>\n",
       "    <tr>\n",
       "      <th>person_id</th>\n",
       "      <td>int64</td>\n",
       "      <td>&lt;class 'numpy.int64'&gt;</td>\n",
       "      <td></td>\n",
       "      <td>6117</td>\n",
       "      <td>6136</td>\n",
       "      <td>268528</td>\n",
       "    </tr>\n",
       "    <tr>\n",
       "      <th>instituition</th>\n",
       "      <td>object</td>\n",
       "      <td>&lt;class 'str'&gt;</td>\n",
       "      <td>0.05%</td>\n",
       "      <td>NaN</td>\n",
       "      <td>Washington University, St. Louis</td>\n",
       "      <td>University of San Diego School of Law</td>\n",
       "    </tr>\n",
       "    <tr>\n",
       "      <th>graduated_at</th>\n",
       "      <td>object</td>\n",
       "      <td>&lt;class 'str'&gt;</td>\n",
       "      <td>47.04%</td>\n",
       "      <td>NaN</td>\n",
       "      <td>1990-01-01</td>\n",
       "      <td>NaN</td>\n",
       "    </tr>\n",
       "  </tbody>\n",
       "</table>\n",
       "</div>"
      ],
      "text/plain": [
       "             Тип данных колонки           Тип значения Пропущено     0  \\\n",
       "id                        int64  <class 'numpy.int64'>               1   \n",
       "person_id                 int64  <class 'numpy.int64'>            6117   \n",
       "instituition             object          <class 'str'>     0.05%   NaN   \n",
       "graduated_at             object          <class 'str'>    47.04%   NaN   \n",
       "\n",
       "                                             1  \\\n",
       "id                                           2   \n",
       "person_id                                 6136   \n",
       "instituition  Washington University, St. Louis   \n",
       "graduated_at                        1990-01-01   \n",
       "\n",
       "                                             109609  \n",
       "id                                           109610  \n",
       "person_id                                    268528  \n",
       "instituition  University of San Diego School of Law  \n",
       "graduated_at                                    NaN  "
      ]
     },
     "metadata": {},
     "output_type": "display_data"
    },
    {
     "name": "stdout",
     "output_type": "stream",
     "text": [
      "\n",
      "----------       55       ----------\n"
     ]
    },
    {
     "data": {
      "text/html": [
       "<div>\n",
       "<style scoped>\n",
       "    .dataframe tbody tr th:only-of-type {\n",
       "        vertical-align: middle;\n",
       "    }\n",
       "\n",
       "    .dataframe tbody tr th {\n",
       "        vertical-align: top;\n",
       "    }\n",
       "\n",
       "    .dataframe thead th {\n",
       "        text-align: right;\n",
       "    }\n",
       "</style>\n",
       "<table border=\"1\" class=\"dataframe\">\n",
       "  <thead>\n",
       "    <tr style=\"text-align: right;\">\n",
       "      <th></th>\n",
       "      <th>Тип данных колонки</th>\n",
       "      <th>Тип значения</th>\n",
       "      <th>Пропущено</th>\n",
       "      <th>0</th>\n",
       "      <th>1</th>\n",
       "      <th>109609</th>\n",
       "    </tr>\n",
       "  </thead>\n",
       "  <tbody>\n",
       "    <tr>\n",
       "      <th>id</th>\n",
       "      <td>int64</td>\n",
       "      <td>&lt;class 'numpy.int64'&gt;</td>\n",
       "      <td></td>\n",
       "      <td>1</td>\n",
       "      <td>2</td>\n",
       "      <td>109610</td>\n",
       "    </tr>\n",
       "    <tr>\n",
       "      <th>object_id</th>\n",
       "      <td>object</td>\n",
       "      <td>&lt;class 'str'&gt;</td>\n",
       "      <td></td>\n",
       "      <td>p:6117</td>\n",
       "      <td>p:6136</td>\n",
       "      <td>p:268528</td>\n",
       "    </tr>\n",
       "    <tr>\n",
       "      <th>degree_type</th>\n",
       "      <td>object</td>\n",
       "      <td>&lt;class 'str'&gt;</td>\n",
       "      <td>10.23%</td>\n",
       "      <td>MBA</td>\n",
       "      <td>BA</td>\n",
       "      <td>J.D.</td>\n",
       "    </tr>\n",
       "    <tr>\n",
       "      <th>subject</th>\n",
       "      <td>object</td>\n",
       "      <td>&lt;class 'str'&gt;</td>\n",
       "      <td>25.83%</td>\n",
       "      <td>NaN</td>\n",
       "      <td>English, French</td>\n",
       "      <td>NaN</td>\n",
       "    </tr>\n",
       "  </tbody>\n",
       "</table>\n",
       "</div>"
      ],
      "text/plain": [
       "            Тип данных колонки           Тип значения Пропущено       0  \\\n",
       "id                       int64  <class 'numpy.int64'>                 1   \n",
       "object_id               object          <class 'str'>            p:6117   \n",
       "degree_type             object          <class 'str'>    10.23%     MBA   \n",
       "subject                 object          <class 'str'>    25.83%     NaN   \n",
       "\n",
       "                           1    109609  \n",
       "id                         2    109610  \n",
       "object_id             p:6136  p:268528  \n",
       "degree_type               BA      J.D.  \n",
       "subject      English, French       NaN  "
      ]
     },
     "metadata": {},
     "output_type": "display_data"
    },
    {
     "name": "stdout",
     "output_type": "stream",
     "text": [
      "\n",
      "----------       66       ----------\n"
     ]
    },
    {
     "data": {
      "text/html": [
       "<div>\n",
       "<style scoped>\n",
       "    .dataframe tbody tr th:only-of-type {\n",
       "        vertical-align: middle;\n",
       "    }\n",
       "\n",
       "    .dataframe tbody tr th {\n",
       "        vertical-align: top;\n",
       "    }\n",
       "\n",
       "    .dataframe thead th {\n",
       "        text-align: right;\n",
       "    }\n",
       "</style>\n",
       "<table border=\"1\" class=\"dataframe\">\n",
       "  <thead>\n",
       "    <tr style=\"text-align: right;\">\n",
       "      <th></th>\n",
       "      <th>Тип данных колонки</th>\n",
       "      <th>Тип значения</th>\n",
       "      <th>Пропущено</th>\n",
       "      <th>0</th>\n",
       "      <th>1</th>\n",
       "      <th>11651</th>\n",
       "    </tr>\n",
       "  </thead>\n",
       "  <tbody>\n",
       "    <tr>\n",
       "      <th>id</th>\n",
       "      <td>int64</td>\n",
       "      <td>&lt;class 'numpy.int64'&gt;</td>\n",
       "      <td></td>\n",
       "      <td>13131</td>\n",
       "      <td>1</td>\n",
       "      <td>2553</td>\n",
       "    </tr>\n",
       "    <tr>\n",
       "      <th>name</th>\n",
       "      <td>object</td>\n",
       "      <td>&lt;class 'str'&gt;</td>\n",
       "      <td>0.02%</td>\n",
       "      <td>NaN</td>\n",
       "      <td>Greylock Partners</td>\n",
       "      <td>fbFund</td>\n",
       "    </tr>\n",
       "    <tr>\n",
       "      <th>founded_at</th>\n",
       "      <td>object</td>\n",
       "      <td>&lt;class 'str'&gt;</td>\n",
       "      <td>60.48%</td>\n",
       "      <td>NaN</td>\n",
       "      <td>1965-01-01</td>\n",
       "      <td>NaN</td>\n",
       "    </tr>\n",
       "    <tr>\n",
       "      <th>domain</th>\n",
       "      <td>object</td>\n",
       "      <td>&lt;class 'str'&gt;</td>\n",
       "      <td>36.82%</td>\n",
       "      <td>NaN</td>\n",
       "      <td>greylock.com</td>\n",
       "      <td>developers.socialnet.com::fbfund.php</td>\n",
       "    </tr>\n",
       "    <tr>\n",
       "      <th>network_username</th>\n",
       "      <td>object</td>\n",
       "      <td>&lt;class 'str'&gt;</td>\n",
       "      <td>81.56%</td>\n",
       "      <td>NaN</td>\n",
       "      <td>greylockvc</td>\n",
       "      <td>fbFund</td>\n",
       "    </tr>\n",
       "    <tr>\n",
       "      <th>country_code</th>\n",
       "      <td>object</td>\n",
       "      <td>&lt;class 'str'&gt;</td>\n",
       "      <td>39.47%</td>\n",
       "      <td>NaN</td>\n",
       "      <td>USA</td>\n",
       "      <td>NaN</td>\n",
       "    </tr>\n",
       "    <tr>\n",
       "      <th>investment_rounds</th>\n",
       "      <td>int64</td>\n",
       "      <td>&lt;class 'numpy.int64'&gt;</td>\n",
       "      <td></td>\n",
       "      <td>0</td>\n",
       "      <td>307</td>\n",
       "      <td>23</td>\n",
       "    </tr>\n",
       "    <tr>\n",
       "      <th>invested_companies</th>\n",
       "      <td>int64</td>\n",
       "      <td>&lt;class 'numpy.int64'&gt;</td>\n",
       "      <td></td>\n",
       "      <td>0</td>\n",
       "      <td>196</td>\n",
       "      <td>21</td>\n",
       "    </tr>\n",
       "    <tr>\n",
       "      <th>milestones</th>\n",
       "      <td>int64</td>\n",
       "      <td>&lt;class 'numpy.int64'&gt;</td>\n",
       "      <td></td>\n",
       "      <td>0</td>\n",
       "      <td>0</td>\n",
       "      <td>2</td>\n",
       "    </tr>\n",
       "  </tbody>\n",
       "</table>\n",
       "</div>"
      ],
      "text/plain": [
       "                   Тип данных колонки           Тип значения Пропущено      0  \\\n",
       "id                              int64  <class 'numpy.int64'>            13131   \n",
       "name                           object          <class 'str'>     0.02%    NaN   \n",
       "founded_at                     object          <class 'str'>    60.48%    NaN   \n",
       "domain                         object          <class 'str'>    36.82%    NaN   \n",
       "network_username               object          <class 'str'>    81.56%    NaN   \n",
       "country_code                   object          <class 'str'>    39.47%    NaN   \n",
       "investment_rounds               int64  <class 'numpy.int64'>                0   \n",
       "invested_companies              int64  <class 'numpy.int64'>                0   \n",
       "milestones                      int64  <class 'numpy.int64'>                0   \n",
       "\n",
       "                                    1                                 11651  \n",
       "id                                  1                                  2553  \n",
       "name                Greylock Partners                                fbFund  \n",
       "founded_at                 1965-01-01                                   NaN  \n",
       "domain                   greylock.com  developers.socialnet.com::fbfund.php  \n",
       "network_username           greylockvc                                fbFund  \n",
       "country_code                      USA                                   NaN  \n",
       "investment_rounds                 307                                    23  \n",
       "invested_companies                196                                    21  \n",
       "milestones                          0                                     2  "
      ]
     },
     "metadata": {},
     "output_type": "display_data"
    },
    {
     "name": "stdout",
     "output_type": "stream",
     "text": [
      "\n",
      "----------       77       ----------\n"
     ]
    },
    {
     "data": {
      "text/html": [
       "<div>\n",
       "<style scoped>\n",
       "    .dataframe tbody tr th:only-of-type {\n",
       "        vertical-align: middle;\n",
       "    }\n",
       "\n",
       "    .dataframe tbody tr th {\n",
       "        vertical-align: top;\n",
       "    }\n",
       "\n",
       "    .dataframe thead th {\n",
       "        text-align: right;\n",
       "    }\n",
       "</style>\n",
       "<table border=\"1\" class=\"dataframe\">\n",
       "  <thead>\n",
       "    <tr style=\"text-align: right;\">\n",
       "      <th></th>\n",
       "      <th>Тип данных колонки</th>\n",
       "      <th>Тип значения</th>\n",
       "      <th></th>\n",
       "      <th>0</th>\n",
       "      <th>1</th>\n",
       "      <th>61402</th>\n",
       "    </tr>\n",
       "  </thead>\n",
       "  <tbody>\n",
       "    <tr>\n",
       "      <th>id</th>\n",
       "      <td>int64</td>\n",
       "      <td>&lt;class 'int'&gt;</td>\n",
       "      <td></td>\n",
       "      <td>1</td>\n",
       "      <td>2</td>\n",
       "      <td>61403</td>\n",
       "    </tr>\n",
       "    <tr>\n",
       "      <th>funding_round_id</th>\n",
       "      <td>int64</td>\n",
       "      <td>&lt;class 'int'&gt;</td>\n",
       "      <td></td>\n",
       "      <td>1</td>\n",
       "      <td>1</td>\n",
       "      <td>57948</td>\n",
       "    </tr>\n",
       "    <tr>\n",
       "      <th>company_id</th>\n",
       "      <td>int64</td>\n",
       "      <td>&lt;class 'int'&gt;</td>\n",
       "      <td></td>\n",
       "      <td>4</td>\n",
       "      <td>4</td>\n",
       "      <td>211890</td>\n",
       "    </tr>\n",
       "    <tr>\n",
       "      <th>fund_id</th>\n",
       "      <td>int64</td>\n",
       "      <td>&lt;class 'int'&gt;</td>\n",
       "      <td></td>\n",
       "      <td>1</td>\n",
       "      <td>2</td>\n",
       "      <td>2101</td>\n",
       "    </tr>\n",
       "  </tbody>\n",
       "</table>\n",
       "</div>"
      ],
      "text/plain": [
       "                 Тип данных колонки   Тип значения    0  1   61402\n",
       "id                            int64  <class 'int'>    1  2   61403\n",
       "funding_round_id              int64  <class 'int'>    1  1   57948\n",
       "company_id                    int64  <class 'int'>    4  4  211890\n",
       "fund_id                       int64  <class 'int'>    1  2    2101"
      ]
     },
     "metadata": {},
     "output_type": "display_data"
    },
    {
     "name": "stdout",
     "output_type": "stream",
     "text": [
      "\n"
     ]
    }
   ],
   "source": [
    "def lookup_datasets(dfs, filenames=None):\n",
    "    \"\"\"\n",
    "    Выводит информацию о датасетах из списка\n",
    "\n",
    "    Parameters:\n",
    "        dfs (list of pd.DataFrame): Список датафреймов для обработки.\n",
    "        filenames (list of str): Список названий файлов (имена для отображения).\n",
    "    \"\"\"\n",
    "    if filenames is None:\n",
    "        filenames = [f\"df_{i + 1}\" for i in range(len(dfs))]\n",
    "\n",
    "    for df, df_name in zip(dfs, filenames):\n",
    "        print('-'*10,' '*5, df_name, ' '*5, '-'*10)\n",
    "\n",
    "        # Пропущенные значения\n",
    "        missing_data = df.isna().mean()\n",
    "        missing_data_result = missing_data.apply(lambda x: f'{x:.2%}' if x > 0 else \"\")\n",
    "        missing_data_name = \"Пропущено\" if missing_data.sum() > 0 else \"\"\n",
    "        missing_data_result.name = missing_data_name\n",
    "\n",
    "        # Типы данных\n",
    "        dtypes_result = df.dtypes\n",
    "        dtypes_result.name = \"Тип данных колонки\"\n",
    "        fewest_nans_row = df.iloc[1:-1].isna().sum(axis=1).idxmin()\n",
    "\n",
    "        values_type = df.loc[fewest_nans_row].map(type).T\n",
    "        values_type.name = \"Тип значения\"\n",
    "\n",
    "        # Объединяем результаты и пример данных\n",
    "        result = pd.concat([\n",
    "            dtypes_result, # типы\n",
    "            values_type, # типы значений\n",
    "            missing_data_result, # пропущенные значения\n",
    "            df.iloc[0, :], # первая строка\n",
    "            df.loc[fewest_nans_row].T, # полная строка\n",
    "            df.iloc[-1, :] # последняя строка\n",
    "        ], axis=1)\n",
    "\n",
    "        display(result)\n",
    "\n",
    "        # Проверка на полные дубликаты\n",
    "        duplicates = df.duplicated().mean()\n",
    "        if duplicates > 0:\n",
    "            print(f'Полных дубликатов: {duplicates:.2%}')\n",
    "\n",
    "        print()\n",
    "\n",
    "# Проводим автоматический осмотр данных\n",
    "column_counts = lookup_datasets(dfs.values(), dfs.keys())"
   ]
  },
  {
   "cell_type": "markdown",
   "id": "21de249e",
   "metadata": {
    "id": "mg2gEwh0rJg0"
   },
   "source": [
    "### 1.2. Смена типов и анализ пропусков\n"
   ]
  },
  {
   "cell_type": "code",
   "execution_count": 17,
   "id": "8216d349",
   "metadata": {},
   "outputs": [],
   "source": [
    "# переименовываем названия столбца\n",
    "company_and_rounds_df = company_and_rounds_df.rename(columns={'company  ID': 'company_id_first'})"
   ]
  },
  {
   "cell_type": "code",
   "execution_count": 18,
   "id": "ada846e7",
   "metadata": {
    "id": "FsL0A8RBrJg1",
    "vscode": {
     "languageId": "plaintext"
    }
   },
   "outputs": [],
   "source": [
    "# Заминили пробелы в датафрейме\n",
    "company_and_rounds_df.columns = company_and_rounds_df.columns.str.replace('  ', '_')"
   ]
  },
  {
   "cell_type": "code",
   "execution_count": 19,
   "id": "83973359",
   "metadata": {
    "id": "46VskrGyFeJ-"
   },
   "outputs": [
    {
     "data": {
      "text/plain": [
       "Index(['company_id_first', 'name', 'category_code', 'status', 'founded_at',\n",
       "       'closed_at', 'domain', 'network_username', 'country_code',\n",
       "       'investment_rounds', 'funding_rounds', 'funding_total', 'milestones',\n",
       "       'funding_round_id', 'company_id', 'funded_at', 'funding_round_type',\n",
       "       'raised_amount', 'pre_money_valuation', 'participants',\n",
       "       'is_first_round', 'is_last_round'],\n",
       "      dtype='object')"
      ]
     },
     "execution_count": 19,
     "metadata": {},
     "output_type": "execute_result"
    }
   ],
   "source": [
    "company_and_rounds_df.columns"
   ]
  },
  {
   "cell_type": "code",
   "execution_count": 20,
   "id": "048063d7",
   "metadata": {
    "id": "DEg1tl8DFeBn"
   },
   "outputs": [],
   "source": [
    "# приводим данные в соответствующий тип в датафрейме \n",
    "acquisition_df['acquired_at'] = pd.to_datetime(acquisition_df['acquired_at'], format='%Y-%m-%d')\n",
    "education_df['graduated_at'] = pd.to_datetime(education_df['graduated_at'], format='%Y-%m-%d')\n",
    "company_and_rounds_df['founded_at'] = pd.to_datetime(company_and_rounds_df['founded_at'], format='%Y-%m-%d')\n",
    "company_and_rounds_df['funded_at'] = pd.to_datetime(company_and_rounds_df['funded_at'], format='%Y-%m-%d')\n",
    "company_and_rounds_df['closed_at'] = pd.to_datetime(company_and_rounds_df['closed_at'], format='%Y-%m-%d')\n",
    "company_and_rounds_df['is_first_round'] = pd.to_numeric(company_and_rounds_df['is_first_round'], downcast='float')\n",
    "company_and_rounds_df['is_last_round'] = pd.to_numeric(company_and_rounds_df['is_last_round'], downcast='float')\n",
    "\n"
   ]
  },
  {
   "cell_type": "code",
   "execution_count": 21,
   "id": "d5ad5bfc",
   "metadata": {},
   "outputs": [
    {
     "data": {
      "text/plain": [
       "id                      0.000000\n",
       "acquiring_company_id    0.000000\n",
       "acquired_company_id     0.000000\n",
       "term_code               0.805358\n",
       "price_amount            0.000000\n",
       "acquired_at             0.003083\n",
       "dtype: float64"
      ]
     },
     "execution_count": 21,
     "metadata": {},
     "output_type": "execute_result"
    }
   ],
   "source": [
    "# Выводим информацию о датафрейме\n",
    "acquisition_df.isna().mean()"
   ]
  },
  {
   "cell_type": "code",
   "execution_count": 22,
   "id": "65835a58",
   "metadata": {},
   "outputs": [
    {
     "data": {
      "text/plain": [
       "company_id_first       0.001387\n",
       "name                   0.001387\n",
       "category_code          0.339288\n",
       "status                 0.001387\n",
       "founded_at             0.495091\n",
       "closed_at              0.984162\n",
       "domain                 0.324258\n",
       "network_username       0.561316\n",
       "country_code           0.501286\n",
       "investment_rounds      0.001387\n",
       "funding_rounds         0.001387\n",
       "funding_total          0.001387\n",
       "milestones             0.001387\n",
       "funding_round_id       0.756959\n",
       "company_id             0.756959\n",
       "funded_at              0.758098\n",
       "funding_round_type     0.756959\n",
       "raised_amount          0.756959\n",
       "pre_money_valuation    0.756959\n",
       "participants           0.756959\n",
       "is_first_round         0.756959\n",
       "is_last_round          0.756959\n",
       "dtype: float64"
      ]
     },
     "execution_count": 22,
     "metadata": {},
     "output_type": "execute_result"
    }
   ],
   "source": [
    "# Выводим информацию о датафрейме\n",
    "company_and_rounds_df.isna().mean()"
   ]
  },
  {
   "cell_type": "code",
   "execution_count": 23,
   "id": "bfe92aec",
   "metadata": {},
   "outputs": [
    {
     "data": {
      "text/plain": [
       "id              0.000000\n",
       "person_id       0.000000\n",
       "instituition    0.000502\n",
       "graduated_at    0.470359\n",
       "dtype: float64"
      ]
     },
     "execution_count": 23,
     "metadata": {},
     "output_type": "execute_result"
    }
   ],
   "source": [
    "# Выводим информацию о датафрейме\n",
    "education_df.isna().mean()"
   ]
  },
  {
   "cell_type": "code",
   "execution_count": 24,
   "id": "27d21e6f",
   "metadata": {},
   "outputs": [
    {
     "data": {
      "text/plain": [
       "id                  0.000000\n",
       "first_name          0.000022\n",
       "last_name           0.000004\n",
       "company_id          0.847315\n",
       "network_username    0.828560\n",
       "dtype: float64"
      ]
     },
     "execution_count": 24,
     "metadata": {},
     "output_type": "execute_result"
    }
   ],
   "source": [
    "# Выводим информацию о датафрейме\n",
    "people_df.isna().mean()"
   ]
  },
  {
   "cell_type": "code",
   "execution_count": 25,
   "id": "4ef09529",
   "metadata": {},
   "outputs": [
    {
     "data": {
      "text/plain": [
       "id                    0.000000\n",
       "name                  0.000172\n",
       "founded_at            0.604789\n",
       "domain                0.368177\n",
       "network_username      0.815568\n",
       "country_code          0.394696\n",
       "investment_rounds     0.000000\n",
       "invested_companies    0.000000\n",
       "milestones            0.000000\n",
       "dtype: float64"
      ]
     },
     "execution_count": 25,
     "metadata": {},
     "output_type": "execute_result"
    }
   ],
   "source": [
    "# Выводим информацию о датафрейме\n",
    "fund_df.isna().mean()"
   ]
  },
  {
   "cell_type": "code",
   "execution_count": 26,
   "id": "a71245da",
   "metadata": {},
   "outputs": [
    {
     "data": {
      "text/plain": [
       "id             0.000000\n",
       "object_id      0.000000\n",
       "degree_type    0.102345\n",
       "subject        0.258298\n",
       "dtype: float64"
      ]
     },
     "execution_count": 26,
     "metadata": {},
     "output_type": "execute_result"
    }
   ],
   "source": [
    "# Выводим информацию о датафрейме\n",
    "degrees_df.isna().mean()"
   ]
  },
  {
   "cell_type": "code",
   "execution_count": 27,
   "id": "75485ab7",
   "metadata": {},
   "outputs": [
    {
     "data": {
      "text/plain": [
       "id                  0.0\n",
       "funding_round_id    0.0\n",
       "company_id          0.0\n",
       "fund_id             0.0\n",
       "dtype: float64"
      ]
     },
     "execution_count": 27,
     "metadata": {},
     "output_type": "execute_result"
    }
   ],
   "source": [
    "# Выводим информацию о датафрейме\n",
    "investment_df.isna().mean() "
   ]
  },
  {
   "cell_type": "code",
   "execution_count": 28,
   "id": "2545831e",
   "metadata": {},
   "outputs": [],
   "source": [
    "# Определяем количество незаполненных ячеек\n",
    "# company_and_rounds_df.isna().mean().sort_values()"
   ]
  },
  {
   "cell_type": "markdown",
   "id": "0e44f8a8",
   "metadata": {},
   "source": [
    "Провели анализ пропусков, данных много пропусков.  \n",
    "Преобразовали к типу данных `datetime64` значения столбцов `acquisition_df['acquired_at']`, `education_df['graduated_at']`, `company_and_rounds_df['founded_at']`, `company_and_rounds_df['funded_at']`, `company_and_rounds_df['closed_at']`.\n",
    "Понизили разрядность для некоторых числовых полей (столбцов is_first_round и is_last_round).\n",
    "Вывели данные о доле пропусков в датафреймах.\n",
    "В таблице acquisition_df всего 9407 строк и 80% пропусков в столбце term_code, но в дальнейшем анализе данный столбец не будет играть весомой роли.\n",
    "Самая большая по количеству строк и столбцов таблица df_comapny_a_roads она содержит 217774 строки и 22 столбца.\n",
    "В столбцах funding_round_id, company_id, funded_at, funding_round_type, raised_amount, pre_money_valuation, participants, is_first_round, is_last_round - 75% пропусков, category_code - 33%, founded_at - 50%, closed_at - 98%, domain - 32%, network_username - 56%, country_code - 50%.\n",
    "В таблице people_df всего 226709 строк около 82-84% пропусков в столбцах company_id, network_username.\n",
    "В таблице education_df всего 109610 строк и 47% пропусков в столбце graduated_at.\n",
    "В таблице degrees_df всего 109610 строк и пропуски в столбцах degree_type - 10%, subject - 25%.\n",
    "\n",
    "Так как данных в каждой таблице достаточное количество, то пропуски, которые присутствуют во многих таблицах можно игнорировать, так как данных для анализа все еще достаточно.\n",
    "\n"
   ]
  },
  {
   "cell_type": "markdown",
   "id": "d0c3e50f",
   "metadata": {
    "id": "u60cHsn6rJg1"
   },
   "source": [
    "## Шаг 2. Предобработка данных, предварительное исследование"
   ]
  },
  {
   "cell_type": "markdown",
   "id": "87d31f1a",
   "metadata": {
    "id": "g2bHIIjcrJg1"
   },
   "source": [
    "\n",
    "### 2.1. Раунды финансирования по годам\n",
    "\n",
    "Проводим анализ на основе датасета `company_and_rounds.csv`.\n",
    "Выясняем какое количество раундов может быть. \n",
    "Добавляем отдельно столбец с данными года. \n",
    "Вычисляем для каждого года типичный размер средств, выделяемый в рамках одного раунда и общее количество раундов финансирования.\n",
    "Оставляем в таблице информацию только для тех лет, для которых есть информация о более чем 50 раундах финансирования.\n",
    " "
   ]
  },
  {
   "cell_type": "code",
   "execution_count": 29,
   "id": "c5f2c83f",
   "metadata": {},
   "outputs": [
    {
     "data": {
      "text/plain": [
       "array([ 0.,  1.,  2.,  3.,  4.,  5.,  6.,  7.,  8.,  9., 10., 11., 12.,\n",
       "       13., 14., 15., nan])"
      ]
     },
     "execution_count": 29,
     "metadata": {},
     "output_type": "execute_result"
    }
   ],
   "source": [
    "# выводим уникальные значения столбца раундов финансирования\n",
    "company_and_rounds_df['funding_rounds'].sort_values().unique()"
   ]
  },
  {
   "cell_type": "code",
   "execution_count": 30,
   "id": "de6b3193",
   "metadata": {},
   "outputs": [
    {
     "data": {
      "text/plain": [
       "0"
      ]
     },
     "execution_count": 30,
     "metadata": {},
     "output_type": "execute_result"
    }
   ],
   "source": [
    "# проверяем дубликаты\n",
    "company_and_rounds_df.duplicated().sum()"
   ]
  },
  {
   "cell_type": "code",
   "execution_count": 31,
   "id": "dc85a3ad",
   "metadata": {},
   "outputs": [],
   "source": [
    "# создаем копию для изменений данных \n",
    "company_and_rounds_df_new=company_and_rounds_df.copy()"
   ]
  },
  {
   "cell_type": "code",
   "execution_count": 32,
   "id": "cb94f713",
   "metadata": {},
   "outputs": [],
   "source": [
    "# создаем новый столб с годом\n",
    "company_and_rounds_df_new['funded_at_year']=company_and_rounds_df_new['funded_at'].dt.to_period('Y')\n",
    "# company_and_rounds_df_new.info() \n"
   ]
  },
  {
   "cell_type": "code",
   "execution_count": 33,
   "id": "6a316768",
   "metadata": {
    "id": "Cf5IjfOQrJg1",
    "vscode": {
     "languageId": "plaintext"
    }
   },
   "outputs": [],
   "source": [
    "# группируем по году и вычисляем общую сумму выделяемых средств и общее количество раундов\n",
    "company_and_rounds_group = company_and_rounds_df_new.groupby('funded_at_year').agg({'raised_amount':'median', 'funding_round_id': 'nunique'}).reset_index()\n"
   ]
  },
  {
   "cell_type": "code",
   "execution_count": 34,
   "id": "a486b01e",
   "metadata": {},
   "outputs": [
    {
     "data": {
      "text/html": [
       "<div>\n",
       "<style scoped>\n",
       "    .dataframe tbody tr th:only-of-type {\n",
       "        vertical-align: middle;\n",
       "    }\n",
       "\n",
       "    .dataframe tbody tr th {\n",
       "        vertical-align: top;\n",
       "    }\n",
       "\n",
       "    .dataframe thead th {\n",
       "        text-align: right;\n",
       "    }\n",
       "</style>\n",
       "<table border=\"1\" class=\"dataframe\">\n",
       "  <thead>\n",
       "    <tr style=\"text-align: right;\">\n",
       "      <th></th>\n",
       "      <th>funded_at_year</th>\n",
       "      <th>raised_amount</th>\n",
       "      <th>funding_round_id</th>\n",
       "    </tr>\n",
       "  </thead>\n",
       "  <tbody>\n",
       "    <tr>\n",
       "      <th>15</th>\n",
       "      <td>1999</td>\n",
       "      <td>2000000.0</td>\n",
       "      <td>76</td>\n",
       "    </tr>\n",
       "    <tr>\n",
       "      <th>16</th>\n",
       "      <td>2000</td>\n",
       "      <td>4200000.0</td>\n",
       "      <td>125</td>\n",
       "    </tr>\n",
       "    <tr>\n",
       "      <th>17</th>\n",
       "      <td>2001</td>\n",
       "      <td>3000000.0</td>\n",
       "      <td>96</td>\n",
       "    </tr>\n",
       "    <tr>\n",
       "      <th>18</th>\n",
       "      <td>2002</td>\n",
       "      <td>4200000.0</td>\n",
       "      <td>116</td>\n",
       "    </tr>\n",
       "    <tr>\n",
       "      <th>19</th>\n",
       "      <td>2003</td>\n",
       "      <td>3000000.0</td>\n",
       "      <td>159</td>\n",
       "    </tr>\n",
       "    <tr>\n",
       "      <th>20</th>\n",
       "      <td>2004</td>\n",
       "      <td>5000000.0</td>\n",
       "      <td>291</td>\n",
       "    </tr>\n",
       "    <tr>\n",
       "      <th>21</th>\n",
       "      <td>2005</td>\n",
       "      <td>5500000.0</td>\n",
       "      <td>1633</td>\n",
       "    </tr>\n",
       "    <tr>\n",
       "      <th>22</th>\n",
       "      <td>2006</td>\n",
       "      <td>5000000.0</td>\n",
       "      <td>2436</td>\n",
       "    </tr>\n",
       "    <tr>\n",
       "      <th>23</th>\n",
       "      <td>2007</td>\n",
       "      <td>3973320.0</td>\n",
       "      <td>3279</td>\n",
       "    </tr>\n",
       "    <tr>\n",
       "      <th>24</th>\n",
       "      <td>2008</td>\n",
       "      <td>3110000.0</td>\n",
       "      <td>3774</td>\n",
       "    </tr>\n",
       "    <tr>\n",
       "      <th>25</th>\n",
       "      <td>2009</td>\n",
       "      <td>2000000.0</td>\n",
       "      <td>4151</td>\n",
       "    </tr>\n",
       "    <tr>\n",
       "      <th>26</th>\n",
       "      <td>2010</td>\n",
       "      <td>1602500.0</td>\n",
       "      <td>6221</td>\n",
       "    </tr>\n",
       "    <tr>\n",
       "      <th>27</th>\n",
       "      <td>2011</td>\n",
       "      <td>1200000.0</td>\n",
       "      <td>9204</td>\n",
       "    </tr>\n",
       "    <tr>\n",
       "      <th>28</th>\n",
       "      <td>2012</td>\n",
       "      <td>1000000.0</td>\n",
       "      <td>9970</td>\n",
       "    </tr>\n",
       "    <tr>\n",
       "      <th>29</th>\n",
       "      <td>2013</td>\n",
       "      <td>1200000.0</td>\n",
       "      <td>11072</td>\n",
       "    </tr>\n",
       "  </tbody>\n",
       "</table>\n",
       "</div>"
      ],
      "text/plain": [
       "   funded_at_year  raised_amount  funding_round_id\n",
       "15           1999      2000000.0                76\n",
       "16           2000      4200000.0               125\n",
       "17           2001      3000000.0                96\n",
       "18           2002      4200000.0               116\n",
       "19           2003      3000000.0               159\n",
       "20           2004      5000000.0               291\n",
       "21           2005      5500000.0              1633\n",
       "22           2006      5000000.0              2436\n",
       "23           2007      3973320.0              3279\n",
       "24           2008      3110000.0              3774\n",
       "25           2009      2000000.0              4151\n",
       "26           2010      1602500.0              6221\n",
       "27           2011      1200000.0              9204\n",
       "28           2012      1000000.0              9970\n",
       "29           2013      1200000.0             11072"
      ]
     },
     "metadata": {},
     "output_type": "display_data"
    }
   ],
   "source": [
    "# создаем новый датафрейм в котором выбраны года с более чем 50 раундов финансирования\n",
    "company_and_rounds = company_and_rounds_group[company_and_rounds_group['funding_round_id']>50]\n",
    "display(company_and_rounds)"
   ]
  },
  {
   "cell_type": "code",
   "execution_count": 35,
   "id": "e7ca96f6",
   "metadata": {
    "id": "8Fbz6KmzFdYP"
   },
   "outputs": [
    {
     "data": {
      "image/png": "[encoded data removed]",
      "text/plain": [
       "<Figure size 864x432 with 2 Axes>"
      ]
     },
     "metadata": {
      "needs_background": "light"
     },
     "output_type": "display_data"
    }
   ],
   "source": [
    "# Строим диаграмму с помощью pandas \n",
    "axes = company_and_rounds.plot(kind='line', subplots=True, x='funded_at_year', y=['raised_amount', 'funding_round_id', ], \n",
    "               sharex=True,\n",
    "               sharey=False,\n",
    "               rot=0, # Градус вращения подписи по оси Х\n",
    "               legend=True, # Выключаем легенду\n",
    "               title=['Типичный размер средств в рамках одного раунда', 'Общее количество раундов финансирования '],\n",
    "               figsize=(12, 6)\n",
    ")\n",
    "# Устанавливаем подпись для оси Y каждого из подграфиков\n",
    "axes[0].set_ylabel('млн')\n",
    "axes[1].set_ylabel('Количество')\n",
    "\n",
    "# Настраиваем оформление графика\n",
    "plt.xlabel('Год')\n",
    "# Включаем сетку для каждого из подграфиков\n",
    "axes[0].grid(which='both')\n",
    "axes[1].grid(which='both')\n",
    "\n",
    "# Выводим график\n",
    "plt.show()\n",
    "\n"
   ]
  },
  {
   "cell_type": "markdown",
   "id": "8bd42797",
   "metadata": {},
   "source": [
    "Типичный размер собранных в рамках одного раунда средств был максимален в 2005 году и равнялся 5,5 млн. за один раунд. \n",
    "В 2013 году число раундов и размер финансирования выросли по сравнению с прошлым годом 2012 годом."
   ]
  },
  {
   "cell_type": "markdown",
   "id": "6cab349b",
   "metadata": {
    "id": "45if1en1rJg2"
   },
   "source": [
    "\n",
    "### 2.2. Люди и их образование\n",
    "\n",
    "Заказчик хочет понять, зависит ли полнота сведений о сотрудниках (например, об их образовании) от размера компаний.\n",
    "\n",
    "Для этого объединим датасеты `people.csv` и `education.csv` и разделим все компании на несколько групп по количеству сотрудников.\n",
    "Мы считаем, что датасете `education.csv` у каждого сотрудника одно образование."
   ]
  },
  {
   "cell_type": "code",
   "execution_count": 36,
   "id": "27ae74e3",
   "metadata": {},
   "outputs": [
    {
     "data": {
      "text/plain": [
       "68451"
      ]
     },
     "execution_count": 36,
     "metadata": {},
     "output_type": "execute_result"
    }
   ],
   "source": [
    "# проверяем количество уникальных работников\n",
    "len(education_df['person_id'].unique())"
   ]
  },
  {
   "cell_type": "code",
   "execution_count": 37,
   "id": "92d7fdb9",
   "metadata": {},
   "outputs": [
    {
     "name": "stdout",
     "output_type": "stream",
     "text": [
      "<class 'pandas.core.frame.DataFrame'>\n",
      "Int64Index: 68451 entries, 0 to 109608\n",
      "Data columns (total 4 columns):\n",
      " #   Column        Non-Null Count  Dtype         \n",
      "---  ------        --------------  -----         \n",
      " 0   id            68451 non-null  int64         \n",
      " 1   person_id     68451 non-null  int64         \n",
      " 2   instituition  68410 non-null  object        \n",
      " 3   graduated_at  36645 non-null  datetime64[ns]\n",
      "dtypes: datetime64[ns](1), int64(2), object(1)\n",
      "memory usage: 2.6+ MB\n"
     ]
    }
   ],
   "source": [
    "# Создаем копию датафрейма\n",
    "education_df_for = education_df.copy()\n",
    "\n",
    "# Сортируем датафрейм по всем столбцам\n",
    "education_df_sorted = education_df_for.sort_values(by=education_df_for.columns.tolist())\n",
    "\n",
    "# Удаляем дубликаты\n",
    "education_df_new = education_df_sorted.drop_duplicates(subset=['person_id'])\n",
    "\n",
    "education_df_new.info()"
   ]
  },
  {
   "cell_type": "code",
   "execution_count": 38,
   "id": "3c9449dd",
   "metadata": {},
   "outputs": [
    {
     "data": {
      "text/plain": [
       "226708"
      ]
     },
     "execution_count": 38,
     "metadata": {},
     "output_type": "execute_result"
    }
   ],
   "source": [
    "# проверяем количество уникальных работников\n",
    "len(people_df['id'].unique())"
   ]
  },
  {
   "cell_type": "code",
   "execution_count": 39,
   "id": "fe6374d6",
   "metadata": {},
   "outputs": [
    {
     "name": "stdout",
     "output_type": "stream",
     "text": [
      "<class 'pandas.core.frame.DataFrame'>\n",
      "Int64Index: 226708 entries, 87153 to 156400\n",
      "Data columns (total 5 columns):\n",
      " #   Column            Non-Null Count   Dtype  \n",
      "---  ------            --------------   -----  \n",
      " 0   id                226708 non-null  int64  \n",
      " 1   first_name        226703 non-null  object \n",
      " 2   last_name         226707 non-null  object \n",
      " 3   company_id        34614 non-null   float64\n",
      " 4   network_username  38867 non-null   object \n",
      "dtypes: float64(1), int64(1), object(3)\n",
      "memory usage: 10.4+ MB\n"
     ]
    }
   ],
   "source": [
    "# Создаем копию датафрейма\n",
    "people_df_for = people_df.copy()\n",
    "\n",
    "# Сортируем датафрейм по всем столбцам\n",
    "people_df_sorted = people_df_for.sort_values(by=people_df_for.columns.tolist())\n",
    "\n",
    "# Удаляем дубликаты\n",
    "people_df_new = people_df_sorted.drop_duplicates(subset=['id'])\n",
    "\n",
    "people_df_new.info()"
   ]
  },
  {
   "cell_type": "code",
   "execution_count": 40,
   "id": "ed3c41e4",
   "metadata": {
    "id": "psPO7C4MrJg2",
    "vscode": {
     "languageId": "plaintext"
    }
   },
   "outputs": [
    {
     "name": "stdout",
     "output_type": "stream",
     "text": [
      "<class 'pandas.core.frame.DataFrame'>\n",
      "Int64Index: 226708 entries, 0 to 226707\n",
      "Data columns (total 9 columns):\n",
      " #   Column            Non-Null Count   Dtype         \n",
      "---  ------            --------------   -----         \n",
      " 0   id_x              226708 non-null  int64         \n",
      " 1   first_name        226703 non-null  object        \n",
      " 2   last_name         226707 non-null  object        \n",
      " 3   company_id        34614 non-null   float64       \n",
      " 4   network_username  38867 non-null   object        \n",
      " 5   id_y              68071 non-null   float64       \n",
      " 6   person_id         68071 non-null   float64       \n",
      " 7   instituition      68031 non-null   object        \n",
      " 8   graduated_at      36390 non-null   datetime64[ns]\n",
      "dtypes: datetime64[ns](1), float64(3), int64(1), object(4)\n",
      "memory usage: 17.3+ MB\n"
     ]
    },
    {
     "data": {
      "text/plain": [
       "None"
      ]
     },
     "metadata": {},
     "output_type": "display_data"
    }
   ],
   "source": [
    "# объединяем таблицы\n",
    "people_education = people_df_new.merge(education_df_new, how='left', left_on='id', right_on='person_id')\n",
    "display(people_education.info())"
   ]
  },
  {
   "cell_type": "code",
   "execution_count": 41,
   "id": "1c89057c",
   "metadata": {
    "id": "BThTjpLqFcsm"
   },
   "outputs": [],
   "source": [
    "# удаляем повторяющиеся столбцы\n",
    "people_education = people_education.drop('id_y', axis=1) \n",
    "people_education = people_education.drop('person_id', axis=1) \n",
    "# display(people_education.info())"
   ]
  },
  {
   "cell_type": "code",
   "execution_count": 42,
   "id": "a65452af",
   "metadata": {},
   "outputs": [],
   "source": [
    "# создаем новый столбец с информацией о наличии образования\n",
    "people_education['educ_info'] = people_education['instituition'].notna() | people_education['graduated_at'].notna()"
   ]
  },
  {
   "cell_type": "code",
   "execution_count": 43,
   "id": "c890dc97",
   "metadata": {
    "id": "4FC98Pd-FcmG"
   },
   "outputs": [],
   "source": [
    "# группируем по компаниям, вычисляем общее количество сотрудников и долю образованных\n",
    "people_education_group = people_education.groupby('company_id').agg({'id_x':'count', 'educ_info':'mean'}).sort_values(by='id_x', ascending = False).reset_index()\n",
    "# people_education_group.head()"
   ]
  },
  {
   "cell_type": "markdown",
   "id": "8bffc98f",
   "metadata": {},
   "source": [
    "Что бы разделить все компании на несколько групп по количеству сотрудников, вычислим какое их количество встречается."
   ]
  },
  {
   "cell_type": "code",
   "execution_count": 44,
   "id": "28063fd9",
   "metadata": {},
   "outputs": [],
   "source": [
    "# people_education_group.value_counts('id_x')"
   ]
  },
  {
   "cell_type": "code",
   "execution_count": 45,
   "id": "0e0b79e9",
   "metadata": {},
   "outputs": [
    {
     "data": {
      "text/plain": [
       "18116"
      ]
     },
     "execution_count": 45,
     "metadata": {},
     "output_type": "execute_result"
    }
   ],
   "source": [
    "len(people_education_group[people_education_group['id_x']==1])"
   ]
  },
  {
   "cell_type": "code",
   "execution_count": 46,
   "id": "03c98295",
   "metadata": {},
   "outputs": [
    {
     "data": {
      "text/plain": [
       "4805"
      ]
     },
     "execution_count": 46,
     "metadata": {},
     "output_type": "execute_result"
    }
   ],
   "source": [
    "len(people_education_group[people_education_group['id_x']>1])"
   ]
  },
  {
   "cell_type": "code",
   "execution_count": 47,
   "id": "34f57958",
   "metadata": {},
   "outputs": [
    {
     "data": {
      "text/plain": [
       "2709"
      ]
     },
     "execution_count": 47,
     "metadata": {},
     "output_type": "execute_result"
    }
   ],
   "source": [
    "len(people_education_group[people_education_group['id_x']==2])"
   ]
  },
  {
   "cell_type": "code",
   "execution_count": 48,
   "id": "f798577d",
   "metadata": {},
   "outputs": [
    {
     "data": {
      "text/plain": [
       "2096"
      ]
     },
     "execution_count": 48,
     "metadata": {},
     "output_type": "execute_result"
    }
   ],
   "source": [
    "len(people_education_group[people_education_group['id_x']>2])"
   ]
  },
  {
   "cell_type": "markdown",
   "id": "8069f7a4",
   "metadata": {},
   "source": [
    "В текущем датафрейме логичнее разделить компании на три группы:\n",
    "* один сотрудник\n",
    "* два сотрудника\n",
    "* больше двух"
   ]
  },
  {
   "cell_type": "code",
   "execution_count": 49,
   "id": "1f5162d3",
   "metadata": {},
   "outputs": [
    {
     "name": "stdout",
     "output_type": "stream",
     "text": [
      "средняя доля образованных в компаниях с одним сотрудником\n",
      "0.5373702804151027\n"
     ]
    }
   ],
   "source": [
    "print(f'средняя доля образованных в компаниях с одним сотрудником')\n",
    "print(people_education_group['educ_info'][people_education_group['id_x']==1].mean())"
   ]
  },
  {
   "cell_type": "code",
   "execution_count": 50,
   "id": "72018dbe",
   "metadata": {},
   "outputs": [
    {
     "name": "stdout",
     "output_type": "stream",
     "text": [
      "средняя доля образованных в компаниях с двумя сотрудниками\n",
      "0.5337763012181617\n"
     ]
    }
   ],
   "source": [
    "print(f'средняя доля образованных в компаниях с двумя сотрудниками')\n",
    "print(people_education_group['educ_info'][people_education_group['id_x']==2].mean())"
   ]
  },
  {
   "cell_type": "code",
   "execution_count": 51,
   "id": "335f8604",
   "metadata": {},
   "outputs": [
    {
     "name": "stdout",
     "output_type": "stream",
     "text": [
      "средняя доля образованных в компаниях с количеством сотрудников более двух\n",
      "0.504996832841466\n"
     ]
    }
   ],
   "source": [
    "print(f'средняя доля образованных в компаниях с количеством сотрудников более двух')\n",
    "print(people_education_group['educ_info'][people_education_group['id_x']>2].mean())"
   ]
  },
  {
   "cell_type": "markdown",
   "id": "48b2d8b1",
   "metadata": {},
   "source": [
    "Провели удаление дубликатов в таблицах, объединили  датасеты `people.csv` и `education.csv`.\n",
    "Получили таблицу с 226708 строк информацией о сотрудниках и их образовании.\n",
    "\n",
    "Для разделения компаний на группы, оценили общее количество компаний для разного количества сотрудников. Получается что в основном  в компаниях один сотрудник или два. \n",
    "Поэтому решили разделить на группы, где 1 , 2 или более сотрудников.\n",
    "Получилось, что для компаний с 1 или 2 сотрудниками, доля образованных ~ 53-54 %. Для компаний с количеством более 2 сотрудников   доля образованных снижается до 50 %.\n",
    "\n",
    "Для более полной оценки можно присоединить к этим таблицам ещё и таблицу `degrees.csv`, но для этого нужно преобразовать \n",
    "`object_id`  — идентификатор сотрудника, извлечь числовое значение и преобразовать тип object в int64.\n"
   ]
  },
  {
   "cell_type": "markdown",
   "id": "30386718",
   "metadata": {
    "id": "Lz7qjM32xglW"
   },
   "source": [
    "### 2.3. Объединять или не объединять — вот в чём вопрос\n",
    "\n",
    "Некоторые названия столбцов встречаются в датасетах чаще других. В результате предварительной проверки датасетов было выяснено, что столбец `company_id` подходит для объединения данных. \n",
    "Проверим, подходит ли для объединения данных столбец `network_username`, который встречается в нескольких датасетах.\n"
   ]
  },
  {
   "cell_type": "code",
   "execution_count": 52,
   "id": "14f37662",
   "metadata": {
    "id": "RxOS5rwmFcNW"
   },
   "outputs": [
    {
     "data": {
      "text/plain": [
       "79572"
      ]
     },
     "execution_count": 52,
     "metadata": {},
     "output_type": "execute_result"
    }
   ],
   "source": [
    "len(set(company_and_rounds_df['network_username']))"
   ]
  },
  {
   "cell_type": "code",
   "execution_count": 53,
   "id": "08db3327",
   "metadata": {
    "id": "_7gjdrGOFcB2"
   },
   "outputs": [
    {
     "data": {
      "text/plain": [
       "38422"
      ]
     },
     "execution_count": 53,
     "metadata": {},
     "output_type": "execute_result"
    }
   ],
   "source": [
    "len(set(people_df['network_username']))"
   ]
  },
  {
   "cell_type": "code",
   "execution_count": 54,
   "id": "6e1a2aa3",
   "metadata": {},
   "outputs": [
    {
     "data": {
      "text/plain": [
       "2099"
      ]
     },
     "execution_count": 54,
     "metadata": {},
     "output_type": "execute_result"
    }
   ],
   "source": [
    "len(set(fund_df['network_username']))"
   ]
  },
  {
   "cell_type": "code",
   "execution_count": 55,
   "id": "fe4d6c47",
   "metadata": {},
   "outputs": [
    {
     "data": {
      "text/plain": [
       "2200"
      ]
     },
     "execution_count": 55,
     "metadata": {},
     "output_type": "execute_result"
    }
   ],
   "source": [
    "len(set(company_and_rounds_df['network_username']).intersection(people_df['network_username']))\n"
   ]
  },
  {
   "cell_type": "markdown",
   "id": "1f491e80",
   "metadata": {},
   "source": [
    "Столбец `network_username`, который встречается в нескольких датасетах не подходит для объединения данных. \n",
    "Для `company_and_rounds_df` и `people_df` пересечение одинаковых ников составляет около 2 %.\n",
    "Столбцы с именем `network_username` для объединения данных использовать неполучиться."
   ]
  },
  {
   "cell_type": "markdown",
   "id": "16ab3f22",
   "metadata": {
    "id": "EHcODomVrJg1"
   },
   "source": [
    "\n",
    "### 2.4. Проблемный датасет и причина возникновения пропусков\n",
    "\n",
    "Во время собственного анализа данных у заказчика больше всего вопросов возникло к датасету `company_and_rounds.csv`. В нём много пропусков как раз в информации о раундах, которая заказчику важна.\n",
    "\n",
    "- Любым удобным способом приведите данные в вид, который позволит в дальнейшем проводить анализ в разрезе отдельных компаний. Обратите внимание на структуру датасета, порядок и названия столбцов, проанализируйте значения.\n",
    "\n",
    "По гипотезе заказчика данные по компаниям из этой таблицы раньше хранились иначе, более удобным для исследования образом.\n",
    "\n",
    "- Максимальным образом сохраняя данные, сохранив их связность и исключив возможные возникающие при этом ошибки, подготовьте данные так, чтобы удобно было отобрать компании по параметрам и рассчитать показатели из расчёта на одну компанию без промежуточных агрегаций."
   ]
  },
  {
   "cell_type": "code",
   "execution_count": 56,
   "id": "afd59317",
   "metadata": {
    "id": "oSk7xqu_FbaN"
   },
   "outputs": [
    {
     "data": {
      "text/html": [
       "<style  type=\"text/css\" >\n",
       "</style><table id=\"T_04f14_\" ><thead>    <tr>        <th class=\"blank level0\" ></th>        <th class=\"col_heading level0 col0\" >company_id_first</th>        <th class=\"col_heading level0 col1\" >investment_rounds</th>        <th class=\"col_heading level0 col2\" >funding_rounds</th>        <th class=\"col_heading level0 col3\" >funding_total</th>        <th class=\"col_heading level0 col4\" >milestones</th>        <th class=\"col_heading level0 col5\" >funding_round_id</th>        <th class=\"col_heading level0 col6\" >company_id</th>        <th class=\"col_heading level0 col7\" >raised_amount</th>        <th class=\"col_heading level0 col8\" >pre_money_valuation</th>        <th class=\"col_heading level0 col9\" >participants</th>        <th class=\"col_heading level0 col10\" >is_first_round</th>        <th class=\"col_heading level0 col11\" >is_last_round</th>    </tr></thead><tbody>\n",
       "                <tr>\n",
       "                        <th id=\"T_04f14_level0_row0\" class=\"row_heading level0 row0\" >count</th>\n",
       "                        <td id=\"T_04f14_row0_col0\" class=\"data row0 col0\" >217472.00</td>\n",
       "                        <td id=\"T_04f14_row0_col1\" class=\"data row0 col1\" >217472.00</td>\n",
       "                        <td id=\"T_04f14_row0_col2\" class=\"data row0 col2\" >217472.00</td>\n",
       "                        <td id=\"T_04f14_row0_col3\" class=\"data row0 col3\" >217472.00</td>\n",
       "                        <td id=\"T_04f14_row0_col4\" class=\"data row0 col4\" >217472.00</td>\n",
       "                        <td id=\"T_04f14_row0_col5\" class=\"data row0 col5\" >52928.00</td>\n",
       "                        <td id=\"T_04f14_row0_col6\" class=\"data row0 col6\" >52928.00</td>\n",
       "                        <td id=\"T_04f14_row0_col7\" class=\"data row0 col7\" >52928.00</td>\n",
       "                        <td id=\"T_04f14_row0_col8\" class=\"data row0 col8\" >52928.00</td>\n",
       "                        <td id=\"T_04f14_row0_col9\" class=\"data row0 col9\" >52928.00</td>\n",
       "                        <td id=\"T_04f14_row0_col10\" class=\"data row0 col10\" >52928.00</td>\n",
       "                        <td id=\"T_04f14_row0_col11\" class=\"data row0 col11\" >52928.00</td>\n",
       "            </tr>\n",
       "            <tr>\n",
       "                        <th id=\"T_04f14_level0_row1\" class=\"row_heading level0 row1\" >mean</th>\n",
       "                        <td id=\"T_04f14_row1_col0\" class=\"data row1 col0\" >145287.38</td>\n",
       "                        <td id=\"T_04f14_row1_col1\" class=\"data row1 col1\" >0.04</td>\n",
       "                        <td id=\"T_04f14_row1_col2\" class=\"data row1 col2\" >0.61</td>\n",
       "                        <td id=\"T_04f14_row1_col3\" class=\"data row1 col3\" >5996191.13</td>\n",
       "                        <td id=\"T_04f14_row1_col4\" class=\"data row1 col4\" >0.65</td>\n",
       "                        <td id=\"T_04f14_row1_col5\" class=\"data row1 col5\" >28962.89</td>\n",
       "                        <td id=\"T_04f14_row1_col6\" class=\"data row1 col6\" >98490.89</td>\n",
       "                        <td id=\"T_04f14_row1_col7\" class=\"data row1 col7\" >7946092.26</td>\n",
       "                        <td id=\"T_04f14_row1_col8\" class=\"data row1 col8\" >329452.46</td>\n",
       "                        <td id=\"T_04f14_row1_col9\" class=\"data row1 col9\" >1.53</td>\n",
       "                        <td id=\"T_04f14_row1_col10\" class=\"data row1 col10\" >0.60</td>\n",
       "                        <td id=\"T_04f14_row1_col11\" class=\"data row1 col11\" >0.60</td>\n",
       "            </tr>\n",
       "            <tr>\n",
       "                        <th id=\"T_04f14_level0_row2\" class=\"row_heading level0 row2\" >std</th>\n",
       "                        <td id=\"T_04f14_row2_col0\" class=\"data row2 col0\" >91998.16</td>\n",
       "                        <td id=\"T_04f14_row2_col1\" class=\"data row2 col1\" >1.96</td>\n",
       "                        <td id=\"T_04f14_row2_col2\" class=\"data row2 col2\" >1.43</td>\n",
       "                        <td id=\"T_04f14_row2_col3\" class=\"data row2 col3\" >48931604.28</td>\n",
       "                        <td id=\"T_04f14_row2_col4\" class=\"data row2 col4\" >0.83</td>\n",
       "                        <td id=\"T_04f14_row2_col5\" class=\"data row2 col5\" >16821.87</td>\n",
       "                        <td id=\"T_04f14_row2_col6\" class=\"data row2 col6\" >88429.08</td>\n",
       "                        <td id=\"T_04f14_row2_col7\" class=\"data row2 col7\" >42168205.89</td>\n",
       "                        <td id=\"T_04f14_row2_col8\" class=\"data row2 col8\" >65318030.22</td>\n",
       "                        <td id=\"T_04f14_row2_col9\" class=\"data row2 col9\" >2.06</td>\n",
       "                        <td id=\"T_04f14_row2_col10\" class=\"data row2 col10\" >0.49</td>\n",
       "                        <td id=\"T_04f14_row2_col11\" class=\"data row2 col11\" >0.49</td>\n",
       "            </tr>\n",
       "            <tr>\n",
       "                        <th id=\"T_04f14_level0_row3\" class=\"row_heading level0 row3\" >min</th>\n",
       "                        <td id=\"T_04f14_row3_col0\" class=\"data row3 col0\" >1.00</td>\n",
       "                        <td id=\"T_04f14_row3_col1\" class=\"data row3 col1\" >0.00</td>\n",
       "                        <td id=\"T_04f14_row3_col2\" class=\"data row3 col2\" >0.00</td>\n",
       "                        <td id=\"T_04f14_row3_col3\" class=\"data row3 col3\" >0.00</td>\n",
       "                        <td id=\"T_04f14_row3_col4\" class=\"data row3 col4\" >0.00</td>\n",
       "                        <td id=\"T_04f14_row3_col5\" class=\"data row3 col5\" >1.00</td>\n",
       "                        <td id=\"T_04f14_row3_col6\" class=\"data row3 col6\" >1.00</td>\n",
       "                        <td id=\"T_04f14_row3_col7\" class=\"data row3 col7\" >0.00</td>\n",
       "                        <td id=\"T_04f14_row3_col8\" class=\"data row3 col8\" >0.00</td>\n",
       "                        <td id=\"T_04f14_row3_col9\" class=\"data row3 col9\" >0.00</td>\n",
       "                        <td id=\"T_04f14_row3_col10\" class=\"data row3 col10\" >0.00</td>\n",
       "                        <td id=\"T_04f14_row3_col11\" class=\"data row3 col11\" >0.00</td>\n",
       "            </tr>\n",
       "            <tr>\n",
       "                        <th id=\"T_04f14_level0_row4\" class=\"row_heading level0 row4\" >25%</th>\n",
       "                        <td id=\"T_04f14_row4_col0\" class=\"data row4 col0\" >51960.75</td>\n",
       "                        <td id=\"T_04f14_row4_col1\" class=\"data row4 col1\" >0.00</td>\n",
       "                        <td id=\"T_04f14_row4_col2\" class=\"data row4 col2\" >0.00</td>\n",
       "                        <td id=\"T_04f14_row4_col3\" class=\"data row4 col3\" >0.00</td>\n",
       "                        <td id=\"T_04f14_row4_col4\" class=\"data row4 col4\" >0.00</td>\n",
       "                        <td id=\"T_04f14_row4_col5\" class=\"data row4 col5\" >14343.75</td>\n",
       "                        <td id=\"T_04f14_row4_col6\" class=\"data row4 col6\" >26598.00</td>\n",
       "                        <td id=\"T_04f14_row4_col7\" class=\"data row4 col7\" >246330.00</td>\n",
       "                        <td id=\"T_04f14_row4_col8\" class=\"data row4 col8\" >0.00</td>\n",
       "                        <td id=\"T_04f14_row4_col9\" class=\"data row4 col9\" >0.00</td>\n",
       "                        <td id=\"T_04f14_row4_col10\" class=\"data row4 col10\" >0.00</td>\n",
       "                        <td id=\"T_04f14_row4_col11\" class=\"data row4 col11\" >0.00</td>\n",
       "            </tr>\n",
       "            <tr>\n",
       "                        <th id=\"T_04f14_level0_row5\" class=\"row_heading level0 row5\" >50%</th>\n",
       "                        <td id=\"T_04f14_row5_col0\" class=\"data row5 col0\" >165262.50</td>\n",
       "                        <td id=\"T_04f14_row5_col1\" class=\"data row5 col1\" >0.00</td>\n",
       "                        <td id=\"T_04f14_row5_col2\" class=\"data row5 col2\" >0.00</td>\n",
       "                        <td id=\"T_04f14_row5_col3\" class=\"data row5 col3\" >0.00</td>\n",
       "                        <td id=\"T_04f14_row5_col4\" class=\"data row5 col4\" >0.00</td>\n",
       "                        <td id=\"T_04f14_row5_col5\" class=\"data row5 col5\" >28885.50</td>\n",
       "                        <td id=\"T_04f14_row5_col6\" class=\"data row5 col6\" >58080.00</td>\n",
       "                        <td id=\"T_04f14_row5_col7\" class=\"data row5 col7\" >1600000.00</td>\n",
       "                        <td id=\"T_04f14_row5_col8\" class=\"data row5 col8\" >0.00</td>\n",
       "                        <td id=\"T_04f14_row5_col9\" class=\"data row5 col9\" >1.00</td>\n",
       "                        <td id=\"T_04f14_row5_col10\" class=\"data row5 col10\" >1.00</td>\n",
       "                        <td id=\"T_04f14_row5_col11\" class=\"data row5 col11\" >1.00</td>\n",
       "            </tr>\n",
       "            <tr>\n",
       "                        <th id=\"T_04f14_level0_row6\" class=\"row_heading level0 row6\" >75%</th>\n",
       "                        <td id=\"T_04f14_row6_col0\" class=\"data row6 col0\" >228199.25</td>\n",
       "                        <td id=\"T_04f14_row6_col1\" class=\"data row6 col1\" >0.00</td>\n",
       "                        <td id=\"T_04f14_row6_col2\" class=\"data row6 col2\" >0.00</td>\n",
       "                        <td id=\"T_04f14_row6_col3\" class=\"data row6 col3\" >0.00</td>\n",
       "                        <td id=\"T_04f14_row6_col4\" class=\"data row6 col4\" >1.00</td>\n",
       "                        <td id=\"T_04f14_row6_col5\" class=\"data row6 col5\" >43561.25</td>\n",
       "                        <td id=\"T_04f14_row6_col6\" class=\"data row6 col6\" >171610.75</td>\n",
       "                        <td id=\"T_04f14_row6_col7\" class=\"data row6 col7\" >6700000.00</td>\n",
       "                        <td id=\"T_04f14_row6_col8\" class=\"data row6 col8\" >0.00</td>\n",
       "                        <td id=\"T_04f14_row6_col9\" class=\"data row6 col9\" >2.00</td>\n",
       "                        <td id=\"T_04f14_row6_col10\" class=\"data row6 col10\" >1.00</td>\n",
       "                        <td id=\"T_04f14_row6_col11\" class=\"data row6 col11\" >1.00</td>\n",
       "            </tr>\n",
       "            <tr>\n",
       "                        <th id=\"T_04f14_level0_row7\" class=\"row_heading level0 row7\" >max</th>\n",
       "                        <td id=\"T_04f14_row7_col0\" class=\"data row7 col0\" >286215.00</td>\n",
       "                        <td id=\"T_04f14_row7_col1\" class=\"data row7 col1\" >478.00</td>\n",
       "                        <td id=\"T_04f14_row7_col2\" class=\"data row7 col2\" >15.00</td>\n",
       "                        <td id=\"T_04f14_row7_col3\" class=\"data row7 col3\" >5700000000.00</td>\n",
       "                        <td id=\"T_04f14_row7_col4\" class=\"data row7 col4\" >9.00</td>\n",
       "                        <td id=\"T_04f14_row7_col5\" class=\"data row7 col5\" >57952.00</td>\n",
       "                        <td id=\"T_04f14_row7_col6\" class=\"data row7 col6\" >286215.00</td>\n",
       "                        <td id=\"T_04f14_row7_col7\" class=\"data row7 col7\" >3835050000.00</td>\n",
       "                        <td id=\"T_04f14_row7_col8\" class=\"data row7 col8\" >15000000000.00</td>\n",
       "                        <td id=\"T_04f14_row7_col9\" class=\"data row7 col9\" >36.00</td>\n",
       "                        <td id=\"T_04f14_row7_col10\" class=\"data row7 col10\" >1.00</td>\n",
       "                        <td id=\"T_04f14_row7_col11\" class=\"data row7 col11\" >1.00</td>\n",
       "            </tr>\n",
       "    </tbody></table>"
      ],
      "text/plain": [
       "<pandas.io.formats.style.Styler at 0x7fac8717ab80>"
      ]
     },
     "execution_count": 56,
     "metadata": {},
     "output_type": "execute_result"
    }
   ],
   "source": [
    "# Меняем формат отображения для лучшего понимания данных\n",
    "company_and_rounds_df.describe().style.format('{:.2f}')"
   ]
  },
  {
   "cell_type": "code",
   "execution_count": 57,
   "id": "8615fb52",
   "metadata": {
    "id": "tJ6Sl6MKrJg1",
    "vscode": {
     "languageId": "plaintext"
    }
   },
   "outputs": [
    {
     "data": {
      "text/html": [
       "<div>\n",
       "<style scoped>\n",
       "    .dataframe tbody tr th:only-of-type {\n",
       "        vertical-align: middle;\n",
       "    }\n",
       "\n",
       "    .dataframe tbody tr th {\n",
       "        vertical-align: top;\n",
       "    }\n",
       "\n",
       "    .dataframe thead th {\n",
       "        text-align: right;\n",
       "    }\n",
       "</style>\n",
       "<table border=\"1\" class=\"dataframe\">\n",
       "  <thead>\n",
       "    <tr style=\"text-align: right;\">\n",
       "      <th></th>\n",
       "      <th>company_id_first</th>\n",
       "      <th>name</th>\n",
       "      <th>category_code</th>\n",
       "      <th>status</th>\n",
       "      <th>founded_at</th>\n",
       "      <th>closed_at</th>\n",
       "      <th>domain</th>\n",
       "      <th>network_username</th>\n",
       "      <th>country_code</th>\n",
       "      <th>investment_rounds</th>\n",
       "      <th>funding_rounds</th>\n",
       "      <th>funding_total</th>\n",
       "      <th>milestones</th>\n",
       "      <th>funding_round_id</th>\n",
       "      <th>company_id</th>\n",
       "      <th>funded_at</th>\n",
       "      <th>funding_round_type</th>\n",
       "      <th>raised_amount</th>\n",
       "      <th>pre_money_valuation</th>\n",
       "      <th>participants</th>\n",
       "      <th>is_first_round</th>\n",
       "      <th>is_last_round</th>\n",
       "    </tr>\n",
       "  </thead>\n",
       "  <tbody>\n",
       "    <tr>\n",
       "      <th>0</th>\n",
       "      <td>1.0</td>\n",
       "      <td>Wetpaint</td>\n",
       "      <td>web</td>\n",
       "      <td>operating</td>\n",
       "      <td>2005-10-17</td>\n",
       "      <td>NaT</td>\n",
       "      <td>wetpaint-inc.com</td>\n",
       "      <td>BachelrWetpaint</td>\n",
       "      <td>USA</td>\n",
       "      <td>0.0</td>\n",
       "      <td>3.0</td>\n",
       "      <td>39750000.0</td>\n",
       "      <td>5.0</td>\n",
       "      <td>888.0</td>\n",
       "      <td>1.0</td>\n",
       "      <td>2005-10-01</td>\n",
       "      <td>series-a</td>\n",
       "      <td>5250000.0</td>\n",
       "      <td>0.0</td>\n",
       "      <td>2.0</td>\n",
       "      <td>0.0</td>\n",
       "      <td>1.0</td>\n",
       "    </tr>\n",
       "    <tr>\n",
       "      <th>1</th>\n",
       "      <td>1.0</td>\n",
       "      <td>Wetpaint</td>\n",
       "      <td>web</td>\n",
       "      <td>operating</td>\n",
       "      <td>2005-10-17</td>\n",
       "      <td>NaT</td>\n",
       "      <td>wetpaint-inc.com</td>\n",
       "      <td>BachelrWetpaint</td>\n",
       "      <td>USA</td>\n",
       "      <td>0.0</td>\n",
       "      <td>3.0</td>\n",
       "      <td>39750000.0</td>\n",
       "      <td>5.0</td>\n",
       "      <td>889.0</td>\n",
       "      <td>1.0</td>\n",
       "      <td>2007-01-01</td>\n",
       "      <td>series-b</td>\n",
       "      <td>9500000.0</td>\n",
       "      <td>0.0</td>\n",
       "      <td>3.0</td>\n",
       "      <td>0.0</td>\n",
       "      <td>0.0</td>\n",
       "    </tr>\n",
       "    <tr>\n",
       "      <th>2</th>\n",
       "      <td>1.0</td>\n",
       "      <td>Wetpaint</td>\n",
       "      <td>web</td>\n",
       "      <td>operating</td>\n",
       "      <td>2005-10-17</td>\n",
       "      <td>NaT</td>\n",
       "      <td>wetpaint-inc.com</td>\n",
       "      <td>BachelrWetpaint</td>\n",
       "      <td>USA</td>\n",
       "      <td>0.0</td>\n",
       "      <td>3.0</td>\n",
       "      <td>39750000.0</td>\n",
       "      <td>5.0</td>\n",
       "      <td>2312.0</td>\n",
       "      <td>1.0</td>\n",
       "      <td>2008-05-19</td>\n",
       "      <td>series-c+</td>\n",
       "      <td>25000000.0</td>\n",
       "      <td>0.0</td>\n",
       "      <td>4.0</td>\n",
       "      <td>1.0</td>\n",
       "      <td>0.0</td>\n",
       "    </tr>\n",
       "    <tr>\n",
       "      <th>3</th>\n",
       "      <td>10.0</td>\n",
       "      <td>Flektor</td>\n",
       "      <td>games_video</td>\n",
       "      <td>acquired</td>\n",
       "      <td>NaT</td>\n",
       "      <td>NaT</td>\n",
       "      <td>flektor.com</td>\n",
       "      <td>NaN</td>\n",
       "      <td>USA</td>\n",
       "      <td>0.0</td>\n",
       "      <td>0.0</td>\n",
       "      <td>0.0</td>\n",
       "      <td>0.0</td>\n",
       "      <td>NaN</td>\n",
       "      <td>NaN</td>\n",
       "      <td>NaT</td>\n",
       "      <td>NaN</td>\n",
       "      <td>NaN</td>\n",
       "      <td>NaN</td>\n",
       "      <td>NaN</td>\n",
       "      <td>NaN</td>\n",
       "      <td>NaN</td>\n",
       "    </tr>\n",
       "    <tr>\n",
       "      <th>4</th>\n",
       "      <td>100.0</td>\n",
       "      <td>There</td>\n",
       "      <td>games_video</td>\n",
       "      <td>acquired</td>\n",
       "      <td>NaT</td>\n",
       "      <td>NaT</td>\n",
       "      <td>there.com</td>\n",
       "      <td>NaN</td>\n",
       "      <td>USA</td>\n",
       "      <td>0.0</td>\n",
       "      <td>0.0</td>\n",
       "      <td>0.0</td>\n",
       "      <td>4.0</td>\n",
       "      <td>NaN</td>\n",
       "      <td>NaN</td>\n",
       "      <td>NaT</td>\n",
       "      <td>NaN</td>\n",
       "      <td>NaN</td>\n",
       "      <td>NaN</td>\n",
       "      <td>NaN</td>\n",
       "      <td>NaN</td>\n",
       "      <td>NaN</td>\n",
       "    </tr>\n",
       "    <tr>\n",
       "      <th>5</th>\n",
       "      <td>10000.0</td>\n",
       "      <td>MYWEBBO</td>\n",
       "      <td>network_hosting</td>\n",
       "      <td>operating</td>\n",
       "      <td>2008-07-26</td>\n",
       "      <td>NaT</td>\n",
       "      <td>mywebbo.com</td>\n",
       "      <td>NaN</td>\n",
       "      <td>NaN</td>\n",
       "      <td>0.0</td>\n",
       "      <td>0.0</td>\n",
       "      <td>0.0</td>\n",
       "      <td>0.0</td>\n",
       "      <td>NaN</td>\n",
       "      <td>NaN</td>\n",
       "      <td>NaT</td>\n",
       "      <td>NaN</td>\n",
       "      <td>NaN</td>\n",
       "      <td>NaN</td>\n",
       "      <td>NaN</td>\n",
       "      <td>NaN</td>\n",
       "      <td>NaN</td>\n",
       "    </tr>\n",
       "    <tr>\n",
       "      <th>6</th>\n",
       "      <td>10001.0</td>\n",
       "      <td>THE Movie Streamer</td>\n",
       "      <td>games_video</td>\n",
       "      <td>operating</td>\n",
       "      <td>2008-07-26</td>\n",
       "      <td>NaT</td>\n",
       "      <td>themoviestreamer.com</td>\n",
       "      <td>NaN</td>\n",
       "      <td>NaN</td>\n",
       "      <td>0.0</td>\n",
       "      <td>0.0</td>\n",
       "      <td>0.0</td>\n",
       "      <td>0.0</td>\n",
       "      <td>NaN</td>\n",
       "      <td>NaN</td>\n",
       "      <td>NaT</td>\n",
       "      <td>NaN</td>\n",
       "      <td>NaN</td>\n",
       "      <td>NaN</td>\n",
       "      <td>NaN</td>\n",
       "      <td>NaN</td>\n",
       "      <td>NaN</td>\n",
       "    </tr>\n",
       "    <tr>\n",
       "      <th>7</th>\n",
       "      <td>10002.0</td>\n",
       "      <td>Synergie Media</td>\n",
       "      <td>advertising</td>\n",
       "      <td>operating</td>\n",
       "      <td>2007-06-27</td>\n",
       "      <td>NaT</td>\n",
       "      <td>synergie-media.com</td>\n",
       "      <td>NaN</td>\n",
       "      <td>MAR</td>\n",
       "      <td>0.0</td>\n",
       "      <td>0.0</td>\n",
       "      <td>0.0</td>\n",
       "      <td>0.0</td>\n",
       "      <td>NaN</td>\n",
       "      <td>NaN</td>\n",
       "      <td>NaT</td>\n",
       "      <td>NaN</td>\n",
       "      <td>NaN</td>\n",
       "      <td>NaN</td>\n",
       "      <td>NaN</td>\n",
       "      <td>NaN</td>\n",
       "      <td>NaN</td>\n",
       "    </tr>\n",
       "    <tr>\n",
       "      <th>8</th>\n",
       "      <td>10003.0</td>\n",
       "      <td>Green Basti Ecosystems</td>\n",
       "      <td>cleantech</td>\n",
       "      <td>operating</td>\n",
       "      <td>2008-08-20</td>\n",
       "      <td>NaT</td>\n",
       "      <td>NaN</td>\n",
       "      <td>NaN</td>\n",
       "      <td>IND</td>\n",
       "      <td>0.0</td>\n",
       "      <td>0.0</td>\n",
       "      <td>0.0</td>\n",
       "      <td>0.0</td>\n",
       "      <td>NaN</td>\n",
       "      <td>NaN</td>\n",
       "      <td>NaT</td>\n",
       "      <td>NaN</td>\n",
       "      <td>NaN</td>\n",
       "      <td>NaN</td>\n",
       "      <td>NaN</td>\n",
       "      <td>NaN</td>\n",
       "      <td>NaN</td>\n",
       "    </tr>\n",
       "    <tr>\n",
       "      <th>9</th>\n",
       "      <td>100042.0</td>\n",
       "      <td>HostNine</td>\n",
       "      <td>NaN</td>\n",
       "      <td>operating</td>\n",
       "      <td>NaT</td>\n",
       "      <td>NaT</td>\n",
       "      <td>hostnine.com</td>\n",
       "      <td>Hostnine</td>\n",
       "      <td>NaN</td>\n",
       "      <td>0.0</td>\n",
       "      <td>0.0</td>\n",
       "      <td>0.0</td>\n",
       "      <td>1.0</td>\n",
       "      <td>NaN</td>\n",
       "      <td>NaN</td>\n",
       "      <td>NaT</td>\n",
       "      <td>NaN</td>\n",
       "      <td>NaN</td>\n",
       "      <td>NaN</td>\n",
       "      <td>NaN</td>\n",
       "      <td>NaN</td>\n",
       "      <td>NaN</td>\n",
       "    </tr>\n",
       "  </tbody>\n",
       "</table>\n",
       "</div>"
      ],
      "text/plain": [
       "   company_id_first                    name    category_code     status  \\\n",
       "0               1.0                Wetpaint              web  operating   \n",
       "1               1.0                Wetpaint              web  operating   \n",
       "2               1.0                Wetpaint              web  operating   \n",
       "3              10.0                 Flektor      games_video   acquired   \n",
       "4             100.0                   There      games_video   acquired   \n",
       "5           10000.0                 MYWEBBO  network_hosting  operating   \n",
       "6           10001.0      THE Movie Streamer      games_video  operating   \n",
       "7           10002.0          Synergie Media      advertising  operating   \n",
       "8           10003.0  Green Basti Ecosystems        cleantech  operating   \n",
       "9          100042.0                HostNine              NaN  operating   \n",
       "\n",
       "  founded_at closed_at                domain network_username country_code  \\\n",
       "0 2005-10-17       NaT      wetpaint-inc.com  BachelrWetpaint          USA   \n",
       "1 2005-10-17       NaT      wetpaint-inc.com  BachelrWetpaint          USA   \n",
       "2 2005-10-17       NaT      wetpaint-inc.com  BachelrWetpaint          USA   \n",
       "3        NaT       NaT           flektor.com              NaN          USA   \n",
       "4        NaT       NaT             there.com              NaN          USA   \n",
       "5 2008-07-26       NaT           mywebbo.com              NaN          NaN   \n",
       "6 2008-07-26       NaT  themoviestreamer.com              NaN          NaN   \n",
       "7 2007-06-27       NaT    synergie-media.com              NaN          MAR   \n",
       "8 2008-08-20       NaT                   NaN              NaN          IND   \n",
       "9        NaT       NaT          hostnine.com         Hostnine          NaN   \n",
       "\n",
       "   investment_rounds  funding_rounds  funding_total  milestones  \\\n",
       "0                0.0             3.0     39750000.0         5.0   \n",
       "1                0.0             3.0     39750000.0         5.0   \n",
       "2                0.0             3.0     39750000.0         5.0   \n",
       "3                0.0             0.0            0.0         0.0   \n",
       "4                0.0             0.0            0.0         4.0   \n",
       "5                0.0             0.0            0.0         0.0   \n",
       "6                0.0             0.0            0.0         0.0   \n",
       "7                0.0             0.0            0.0         0.0   \n",
       "8                0.0             0.0            0.0         0.0   \n",
       "9                0.0             0.0            0.0         1.0   \n",
       "\n",
       "   funding_round_id  company_id  funded_at funding_round_type  raised_amount  \\\n",
       "0             888.0         1.0 2005-10-01           series-a      5250000.0   \n",
       "1             889.0         1.0 2007-01-01           series-b      9500000.0   \n",
       "2            2312.0         1.0 2008-05-19          series-c+     25000000.0   \n",
       "3               NaN         NaN        NaT                NaN            NaN   \n",
       "4               NaN         NaN        NaT                NaN            NaN   \n",
       "5               NaN         NaN        NaT                NaN            NaN   \n",
       "6               NaN         NaN        NaT                NaN            NaN   \n",
       "7               NaN         NaN        NaT                NaN            NaN   \n",
       "8               NaN         NaN        NaT                NaN            NaN   \n",
       "9               NaN         NaN        NaT                NaN            NaN   \n",
       "\n",
       "   pre_money_valuation  participants  is_first_round  is_last_round  \n",
       "0                  0.0           2.0             0.0            1.0  \n",
       "1                  0.0           3.0             0.0            0.0  \n",
       "2                  0.0           4.0             1.0            0.0  \n",
       "3                  NaN           NaN             NaN            NaN  \n",
       "4                  NaN           NaN             NaN            NaN  \n",
       "5                  NaN           NaN             NaN            NaN  \n",
       "6                  NaN           NaN             NaN            NaN  \n",
       "7                  NaN           NaN             NaN            NaN  \n",
       "8                  NaN           NaN             NaN            NaN  \n",
       "9                  NaN           NaN             NaN            NaN  "
      ]
     },
     "execution_count": 57,
     "metadata": {},
     "output_type": "execute_result"
    }
   ],
   "source": [
    "# Выводим начало датафрейма\n",
    "company_and_rounds_df.head(10)"
   ]
  },
  {
   "cell_type": "code",
   "execution_count": 58,
   "id": "94afdc99",
   "metadata": {},
   "outputs": [
    {
     "data": {
      "text/html": [
       "<div>\n",
       "<style scoped>\n",
       "    .dataframe tbody tr th:only-of-type {\n",
       "        vertical-align: middle;\n",
       "    }\n",
       "\n",
       "    .dataframe tbody tr th {\n",
       "        vertical-align: top;\n",
       "    }\n",
       "\n",
       "    .dataframe thead th {\n",
       "        text-align: right;\n",
       "    }\n",
       "</style>\n",
       "<table border=\"1\" class=\"dataframe\">\n",
       "  <thead>\n",
       "    <tr style=\"text-align: right;\">\n",
       "      <th></th>\n",
       "      <th>company_id_first</th>\n",
       "      <th>name</th>\n",
       "      <th>category_code</th>\n",
       "      <th>status</th>\n",
       "      <th>founded_at</th>\n",
       "      <th>closed_at</th>\n",
       "      <th>domain</th>\n",
       "      <th>network_username</th>\n",
       "      <th>country_code</th>\n",
       "      <th>investment_rounds</th>\n",
       "      <th>funding_rounds</th>\n",
       "      <th>funding_total</th>\n",
       "      <th>milestones</th>\n",
       "      <th>funding_round_id</th>\n",
       "      <th>company_id</th>\n",
       "      <th>funded_at</th>\n",
       "      <th>funding_round_type</th>\n",
       "      <th>raised_amount</th>\n",
       "      <th>pre_money_valuation</th>\n",
       "      <th>participants</th>\n",
       "      <th>is_first_round</th>\n",
       "      <th>is_last_round</th>\n",
       "    </tr>\n",
       "  </thead>\n",
       "  <tbody>\n",
       "    <tr>\n",
       "      <th>217764</th>\n",
       "      <td>NaN</td>\n",
       "      <td>NaN</td>\n",
       "      <td>NaN</td>\n",
       "      <td>NaN</td>\n",
       "      <td>NaT</td>\n",
       "      <td>NaT</td>\n",
       "      <td>NaN</td>\n",
       "      <td>NaN</td>\n",
       "      <td>NaN</td>\n",
       "      <td>NaN</td>\n",
       "      <td>NaN</td>\n",
       "      <td>NaN</td>\n",
       "      <td>NaN</td>\n",
       "      <td>55358.0</td>\n",
       "      <td>269728.0</td>\n",
       "      <td>2013-08-14</td>\n",
       "      <td>series-a</td>\n",
       "      <td>5600000.0</td>\n",
       "      <td>0.0</td>\n",
       "      <td>7.0</td>\n",
       "      <td>1.0</td>\n",
       "      <td>1.0</td>\n",
       "    </tr>\n",
       "    <tr>\n",
       "      <th>217765</th>\n",
       "      <td>NaN</td>\n",
       "      <td>NaN</td>\n",
       "      <td>NaN</td>\n",
       "      <td>NaN</td>\n",
       "      <td>NaT</td>\n",
       "      <td>NaT</td>\n",
       "      <td>NaN</td>\n",
       "      <td>NaN</td>\n",
       "      <td>NaN</td>\n",
       "      <td>NaN</td>\n",
       "      <td>NaN</td>\n",
       "      <td>NaN</td>\n",
       "      <td>NaN</td>\n",
       "      <td>55492.0</td>\n",
       "      <td>78698.0</td>\n",
       "      <td>2013-11-20</td>\n",
       "      <td>series-a</td>\n",
       "      <td>15000000.0</td>\n",
       "      <td>0.0</td>\n",
       "      <td>1.0</td>\n",
       "      <td>1.0</td>\n",
       "      <td>1.0</td>\n",
       "    </tr>\n",
       "    <tr>\n",
       "      <th>217766</th>\n",
       "      <td>NaN</td>\n",
       "      <td>NaN</td>\n",
       "      <td>NaN</td>\n",
       "      <td>NaN</td>\n",
       "      <td>NaT</td>\n",
       "      <td>NaT</td>\n",
       "      <td>NaN</td>\n",
       "      <td>NaN</td>\n",
       "      <td>NaN</td>\n",
       "      <td>NaN</td>\n",
       "      <td>NaN</td>\n",
       "      <td>NaN</td>\n",
       "      <td>NaN</td>\n",
       "      <td>56054.0</td>\n",
       "      <td>196289.0</td>\n",
       "      <td>2011-03-01</td>\n",
       "      <td>other</td>\n",
       "      <td>925000.0</td>\n",
       "      <td>0.0</td>\n",
       "      <td>0.0</td>\n",
       "      <td>1.0</td>\n",
       "      <td>1.0</td>\n",
       "    </tr>\n",
       "    <tr>\n",
       "      <th>217767</th>\n",
       "      <td>NaN</td>\n",
       "      <td>NaN</td>\n",
       "      <td>NaN</td>\n",
       "      <td>NaN</td>\n",
       "      <td>NaT</td>\n",
       "      <td>NaT</td>\n",
       "      <td>NaN</td>\n",
       "      <td>NaN</td>\n",
       "      <td>NaN</td>\n",
       "      <td>NaN</td>\n",
       "      <td>NaN</td>\n",
       "      <td>NaN</td>\n",
       "      <td>NaN</td>\n",
       "      <td>56158.0</td>\n",
       "      <td>282450.0</td>\n",
       "      <td>2013-11-26</td>\n",
       "      <td>series-a</td>\n",
       "      <td>2600000.0</td>\n",
       "      <td>0.0</td>\n",
       "      <td>0.0</td>\n",
       "      <td>1.0</td>\n",
       "      <td>1.0</td>\n",
       "    </tr>\n",
       "    <tr>\n",
       "      <th>217768</th>\n",
       "      <td>NaN</td>\n",
       "      <td>NaN</td>\n",
       "      <td>NaN</td>\n",
       "      <td>NaN</td>\n",
       "      <td>NaT</td>\n",
       "      <td>NaT</td>\n",
       "      <td>NaN</td>\n",
       "      <td>NaN</td>\n",
       "      <td>NaN</td>\n",
       "      <td>NaN</td>\n",
       "      <td>NaN</td>\n",
       "      <td>NaN</td>\n",
       "      <td>NaN</td>\n",
       "      <td>56184.0</td>\n",
       "      <td>146919.0</td>\n",
       "      <td>2013-11-06</td>\n",
       "      <td>other</td>\n",
       "      <td>4900000.0</td>\n",
       "      <td>0.0</td>\n",
       "      <td>0.0</td>\n",
       "      <td>1.0</td>\n",
       "      <td>1.0</td>\n",
       "    </tr>\n",
       "    <tr>\n",
       "      <th>217769</th>\n",
       "      <td>NaN</td>\n",
       "      <td>NaN</td>\n",
       "      <td>NaN</td>\n",
       "      <td>NaN</td>\n",
       "      <td>NaT</td>\n",
       "      <td>NaT</td>\n",
       "      <td>NaN</td>\n",
       "      <td>NaN</td>\n",
       "      <td>NaN</td>\n",
       "      <td>NaN</td>\n",
       "      <td>NaN</td>\n",
       "      <td>NaN</td>\n",
       "      <td>NaN</td>\n",
       "      <td>56454.0</td>\n",
       "      <td>282847.0</td>\n",
       "      <td>2011-01-31</td>\n",
       "      <td>other</td>\n",
       "      <td>5500000.0</td>\n",
       "      <td>0.0</td>\n",
       "      <td>0.0</td>\n",
       "      <td>1.0</td>\n",
       "      <td>1.0</td>\n",
       "    </tr>\n",
       "    <tr>\n",
       "      <th>217770</th>\n",
       "      <td>NaN</td>\n",
       "      <td>NaN</td>\n",
       "      <td>NaN</td>\n",
       "      <td>NaN</td>\n",
       "      <td>NaT</td>\n",
       "      <td>NaT</td>\n",
       "      <td>NaN</td>\n",
       "      <td>NaN</td>\n",
       "      <td>NaN</td>\n",
       "      <td>NaN</td>\n",
       "      <td>NaN</td>\n",
       "      <td>NaN</td>\n",
       "      <td>NaN</td>\n",
       "      <td>56542.0</td>\n",
       "      <td>55477.0</td>\n",
       "      <td>2011-01-13</td>\n",
       "      <td>venture</td>\n",
       "      <td>10633300.0</td>\n",
       "      <td>0.0</td>\n",
       "      <td>0.0</td>\n",
       "      <td>0.0</td>\n",
       "      <td>1.0</td>\n",
       "    </tr>\n",
       "    <tr>\n",
       "      <th>217771</th>\n",
       "      <td>NaN</td>\n",
       "      <td>NaN</td>\n",
       "      <td>NaN</td>\n",
       "      <td>NaN</td>\n",
       "      <td>NaT</td>\n",
       "      <td>NaT</td>\n",
       "      <td>NaN</td>\n",
       "      <td>NaN</td>\n",
       "      <td>NaN</td>\n",
       "      <td>NaN</td>\n",
       "      <td>NaN</td>\n",
       "      <td>NaN</td>\n",
       "      <td>NaN</td>\n",
       "      <td>56543.0</td>\n",
       "      <td>55477.0</td>\n",
       "      <td>2012-05-31</td>\n",
       "      <td>venture</td>\n",
       "      <td>2125720.0</td>\n",
       "      <td>0.0</td>\n",
       "      <td>0.0</td>\n",
       "      <td>1.0</td>\n",
       "      <td>0.0</td>\n",
       "    </tr>\n",
       "    <tr>\n",
       "      <th>217772</th>\n",
       "      <td>NaN</td>\n",
       "      <td>NaN</td>\n",
       "      <td>NaN</td>\n",
       "      <td>NaN</td>\n",
       "      <td>NaT</td>\n",
       "      <td>NaT</td>\n",
       "      <td>NaN</td>\n",
       "      <td>NaN</td>\n",
       "      <td>NaN</td>\n",
       "      <td>NaN</td>\n",
       "      <td>NaN</td>\n",
       "      <td>NaN</td>\n",
       "      <td>NaN</td>\n",
       "      <td>56928.0</td>\n",
       "      <td>283492.0</td>\n",
       "      <td>2013-12-03</td>\n",
       "      <td>venture</td>\n",
       "      <td>3602480.0</td>\n",
       "      <td>0.0</td>\n",
       "      <td>5.0</td>\n",
       "      <td>1.0</td>\n",
       "      <td>1.0</td>\n",
       "    </tr>\n",
       "    <tr>\n",
       "      <th>217773</th>\n",
       "      <td>NaN</td>\n",
       "      <td>NaN</td>\n",
       "      <td>NaN</td>\n",
       "      <td>NaN</td>\n",
       "      <td>NaT</td>\n",
       "      <td>NaT</td>\n",
       "      <td>NaN</td>\n",
       "      <td>NaN</td>\n",
       "      <td>NaN</td>\n",
       "      <td>NaN</td>\n",
       "      <td>NaN</td>\n",
       "      <td>NaN</td>\n",
       "      <td>NaN</td>\n",
       "      <td>57063.0</td>\n",
       "      <td>284191.0</td>\n",
       "      <td>2013-12-04</td>\n",
       "      <td>venture</td>\n",
       "      <td>7000000.0</td>\n",
       "      <td>0.0</td>\n",
       "      <td>4.0</td>\n",
       "      <td>1.0</td>\n",
       "      <td>1.0</td>\n",
       "    </tr>\n",
       "  </tbody>\n",
       "</table>\n",
       "</div>"
      ],
      "text/plain": [
       "        company_id_first name category_code status founded_at closed_at  \\\n",
       "217764               NaN  NaN           NaN    NaN        NaT       NaT   \n",
       "217765               NaN  NaN           NaN    NaN        NaT       NaT   \n",
       "217766               NaN  NaN           NaN    NaN        NaT       NaT   \n",
       "217767               NaN  NaN           NaN    NaN        NaT       NaT   \n",
       "217768               NaN  NaN           NaN    NaN        NaT       NaT   \n",
       "217769               NaN  NaN           NaN    NaN        NaT       NaT   \n",
       "217770               NaN  NaN           NaN    NaN        NaT       NaT   \n",
       "217771               NaN  NaN           NaN    NaN        NaT       NaT   \n",
       "217772               NaN  NaN           NaN    NaN        NaT       NaT   \n",
       "217773               NaN  NaN           NaN    NaN        NaT       NaT   \n",
       "\n",
       "       domain network_username country_code  investment_rounds  \\\n",
       "217764    NaN              NaN          NaN                NaN   \n",
       "217765    NaN              NaN          NaN                NaN   \n",
       "217766    NaN              NaN          NaN                NaN   \n",
       "217767    NaN              NaN          NaN                NaN   \n",
       "217768    NaN              NaN          NaN                NaN   \n",
       "217769    NaN              NaN          NaN                NaN   \n",
       "217770    NaN              NaN          NaN                NaN   \n",
       "217771    NaN              NaN          NaN                NaN   \n",
       "217772    NaN              NaN          NaN                NaN   \n",
       "217773    NaN              NaN          NaN                NaN   \n",
       "\n",
       "        funding_rounds  funding_total  milestones  funding_round_id  \\\n",
       "217764             NaN            NaN         NaN           55358.0   \n",
       "217765             NaN            NaN         NaN           55492.0   \n",
       "217766             NaN            NaN         NaN           56054.0   \n",
       "217767             NaN            NaN         NaN           56158.0   \n",
       "217768             NaN            NaN         NaN           56184.0   \n",
       "217769             NaN            NaN         NaN           56454.0   \n",
       "217770             NaN            NaN         NaN           56542.0   \n",
       "217771             NaN            NaN         NaN           56543.0   \n",
       "217772             NaN            NaN         NaN           56928.0   \n",
       "217773             NaN            NaN         NaN           57063.0   \n",
       "\n",
       "        company_id  funded_at funding_round_type  raised_amount  \\\n",
       "217764    269728.0 2013-08-14           series-a      5600000.0   \n",
       "217765     78698.0 2013-11-20           series-a     15000000.0   \n",
       "217766    196289.0 2011-03-01              other       925000.0   \n",
       "217767    282450.0 2013-11-26           series-a      2600000.0   \n",
       "217768    146919.0 2013-11-06              other      4900000.0   \n",
       "217769    282847.0 2011-01-31              other      5500000.0   \n",
       "217770     55477.0 2011-01-13            venture     10633300.0   \n",
       "217771     55477.0 2012-05-31            venture      2125720.0   \n",
       "217772    283492.0 2013-12-03            venture      3602480.0   \n",
       "217773    284191.0 2013-12-04            venture      7000000.0   \n",
       "\n",
       "        pre_money_valuation  participants  is_first_round  is_last_round  \n",
       "217764                  0.0           7.0             1.0            1.0  \n",
       "217765                  0.0           1.0             1.0            1.0  \n",
       "217766                  0.0           0.0             1.0            1.0  \n",
       "217767                  0.0           0.0             1.0            1.0  \n",
       "217768                  0.0           0.0             1.0            1.0  \n",
       "217769                  0.0           0.0             1.0            1.0  \n",
       "217770                  0.0           0.0             0.0            1.0  \n",
       "217771                  0.0           0.0             1.0            0.0  \n",
       "217772                  0.0           5.0             1.0            1.0  \n",
       "217773                  0.0           4.0             1.0            1.0  "
      ]
     },
     "execution_count": 58,
     "metadata": {},
     "output_type": "execute_result"
    }
   ],
   "source": [
    "# Выводим нижние строки датафрейма\n",
    "company_and_rounds_df.tail(10)"
   ]
  },
  {
   "cell_type": "code",
   "execution_count": 59,
   "id": "9e550872",
   "metadata": {},
   "outputs": [],
   "source": [
    "# Выводим информацию о датафрейме\n",
    "# company_and_rounds_df.info()"
   ]
  },
  {
   "cell_type": "markdown",
   "id": "53226c3c",
   "metadata": {},
   "source": [
    "Так как таблица company_and_rounds_df была получена в результате объедеинения двух других таблиц,  возможно нужно сделать разделение ее на эти две таблицы, чтобы в одной была информация о компаниях, а в другой информация о раундах финансирования."
   ]
  },
  {
   "cell_type": "code",
   "execution_count": 60,
   "id": "b93a5073",
   "metadata": {},
   "outputs": [],
   "source": [
    "# Таблица компаний\n",
    "company_df = company_and_rounds_df[[\n",
    "    'company_id_first', 'name', 'category_code', 'status', 'founded_at', 'closed_at',\n",
    "    'domain', 'network_username', 'country_code', 'investment_rounds',\n",
    "    'funding_rounds', 'funding_total', 'milestones'\n",
    "]].reset_index(drop=True)\n",
    "company_df = company_df.drop_duplicates(subset=['company_id_first']).reset_index(drop=True)\n",
    "\n",
    "# company_df.info()"
   ]
  },
  {
   "cell_type": "code",
   "execution_count": 61,
   "id": "217a221f",
   "metadata": {},
   "outputs": [],
   "source": [
    "# Таблица раундов\n",
    "rounds_df = company_and_rounds_df[[\n",
    "    'funding_round_id', 'company_id', 'funded_at', 'funding_round_type',\n",
    "    'raised_amount', 'pre_money_valuation', 'participants', 'is_first_round',\n",
    "    'is_last_round'\n",
    "]].reset_index(drop=True)\n",
    "rounds_df = rounds_df.drop_duplicates(subset=['company_id']).reset_index(drop=True)\n",
    "\n",
    "# rounds_df.info()"
   ]
  },
  {
   "cell_type": "markdown",
   "id": "29aa927d",
   "metadata": {},
   "source": [
    "Так как таблица `company_and_rounds_df` была получена в результате объедеинения двух других таблиц, сложно сделать разделение ее на эти две таблицы, чтобы в одной была информация о компаниях, а в другой информация о раундах финансирования"
   ]
  },
  {
   "cell_type": "markdown",
   "id": "22a11097",
   "metadata": {
    "id": "bmVYhphNrJg2"
   },
   "source": [
    "\n",
    "## Шаг 3. Исследовательский анализ объединённых таблиц\n",
    "\n"
   ]
  },
  {
   "cell_type": "markdown",
   "id": "2e0ce9c3",
   "metadata": {
    "id": "3Di6tCT3rJg2"
   },
   "source": [
    "\n",
    "### 3.1. Объединение данных\n",
    "\n",
    "Объедините данные для ответа на вопросы заказчика, которые касаются интересующих его компаний. Заказчика прежде всего интересуют те компании, которые меняли или готовы менять владельцев. Получение инвестиций или финансирования, по мнению заказчика, означает интерес к покупке или продаже компании.\n",
    "\n",
    "В качестве основы для объединённой таблицы возьмите данные из обработанного датасета `company_and_rounds.csv` — выберите только те компании, у которых указаны значения `funding_rounds` или `investment_rounds` больше нуля, или те, у которых в колонке `status` указано `acquired`. В результирующей таблице должно получиться порядка 40 тысяч компаний.\n",
    "\n",
    "Проверьте полноту и корректность получившейся таблицы. Далее работайте только с этими данными."
   ]
  },
  {
   "cell_type": "code",
   "execution_count": 62,
   "id": "505fb317",
   "metadata": {
    "id": "kuV1b5MXFg3_"
   },
   "outputs": [],
   "source": [
    "company_df_invest = company_df.loc[(company_df['funding_rounds']>0) | (company_df['investment_rounds']>0) | (company_df['status']=='acquired')]"
   ]
  },
  {
   "cell_type": "code",
   "execution_count": 63,
   "id": "99a53bad",
   "metadata": {},
   "outputs": [
    {
     "data": {
      "text/plain": [
       "company_id_first     0.000000\n",
       "name                 0.000000\n",
       "status               0.000000\n",
       "investment_rounds    0.000000\n",
       "funding_rounds       0.000000\n",
       "funding_total        0.000000\n",
       "milestones           0.000000\n",
       "domain               0.122537\n",
       "category_code        0.133310\n",
       "country_code         0.147373\n",
       "founded_at           0.317569\n",
       "network_username     0.488306\n",
       "closed_at            0.947775\n",
       "dtype: float64"
      ]
     },
     "execution_count": 63,
     "metadata": {},
     "output_type": "execute_result"
    }
   ],
   "source": [
    "company_df_invest.isna().mean().sort_values()"
   ]
  },
  {
   "cell_type": "markdown",
   "id": "f9e7e39e",
   "metadata": {
    "id": "93v3fEX5FgtP"
   },
   "source": [
    "Из датасета `company_df`, полученного в предыдущем задании, выбираем компании интересующие заказчика. Заказчика прежде всего интересуют те компании, которые меняли или готовы менять владельцев. Получение инвестиций или финансирования, по мнению заказчика, означает интерес к покупке или продаже компании.   \n",
    "Выбираем только те компании, у которых указаны значения `funding_rounds` или `investment_rounds` больше нуля, или те, у которых в колонке `status` указано `acquired`.\n",
    "\n",
    "Пропуски присутствуют в значениях \n",
    "* \"официальный сайт компании\" -12 % (у некоторых компанмй может не быть сайта); \n",
    "* \"категория области деятельности компании\" - 13 %\n",
    "* \"код страны компании\" - 14 %\n",
    "* \"дата инвестирования\" - 31 % (дата основания не влияет на наше исследование)\n",
    "* \"ник компании в сети\" - 48 % (раз мы не связываем таблицы по этому ключу, то значения можно игнорировать)\n",
    "* \"дата закрытия компании\" - 94 % (не все компании закрылись, некоторые еще работают))\n",
    "\n"
   ]
  },
  {
   "cell_type": "markdown",
   "id": "f11170b6",
   "metadata": {
    "id": "DFHINkV3rJg2"
   },
   "source": [
    "\n",
    "### 3.2. Анализ выбросов\n",
    "\n",
    "Заказчика интересует обычный для рассматриваемого периода размер средств, который предоставлялся компаниям.\n",
    "\n",
    "- По предобработанному столбцу `funding_total` графическим способом оцените, какой размер общего финансирования для одной компании будет типичным, а какой — выбивающимся.\n",
    "- В процессе расчёта значений обратите внимание, например, на показатели, возвращаемые методом `.describe()`, — объясните их. Применимы ли к таким данным обычные способы нахождения типичных значений?"
   ]
  },
  {
   "cell_type": "code",
   "execution_count": 64,
   "id": "e3b86843",
   "metadata": {
    "id": "8jm75fKXrJg2",
    "vscode": {
     "languageId": "plaintext"
    }
   },
   "outputs": [
    {
     "data": {
      "text/html": [
       "<div>\n",
       "<style scoped>\n",
       "    .dataframe tbody tr th:only-of-type {\n",
       "        vertical-align: middle;\n",
       "    }\n",
       "\n",
       "    .dataframe tbody tr th {\n",
       "        vertical-align: top;\n",
       "    }\n",
       "\n",
       "    .dataframe thead th {\n",
       "        text-align: right;\n",
       "    }\n",
       "</style>\n",
       "<table border=\"1\" class=\"dataframe\">\n",
       "  <thead>\n",
       "    <tr style=\"text-align: right;\">\n",
       "      <th></th>\n",
       "      <th>company_id_first</th>\n",
       "      <th>investment_rounds</th>\n",
       "      <th>funding_rounds</th>\n",
       "      <th>funding_total</th>\n",
       "      <th>milestones</th>\n",
       "    </tr>\n",
       "  </thead>\n",
       "  <tbody>\n",
       "    <tr>\n",
       "      <th>count</th>\n",
       "      <td>40747.000000</td>\n",
       "      <td>40747.000000</td>\n",
       "      <td>40747.000000</td>\n",
       "      <td>4.074700e+04</td>\n",
       "      <td>40747.000000</td>\n",
       "    </tr>\n",
       "    <tr>\n",
       "      <th>mean</th>\n",
       "      <td>110555.896140</td>\n",
       "      <td>0.150833</td>\n",
       "      <td>1.291531</td>\n",
       "      <td>1.013561e+07</td>\n",
       "      <td>0.803151</td>\n",
       "    </tr>\n",
       "    <tr>\n",
       "      <th>std</th>\n",
       "      <td>90388.070107</td>\n",
       "      <td>3.123291</td>\n",
       "      <td>1.264604</td>\n",
       "      <td>5.646436e+07</td>\n",
       "      <td>1.003431</td>\n",
       "    </tr>\n",
       "    <tr>\n",
       "      <th>min</th>\n",
       "      <td>1.000000</td>\n",
       "      <td>0.000000</td>\n",
       "      <td>0.000000</td>\n",
       "      <td>0.000000e+00</td>\n",
       "      <td>0.000000</td>\n",
       "    </tr>\n",
       "    <tr>\n",
       "      <th>25%</th>\n",
       "      <td>33863.500000</td>\n",
       "      <td>0.000000</td>\n",
       "      <td>1.000000</td>\n",
       "      <td>0.000000e+00</td>\n",
       "      <td>0.000000</td>\n",
       "    </tr>\n",
       "    <tr>\n",
       "      <th>50%</th>\n",
       "      <td>69583.000000</td>\n",
       "      <td>0.000000</td>\n",
       "      <td>1.000000</td>\n",
       "      <td>6.000000e+05</td>\n",
       "      <td>1.000000</td>\n",
       "    </tr>\n",
       "    <tr>\n",
       "      <th>75%</th>\n",
       "      <td>184744.500000</td>\n",
       "      <td>0.000000</td>\n",
       "      <td>2.000000</td>\n",
       "      <td>5.650650e+06</td>\n",
       "      <td>1.000000</td>\n",
       "    </tr>\n",
       "    <tr>\n",
       "      <th>max</th>\n",
       "      <td>286215.000000</td>\n",
       "      <td>478.000000</td>\n",
       "      <td>15.000000</td>\n",
       "      <td>5.700000e+09</td>\n",
       "      <td>9.000000</td>\n",
       "    </tr>\n",
       "  </tbody>\n",
       "</table>\n",
       "</div>"
      ],
      "text/plain": [
       "       company_id_first  investment_rounds  funding_rounds  funding_total  \\\n",
       "count      40747.000000       40747.000000    40747.000000   4.074700e+04   \n",
       "mean      110555.896140           0.150833        1.291531   1.013561e+07   \n",
       "std        90388.070107           3.123291        1.264604   5.646436e+07   \n",
       "min            1.000000           0.000000        0.000000   0.000000e+00   \n",
       "25%        33863.500000           0.000000        1.000000   0.000000e+00   \n",
       "50%        69583.000000           0.000000        1.000000   6.000000e+05   \n",
       "75%       184744.500000           0.000000        2.000000   5.650650e+06   \n",
       "max       286215.000000         478.000000       15.000000   5.700000e+09   \n",
       "\n",
       "         milestones  \n",
       "count  40747.000000  \n",
       "mean       0.803151  \n",
       "std        1.003431  \n",
       "min        0.000000  \n",
       "25%        0.000000  \n",
       "50%        1.000000  \n",
       "75%        1.000000  \n",
       "max        9.000000  "
      ]
     },
     "execution_count": 64,
     "metadata": {},
     "output_type": "execute_result"
    }
   ],
   "source": [
    "company_df_invest.describe()"
   ]
  },
  {
   "cell_type": "code",
   "execution_count": 65,
   "id": "e32a1e5c",
   "metadata": {
    "id": "S1jrfr7rFhcw"
   },
   "outputs": [
    {
     "data": {
      "image/png": "[encoded data removed]",
      "text/plain": [
       "<Figure size 1080x504 with 1 Axes>"
      ]
     },
     "metadata": {
      "needs_background": "light"
     },
     "output_type": "display_data"
    }
   ],
   "source": [
    "# Создаём контейнер графика matplotlib и задаём его размер\n",
    "fig = plt.figure(figsize=(15, 7))\n",
    " \n",
    "ax = fig.add_subplot(111)\n",
    "# Строим диаграмму размаха значений в столбце balance\n",
    "plt.boxplot(company_df_invest['funding_total'], ax.set_xlim(0, 15000000),  vert=False)\n",
    "\n",
    "# Добавляем заголовок и метки оси\n",
    "plt.title('размер общего финансирования')\n",
    "plt.xlabel('сумма финансирования')\n",
    "\n",
    "# Выводим график\n",
    "plt.show()"
   ]
  },
  {
   "cell_type": "code",
   "execution_count": 66,
   "id": "d0c69e43",
   "metadata": {},
   "outputs": [
    {
     "name": "stdout",
     "output_type": "stream",
     "text": [
      "Типичное финансирование: 10,135,609.64\n"
     ]
    }
   ],
   "source": [
    "print(f\"Типичное финансирование: {company_df_invest['funding_total'].mean():,.2f}\")"
   ]
  },
  {
   "cell_type": "markdown",
   "id": "162bafba",
   "metadata": {},
   "source": [
    "Типичный размер общего финансирования находится в диапазоне от 0 до 5,600,000.\n",
    "Начиная с 5,600,000 размер финансирования будет выбивающимся для многих компаний.\n",
    "Возможно для точного анализа необходимо исключить выбросы."
   ]
  },
  {
   "cell_type": "markdown",
   "id": "f83bd4d9",
   "metadata": {
    "id": "JqkRAQrIrJg2"
   },
   "source": [
    "\n",
    "### 3.3. Куплены забесплатно?\n",
    "\n",
    "- Исследуйте компании, которые были проданы за ноль или за один доллар, и при этом известно, что у них был ненулевой общий объём финансирования.\n",
    "\n",
    "- Рассчитайте аналитически верхнюю и нижнюю границу выбросов для столбца `funding_total` и укажите, каким процентилям границы соответствуют."
   ]
  },
  {
   "cell_type": "code",
   "execution_count": 67,
   "id": "3e0b1a9d",
   "metadata": {},
   "outputs": [
    {
     "data": {
      "text/html": [
       "<div>\n",
       "<style scoped>\n",
       "    .dataframe tbody tr th:only-of-type {\n",
       "        vertical-align: middle;\n",
       "    }\n",
       "\n",
       "    .dataframe tbody tr th {\n",
       "        vertical-align: top;\n",
       "    }\n",
       "\n",
       "    .dataframe thead th {\n",
       "        text-align: right;\n",
       "    }\n",
       "</style>\n",
       "<table border=\"1\" class=\"dataframe\">\n",
       "  <thead>\n",
       "    <tr style=\"text-align: right;\">\n",
       "      <th></th>\n",
       "      <th>id</th>\n",
       "      <th>acquiring_company_id</th>\n",
       "      <th>acquired_company_id</th>\n",
       "      <th>term_code</th>\n",
       "      <th>price_amount</th>\n",
       "      <th>acquired_at</th>\n",
       "      <th>company_id_first</th>\n",
       "      <th>name</th>\n",
       "      <th>category_code</th>\n",
       "      <th>status</th>\n",
       "      <th>founded_at</th>\n",
       "      <th>closed_at</th>\n",
       "      <th>domain</th>\n",
       "      <th>network_username</th>\n",
       "      <th>country_code</th>\n",
       "      <th>investment_rounds</th>\n",
       "      <th>funding_rounds</th>\n",
       "      <th>funding_total</th>\n",
       "      <th>milestones</th>\n",
       "    </tr>\n",
       "  </thead>\n",
       "  <tbody>\n",
       "    <tr>\n",
       "      <th>7</th>\n",
       "      <td>14</td>\n",
       "      <td>318</td>\n",
       "      <td>314</td>\n",
       "      <td>cash</td>\n",
       "      <td>0</td>\n",
       "      <td>2006-10-01</td>\n",
       "      <td>314.0</td>\n",
       "      <td>Reddit</td>\n",
       "      <td>web</td>\n",
       "      <td>acquired</td>\n",
       "      <td>2005-01-01</td>\n",
       "      <td>NaT</td>\n",
       "      <td>reddit.com</td>\n",
       "      <td>reddit</td>\n",
       "      <td>USA</td>\n",
       "      <td>0.0</td>\n",
       "      <td>1.0</td>\n",
       "      <td>100000.0</td>\n",
       "      <td>3.0</td>\n",
       "    </tr>\n",
       "    <tr>\n",
       "      <th>49</th>\n",
       "      <td>65</td>\n",
       "      <td>146</td>\n",
       "      <td>698</td>\n",
       "      <td>cash</td>\n",
       "      <td>0</td>\n",
       "      <td>2007-08-01</td>\n",
       "      <td>698.0</td>\n",
       "      <td>Maya's Mom</td>\n",
       "      <td>web</td>\n",
       "      <td>acquired</td>\n",
       "      <td>NaT</td>\n",
       "      <td>NaT</td>\n",
       "      <td>mayasmom.com</td>\n",
       "      <td>NaN</td>\n",
       "      <td>USA</td>\n",
       "      <td>0.0</td>\n",
       "      <td>1.0</td>\n",
       "      <td>1000000.0</td>\n",
       "      <td>2.0</td>\n",
       "    </tr>\n",
       "    <tr>\n",
       "      <th>51</th>\n",
       "      <td>67</td>\n",
       "      <td>156</td>\n",
       "      <td>718</td>\n",
       "      <td>cash</td>\n",
       "      <td>0</td>\n",
       "      <td>2007-08-01</td>\n",
       "      <td>718.0</td>\n",
       "      <td>Glimpse</td>\n",
       "      <td>ecommerce</td>\n",
       "      <td>acquired</td>\n",
       "      <td>NaT</td>\n",
       "      <td>NaT</td>\n",
       "      <td>glimpse.com</td>\n",
       "      <td>NaN</td>\n",
       "      <td>USA</td>\n",
       "      <td>0.0</td>\n",
       "      <td>1.0</td>\n",
       "      <td>4000000.0</td>\n",
       "      <td>0.0</td>\n",
       "    </tr>\n",
       "    <tr>\n",
       "      <th>65</th>\n",
       "      <td>87</td>\n",
       "      <td>1035</td>\n",
       "      <td>175</td>\n",
       "      <td>cash</td>\n",
       "      <td>0</td>\n",
       "      <td>2007-10-01</td>\n",
       "      <td>175.0</td>\n",
       "      <td>Newsvine</td>\n",
       "      <td>web</td>\n",
       "      <td>acquired</td>\n",
       "      <td>2005-03-31</td>\n",
       "      <td>NaT</td>\n",
       "      <td>newsvine.com</td>\n",
       "      <td>NaN</td>\n",
       "      <td>USA</td>\n",
       "      <td>0.0</td>\n",
       "      <td>1.0</td>\n",
       "      <td>1250000.0</td>\n",
       "      <td>0.0</td>\n",
       "    </tr>\n",
       "    <tr>\n",
       "      <th>85</th>\n",
       "      <td>115</td>\n",
       "      <td>396</td>\n",
       "      <td>1582</td>\n",
       "      <td>cash</td>\n",
       "      <td>0</td>\n",
       "      <td>2007-12-01</td>\n",
       "      <td>1582.0</td>\n",
       "      <td>BeliefNet</td>\n",
       "      <td>web</td>\n",
       "      <td>acquired</td>\n",
       "      <td>2008-01-01</td>\n",
       "      <td>NaT</td>\n",
       "      <td>beliefnet.com</td>\n",
       "      <td>eliefnet</td>\n",
       "      <td>USA</td>\n",
       "      <td>0.0</td>\n",
       "      <td>1.0</td>\n",
       "      <td>7000000.0</td>\n",
       "      <td>3.0</td>\n",
       "    </tr>\n",
       "    <tr>\n",
       "      <th>...</th>\n",
       "      <td>...</td>\n",
       "      <td>...</td>\n",
       "      <td>...</td>\n",
       "      <td>...</td>\n",
       "      <td>...</td>\n",
       "      <td>...</td>\n",
       "      <td>...</td>\n",
       "      <td>...</td>\n",
       "      <td>...</td>\n",
       "      <td>...</td>\n",
       "      <td>...</td>\n",
       "      <td>...</td>\n",
       "      <td>...</td>\n",
       "      <td>...</td>\n",
       "      <td>...</td>\n",
       "      <td>...</td>\n",
       "      <td>...</td>\n",
       "      <td>...</td>\n",
       "      <td>...</td>\n",
       "    </tr>\n",
       "    <tr>\n",
       "      <th>9363</th>\n",
       "      <td>10481</td>\n",
       "      <td>29</td>\n",
       "      <td>165128</td>\n",
       "      <td>NaN</td>\n",
       "      <td>0</td>\n",
       "      <td>2013-12-06</td>\n",
       "      <td>165128.0</td>\n",
       "      <td>EvntLive</td>\n",
       "      <td>music</td>\n",
       "      <td>acquired</td>\n",
       "      <td>NaT</td>\n",
       "      <td>NaT</td>\n",
       "      <td>evntliveinc.com</td>\n",
       "      <td>EVNTLIVE</td>\n",
       "      <td>USA</td>\n",
       "      <td>0.0</td>\n",
       "      <td>1.0</td>\n",
       "      <td>2300000.0</td>\n",
       "      <td>2.0</td>\n",
       "    </tr>\n",
       "    <tr>\n",
       "      <th>9382</th>\n",
       "      <td>10500</td>\n",
       "      <td>42365</td>\n",
       "      <td>79582</td>\n",
       "      <td>NaN</td>\n",
       "      <td>0</td>\n",
       "      <td>2013-12-10</td>\n",
       "      <td>79582.0</td>\n",
       "      <td>lucierna</td>\n",
       "      <td>software</td>\n",
       "      <td>acquired</td>\n",
       "      <td>2009-05-22</td>\n",
       "      <td>NaT</td>\n",
       "      <td>lucierna.com</td>\n",
       "      <td>lucierna_inc</td>\n",
       "      <td>ESP</td>\n",
       "      <td>0.0</td>\n",
       "      <td>1.0</td>\n",
       "      <td>2106600.0</td>\n",
       "      <td>0.0</td>\n",
       "    </tr>\n",
       "    <tr>\n",
       "      <th>9385</th>\n",
       "      <td>10503</td>\n",
       "      <td>1434</td>\n",
       "      <td>60436</td>\n",
       "      <td>NaN</td>\n",
       "      <td>0</td>\n",
       "      <td>2013-12-10</td>\n",
       "      <td>60436.0</td>\n",
       "      <td>Cloudmeter</td>\n",
       "      <td>enterprise</td>\n",
       "      <td>acquired</td>\n",
       "      <td>2007-04-01</td>\n",
       "      <td>NaT</td>\n",
       "      <td>cloudmeter.com</td>\n",
       "      <td>cloudmeter</td>\n",
       "      <td>USA</td>\n",
       "      <td>0.0</td>\n",
       "      <td>1.0</td>\n",
       "      <td>5000000.0</td>\n",
       "      <td>2.0</td>\n",
       "    </tr>\n",
       "    <tr>\n",
       "      <th>9388</th>\n",
       "      <td>10507</td>\n",
       "      <td>29</td>\n",
       "      <td>169154</td>\n",
       "      <td>NaN</td>\n",
       "      <td>0</td>\n",
       "      <td>2013-12-09</td>\n",
       "      <td>169154.0</td>\n",
       "      <td>Quik.io</td>\n",
       "      <td>software</td>\n",
       "      <td>acquired</td>\n",
       "      <td>2011-02-03</td>\n",
       "      <td>NaT</td>\n",
       "      <td>quik.io</td>\n",
       "      <td>quik_io</td>\n",
       "      <td>USA</td>\n",
       "      <td>0.0</td>\n",
       "      <td>2.0</td>\n",
       "      <td>1280000.0</td>\n",
       "      <td>2.0</td>\n",
       "    </tr>\n",
       "    <tr>\n",
       "      <th>9391</th>\n",
       "      <td>10513</td>\n",
       "      <td>43761</td>\n",
       "      <td>43761</td>\n",
       "      <td>NaN</td>\n",
       "      <td>0</td>\n",
       "      <td>2011-11-22</td>\n",
       "      <td>43761.0</td>\n",
       "      <td>Excaliard Pharmaceuticals</td>\n",
       "      <td>biotech</td>\n",
       "      <td>acquired</td>\n",
       "      <td>NaT</td>\n",
       "      <td>NaT</td>\n",
       "      <td>excaliard.com</td>\n",
       "      <td>NaN</td>\n",
       "      <td>USA</td>\n",
       "      <td>0.0</td>\n",
       "      <td>1.0</td>\n",
       "      <td>15500000.0</td>\n",
       "      <td>0.0</td>\n",
       "    </tr>\n",
       "  </tbody>\n",
       "</table>\n",
       "<p>1618 rows × 19 columns</p>\n",
       "</div>"
      ],
      "text/plain": [
       "         id  acquiring_company_id  acquired_company_id term_code  \\\n",
       "7        14                   318                  314      cash   \n",
       "49       65                   146                  698      cash   \n",
       "51       67                   156                  718      cash   \n",
       "65       87                  1035                  175      cash   \n",
       "85      115                   396                 1582      cash   \n",
       "...     ...                   ...                  ...       ...   \n",
       "9363  10481                    29               165128       NaN   \n",
       "9382  10500                 42365                79582       NaN   \n",
       "9385  10503                  1434                60436       NaN   \n",
       "9388  10507                    29               169154       NaN   \n",
       "9391  10513                 43761                43761       NaN   \n",
       "\n",
       "      price_amount acquired_at  company_id_first                       name  \\\n",
       "7                0  2006-10-01             314.0                     Reddit   \n",
       "49               0  2007-08-01             698.0                 Maya's Mom   \n",
       "51               0  2007-08-01             718.0                    Glimpse   \n",
       "65               0  2007-10-01             175.0                   Newsvine   \n",
       "85               0  2007-12-01            1582.0                  BeliefNet   \n",
       "...            ...         ...               ...                        ...   \n",
       "9363             0  2013-12-06          165128.0                   EvntLive   \n",
       "9382             0  2013-12-10           79582.0                   lucierna   \n",
       "9385             0  2013-12-10           60436.0                 Cloudmeter   \n",
       "9388             0  2013-12-09          169154.0                    Quik.io   \n",
       "9391             0  2011-11-22           43761.0  Excaliard Pharmaceuticals   \n",
       "\n",
       "     category_code    status founded_at closed_at           domain  \\\n",
       "7              web  acquired 2005-01-01       NaT       reddit.com   \n",
       "49             web  acquired        NaT       NaT     mayasmom.com   \n",
       "51       ecommerce  acquired        NaT       NaT      glimpse.com   \n",
       "65             web  acquired 2005-03-31       NaT     newsvine.com   \n",
       "85             web  acquired 2008-01-01       NaT    beliefnet.com   \n",
       "...            ...       ...        ...       ...              ...   \n",
       "9363         music  acquired        NaT       NaT  evntliveinc.com   \n",
       "9382      software  acquired 2009-05-22       NaT     lucierna.com   \n",
       "9385    enterprise  acquired 2007-04-01       NaT   cloudmeter.com   \n",
       "9388      software  acquired 2011-02-03       NaT          quik.io   \n",
       "9391       biotech  acquired        NaT       NaT    excaliard.com   \n",
       "\n",
       "     network_username country_code  investment_rounds  funding_rounds  \\\n",
       "7              reddit          USA                0.0             1.0   \n",
       "49                NaN          USA                0.0             1.0   \n",
       "51                NaN          USA                0.0             1.0   \n",
       "65                NaN          USA                0.0             1.0   \n",
       "85           eliefnet          USA                0.0             1.0   \n",
       "...               ...          ...                ...             ...   \n",
       "9363         EVNTLIVE          USA                0.0             1.0   \n",
       "9382     lucierna_inc          ESP                0.0             1.0   \n",
       "9385       cloudmeter          USA                0.0             1.0   \n",
       "9388          quik_io          USA                0.0             2.0   \n",
       "9391              NaN          USA                0.0             1.0   \n",
       "\n",
       "      funding_total  milestones  \n",
       "7          100000.0         3.0  \n",
       "49        1000000.0         2.0  \n",
       "51        4000000.0         0.0  \n",
       "65        1250000.0         0.0  \n",
       "85        7000000.0         3.0  \n",
       "...             ...         ...  \n",
       "9363      2300000.0         2.0  \n",
       "9382      2106600.0         0.0  \n",
       "9385      5000000.0         2.0  \n",
       "9388      1280000.0         2.0  \n",
       "9391     15500000.0         0.0  \n",
       "\n",
       "[1618 rows x 19 columns]"
      ]
     },
     "execution_count": 67,
     "metadata": {},
     "output_type": "execute_result"
    }
   ],
   "source": [
    "# Объединим таблицы\n",
    "company_df_invest_acqu = acquisition_df.merge(company_df_invest, left_on = 'acquired_company_id', right_on = 'company_id_first', how = 'left')\n",
    "\n",
    "\n",
    "# Выделим таблицу, согласно условию\n",
    "company_df_invest_zero = company_df_invest_acqu[((company_df_invest_acqu['price_amount'] == 1) | (company_df_invest_acqu['price_amount'] == 0)) & (company_df_invest_acqu['funding_total'] > 0)]\n",
    "company_df_invest_zero"
   ]
  },
  {
   "cell_type": "code",
   "execution_count": 68,
   "id": "4d12493f",
   "metadata": {},
   "outputs": [
    {
     "name": "stdout",
     "output_type": "stream",
     "text": [
      "Нижняя граница выбросов: -18,250,000\n",
      "Верхняя граница выбросов: 35,750,000\n"
     ]
    }
   ],
   "source": [
    "# Рассчитаем верхнюю и нижнюю границу с помощью iqr\n",
    "q1 = company_df_invest_zero['funding_total'].quantile(0.25)\n",
    "q3 = company_df_invest_zero['funding_total'].quantile(0.75)\n",
    "# Вычислим iqr\n",
    "iqr = q3 - q1\n",
    "up_bound = q3 + 1.5*iqr\n",
    "low_bound = q1 - 1.5*iqr\n",
    "print(f\"Нижняя граница выбросов: {low_bound:,.0f}\")\n",
    "print(f\"Верхняя граница выбросов: {up_bound:,.0f}\")"
   ]
  },
  {
   "cell_type": "markdown",
   "id": "ca6dcf08",
   "metadata": {},
   "source": [
    "Так как в данных присутствует большое количество выбросов, а также сильный разброс значений, то границы рассчитанные с помощью iqr не совсем корректны (нижняя граница получилась отрицательной)."
   ]
  },
  {
   "cell_type": "code",
   "execution_count": null,
   "id": "080f4356",
   "metadata": {},
   "outputs": [],
   "source": []
  },
  {
   "cell_type": "markdown",
   "id": "d1f42bcd",
   "metadata": {
    "id": "mEiWpROjrJg2"
   },
   "source": [
    "\n",
    "### 3.4. Цены стартапов по категориям\n",
    "\n",
    "Категории стартапов с типично высокими ценами покупки стартапов и значительным разбросом цен могут быть привлекательными для крупных инвесторов, которые готовы к высоким рискам ради потенциально больших доходов. Среди категорий стартапов выделите категории стартапов, характеризующиеся:\n",
    "\n",
    "- типично высокими ценами;\n",
    "- и наибольшим разбросом цен за стартап.\n",
    "\n",
    "Объясните, почему решили составить топ именно из такого числа категорий и почему рассчитывали именно так."
   ]
  },
  {
   "cell_type": "code",
   "execution_count": 69,
   "id": "5a0da8c7",
   "metadata": {
    "id": "jQ09dYUWrJg2",
    "vscode": {
     "languageId": "plaintext"
    }
   },
   "outputs": [],
   "source": [
    "# Сгрупируем данные по 'category_code' \n",
    "group_cat_df = company_df_invest_acqu.groupby('category_code')['price_amount'].agg(['median', 'std', 'count']).reset_index()\n",
    "# Отфильтруем категории, в которых больше 5 сделок\n",
    "group_cat_df = group_cat_df[(group_cat_df['count'] > 5) & (group_cat_df['category_code'] != 'other')]\n",
    "top_price = group_cat_df[['category_code', 'median']].sort_values(ascending = False, by = 'median').head(5)\n",
    "top_std = group_cat_df[['category_code', 'std']].sort_values(ascending = False, by = 'std').head(5)"
   ]
  },
  {
   "cell_type": "code",
   "execution_count": 70,
   "id": "89351ed3",
   "metadata": {},
   "outputs": [],
   "source": [
    "# вычисляем данные из 'category_code'\n",
    "top_price_t = set(top_price['category_code'])\n",
    "top_std_t = set(top_std['category_code'])\n",
    "in_set = top_price_t & top_std_t\n"
   ]
  },
  {
   "cell_type": "code",
   "execution_count": 71,
   "id": "f250fbea",
   "metadata": {},
   "outputs": [
    {
     "name": "stdout",
     "output_type": "stream",
     "text": [
      "Категории с высокой средней ценой (ТОП-5):\n"
     ]
    },
    {
     "data": {
      "text/html": [
       "<div>\n",
       "<style scoped>\n",
       "    .dataframe tbody tr th:only-of-type {\n",
       "        vertical-align: middle;\n",
       "    }\n",
       "\n",
       "    .dataframe tbody tr th {\n",
       "        vertical-align: top;\n",
       "    }\n",
       "\n",
       "    .dataframe thead th {\n",
       "        text-align: right;\n",
       "    }\n",
       "</style>\n",
       "<table border=\"1\" class=\"dataframe\">\n",
       "  <thead>\n",
       "    <tr style=\"text-align: right;\">\n",
       "      <th></th>\n",
       "      <th>category_code</th>\n",
       "      <th>median</th>\n",
       "    </tr>\n",
       "  </thead>\n",
       "  <tbody>\n",
       "    <tr>\n",
       "      <th>18</th>\n",
       "      <td>manufacturing</td>\n",
       "      <td>72000000</td>\n",
       "    </tr>\n",
       "    <tr>\n",
       "      <th>30</th>\n",
       "      <td>real_estate</td>\n",
       "      <td>50000000</td>\n",
       "    </tr>\n",
       "    <tr>\n",
       "      <th>3</th>\n",
       "      <td>biotech</td>\n",
       "      <td>13200000</td>\n",
       "    </tr>\n",
       "    <tr>\n",
       "      <th>15</th>\n",
       "      <td>hospitality</td>\n",
       "      <td>12500000</td>\n",
       "    </tr>\n",
       "    <tr>\n",
       "      <th>11</th>\n",
       "      <td>finance</td>\n",
       "      <td>600000</td>\n",
       "    </tr>\n",
       "  </tbody>\n",
       "</table>\n",
       "</div>"
      ],
      "text/plain": [
       "    category_code    median\n",
       "18  manufacturing  72000000\n",
       "30    real_estate  50000000\n",
       "3         biotech  13200000\n",
       "15    hospitality  12500000\n",
       "11        finance    600000"
      ]
     },
     "metadata": {},
     "output_type": "display_data"
    },
    {
     "name": "stdout",
     "output_type": "stream",
     "text": [
      "Категории с высоким разбросом цен (ТОП-5):\n"
     ]
    },
    {
     "data": {
      "text/html": [
       "<div>\n",
       "<style scoped>\n",
       "    .dataframe tbody tr th:only-of-type {\n",
       "        vertical-align: middle;\n",
       "    }\n",
       "\n",
       "    .dataframe tbody tr th {\n",
       "        vertical-align: top;\n",
       "    }\n",
       "\n",
       "    .dataframe thead th {\n",
       "        text-align: right;\n",
       "    }\n",
       "</style>\n",
       "<table border=\"1\" class=\"dataframe\">\n",
       "  <thead>\n",
       "    <tr style=\"text-align: right;\">\n",
       "      <th></th>\n",
       "      <th>category_code</th>\n",
       "      <th>std</th>\n",
       "    </tr>\n",
       "  </thead>\n",
       "  <tbody>\n",
       "    <tr>\n",
       "      <th>9</th>\n",
       "      <td>enterprise</td>\n",
       "      <td>1.280882e+11</td>\n",
       "    </tr>\n",
       "    <tr>\n",
       "      <th>29</th>\n",
       "      <td>public_relations</td>\n",
       "      <td>4.059244e+09</td>\n",
       "    </tr>\n",
       "    <tr>\n",
       "      <th>30</th>\n",
       "      <td>real_estate</td>\n",
       "      <td>2.505123e+09</td>\n",
       "    </tr>\n",
       "    <tr>\n",
       "      <th>3</th>\n",
       "      <td>biotech</td>\n",
       "      <td>1.540374e+09</td>\n",
       "    </tr>\n",
       "    <tr>\n",
       "      <th>14</th>\n",
       "      <td>health</td>\n",
       "      <td>1.249084e+09</td>\n",
       "    </tr>\n",
       "  </tbody>\n",
       "</table>\n",
       "</div>"
      ],
      "text/plain": [
       "       category_code           std\n",
       "9         enterprise  1.280882e+11\n",
       "29  public_relations  4.059244e+09\n",
       "30       real_estate  2.505123e+09\n",
       "3            biotech  1.540374e+09\n",
       "14            health  1.249084e+09"
      ]
     },
     "metadata": {},
     "output_type": "display_data"
    }
   ],
   "source": [
    "print(\"Категории с высокой средней ценой (ТОП-5):\")\n",
    "display(top_price)\n",
    "\n",
    "print(\"Категории с высоким разбросом цен (ТОП-5):\")\n",
    "display(top_std)\n"
   ]
  },
  {
   "cell_type": "markdown",
   "id": "82c9bfa8",
   "metadata": {},
   "source": [
    "Было выбрано топ-5 категорий, так как данное количество является оптимальным, медиана показывет в каких категориях самая высокая цена на стартапы, а стандартное отклонение показывает разброс цен.\n",
    "Были исключены категории с менее чем 5 сделками, так как расчитанные `median` и `std` могли быть некорректны и исказить анализ.\n"
   ]
  },
  {
   "cell_type": "markdown",
   "id": "3d8f75f4",
   "metadata": {
    "id": "ADOfyVY_rJg3"
   },
   "source": [
    "\n",
    "### 3.5. Сколько раундов продержится стартап перед покупкой\n",
    "\n",
    "- Необходимо проанализировать столбец `funding_rounds`. Исследуйте значения столбца. Заказчика интересует типичное значение количества раундов для каждого возможного статуса стартапа.\n",
    "- Постройте график, который отображает, сколько в среднем раундов финансирования проходило для стартапов из каждой группы. Сделайте выводы."
   ]
  },
  {
   "cell_type": "code",
   "execution_count": 72,
   "id": "cc3ba274",
   "metadata": {
    "id": "hgXMPC4WrJg3",
    "vscode": {
     "languageId": "plaintext"
    }
   },
   "outputs": [
    {
     "data": {
      "text/plain": [
       "count    40747.000000\n",
       "mean         1.291531\n",
       "std          1.264604\n",
       "min          0.000000\n",
       "25%          1.000000\n",
       "50%          1.000000\n",
       "75%          2.000000\n",
       "max         15.000000\n",
       "Name: funding_rounds, dtype: float64"
      ]
     },
     "execution_count": 72,
     "metadata": {},
     "output_type": "execute_result"
    }
   ],
   "source": [
    "company_df_invest['funding_rounds'].describe()"
   ]
  },
  {
   "cell_type": "code",
   "execution_count": 73,
   "id": "31d626e3",
   "metadata": {
    "id": "pV3e7kw5Fj1Y"
   },
   "outputs": [],
   "source": [
    "group_stat_df = company_df_invest.groupby('status')['funding_rounds'].mean().reset_index()\n"
   ]
  },
  {
   "cell_type": "code",
   "execution_count": 74,
   "id": "cf83678d",
   "metadata": {},
   "outputs": [
    {
     "data": {
      "text/plain": [
       "<Figure size 864x432 with 0 Axes>"
      ]
     },
     "metadata": {},
     "output_type": "display_data"
    },
    {
     "data": {
      "image/png": "[encoded data removed]",
      "text/plain": [
       "<Figure size 432x288 with 1 Axes>"
      ]
     },
     "metadata": {
      "needs_background": "light"
     },
     "output_type": "display_data"
    }
   ],
   "source": [
    "# Строим столбчатую диаграмму\n",
    "plt.figure(figsize=(12, 6))\n",
    "group_stat_df.plot(kind='bar', \n",
    "                   x='status', \n",
    "                   y='funding_rounds', \n",
    "                   rot=0, \n",
    "                   legend=False, \n",
    "                   title=f'Среднее количество раундов по статусам стартапов')\n",
    "\n",
    "# Настраиваем оформление графика\n",
    "plt.xlabel('Статус стартапа', fontsize=12)\n",
    "plt.ylabel('Среднее количество раундов', fontsize=12)\n",
    "# Добавляем сетку графика\n",
    "plt.grid()\n",
    "\n",
    "# Выводим график\n",
    "plt.show()\n"
   ]
  },
  {
   "cell_type": "markdown",
   "id": "30c15ff3",
   "metadata": {},
   "source": [
    "IPO-компании проходят больше всего раундов (1.93), а приобретенные — меньше всех (0.52).\n",
    "Это может говорить о том, что успешные стартапы проходят больше раундов перед выходом на IPO, \n",
    "а приобретенные компании продаются на ранних стадиях."
   ]
  },
  {
   "cell_type": "markdown",
   "id": "4c19b52d",
   "metadata": {
    "id": "VAFEZ2HBrJg3"
   },
   "source": [
    "\n",
    "## Шаг 4. Итоговый вывод и рекомендации\n"
   ]
  },
  {
   "cell_type": "markdown",
   "id": "ce0ca114",
   "metadata": {},
   "source": [
    "В ходе анализа данных для финансовой компании, планирующей инвестировать в стартапы, были получены важные выводы для принятия инвестиционных решений.\n",
    "\n",
    "#### Основные выводы:\n",
    "1. Анализ раундов финансирования\n",
    "  * Максимальные размеры средств в одном раунде наблюдались в 2005 году.\n",
    "  * В 2013 году наблюдается рост числа раундов и размеров финансирования, что указывает на больший интерес инвесторов.\n",
    "  * Общее количество раундов финансирования увеличивалось с годами, что подтверждает тенденцию роста рынка.\n",
    "2. Информация о сотрудниках\n",
    "  * Образование сотрудников недостаточно полно, особенно в крупных компаниях.\n",
    "3. Объединение данных\n",
    "  * Анализ показал, что столбец network_username не подходит для объединения данных.\n",
    "4. Анализ выбросов\n",
    "  * Были выявлены выбросы в размерах общего финансирования, из-за большого количества выбросов метод IQR выдал отрицательные значения.\n",
    "  * Типичные суммы финансирования варьируются от 0 до 5,6 миллионов.\n",
    "5. Цены стартапов по категориям\n",
    "  * Самыми привлекательными для инвесторов являются стартапы с высокими ценами и значительным разбросом цен: biotech и real_estate.\n",
    "6. Количество раундов для разных статусов стартапов:\n",
    "  * Стартапы, прошедшие IPO, в среднем проходят больше раундов (1.93), в отличие от приобретенных стартапов (0.52)."
   ]
  }
 ],
 "metadata": {
  "ExecuteTimeLog": [
   {
    "duration": 2564,
    "start_time": "2025-06-07T04:25:16.506Z"
   },
   {
    "duration": 1253,
    "start_time": "2025-06-07T04:25:19.073Z"
   },
   {
    "duration": 2421,
    "start_time": "2025-06-07T04:25:20.331Z"
   },
   {
    "duration": 14,
    "start_time": "2025-06-07T04:25:22.753Z"
   },
   {
    "duration": 67,
    "start_time": "2025-06-07T04:25:22.769Z"
   },
   {
    "duration": 39,
    "start_time": "2025-06-07T04:25:22.838Z"
   },
   {
    "duration": 106,
    "start_time": "2025-06-07T04:25:22.879Z"
   },
   {
    "duration": 16,
    "start_time": "2025-06-07T04:25:22.988Z"
   },
   {
    "duration": 43,
    "start_time": "2025-06-07T04:25:23.008Z"
   },
   {
    "duration": 8,
    "start_time": "2025-06-07T04:25:23.053Z"
   },
   {
    "duration": 45,
    "start_time": "2025-06-07T04:25:23.062Z"
   },
   {
    "duration": 9,
    "start_time": "2025-06-07T04:25:23.108Z"
   },
   {
    "duration": 29,
    "start_time": "2025-06-07T04:25:23.118Z"
   },
   {
    "duration": 3,
    "start_time": "2025-06-07T04:25:23.149Z"
   },
   {
    "duration": 6,
    "start_time": "2025-06-07T04:25:23.154Z"
   },
   {
    "duration": 214,
    "start_time": "2025-06-07T04:25:23.161Z"
   },
   {
    "duration": 11,
    "start_time": "2025-06-07T04:25:23.377Z"
   },
   {
    "duration": 99,
    "start_time": "2025-06-07T04:25:23.390Z"
   },
   {
    "duration": 15,
    "start_time": "2025-06-07T04:25:23.491Z"
   },
   {
    "duration": 140,
    "start_time": "2025-06-07T04:25:23.508Z"
   },
   {
    "duration": 16,
    "start_time": "2025-06-07T04:25:23.649Z"
   },
   {
    "duration": 473,
    "start_time": "2025-06-07T04:25:23.667Z"
   },
   {
    "duration": 18,
    "start_time": "2025-06-07T04:25:24.141Z"
   },
   {
    "duration": 104,
    "start_time": "2025-06-07T04:25:24.161Z"
   },
   {
    "duration": 11,
    "start_time": "2025-06-07T04:25:24.266Z"
   },
   {
    "duration": 33,
    "start_time": "2025-06-07T04:25:24.278Z"
   },
   {
    "duration": 452,
    "start_time": "2025-06-07T04:25:24.315Z"
   },
   {
    "duration": 7,
    "start_time": "2025-06-07T04:25:24.769Z"
   },
   {
    "duration": 149,
    "start_time": "2025-06-07T04:25:24.778Z"
   },
   {
    "duration": 24,
    "start_time": "2025-06-07T04:25:24.929Z"
   },
   {
    "duration": 573,
    "start_time": "2025-06-07T04:25:24.955Z"
   },
   {
    "duration": 162,
    "start_time": "2025-06-07T04:25:25.530Z"
   },
   {
    "duration": 149,
    "start_time": "2025-06-07T04:25:25.693Z"
   },
   {
    "duration": 16,
    "start_time": "2025-06-07T04:25:25.844Z"
   },
   {
    "duration": 31,
    "start_time": "2025-06-07T04:25:25.861Z"
   },
   {
    "duration": 15,
    "start_time": "2025-06-07T04:25:25.894Z"
   },
   {
    "duration": 6,
    "start_time": "2025-06-07T04:25:25.911Z"
   },
   {
    "duration": 9,
    "start_time": "2025-06-07T04:25:25.918Z"
   },
   {
    "duration": 31,
    "start_time": "2025-06-07T04:25:25.929Z"
   },
   {
    "duration": 14,
    "start_time": "2025-06-07T04:25:25.961Z"
   },
   {
    "duration": 6,
    "start_time": "2025-06-07T04:25:25.976Z"
   },
   {
    "duration": 14,
    "start_time": "2025-06-07T04:25:25.983Z"
   },
   {
    "duration": 11,
    "start_time": "2025-06-07T04:25:25.999Z"
   },
   {
    "duration": 44,
    "start_time": "2025-06-07T04:25:26.012Z"
   },
   {
    "duration": 41,
    "start_time": "2025-06-07T04:25:26.059Z"
   },
   {
    "duration": 7,
    "start_time": "2025-06-07T04:25:26.101Z"
   },
   {
    "duration": 55,
    "start_time": "2025-06-07T04:25:26.109Z"
   },
   {
    "duration": 209,
    "start_time": "2025-06-07T04:25:26.165Z"
   },
   {
    "duration": 2,
    "start_time": "2025-06-07T04:25:26.376Z"
   },
   {
    "duration": 46,
    "start_time": "2025-06-07T04:25:26.380Z"
   },
   {
    "duration": 27,
    "start_time": "2025-06-07T04:25:26.427Z"
   },
   {
    "duration": 117,
    "start_time": "2025-06-07T04:25:26.455Z"
   },
   {
    "duration": 3679,
    "start_time": "2025-06-09T10:27:59.858Z"
   },
   {
    "duration": 1441,
    "start_time": "2025-06-09T10:28:03.539Z"
   },
   {
    "duration": 2132,
    "start_time": "2025-06-09T10:28:04.982Z"
   },
   {
    "duration": 3,
    "start_time": "2025-06-09T10:28:07.116Z"
   },
   {
    "duration": 83,
    "start_time": "2025-06-09T10:28:07.121Z"
   },
   {
    "duration": 13,
    "start_time": "2025-06-09T10:28:07.206Z"
   },
   {
    "duration": 37,
    "start_time": "2025-06-09T10:28:07.221Z"
   },
   {
    "duration": 123,
    "start_time": "2025-06-09T10:28:07.260Z"
   },
   {
    "duration": 10,
    "start_time": "2025-06-09T10:28:07.385Z"
   },
   {
    "duration": 63,
    "start_time": "2025-06-09T10:28:07.404Z"
   },
   {
    "duration": 9,
    "start_time": "2025-06-09T10:28:07.469Z"
   },
   {
    "duration": 103,
    "start_time": "2025-06-09T10:28:07.479Z"
   },
   {
    "duration": 9,
    "start_time": "2025-06-09T10:28:07.584Z"
   },
   {
    "duration": 32,
    "start_time": "2025-06-09T10:28:07.595Z"
   },
   {
    "duration": 78,
    "start_time": "2025-06-09T10:28:07.629Z"
   },
   {
    "duration": 1103,
    "start_time": "2025-06-09T10:28:07.709Z"
   },
   {
    "duration": 19,
    "start_time": "2025-06-09T10:28:08.814Z"
   },
   {
    "duration": 3,
    "start_time": "2025-06-09T10:28:08.835Z"
   },
   {
    "duration": 8,
    "start_time": "2025-06-09T10:28:08.839Z"
   },
   {
    "duration": 215,
    "start_time": "2025-06-09T10:28:08.849Z"
   },
   {
    "duration": 7,
    "start_time": "2025-06-09T10:28:09.066Z"
   },
   {
    "duration": 173,
    "start_time": "2025-06-09T10:28:09.074Z"
   },
   {
    "duration": 11,
    "start_time": "2025-06-09T10:28:09.249Z"
   },
   {
    "duration": 44,
    "start_time": "2025-06-09T10:28:09.262Z"
   },
   {
    "duration": 9,
    "start_time": "2025-06-09T10:28:09.308Z"
   },
   {
    "duration": 96,
    "start_time": "2025-06-09T10:28:09.319Z"
   },
   {
    "duration": 34,
    "start_time": "2025-06-09T10:28:09.417Z"
   },
   {
    "duration": 79,
    "start_time": "2025-06-09T10:28:09.455Z"
   },
   {
    "duration": 52,
    "start_time": "2025-06-09T10:28:09.535Z"
   },
   {
    "duration": 321,
    "start_time": "2025-06-09T10:28:09.589Z"
   },
   {
    "duration": 30,
    "start_time": "2025-06-09T10:28:09.912Z"
   },
   {
    "duration": 114,
    "start_time": "2025-06-09T10:28:09.944Z"
   },
   {
    "duration": 24,
    "start_time": "2025-06-09T10:28:10.060Z"
   },
   {
    "duration": 101,
    "start_time": "2025-06-09T10:28:10.085Z"
   },
   {
    "duration": 381,
    "start_time": "2025-06-09T10:28:10.188Z"
   },
   {
    "duration": 7,
    "start_time": "2025-06-09T10:28:10.570Z"
   },
   {
    "duration": 131,
    "start_time": "2025-06-09T10:28:10.579Z"
   },
   {
    "duration": 21,
    "start_time": "2025-06-09T10:28:10.712Z"
   },
   {
    "duration": 584,
    "start_time": "2025-06-09T10:28:10.735Z"
   },
   {
    "duration": 155,
    "start_time": "2025-06-09T10:28:11.320Z"
   },
   {
    "duration": 133,
    "start_time": "2025-06-09T10:28:11.477Z"
   },
   {
    "duration": 14,
    "start_time": "2025-06-09T10:28:11.612Z"
   },
   {
    "duration": 110,
    "start_time": "2025-06-09T10:28:11.628Z"
   },
   {
    "duration": 5,
    "start_time": "2025-06-09T10:28:11.740Z"
   },
   {
    "duration": 8,
    "start_time": "2025-06-09T10:28:11.747Z"
   },
   {
    "duration": 4,
    "start_time": "2025-06-09T10:28:11.757Z"
   },
   {
    "duration": 15,
    "start_time": "2025-06-09T10:28:11.763Z"
   },
   {
    "duration": 5,
    "start_time": "2025-06-09T10:28:11.780Z"
   },
   {
    "duration": 6,
    "start_time": "2025-06-09T10:28:11.787Z"
   },
   {
    "duration": 5,
    "start_time": "2025-06-09T10:28:11.805Z"
   },
   {
    "duration": 11,
    "start_time": "2025-06-09T10:28:11.811Z"
   },
   {
    "duration": 28,
    "start_time": "2025-06-09T10:28:11.824Z"
   },
   {
    "duration": 23,
    "start_time": "2025-06-09T10:28:11.854Z"
   },
   {
    "duration": 28,
    "start_time": "2025-06-09T10:28:11.879Z"
   },
   {
    "duration": 51,
    "start_time": "2025-06-09T10:28:11.908Z"
   },
   {
    "duration": 223,
    "start_time": "2025-06-09T10:28:11.961Z"
   },
   {
    "duration": 34,
    "start_time": "2025-06-09T10:28:12.185Z"
   },
   {
    "duration": 29,
    "start_time": "2025-06-09T10:28:12.221Z"
   },
   {
    "duration": 97,
    "start_time": "2025-06-09T10:28:12.252Z"
   },
   {
    "duration": 172,
    "start_time": "2025-06-09T10:28:12.351Z"
   },
   {
    "duration": 31,
    "start_time": "2025-06-09T10:28:12.525Z"
   },
   {
    "duration": 3418,
    "start_time": "2025-06-14T13:32:22.315Z"
   },
   {
    "duration": 1385,
    "start_time": "2025-06-14T13:32:25.735Z"
   },
   {
    "duration": 1998,
    "start_time": "2025-06-14T13:32:27.121Z"
   },
   {
    "duration": 3,
    "start_time": "2025-06-14T13:32:29.121Z"
   },
   {
    "duration": 15,
    "start_time": "2025-06-14T13:32:29.126Z"
   },
   {
    "duration": 3,
    "start_time": "2025-06-14T13:32:29.142Z"
   },
   {
    "duration": 25,
    "start_time": "2025-06-14T13:32:29.146Z"
   },
   {
    "duration": 8,
    "start_time": "2025-06-14T13:32:29.173Z"
   },
   {
    "duration": 12,
    "start_time": "2025-06-14T13:32:29.183Z"
   },
   {
    "duration": 13,
    "start_time": "2025-06-14T13:32:29.198Z"
   },
   {
    "duration": 118,
    "start_time": "2025-06-14T13:32:29.212Z"
   },
   {
    "duration": 90,
    "start_time": "2025-06-14T13:32:29.331Z"
   },
   {
    "duration": 37,
    "start_time": "2025-06-14T13:32:29.423Z"
   },
   {
    "duration": 33,
    "start_time": "2025-06-14T13:32:29.462Z"
   },
   {
    "duration": 22,
    "start_time": "2025-06-14T13:32:29.497Z"
   },
   {
    "duration": 1138,
    "start_time": "2025-06-14T13:32:29.521Z"
   },
   {
    "duration": 36,
    "start_time": "2025-06-14T13:32:30.661Z"
   },
   {
    "duration": 38,
    "start_time": "2025-06-14T13:32:30.699Z"
   },
   {
    "duration": 30,
    "start_time": "2025-06-14T13:32:30.739Z"
   },
   {
    "duration": 218,
    "start_time": "2025-06-14T13:32:30.771Z"
   },
   {
    "duration": 11,
    "start_time": "2025-06-14T13:32:30.992Z"
   },
   {
    "duration": 97,
    "start_time": "2025-06-14T13:32:31.005Z"
   },
   {
    "duration": 20,
    "start_time": "2025-06-14T13:32:31.104Z"
   },
   {
    "duration": 79,
    "start_time": "2025-06-14T13:32:31.126Z"
   },
   {
    "duration": 28,
    "start_time": "2025-06-14T13:32:31.207Z"
   },
   {
    "duration": 241,
    "start_time": "2025-06-14T13:32:31.237Z"
   },
   {
    "duration": 33,
    "start_time": "2025-06-14T13:32:31.480Z"
   },
   {
    "duration": 19,
    "start_time": "2025-06-14T13:32:31.520Z"
   },
   {
    "duration": 28,
    "start_time": "2025-06-14T13:32:31.541Z"
   },
   {
    "duration": 383,
    "start_time": "2025-06-14T13:32:31.571Z"
   },
   {
    "duration": 41,
    "start_time": "2025-06-14T13:32:31.956Z"
   },
   {
    "duration": 260,
    "start_time": "2025-06-14T13:32:31.999Z"
   },
   {
    "duration": 52,
    "start_time": "2025-06-14T13:32:32.261Z"
   },
   {
    "duration": 11,
    "start_time": "2025-06-14T13:32:32.315Z"
   },
   {
    "duration": 384,
    "start_time": "2025-06-14T13:32:32.327Z"
   },
   {
    "duration": 6,
    "start_time": "2025-06-14T13:32:32.713Z"
   },
   {
    "duration": 126,
    "start_time": "2025-06-14T13:32:32.721Z"
   },
   {
    "duration": 29,
    "start_time": "2025-06-14T13:32:32.848Z"
   },
   {
    "duration": 597,
    "start_time": "2025-06-14T13:32:32.879Z"
   },
   {
    "duration": 181,
    "start_time": "2025-06-14T13:32:33.478Z"
   },
   {
    "duration": 88,
    "start_time": "2025-06-14T13:32:33.661Z"
   },
   {
    "duration": 57,
    "start_time": "2025-06-14T13:32:33.751Z"
   },
   {
    "duration": 19,
    "start_time": "2025-06-14T13:32:33.809Z"
   },
   {
    "duration": 3,
    "start_time": "2025-06-14T13:32:33.832Z"
   },
   {
    "duration": 22,
    "start_time": "2025-06-14T13:32:33.837Z"
   },
   {
    "duration": 19,
    "start_time": "2025-06-14T13:32:33.861Z"
   },
   {
    "duration": 10,
    "start_time": "2025-06-14T13:32:33.882Z"
   },
   {
    "duration": 53,
    "start_time": "2025-06-14T13:32:33.894Z"
   },
   {
    "duration": 94,
    "start_time": "2025-06-14T13:32:33.949Z"
   },
   {
    "duration": 31,
    "start_time": "2025-06-14T13:32:34.045Z"
   },
   {
    "duration": 27,
    "start_time": "2025-06-14T13:32:34.078Z"
   },
   {
    "duration": 187,
    "start_time": "2025-06-14T13:32:34.107Z"
   },
   {
    "duration": 161,
    "start_time": "2025-06-14T13:32:34.296Z"
   },
   {
    "duration": 23,
    "start_time": "2025-06-14T13:32:34.459Z"
   },
   {
    "duration": 59,
    "start_time": "2025-06-14T13:32:34.484Z"
   },
   {
    "duration": 385,
    "start_time": "2025-06-14T13:32:34.545Z"
   },
   {
    "duration": 30,
    "start_time": "2025-06-14T13:32:34.932Z"
   },
   {
    "duration": 47,
    "start_time": "2025-06-14T13:32:34.976Z"
   },
   {
    "duration": 38,
    "start_time": "2025-06-14T13:32:35.025Z"
   },
   {
    "duration": 129,
    "start_time": "2025-06-14T13:32:35.065Z"
   },
   {
    "duration": 25,
    "start_time": "2025-06-14T13:32:35.197Z"
   },
   {
    "duration": 40,
    "start_time": "2025-06-14T13:32:35.224Z"
   },
   {
    "duration": 47,
    "start_time": "2025-06-14T13:32:35.266Z"
   },
   {
    "duration": 139,
    "start_time": "2025-06-14T13:32:35.315Z"
   },
   {
    "duration": 179,
    "start_time": "2025-06-14T13:32:35.457Z"
   },
   {
    "duration": 5,
    "start_time": "2025-06-14T13:32:35.638Z"
   },
   {
    "duration": 95,
    "start_time": "2025-06-14T13:32:35.645Z"
   },
   {
    "duration": 8,
    "start_time": "2025-06-14T13:32:35.742Z"
   },
   {
    "duration": 68,
    "start_time": "2025-06-14T13:32:35.752Z"
   },
   {
    "duration": 90,
    "start_time": "2025-06-14T13:32:35.822Z"
   },
   {
    "duration": 31,
    "start_time": "2025-06-14T13:32:35.914Z"
   },
   {
    "duration": 145,
    "start_time": "2025-06-14T13:32:35.947Z"
   },
   {
    "duration": 157,
    "start_time": "2025-06-14T13:32:36.094Z"
   },
   {
    "duration": 184,
    "start_time": "2025-06-14T13:32:36.253Z"
   },
   {
    "duration": 3853,
    "start_time": "2025-10-24T12:54:39.660Z"
   },
   {
    "duration": 1544,
    "start_time": "2025-10-24T12:54:43.516Z"
   },
   {
    "duration": 2604,
    "start_time": "2025-10-24T12:54:45.062Z"
   },
   {
    "duration": 3,
    "start_time": "2025-10-24T12:54:47.669Z"
   },
   {
    "duration": 20,
    "start_time": "2025-10-24T12:54:47.674Z"
   },
   {
    "duration": 3,
    "start_time": "2025-10-24T12:54:47.696Z"
   },
   {
    "duration": 47,
    "start_time": "2025-10-24T12:54:47.701Z"
   },
   {
    "duration": 10,
    "start_time": "2025-10-24T12:54:47.750Z"
   },
   {
    "duration": 14,
    "start_time": "2025-10-24T12:54:47.762Z"
   },
   {
    "duration": 6,
    "start_time": "2025-10-24T12:54:47.780Z"
   },
   {
    "duration": 11,
    "start_time": "2025-10-24T12:54:47.788Z"
   },
   {
    "duration": 28,
    "start_time": "2025-10-24T12:54:47.801Z"
   },
   {
    "duration": 22,
    "start_time": "2025-10-24T12:54:47.831Z"
   },
   {
    "duration": 5,
    "start_time": "2025-10-24T12:54:47.855Z"
   },
   {
    "duration": 9,
    "start_time": "2025-10-24T12:54:47.862Z"
   },
   {
    "duration": 1243,
    "start_time": "2025-10-24T12:54:47.873Z"
   },
   {
    "duration": 25,
    "start_time": "2025-10-24T12:54:49.118Z"
   },
   {
    "duration": 26,
    "start_time": "2025-10-24T12:54:49.145Z"
   },
   {
    "duration": 9,
    "start_time": "2025-10-24T12:54:49.173Z"
   },
   {
    "duration": 200,
    "start_time": "2025-10-24T12:54:49.184Z"
   },
   {
    "duration": 21,
    "start_time": "2025-10-24T12:54:49.387Z"
   },
   {
    "duration": 85,
    "start_time": "2025-10-24T12:54:49.410Z"
   },
   {
    "duration": 20,
    "start_time": "2025-10-24T12:54:49.506Z"
   },
   {
    "duration": 80,
    "start_time": "2025-10-24T12:54:49.528Z"
   },
   {
    "duration": 10,
    "start_time": "2025-10-24T12:54:49.610Z"
   },
   {
    "duration": 53,
    "start_time": "2025-10-24T12:54:49.622Z"
   },
   {
    "duration": 21,
    "start_time": "2025-10-24T12:54:49.676Z"
   },
   {
    "duration": 3,
    "start_time": "2025-10-24T12:54:49.701Z"
   },
   {
    "duration": 25,
    "start_time": "2025-10-24T12:54:49.705Z"
   },
   {
    "duration": 356,
    "start_time": "2025-10-24T12:54:49.732Z"
   },
   {
    "duration": 42,
    "start_time": "2025-10-24T12:54:50.090Z"
   },
   {
    "duration": 32,
    "start_time": "2025-10-24T12:54:50.133Z"
   },
   {
    "duration": 40,
    "start_time": "2025-10-24T12:54:50.167Z"
   },
   {
    "duration": 13,
    "start_time": "2025-10-24T12:54:50.209Z"
   },
   {
    "duration": 469,
    "start_time": "2025-10-24T12:54:50.224Z"
   },
   {
    "duration": 17,
    "start_time": "2025-10-24T12:54:50.695Z"
   },
   {
    "duration": 140,
    "start_time": "2025-10-24T12:54:50.714Z"
   },
   {
    "duration": 22,
    "start_time": "2025-10-24T12:54:50.856Z"
   },
   {
    "duration": 596,
    "start_time": "2025-10-24T12:54:50.880Z"
   },
   {
    "duration": 157,
    "start_time": "2025-10-24T12:54:51.478Z"
   },
   {
    "duration": 99,
    "start_time": "2025-10-24T12:54:51.636Z"
   },
   {
    "duration": 16,
    "start_time": "2025-10-24T12:54:51.737Z"
   },
   {
    "duration": 24,
    "start_time": "2025-10-24T12:54:51.755Z"
   },
   {
    "duration": 2,
    "start_time": "2025-10-24T12:54:51.781Z"
   },
   {
    "duration": 23,
    "start_time": "2025-10-24T12:54:51.785Z"
   },
   {
    "duration": 16,
    "start_time": "2025-10-24T12:54:51.809Z"
   },
   {
    "duration": 9,
    "start_time": "2025-10-24T12:54:51.827Z"
   },
   {
    "duration": 6,
    "start_time": "2025-10-24T12:54:51.838Z"
   },
   {
    "duration": 5,
    "start_time": "2025-10-24T12:54:51.846Z"
   },
   {
    "duration": 8,
    "start_time": "2025-10-24T12:54:51.853Z"
   },
   {
    "duration": 8,
    "start_time": "2025-10-24T12:54:51.863Z"
   },
   {
    "duration": 59,
    "start_time": "2025-10-24T12:54:51.873Z"
   },
   {
    "duration": 26,
    "start_time": "2025-10-24T12:54:51.933Z"
   },
   {
    "duration": 82,
    "start_time": "2025-10-24T12:54:51.961Z"
   },
   {
    "duration": 63,
    "start_time": "2025-10-24T12:54:52.045Z"
   },
   {
    "duration": 255,
    "start_time": "2025-10-24T12:54:52.109Z"
   },
   {
    "duration": 30,
    "start_time": "2025-10-24T12:54:52.366Z"
   },
   {
    "duration": 32,
    "start_time": "2025-10-24T12:54:52.408Z"
   },
   {
    "duration": 16,
    "start_time": "2025-10-24T12:54:52.442Z"
   },
   {
    "duration": 123,
    "start_time": "2025-10-24T12:54:52.460Z"
   },
   {
    "duration": 27,
    "start_time": "2025-10-24T12:54:52.585Z"
   },
   {
    "duration": 28,
    "start_time": "2025-10-24T12:54:52.615Z"
   },
   {
    "duration": 23,
    "start_time": "2025-10-24T12:54:52.646Z"
   },
   {
    "duration": 58,
    "start_time": "2025-10-24T12:54:52.671Z"
   },
   {
    "duration": 178,
    "start_time": "2025-10-24T12:54:52.731Z"
   },
   {
    "duration": 4,
    "start_time": "2025-10-24T12:54:52.910Z"
   },
   {
    "duration": 102,
    "start_time": "2025-10-24T12:54:52.916Z"
   },
   {
    "duration": 9,
    "start_time": "2025-10-24T12:54:53.020Z"
   },
   {
    "duration": 14,
    "start_time": "2025-10-24T12:54:53.030Z"
   },
   {
    "duration": 5,
    "start_time": "2025-10-24T12:54:53.046Z"
   },
   {
    "duration": 28,
    "start_time": "2025-10-24T12:54:53.053Z"
   },
   {
    "duration": 76,
    "start_time": "2025-10-24T12:54:53.083Z"
   },
   {
    "duration": 42,
    "start_time": "2025-10-24T12:54:53.161Z"
   },
   {
    "duration": 179,
    "start_time": "2025-10-24T12:54:53.205Z"
   }
  ],
  "kernelspec": {
   "display_name": "Python 3 (ipykernel)",
   "language": "python",
   "name": "python3"
  },
  "language_info": {
   "codemirror_mode": {
    "name": "ipython",
    "version": 3
   },
   "file_extension": ".py",
   "mimetype": "text/x-python",
   "name": "python",
   "nbconvert_exporter": "python",
   "pygments_lexer": "ipython3",
   "version": "3.9.5"
  },
  "toc": {
   "base_numbering": 1,
   "nav_menu": {},
   "number_sections": true,
   "sideBar": true,
   "skip_h1_title": true,
   "title_cell": "Table of Contents",
   "title_sidebar": "Contents",
   "toc_cell": false,
   "toc_position": {},
   "toc_section_display": true,
   "toc_window_display": false
  }
 },
 "nbformat": 4,
 "nbformat_minor": 5
}
